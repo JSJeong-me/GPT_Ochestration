{
  "cells": [
    {
      "cell_type": "markdown",
      "metadata": {
        "id": "view-in-github",
        "colab_type": "text"
      },
      "source": [
        "<a href=\"https://colab.research.google.com/github/JSJeong-me/GPT_Ochestration/blob/main/03_function_calling.ipynb\" target=\"_parent\"><img src=\"https://colab.research.google.com/assets/colab-badge.svg\" alt=\"Open In Colab\"/></a>"
      ]
    },
    {
      "cell_type": "markdown",
      "id": "16de7336",
      "metadata": {
        "id": "16de7336"
      },
      "source": [
        "# OpenAI Function Calling In LangChain"
      ]
    },
    {
      "cell_type": "code",
      "source": [
        "!pip install langchain\n",
        "!pip install python-dotenv\n",
        "!pip install openai==0.28"
      ],
      "metadata": {
        "colab": {
          "base_uri": "https://localhost:8080/"
        },
        "id": "I2d0IG5XGrKw",
        "outputId": "ce88b108-96f1-4f85-9baa-bb27d5f1826f"
      },
      "id": "I2d0IG5XGrKw",
      "execution_count": 1,
      "outputs": [
        {
          "output_type": "stream",
          "name": "stdout",
          "text": [
            "Collecting langchain\n",
            "  Downloading langchain-0.1.7-py3-none-any.whl (815 kB)\n",
            "\u001b[2K     \u001b[90m━━━━━━━━━━━━━━━━━━━━━━━━━━━━━━━━━━━━━━━━\u001b[0m \u001b[32m815.9/815.9 kB\u001b[0m \u001b[31m11.0 MB/s\u001b[0m eta \u001b[36m0:00:00\u001b[0m\n",
            "\u001b[?25hRequirement already satisfied: PyYAML>=5.3 in /usr/local/lib/python3.10/dist-packages (from langchain) (6.0.1)\n",
            "Requirement already satisfied: SQLAlchemy<3,>=1.4 in /usr/local/lib/python3.10/dist-packages (from langchain) (2.0.27)\n",
            "Requirement already satisfied: aiohttp<4.0.0,>=3.8.3 in /usr/local/lib/python3.10/dist-packages (from langchain) (3.9.3)\n",
            "Requirement already satisfied: async-timeout<5.0.0,>=4.0.0 in /usr/local/lib/python3.10/dist-packages (from langchain) (4.0.3)\n",
            "Collecting dataclasses-json<0.7,>=0.5.7 (from langchain)\n",
            "  Downloading dataclasses_json-0.6.4-py3-none-any.whl (28 kB)\n",
            "Collecting jsonpatch<2.0,>=1.33 (from langchain)\n",
            "  Downloading jsonpatch-1.33-py2.py3-none-any.whl (12 kB)\n",
            "Collecting langchain-community<0.1,>=0.0.20 (from langchain)\n",
            "  Downloading langchain_community-0.0.20-py3-none-any.whl (1.7 MB)\n",
            "\u001b[2K     \u001b[90m━━━━━━━━━━━━━━━━━━━━━━━━━━━━━━━━━━━━━━━━\u001b[0m \u001b[32m1.7/1.7 MB\u001b[0m \u001b[31m49.2 MB/s\u001b[0m eta \u001b[36m0:00:00\u001b[0m\n",
            "\u001b[?25hCollecting langchain-core<0.2,>=0.1.22 (from langchain)\n",
            "  Downloading langchain_core-0.1.23-py3-none-any.whl (241 kB)\n",
            "\u001b[2K     \u001b[90m━━━━━━━━━━━━━━━━━━━━━━━━━━━━━━━━━━━━━━━━\u001b[0m \u001b[32m241.2/241.2 kB\u001b[0m \u001b[31m30.5 MB/s\u001b[0m eta \u001b[36m0:00:00\u001b[0m\n",
            "\u001b[?25hCollecting langsmith<0.1,>=0.0.83 (from langchain)\n",
            "  Downloading langsmith-0.0.92-py3-none-any.whl (56 kB)\n",
            "\u001b[2K     \u001b[90m━━━━━━━━━━━━━━━━━━━━━━━━━━━━━━━━━━━━━━━━\u001b[0m \u001b[32m56.5/56.5 kB\u001b[0m \u001b[31m8.8 MB/s\u001b[0m eta \u001b[36m0:00:00\u001b[0m\n",
            "\u001b[?25hRequirement already satisfied: numpy<2,>=1 in /usr/local/lib/python3.10/dist-packages (from langchain) (1.25.2)\n",
            "Requirement already satisfied: pydantic<3,>=1 in /usr/local/lib/python3.10/dist-packages (from langchain) (2.6.1)\n",
            "Requirement already satisfied: requests<3,>=2 in /usr/local/lib/python3.10/dist-packages (from langchain) (2.31.0)\n",
            "Requirement already satisfied: tenacity<9.0.0,>=8.1.0 in /usr/local/lib/python3.10/dist-packages (from langchain) (8.2.3)\n",
            "Requirement already satisfied: aiosignal>=1.1.2 in /usr/local/lib/python3.10/dist-packages (from aiohttp<4.0.0,>=3.8.3->langchain) (1.3.1)\n",
            "Requirement already satisfied: attrs>=17.3.0 in /usr/local/lib/python3.10/dist-packages (from aiohttp<4.0.0,>=3.8.3->langchain) (23.2.0)\n",
            "Requirement already satisfied: frozenlist>=1.1.1 in /usr/local/lib/python3.10/dist-packages (from aiohttp<4.0.0,>=3.8.3->langchain) (1.4.1)\n",
            "Requirement already satisfied: multidict<7.0,>=4.5 in /usr/local/lib/python3.10/dist-packages (from aiohttp<4.0.0,>=3.8.3->langchain) (6.0.5)\n",
            "Requirement already satisfied: yarl<2.0,>=1.0 in /usr/local/lib/python3.10/dist-packages (from aiohttp<4.0.0,>=3.8.3->langchain) (1.9.4)\n",
            "Collecting marshmallow<4.0.0,>=3.18.0 (from dataclasses-json<0.7,>=0.5.7->langchain)\n",
            "  Downloading marshmallow-3.20.2-py3-none-any.whl (49 kB)\n",
            "\u001b[2K     \u001b[90m━━━━━━━━━━━━━━━━━━━━━━━━━━━━━━━━━━━━━━━━\u001b[0m \u001b[32m49.4/49.4 kB\u001b[0m \u001b[31m6.6 MB/s\u001b[0m eta \u001b[36m0:00:00\u001b[0m\n",
            "\u001b[?25hCollecting typing-inspect<1,>=0.4.0 (from dataclasses-json<0.7,>=0.5.7->langchain)\n",
            "  Downloading typing_inspect-0.9.0-py3-none-any.whl (8.8 kB)\n",
            "Collecting jsonpointer>=1.9 (from jsonpatch<2.0,>=1.33->langchain)\n",
            "  Downloading jsonpointer-2.4-py2.py3-none-any.whl (7.8 kB)\n",
            "Requirement already satisfied: anyio<5,>=3 in /usr/local/lib/python3.10/dist-packages (from langchain-core<0.2,>=0.1.22->langchain) (3.7.1)\n",
            "Collecting langsmith<0.1,>=0.0.83 (from langchain)\n",
            "  Downloading langsmith-0.0.87-py3-none-any.whl (55 kB)\n",
            "\u001b[2K     \u001b[90m━━━━━━━━━━━━━━━━━━━━━━━━━━━━━━━━━━━━━━━━\u001b[0m \u001b[32m55.4/55.4 kB\u001b[0m \u001b[31m7.0 MB/s\u001b[0m eta \u001b[36m0:00:00\u001b[0m\n",
            "\u001b[?25hRequirement already satisfied: packaging<24.0,>=23.2 in /usr/local/lib/python3.10/dist-packages (from langchain-core<0.2,>=0.1.22->langchain) (23.2)\n",
            "Requirement already satisfied: annotated-types>=0.4.0 in /usr/local/lib/python3.10/dist-packages (from pydantic<3,>=1->langchain) (0.6.0)\n",
            "Requirement already satisfied: pydantic-core==2.16.2 in /usr/local/lib/python3.10/dist-packages (from pydantic<3,>=1->langchain) (2.16.2)\n",
            "Requirement already satisfied: typing-extensions>=4.6.1 in /usr/local/lib/python3.10/dist-packages (from pydantic<3,>=1->langchain) (4.9.0)\n",
            "Requirement already satisfied: charset-normalizer<4,>=2 in /usr/local/lib/python3.10/dist-packages (from requests<3,>=2->langchain) (3.3.2)\n",
            "Requirement already satisfied: idna<4,>=2.5 in /usr/local/lib/python3.10/dist-packages (from requests<3,>=2->langchain) (3.6)\n",
            "Requirement already satisfied: urllib3<3,>=1.21.1 in /usr/local/lib/python3.10/dist-packages (from requests<3,>=2->langchain) (2.0.7)\n",
            "Requirement already satisfied: certifi>=2017.4.17 in /usr/local/lib/python3.10/dist-packages (from requests<3,>=2->langchain) (2024.2.2)\n",
            "Requirement already satisfied: greenlet!=0.4.17 in /usr/local/lib/python3.10/dist-packages (from SQLAlchemy<3,>=1.4->langchain) (3.0.3)\n",
            "Requirement already satisfied: sniffio>=1.1 in /usr/local/lib/python3.10/dist-packages (from anyio<5,>=3->langchain-core<0.2,>=0.1.22->langchain) (1.3.0)\n",
            "Requirement already satisfied: exceptiongroup in /usr/local/lib/python3.10/dist-packages (from anyio<5,>=3->langchain-core<0.2,>=0.1.22->langchain) (1.2.0)\n",
            "Collecting mypy-extensions>=0.3.0 (from typing-inspect<1,>=0.4.0->dataclasses-json<0.7,>=0.5.7->langchain)\n",
            "  Downloading mypy_extensions-1.0.0-py3-none-any.whl (4.7 kB)\n",
            "Installing collected packages: mypy-extensions, marshmallow, jsonpointer, typing-inspect, jsonpatch, langsmith, dataclasses-json, langchain-core, langchain-community, langchain\n",
            "Successfully installed dataclasses-json-0.6.4 jsonpatch-1.33 jsonpointer-2.4 langchain-0.1.7 langchain-community-0.0.20 langchain-core-0.1.23 langsmith-0.0.87 marshmallow-3.20.2 mypy-extensions-1.0.0 typing-inspect-0.9.0\n",
            "Collecting python-dotenv\n",
            "  Downloading python_dotenv-1.0.1-py3-none-any.whl (19 kB)\n",
            "Installing collected packages: python-dotenv\n",
            "Successfully installed python-dotenv-1.0.1\n",
            "Collecting openai==0.28\n",
            "  Downloading openai-0.28.0-py3-none-any.whl (76 kB)\n",
            "\u001b[2K     \u001b[90m━━━━━━━━━━━━━━━━━━━━━━━━━━━━━━━━━━━━━━━━\u001b[0m \u001b[32m76.5/76.5 kB\u001b[0m \u001b[31m2.1 MB/s\u001b[0m eta \u001b[36m0:00:00\u001b[0m\n",
            "\u001b[?25hRequirement already satisfied: requests>=2.20 in /usr/local/lib/python3.10/dist-packages (from openai==0.28) (2.31.0)\n",
            "Requirement already satisfied: tqdm in /usr/local/lib/python3.10/dist-packages (from openai==0.28) (4.66.2)\n",
            "Requirement already satisfied: aiohttp in /usr/local/lib/python3.10/dist-packages (from openai==0.28) (3.9.3)\n",
            "Requirement already satisfied: charset-normalizer<4,>=2 in /usr/local/lib/python3.10/dist-packages (from requests>=2.20->openai==0.28) (3.3.2)\n",
            "Requirement already satisfied: idna<4,>=2.5 in /usr/local/lib/python3.10/dist-packages (from requests>=2.20->openai==0.28) (3.6)\n",
            "Requirement already satisfied: urllib3<3,>=1.21.1 in /usr/local/lib/python3.10/dist-packages (from requests>=2.20->openai==0.28) (2.0.7)\n",
            "Requirement already satisfied: certifi>=2017.4.17 in /usr/local/lib/python3.10/dist-packages (from requests>=2.20->openai==0.28) (2024.2.2)\n",
            "Requirement already satisfied: aiosignal>=1.1.2 in /usr/local/lib/python3.10/dist-packages (from aiohttp->openai==0.28) (1.3.1)\n",
            "Requirement already satisfied: attrs>=17.3.0 in /usr/local/lib/python3.10/dist-packages (from aiohttp->openai==0.28) (23.2.0)\n",
            "Requirement already satisfied: frozenlist>=1.1.1 in /usr/local/lib/python3.10/dist-packages (from aiohttp->openai==0.28) (1.4.1)\n",
            "Requirement already satisfied: multidict<7.0,>=4.5 in /usr/local/lib/python3.10/dist-packages (from aiohttp->openai==0.28) (6.0.5)\n",
            "Requirement already satisfied: yarl<2.0,>=1.0 in /usr/local/lib/python3.10/dist-packages (from aiohttp->openai==0.28) (1.9.4)\n",
            "Requirement already satisfied: async-timeout<5.0,>=4.0 in /usr/local/lib/python3.10/dist-packages (from aiohttp->openai==0.28) (4.0.3)\n",
            "Installing collected packages: openai\n",
            "\u001b[31mERROR: pip's dependency resolver does not currently take into account all the packages that are installed. This behaviour is the source of the following dependency conflicts.\n",
            "llmx 0.0.15a0 requires cohere, which is not installed.\n",
            "llmx 0.0.15a0 requires tiktoken, which is not installed.\u001b[0m\u001b[31m\n",
            "\u001b[0mSuccessfully installed openai-0.28.0\n"
          ]
        }
      ]
    },
    {
      "cell_type": "code",
      "source": [
        "!echo \"OPENAI_API_KEY=sk-\" >> .env\n",
        "!source /content/.env"
      ],
      "metadata": {
        "id": "bNY6vQLdHBVv"
      },
      "id": "bNY6vQLdHBVv",
      "execution_count": 2,
      "outputs": []
    },
    {
      "cell_type": "markdown",
      "source": [
        "### Pydantic"
      ],
      "metadata": {
        "id": "WHEo7HO-HQ3s"
      },
      "id": "WHEo7HO-HQ3s"
    },
    {
      "cell_type": "code",
      "source": [],
      "metadata": {
        "id": "K0hP8HNNHLpV"
      },
      "id": "K0hP8HNNHLpV",
      "execution_count": null,
      "outputs": []
    },
    {
      "cell_type": "code",
      "execution_count": 3,
      "id": "cb41f5f4-df8d-4d04-9eaa-193b8c29b00b",
      "metadata": {
        "height": 114,
        "tags": [],
        "id": "cb41f5f4-df8d-4d04-9eaa-193b8c29b00b"
      },
      "outputs": [],
      "source": [
        "import os\n",
        "import openai\n",
        "\n",
        "from dotenv import load_dotenv, find_dotenv\n",
        "_ = load_dotenv(find_dotenv()) # read local .env file\n",
        "openai.api_key = os.environ['OPENAI_API_KEY']"
      ]
    },
    {
      "cell_type": "code",
      "execution_count": 4,
      "id": "aa1dddf9-8e44-4454-9d44-f8372cccf5ac",
      "metadata": {
        "height": 46,
        "id": "aa1dddf9-8e44-4454-9d44-f8372cccf5ac"
      },
      "outputs": [],
      "source": [
        "from typing import List\n",
        "from pydantic import BaseModel, Field"
      ]
    },
    {
      "cell_type": "markdown",
      "id": "ad68931a-f806-4ea9-969c-93b3902baf9b",
      "metadata": {
        "id": "ad68931a-f806-4ea9-969c-93b3902baf9b"
      },
      "source": [
        "## Pydantic Syntax\n",
        "\n",
        "Pydantic data classes are a blend of Python's data classes with the validation power of Pydantic.\n",
        "\n",
        "They offer a concise way to define data structures while ensuring that the data adheres to specified types and constraints.\n",
        "\n",
        "In standard python you would create a class like this:"
      ]
    },
    {
      "cell_type": "code",
      "execution_count": 5,
      "id": "e1557226-36e2-484b-a2fb-bb7e3180342c",
      "metadata": {
        "height": 114,
        "id": "e1557226-36e2-484b-a2fb-bb7e3180342c"
      },
      "outputs": [],
      "source": [
        "class User:\n",
        "    def __init__(self, name: str, age: int, email: str):\n",
        "        self.name = name\n",
        "        self.age = age\n",
        "        self.email = email"
      ]
    },
    {
      "cell_type": "code",
      "execution_count": 6,
      "id": "11b9b584-74dc-49b8-a7fe-3865368774e9",
      "metadata": {
        "height": 46,
        "id": "11b9b584-74dc-49b8-a7fe-3865368774e9"
      },
      "outputs": [],
      "source": [
        "foo = User(name=\"Joe\",age=32, email=\"joe@gmail.com\")"
      ]
    },
    {
      "cell_type": "code",
      "execution_count": 7,
      "id": "0f6f9e9c-b83a-4859-8e65-e6488e05a071",
      "metadata": {
        "height": 29,
        "colab": {
          "base_uri": "https://localhost:8080/",
          "height": 35
        },
        "id": "0f6f9e9c-b83a-4859-8e65-e6488e05a071",
        "outputId": "cc61997e-781e-4398-8810-b513f0b887ee"
      },
      "outputs": [
        {
          "output_type": "execute_result",
          "data": {
            "text/plain": [
              "'Joe'"
            ],
            "application/vnd.google.colaboratory.intrinsic+json": {
              "type": "string"
            }
          },
          "metadata": {},
          "execution_count": 7
        }
      ],
      "source": [
        "foo.name"
      ]
    },
    {
      "cell_type": "code",
      "execution_count": 8,
      "id": "10a6a0de-d7dc-414d-baaf-fa43c6d1f410",
      "metadata": {
        "height": 46,
        "id": "10a6a0de-d7dc-414d-baaf-fa43c6d1f410"
      },
      "outputs": [],
      "source": [
        "foo = User(name=\"Joe\",age=\"bar\", email=\"joe@gmail.com\")"
      ]
    },
    {
      "cell_type": "code",
      "execution_count": 9,
      "id": "613b7b12-f061-44bc-989d-433cab609164",
      "metadata": {
        "height": 29,
        "colab": {
          "base_uri": "https://localhost:8080/",
          "height": 35
        },
        "id": "613b7b12-f061-44bc-989d-433cab609164",
        "outputId": "5dabe416-0f62-4cb6-b62f-4b7c80af854e"
      },
      "outputs": [
        {
          "output_type": "execute_result",
          "data": {
            "text/plain": [
              "'bar'"
            ],
            "application/vnd.google.colaboratory.intrinsic+json": {
              "type": "string"
            }
          },
          "metadata": {},
          "execution_count": 9
        }
      ],
      "source": [
        "foo.age"
      ]
    },
    {
      "cell_type": "code",
      "execution_count": 10,
      "id": "c541cb8d-fc55-4c94-a04f-a877cccf10ec",
      "metadata": {
        "height": 80,
        "id": "c541cb8d-fc55-4c94-a04f-a877cccf10ec"
      },
      "outputs": [],
      "source": [
        "class pUser(BaseModel):\n",
        "    name: str\n",
        "    age: int\n",
        "    email: str"
      ]
    },
    {
      "cell_type": "code",
      "execution_count": 11,
      "id": "27394d22-73e3-4918-9bdf-18cd7c973942",
      "metadata": {
        "height": 46,
        "id": "27394d22-73e3-4918-9bdf-18cd7c973942"
      },
      "outputs": [],
      "source": [
        "foo_p = pUser(name=\"Jane\", age=32, email=\"jane@gmail.com\")"
      ]
    },
    {
      "cell_type": "code",
      "execution_count": 12,
      "id": "49f25241-ff47-454f-bac4-ba20ab937d70",
      "metadata": {
        "height": 29,
        "colab": {
          "base_uri": "https://localhost:8080/",
          "height": 35
        },
        "id": "49f25241-ff47-454f-bac4-ba20ab937d70",
        "outputId": "3815a7ab-a815-468e-9e82-97723eaf7b04"
      },
      "outputs": [
        {
          "output_type": "execute_result",
          "data": {
            "text/plain": [
              "'Jane'"
            ],
            "application/vnd.google.colaboratory.intrinsic+json": {
              "type": "string"
            }
          },
          "metadata": {},
          "execution_count": 12
        }
      ],
      "source": [
        "foo_p.name"
      ]
    },
    {
      "cell_type": "markdown",
      "id": "77405fab-9029-47e3-a6d3-f8338c2fefdc",
      "metadata": {
        "id": "77405fab-9029-47e3-a6d3-f8338c2fefdc"
      },
      "source": [
        "**Note**: The next cell is expected to fail."
      ]
    },
    {
      "cell_type": "code",
      "execution_count": 13,
      "id": "37030df3-ec11-4523-ac66-b88f90099d1b",
      "metadata": {
        "height": 46,
        "colab": {
          "base_uri": "https://localhost:8080/",
          "height": 324
        },
        "id": "37030df3-ec11-4523-ac66-b88f90099d1b",
        "outputId": "095d7f26-dc52-4994-a890-39f202155e16"
      },
      "outputs": [
        {
          "output_type": "error",
          "ename": "ValidationError",
          "evalue": "1 validation error for pUser\nage\n  Input should be a valid integer, unable to parse string as an integer [type=int_parsing, input_value='bar', input_type=str]\n    For further information visit https://errors.pydantic.dev/2.6/v/int_parsing",
          "traceback": [
            "\u001b[0;31m---------------------------------------------------------------------------\u001b[0m",
            "\u001b[0;31mValidationError\u001b[0m                           Traceback (most recent call last)",
            "\u001b[0;32m<ipython-input-13-563c2fad18dc>\u001b[0m in \u001b[0;36m<cell line: 1>\u001b[0;34m()\u001b[0m\n\u001b[0;32m----> 1\u001b[0;31m \u001b[0mfoo_p\u001b[0m \u001b[0;34m=\u001b[0m \u001b[0mpUser\u001b[0m\u001b[0;34m(\u001b[0m\u001b[0mname\u001b[0m\u001b[0;34m=\u001b[0m\u001b[0;34m\"Jane\"\u001b[0m\u001b[0;34m,\u001b[0m \u001b[0mage\u001b[0m\u001b[0;34m=\u001b[0m\u001b[0;34m\"bar\"\u001b[0m\u001b[0;34m,\u001b[0m \u001b[0memail\u001b[0m\u001b[0;34m=\u001b[0m\u001b[0;34m\"jane@gmail.com\"\u001b[0m\u001b[0;34m)\u001b[0m\u001b[0;34m\u001b[0m\u001b[0;34m\u001b[0m\u001b[0m\n\u001b[0m",
            "\u001b[0;32m/usr/local/lib/python3.10/dist-packages/pydantic/main.py\u001b[0m in \u001b[0;36m__init__\u001b[0;34m(self, **data)\u001b[0m\n\u001b[1;32m    169\u001b[0m         \u001b[0;31m# `__tracebackhide__` tells pytest and some other tools to omit this function from tracebacks\u001b[0m\u001b[0;34m\u001b[0m\u001b[0;34m\u001b[0m\u001b[0m\n\u001b[1;32m    170\u001b[0m         \u001b[0m__tracebackhide__\u001b[0m \u001b[0;34m=\u001b[0m \u001b[0;32mTrue\u001b[0m\u001b[0;34m\u001b[0m\u001b[0;34m\u001b[0m\u001b[0m\n\u001b[0;32m--> 171\u001b[0;31m         \u001b[0mself\u001b[0m\u001b[0;34m.\u001b[0m\u001b[0m__pydantic_validator__\u001b[0m\u001b[0;34m.\u001b[0m\u001b[0mvalidate_python\u001b[0m\u001b[0;34m(\u001b[0m\u001b[0mdata\u001b[0m\u001b[0;34m,\u001b[0m \u001b[0mself_instance\u001b[0m\u001b[0;34m=\u001b[0m\u001b[0mself\u001b[0m\u001b[0;34m)\u001b[0m\u001b[0;34m\u001b[0m\u001b[0;34m\u001b[0m\u001b[0m\n\u001b[0m\u001b[1;32m    172\u001b[0m \u001b[0;34m\u001b[0m\u001b[0m\n\u001b[1;32m    173\u001b[0m     \u001b[0;31m# The following line sets a flag that we use to determine when `__init__` gets overridden by the user\u001b[0m\u001b[0;34m\u001b[0m\u001b[0;34m\u001b[0m\u001b[0m\n",
            "\u001b[0;31mValidationError\u001b[0m: 1 validation error for pUser\nage\n  Input should be a valid integer, unable to parse string as an integer [type=int_parsing, input_value='bar', input_type=str]\n    For further information visit https://errors.pydantic.dev/2.6/v/int_parsing"
          ]
        }
      ],
      "source": [
        "foo_p = pUser(name=\"Jane\", age=\"bar\", email=\"jane@gmail.com\")"
      ]
    },
    {
      "cell_type": "code",
      "execution_count": 14,
      "id": "911e7677-cc5d-4957-b6c3-b3ba1493de33",
      "metadata": {
        "height": 46,
        "id": "911e7677-cc5d-4957-b6c3-b3ba1493de33"
      },
      "outputs": [],
      "source": [
        "class Class(BaseModel):\n",
        "    students: List[pUser]"
      ]
    },
    {
      "cell_type": "code",
      "execution_count": 15,
      "id": "14920e50-688e-4dd4-9207-9b59c6b018c6",
      "metadata": {
        "height": 80,
        "id": "14920e50-688e-4dd4-9207-9b59c6b018c6"
      },
      "outputs": [],
      "source": [
        "obj = Class(\n",
        "    students=[pUser(name=\"Jane\", age=32, email=\"jane@gmail.com\")]\n",
        ")"
      ]
    },
    {
      "cell_type": "code",
      "execution_count": 16,
      "id": "cede1035-7581-4203-bab7-b8e6363c931f",
      "metadata": {
        "height": 29,
        "colab": {
          "base_uri": "https://localhost:8080/"
        },
        "id": "cede1035-7581-4203-bab7-b8e6363c931f",
        "outputId": "b8426177-d67b-4359-efab-77aa2aa6fecc"
      },
      "outputs": [
        {
          "output_type": "execute_result",
          "data": {
            "text/plain": [
              "Class(students=[pUser(name='Jane', age=32, email='jane@gmail.com')])"
            ]
          },
          "metadata": {},
          "execution_count": 16
        }
      ],
      "source": [
        "obj"
      ]
    },
    {
      "cell_type": "markdown",
      "id": "b9c12cef-3a2d-46da-9c45-9a117e10f4a4",
      "metadata": {
        "id": "b9c12cef-3a2d-46da-9c45-9a117e10f4a4"
      },
      "source": [
        "## Pydantic to OpenAI function definition\n"
      ]
    },
    {
      "cell_type": "code",
      "execution_count": 17,
      "id": "617ceea9-009f-4325-adae-85ab29fccd68",
      "metadata": {
        "height": 80,
        "id": "617ceea9-009f-4325-adae-85ab29fccd68"
      },
      "outputs": [],
      "source": [
        "class WeatherSearch(BaseModel):\n",
        "    \"\"\"Call this with an airport code to get the weather at that airport\"\"\"\n",
        "    airport_code: str = Field(description=\"airport code to get weather for\")"
      ]
    },
    {
      "cell_type": "code",
      "execution_count": 18,
      "id": "b22a438c-6692-47f9-9e00-1a95d04c6dd3",
      "metadata": {
        "height": 46,
        "id": "b22a438c-6692-47f9-9e00-1a95d04c6dd3"
      },
      "outputs": [],
      "source": [
        "from langchain.utils.openai_functions import convert_pydantic_to_openai_function"
      ]
    },
    {
      "cell_type": "code",
      "execution_count": 19,
      "id": "97e152c4-8d04-4a02-b363-ee7691f60e31",
      "metadata": {
        "height": 46,
        "colab": {
          "base_uri": "https://localhost:8080/"
        },
        "id": "97e152c4-8d04-4a02-b363-ee7691f60e31",
        "outputId": "230959ba-10e3-495d-e5bf-4ed858cb2103"
      },
      "outputs": [
        {
          "output_type": "stream",
          "name": "stderr",
          "text": [
            "/usr/local/lib/python3.10/dist-packages/langchain_core/_api/deprecation.py:117: LangChainDeprecationWarning: The function `convert_pydantic_to_openai_function` was deprecated in LangChain 0.1.16 and will be removed in 0.2.0. Use langchain_core.utils.function_calling.convert_to_openai_function() instead.\n",
            "  warn_deprecated(\n"
          ]
        }
      ],
      "source": [
        "weather_function = convert_pydantic_to_openai_function(WeatherSearch)"
      ]
    },
    {
      "cell_type": "code",
      "execution_count": 20,
      "id": "f36b041e-bd28-4e25-a0c1-fbeeeee4ae53",
      "metadata": {
        "height": 29,
        "colab": {
          "base_uri": "https://localhost:8080/"
        },
        "id": "f36b041e-bd28-4e25-a0c1-fbeeeee4ae53",
        "outputId": "1965d1d6-8d2c-4af3-e266-fd64a8a9f285"
      },
      "outputs": [
        {
          "output_type": "execute_result",
          "data": {
            "text/plain": [
              "{'name': 'WeatherSearch',\n",
              " 'description': 'Call this with an airport code to get the weather at that airport',\n",
              " 'parameters': {'properties': {'airport_code': {'description': 'airport code to get weather for',\n",
              "    'type': 'string'}},\n",
              "  'required': ['airport_code'],\n",
              "  'type': 'object'}}"
            ]
          },
          "metadata": {},
          "execution_count": 20
        }
      ],
      "source": [
        "weather_function"
      ]
    },
    {
      "cell_type": "code",
      "execution_count": 21,
      "id": "c5d7c573-2f84-441d-ab73-a3dd263318d4",
      "metadata": {
        "height": 63,
        "id": "c5d7c573-2f84-441d-ab73-a3dd263318d4"
      },
      "outputs": [],
      "source": [
        "class WeatherSearch1(BaseModel):\n",
        "    airport_code: str = Field(description=\"airport code to get weather for\")"
      ]
    },
    {
      "cell_type": "markdown",
      "id": "3d99b688-a9a7-4446-977f-07918a5d93e1",
      "metadata": {
        "id": "3d99b688-a9a7-4446-977f-07918a5d93e1"
      },
      "source": [
        "**Note**: The next cell is expected to generate an error."
      ]
    },
    {
      "cell_type": "code",
      "execution_count": 22,
      "id": "bb08f095-8190-41c5-b49c-e3580cedf992",
      "metadata": {
        "height": 46,
        "colab": {
          "base_uri": "https://localhost:8080/"
        },
        "id": "bb08f095-8190-41c5-b49c-e3580cedf992",
        "outputId": "2e57a2bd-9142-4caf-fcc3-fafb87743196"
      },
      "outputs": [
        {
          "output_type": "execute_result",
          "data": {
            "text/plain": [
              "{'name': 'WeatherSearch1',\n",
              " 'description': '',\n",
              " 'parameters': {'properties': {'airport_code': {'description': 'airport code to get weather for',\n",
              "    'type': 'string'}},\n",
              "  'required': ['airport_code'],\n",
              "  'type': 'object'}}"
            ]
          },
          "metadata": {},
          "execution_count": 22
        }
      ],
      "source": [
        "convert_pydantic_to_openai_function(WeatherSearch1)"
      ]
    },
    {
      "cell_type": "code",
      "execution_count": 23,
      "id": "ed22668a-e188-45a5-844e-deee62f9bf51",
      "metadata": {
        "height": 80,
        "id": "ed22668a-e188-45a5-844e-deee62f9bf51"
      },
      "outputs": [],
      "source": [
        "class WeatherSearch2(BaseModel):\n",
        "    \"\"\"Call this with an airport code to get the weather at that airport\"\"\"\n",
        "    airport_code: str"
      ]
    },
    {
      "cell_type": "code",
      "execution_count": 24,
      "id": "9e001e87-4338-4720-99b3-9dc4cb3e4faf",
      "metadata": {
        "height": 46,
        "colab": {
          "base_uri": "https://localhost:8080/"
        },
        "id": "9e001e87-4338-4720-99b3-9dc4cb3e4faf",
        "outputId": "babe4d88-5c95-4be9-bd49-34d4eb1c102b"
      },
      "outputs": [
        {
          "output_type": "execute_result",
          "data": {
            "text/plain": [
              "{'name': 'WeatherSearch2',\n",
              " 'description': 'Call this with an airport code to get the weather at that airport',\n",
              " 'parameters': {'properties': {'airport_code': {'type': 'string'}},\n",
              "  'required': ['airport_code'],\n",
              "  'type': 'object'}}"
            ]
          },
          "metadata": {},
          "execution_count": 24
        }
      ],
      "source": [
        "convert_pydantic_to_openai_function(WeatherSearch2)"
      ]
    },
    {
      "cell_type": "code",
      "execution_count": 25,
      "id": "a35261e8-2d36-43a8-a051-a79bef35c8dd",
      "metadata": {
        "height": 29,
        "id": "a35261e8-2d36-43a8-a051-a79bef35c8dd"
      },
      "outputs": [],
      "source": [
        "from langchain.chat_models import ChatOpenAI"
      ]
    },
    {
      "cell_type": "code",
      "execution_count": 26,
      "id": "93bda0a6-9206-407a-b0da-966f9442a40c",
      "metadata": {
        "height": 29,
        "colab": {
          "base_uri": "https://localhost:8080/"
        },
        "id": "93bda0a6-9206-407a-b0da-966f9442a40c",
        "outputId": "50f8ac28-e2fb-4418-f5b9-724296db2f7d"
      },
      "outputs": [
        {
          "output_type": "stream",
          "name": "stderr",
          "text": [
            "/usr/local/lib/python3.10/dist-packages/langchain_core/_api/deprecation.py:117: LangChainDeprecationWarning: The class `langchain_community.chat_models.openai.ChatOpenAI` was deprecated in langchain-community 0.0.10 and will be removed in 0.2.0. An updated version of the class exists in the langchain-openai package and should be used instead. To use it run `pip install -U langchain-openai` and import as `from langchain_openai import ChatOpenAI`.\n",
            "  warn_deprecated(\n"
          ]
        }
      ],
      "source": [
        "model = ChatOpenAI()"
      ]
    },
    {
      "cell_type": "code",
      "execution_count": 27,
      "id": "afe342d4-a7ef-49cd-b760-aa9a176d64d5",
      "metadata": {
        "height": 46,
        "colab": {
          "base_uri": "https://localhost:8080/"
        },
        "id": "afe342d4-a7ef-49cd-b760-aa9a176d64d5",
        "outputId": "c7cccead-2d88-4857-b68f-fa54535f41fb"
      },
      "outputs": [
        {
          "output_type": "execute_result",
          "data": {
            "text/plain": [
              "AIMessage(content='', additional_kwargs={'function_call': {'name': 'WeatherSearch', 'arguments': '{\"airport_code\":\"SFO\"}'}})"
            ]
          },
          "metadata": {},
          "execution_count": 27
        }
      ],
      "source": [
        "model.invoke(\"what is the weather in SF today?\", functions=[weather_function])"
      ]
    },
    {
      "cell_type": "code",
      "execution_count": 28,
      "id": "511e12b6-bcfb-4862-b377-4251de9969ea",
      "metadata": {
        "height": 46,
        "id": "511e12b6-bcfb-4862-b377-4251de9969ea"
      },
      "outputs": [],
      "source": [
        "model_with_function = model.bind(functions=[weather_function])"
      ]
    },
    {
      "cell_type": "code",
      "execution_count": 29,
      "id": "de6241d9-667c-4b97-a50f-95c046fa640c",
      "metadata": {
        "height": 46,
        "colab": {
          "base_uri": "https://localhost:8080/"
        },
        "id": "de6241d9-667c-4b97-a50f-95c046fa640c",
        "outputId": "e5985dd3-a5de-45f5-df61-820ce1d2f2bb"
      },
      "outputs": [
        {
          "output_type": "execute_result",
          "data": {
            "text/plain": [
              "AIMessage(content='', additional_kwargs={'function_call': {'name': 'WeatherSearch', 'arguments': '{\"airport_code\":\"SFO\"}'}})"
            ]
          },
          "metadata": {},
          "execution_count": 29
        }
      ],
      "source": [
        "model_with_function.invoke(\"what is the weather in sf?\")"
      ]
    },
    {
      "cell_type": "markdown",
      "id": "ae78d6dd-bb38-4e55-9b65-0ef9005a52b9",
      "metadata": {
        "id": "ae78d6dd-bb38-4e55-9b65-0ef9005a52b9"
      },
      "source": [
        "## Forcing it to use a function\n",
        "\n",
        "We can force the model to use a function"
      ]
    },
    {
      "cell_type": "code",
      "execution_count": 30,
      "id": "e7d2fbc0-df39-4e93-a22f-39a6285272b4",
      "metadata": {
        "height": 46,
        "id": "e7d2fbc0-df39-4e93-a22f-39a6285272b4"
      },
      "outputs": [],
      "source": [
        "model_with_forced_function = model.bind(functions=[weather_function], function_call={\"name\":\"WeatherSearch\"})"
      ]
    },
    {
      "cell_type": "code",
      "execution_count": 31,
      "id": "cd9f4063-9e15-41d7-9cf9-253548534176",
      "metadata": {
        "height": 46,
        "colab": {
          "base_uri": "https://localhost:8080/"
        },
        "id": "cd9f4063-9e15-41d7-9cf9-253548534176",
        "outputId": "24e3c0d3-dd2a-412f-808c-e8c4f96f27e5"
      },
      "outputs": [
        {
          "output_type": "execute_result",
          "data": {
            "text/plain": [
              "AIMessage(content='', additional_kwargs={'function_call': {'name': 'WeatherSearch', 'arguments': '{\"airport_code\":\"SFO\"}'}})"
            ]
          },
          "metadata": {},
          "execution_count": 31
        }
      ],
      "source": [
        "model_with_forced_function.invoke(\"what is the weather in sf?\")"
      ]
    },
    {
      "cell_type": "code",
      "execution_count": 32,
      "id": "314ca7e6-b77c-4b9d-9c93-da6ef3c9c6f8",
      "metadata": {
        "height": 29,
        "colab": {
          "base_uri": "https://localhost:8080/"
        },
        "id": "314ca7e6-b77c-4b9d-9c93-da6ef3c9c6f8",
        "outputId": "b40bb855-88a0-4160-e9f7-e755ef55d04f"
      },
      "outputs": [
        {
          "output_type": "execute_result",
          "data": {
            "text/plain": [
              "AIMessage(content='', additional_kwargs={'function_call': {'name': 'WeatherSearch', 'arguments': '{\"airport_code\":\"SFO\"}'}})"
            ]
          },
          "metadata": {},
          "execution_count": 32
        }
      ],
      "source": [
        "model_with_forced_function.invoke(\"hi!\")"
      ]
    },
    {
      "cell_type": "markdown",
      "id": "5ac391c3-cd81-4423-a33e-6583ec534850",
      "metadata": {
        "id": "5ac391c3-cd81-4423-a33e-6583ec534850"
      },
      "source": [
        "## Using in a chain\n",
        "\n",
        "We can use this model bound to function in a chain as we normally would"
      ]
    },
    {
      "cell_type": "code",
      "execution_count": 33,
      "id": "c12c86df-d628-4176-9f4e-24fb5a953a5d",
      "metadata": {
        "height": 29,
        "id": "c12c86df-d628-4176-9f4e-24fb5a953a5d"
      },
      "outputs": [],
      "source": [
        "from langchain.prompts import ChatPromptTemplate"
      ]
    },
    {
      "cell_type": "code",
      "execution_count": 34,
      "id": "83f00dc6-5d22-44a5-a0a0-4fe1ab8167ac",
      "metadata": {
        "height": 80,
        "id": "83f00dc6-5d22-44a5-a0a0-4fe1ab8167ac"
      },
      "outputs": [],
      "source": [
        "prompt = ChatPromptTemplate.from_messages([\n",
        "    (\"system\", \"You are a helpful assistant\"),\n",
        "    (\"user\", \"{input}\")\n",
        "])"
      ]
    },
    {
      "cell_type": "code",
      "execution_count": 35,
      "id": "1eee3f5f-2176-4777-8c8a-2a197acc47a7",
      "metadata": {
        "height": 29,
        "id": "1eee3f5f-2176-4777-8c8a-2a197acc47a7"
      },
      "outputs": [],
      "source": [
        "chain = prompt | model_with_function"
      ]
    },
    {
      "cell_type": "code",
      "execution_count": 36,
      "id": "8587907e-b4c3-4acd-9e58-1137047d0fee",
      "metadata": {
        "height": 46,
        "colab": {
          "base_uri": "https://localhost:8080/"
        },
        "id": "8587907e-b4c3-4acd-9e58-1137047d0fee",
        "outputId": "eeae55ae-2bb8-4f90-d66f-2a053bab4a3b"
      },
      "outputs": [
        {
          "output_type": "execute_result",
          "data": {
            "text/plain": [
              "AIMessage(content='', additional_kwargs={'function_call': {'name': 'WeatherSearch', 'arguments': '{\"airport_code\":\"SFO\"}'}})"
            ]
          },
          "metadata": {},
          "execution_count": 36
        }
      ],
      "source": [
        "chain.invoke({\"input\": \"what is the weather in sf?\"})"
      ]
    },
    {
      "cell_type": "markdown",
      "id": "f317408d-de5e-4774-993e-a8ac31a2f5fe",
      "metadata": {
        "id": "f317408d-de5e-4774-993e-a8ac31a2f5fe"
      },
      "source": [
        "## Using multiple functions\n",
        "\n",
        "Even better, we can pass a set of function and let the LLM decide which to use based on the question context."
      ]
    },
    {
      "cell_type": "code",
      "execution_count": 37,
      "id": "48c8e42e-f84e-4822-b1ee-a9955fa301c4",
      "metadata": {
        "height": 97,
        "id": "48c8e42e-f84e-4822-b1ee-a9955fa301c4"
      },
      "outputs": [],
      "source": [
        "class ArtistSearch(BaseModel):\n",
        "    \"\"\"Call this to get the names of songs by a particular artist\"\"\"\n",
        "    artist_name: str = Field(description=\"name of artist to look up\")\n",
        "    n: int = Field(description=\"number of results\")"
      ]
    },
    {
      "cell_type": "code",
      "execution_count": 38,
      "id": "9a51599b-ee32-4f74-9925-b6264bf43242",
      "metadata": {
        "height": 97,
        "id": "9a51599b-ee32-4f74-9925-b6264bf43242"
      },
      "outputs": [],
      "source": [
        "functions = [\n",
        "    convert_pydantic_to_openai_function(WeatherSearch),\n",
        "    convert_pydantic_to_openai_function(ArtistSearch),\n",
        "]"
      ]
    },
    {
      "cell_type": "code",
      "execution_count": 39,
      "id": "e0cc9e3b-ba38-4eff-b285-d02ee5963725",
      "metadata": {
        "height": 46,
        "id": "e0cc9e3b-ba38-4eff-b285-d02ee5963725"
      },
      "outputs": [],
      "source": [
        "model_with_functions = model.bind(functions=functions)"
      ]
    },
    {
      "cell_type": "code",
      "execution_count": 40,
      "id": "d01cd501-03b4-4207-b1be-0c33c12a0fa5",
      "metadata": {
        "height": 46,
        "colab": {
          "base_uri": "https://localhost:8080/"
        },
        "id": "d01cd501-03b4-4207-b1be-0c33c12a0fa5",
        "outputId": "33b75b4c-2af5-427d-fabe-2caf1de3328e"
      },
      "outputs": [
        {
          "output_type": "execute_result",
          "data": {
            "text/plain": [
              "AIMessage(content='', additional_kwargs={'function_call': {'name': 'WeatherSearch', 'arguments': '{\"airport_code\":\"SFO\"}'}})"
            ]
          },
          "metadata": {},
          "execution_count": 40
        }
      ],
      "source": [
        "model_with_functions.invoke(\"what is the weather in sf?\")"
      ]
    },
    {
      "cell_type": "code",
      "execution_count": 41,
      "id": "31599518-7387-4d08-9d68-8f5ba7282e8b",
      "metadata": {
        "height": 46,
        "colab": {
          "base_uri": "https://localhost:8080/"
        },
        "id": "31599518-7387-4d08-9d68-8f5ba7282e8b",
        "outputId": "cb209ddb-7794-44bc-f9e9-f0da0924ca16"
      },
      "outputs": [
        {
          "output_type": "execute_result",
          "data": {
            "text/plain": [
              "AIMessage(content='', additional_kwargs={'function_call': {'name': 'ArtistSearch', 'arguments': '{\"artist_name\":\"Taylor Swift\",\"n\":3}'}})"
            ]
          },
          "metadata": {},
          "execution_count": 41
        }
      ],
      "source": [
        "model_with_functions.invoke(\"what are three songs by taylor swift?\")"
      ]
    },
    {
      "cell_type": "code",
      "execution_count": 42,
      "id": "4e6df989-6ea3-48af-b2c0-10978e0f4142",
      "metadata": {
        "height": 29,
        "colab": {
          "base_uri": "https://localhost:8080/"
        },
        "id": "4e6df989-6ea3-48af-b2c0-10978e0f4142",
        "outputId": "5478463c-7953-4c7a-f3e2-dc8e0de121a5"
      },
      "outputs": [
        {
          "output_type": "execute_result",
          "data": {
            "text/plain": [
              "AIMessage(content='Hello! How can I assist you today?')"
            ]
          },
          "metadata": {},
          "execution_count": 42
        }
      ],
      "source": [
        "model_with_functions.invoke(\"hi!\")"
      ]
    },
    {
      "cell_type": "code",
      "execution_count": null,
      "id": "f380d482-b37f-4806-ab36-09a8ee60d258",
      "metadata": {
        "height": 29,
        "id": "f380d482-b37f-4806-ab36-09a8ee60d258"
      },
      "outputs": [],
      "source": []
    }
  ],
  "metadata": {
    "kernelspec": {
      "display_name": "Python 3 (ipykernel)",
      "language": "python",
      "name": "python3"
    },
    "language_info": {
      "codemirror_mode": {
        "name": "ipython",
        "version": 3
      },
      "file_extension": ".py",
      "mimetype": "text/x-python",
      "name": "python",
      "nbconvert_exporter": "python",
      "pygments_lexer": "ipython3",
      "version": "3.9.18"
    },
    "colab": {
      "provenance": [],
      "include_colab_link": true
    }
  },
  "nbformat": 4,
  "nbformat_minor": 5
}