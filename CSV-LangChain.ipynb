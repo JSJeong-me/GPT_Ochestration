{
  "nbformat": 4,
  "nbformat_minor": 0,
  "metadata": {
    "colab": {
      "provenance": [],
      "authorship_tag": "ABX9TyPKjheldlst6YJ2qfqY/s3W",
      "include_colab_link": true
    },
    "kernelspec": {
      "name": "python3",
      "display_name": "Python 3"
    },
    "language_info": {
      "name": "python"
    }
  },
  "cells": [
    {
      "cell_type": "markdown",
      "metadata": {
        "id": "view-in-github",
        "colab_type": "text"
      },
      "source": [
        "<a href=\"https://colab.research.google.com/github/JSJeong-me/GPT_Ochestration/blob/main/CSV-LangChain.ipynb\" target=\"_parent\"><img src=\"https://colab.research.google.com/assets/colab-badge.svg\" alt=\"Open In Colab\"/></a>"
      ]
    },
    {
      "cell_type": "code",
      "execution_count": null,
      "metadata": {
        "id": "P6BVq4taHS9U"
      },
      "outputs": [],
      "source": [
        "!pip install langchain\n",
        "!pip install chromadb"
      ]
    },
    {
      "cell_type": "code",
      "source": [
        "!pip install openai\n",
        "!pip install python-dotenv"
      ],
      "metadata": {
        "id": "Qb8f3ODMH68j"
      },
      "execution_count": null,
      "outputs": []
    },
    {
      "cell_type": "code",
      "source": [
        "!echo \"OPENAI_API_KEY=sk-\" >> .env\n",
        "!source /content/.env"
      ],
      "metadata": {
        "id": "PC-Kt9SMIE4H"
      },
      "execution_count": 3,
      "outputs": []
    },
    {
      "cell_type": "code",
      "source": [
        "import os\n",
        "from dotenv import load_dotenv\n",
        "\n",
        "# Load environment variables from .env file\n",
        "load_dotenv()\n",
        "# Access the API key using the variable name defined in the .env file\n",
        "api_key = os.getenv(\"OPENAI_API_KEY\")"
      ],
      "metadata": {
        "id": "DNKTWPoTo_oL"
      },
      "execution_count": 4,
      "outputs": []
    },
    {
      "cell_type": "code",
      "source": [
        "import csv\n",
        "from langchain.docstore.document import Document\n",
        "from langchain.text_splitter import CharacterTextSplitter\n",
        "from langchain.embeddings import OpenAIEmbeddings\n",
        "from langchain.vectorstores import Chroma"
      ],
      "metadata": {
        "id": "IYpMCH8RHU_X"
      },
      "execution_count": 5,
      "outputs": []
    },
    {
      "cell_type": "code",
      "source": [],
      "metadata": {
        "id": "I96-E54SIRCd"
      },
      "execution_count": 4,
      "outputs": []
    },
    {
      "cell_type": "code",
      "source": [
        "# Define the columns we want to embed vs which ones we want in metadata\n",
        "columns_to_embed = [\"Description\",\"Features\"]\n",
        "columns_to_metadata = [\"Product Name\",\"Price\", \"Rating\",\"Description\", \"Features\"]"
      ],
      "metadata": {
        "id": "gV_gSqwUHhyh"
      },
      "execution_count": 6,
      "outputs": []
    },
    {
      "cell_type": "code",
      "source": [
        "# Process the CSV into the embedable content vs the metadata and put it into Document format so that we can chunk it into pieces.\n",
        "docs = []\n",
        "with open('TestListings.csv', newline=\"\", encoding='utf-8-sig') as csvfile:\n",
        "    csv_reader = csv.DictReader(csvfile)\n",
        "    for i, row in enumerate(csv_reader):\n",
        "        to_metadata = {col: row[col] for col in columns_to_metadata if col in row}\n",
        "        values_to_embed = {k: row[k] for k in columns_to_embed if k in row}\n",
        "        to_embed = \"\\n\".join(f\"{k.strip()}: {v.strip()}\" for k, v in values_to_embed.items())\n",
        "        newDoc = Document(page_content=to_embed, metadata=to_metadata)\n",
        "        docs.append(newDoc)"
      ],
      "metadata": {
        "id": "BDqx2MUnHjsp"
      },
      "execution_count": 7,
      "outputs": []
    },
    {
      "cell_type": "code",
      "source": [
        "docs"
      ],
      "metadata": {
        "id": "fjIj3REm1Yyb"
      },
      "execution_count": null,
      "outputs": []
    },
    {
      "cell_type": "code",
      "source": [
        "# Lets split the document using Chracter splitting.\n",
        "splitter = CharacterTextSplitter(separator = \"\\n\",\n",
        "                                chunk_size=500,\n",
        "                                chunk_overlap=0,\n",
        "                                length_function=len)\n",
        "documents = splitter.split_documents(docs)"
      ],
      "metadata": {
        "id": "rM6eDkxZHuAe"
      },
      "execution_count": 9,
      "outputs": []
    },
    {
      "cell_type": "code",
      "source": [
        "# import\n",
        "from langchain.text_splitter import CharacterTextSplitter\n",
        "from langchain_community.document_loaders import TextLoader\n",
        "from langchain_community.embeddings.sentence_transformer import (\n",
        "    SentenceTransformerEmbeddings,\n",
        ")\n",
        "from langchain_community.vectorstores import Chroma"
      ],
      "metadata": {
        "id": "iU3wGV4QMd3y"
      },
      "execution_count": 10,
      "outputs": []
    },
    {
      "cell_type": "code",
      "source": [
        "# # create the open-source embedding function\n",
        "# embedding_function = SentenceTransformerEmbeddings(model_name=\"all-MiniLM-L6-v2\")\n",
        "\n",
        "# # load it into Chroma\n",
        "# db = Chroma.from_documents(docs, embedding_function)"
      ],
      "metadata": {
        "id": "VMas5vHpMaab"
      },
      "execution_count": 10,
      "outputs": []
    },
    {
      "cell_type": "code",
      "source": [
        "!pip install langchain-openai"
      ],
      "metadata": {
        "colab": {
          "base_uri": "https://localhost:8080/"
        },
        "id": "WVsw8a1Aotb3",
        "outputId": "11cf1b36-92c7-424b-e5f2-40ab823f0586"
      },
      "execution_count": 12,
      "outputs": [
        {
          "output_type": "stream",
          "name": "stdout",
          "text": [
            "Installing collected packages: tiktoken, langchain-openai\n",
            "\u001b[31mERROR: pip's dependency resolver does not currently take into account all the packages that are installed. This behaviour is the source of the following dependency conflicts.\n",
            "llmx 0.0.15a0 requires cohere, which is not installed.\u001b[0m\u001b[31m\n",
            "\u001b[0mSuccessfully installed langchain-openai-0.0.2 tiktoken-0.5.2\n"
          ]
        }
      ]
    },
    {
      "cell_type": "code",
      "source": [
        "from langchain_openai import OpenAI\n",
        "# # Generate embeddings from documents and store in a vector database\n",
        "embeddings_model = OpenAIEmbeddings()\n",
        "db = Chroma.from_documents(documents, OpenAIEmbeddings())"
      ],
      "metadata": {
        "id": "VUR2o4b6Hy2P"
      },
      "execution_count": 15,
      "outputs": []
    },
    {
      "cell_type": "code",
      "source": [
        "!pip install sentence-transformers"
      ],
      "metadata": {
        "colab": {
          "base_uri": "https://localhost:8080/"
        },
        "id": "YJCmTI4CN38m",
        "outputId": "82a5397d-ba72-4feb-e65b-2ffdc0646686"
      },
      "execution_count": 14,
      "outputs": [
        {
          "output_type": "stream",
          "name": "stdout",
          "text": [
            "Installing collected packages: sentencepiece, sentence-transformers\n",
            "Successfully installed sentence-transformers-2.2.2 sentencepiece-0.1.99\n"
          ]
        }
      ]
    },
    {
      "cell_type": "code",
      "source": [
        "# import csv\n",
        "# from langchain.docstore.document import Document\n",
        "# from langchain.text_splitter import CharacterTextSplitter\n",
        "# from langchain.embeddings import OpenAIEmbeddings\n",
        "# from langchain.vectorstores import Chroma"
      ],
      "metadata": {
        "id": "7nfJOCZbpVyw"
      },
      "execution_count": 12,
      "outputs": []
    },
    {
      "cell_type": "code",
      "source": [
        "# Define the columns we want to embed vs which ones we want in metadata\n",
        "# columns_to_embed = [\"Description\",\"Features\"]\n",
        "# columns_to_metadata = [\"Product Name\",\"Price\", \"Rating\",\"Description\", \"Features\"]"
      ],
      "metadata": {
        "id": "Wp3x-BlypWia"
      },
      "execution_count": 13,
      "outputs": []
    },
    {
      "cell_type": "code",
      "source": [
        "# Process the CSV into the embedable content vs the metadata and put it into Document format so that we can chunk it into pieces.\n",
        "# docs = []\n",
        "# with open('TestListings.csv', newline=\"\", encoding='utf-8-sig') as csvfile:\n",
        "#     csv_reader = csv.DictReader(csvfile)\n",
        "#     for i, row in enumerate(csv_reader):\n",
        "#         to_metadata = {col: row[col] for col in columns_to_metadata if col in row}\n",
        "#         values_to_embed = {k: row[k] for k in columns_to_embed if k in row}\n",
        "#         to_embed = \"\\n\".join(f\"{k.strip()}: {v.strip()}\" for k, v in values_to_embed.items())\n",
        "#         newDoc = Document(page_content=to_embed, metadata=to_metadata)\n",
        "#         docs.append(newDoc)"
      ],
      "metadata": {
        "id": "xGrz1CE4pWfN"
      },
      "execution_count": 14,
      "outputs": []
    },
    {
      "cell_type": "code",
      "source": [
        "# Lets split the document using Chracter splitting.\n",
        "# splitter = CharacterTextSplitter(separator = \"\\n\",\n",
        "#                                 chunk_size=500,\n",
        "#                                 chunk_overlap=0,\n",
        "#                                 length_function=len)\n",
        "# documents = splitter.split_documents(docs)"
      ],
      "metadata": {
        "id": "NKPP_VSspWbv"
      },
      "execution_count": 15,
      "outputs": []
    },
    {
      "cell_type": "code",
      "source": [
        "# Generate embeddings from documents and store in a vector database\n",
        "# embeddings_model = OpenAIEmbeddings()\n",
        "# db = Chroma.from_documents(documents, OpenAIEmbeddings())"
      ],
      "metadata": {
        "colab": {
          "base_uri": "https://localhost:8080/"
        },
        "id": "ZE92CTf0pWYl",
        "outputId": "615e855f-830d-4d27-e673-2c9bb97b71ab"
      },
      "execution_count": 16,
      "outputs": [
        {
          "output_type": "stream",
          "name": "stderr",
          "text": [
            "/usr/local/lib/python3.10/dist-packages/langchain_core/_api/deprecation.py:117: LangChainDeprecationWarning: The class `langchain_community.embeddings.openai.OpenAIEmbeddings` was deprecated in langchain-community 0.1.0 and will be removed in 0.2.0. Use langchain_openai.OpenAIEmbeddings instead.\n",
            "  warn_deprecated(\n"
          ]
        }
      ]
    },
    {
      "cell_type": "code",
      "source": [
        "# Query the vector database for information.\n",
        "query = \"Heart rate monitor\"\n",
        "docs = db.similarity_search(query)\n",
        "print(docs[0].page_content)\n",
        "print(docs[0].metadata)"
      ],
      "metadata": {
        "colab": {
          "base_uri": "https://localhost:8080/"
        },
        "id": "RNPz7mDbpWT6",
        "outputId": "f567b9af-6738-4496-8609-5d71f3eae101"
      },
      "execution_count": 16,
      "outputs": [
        {
          "output_type": "stream",
          "name": "stdout",
          "text": [
            "Description: Achieve your fitness goals with our Fitness Tracker Smartwatch. Monitor your activity, heart rate, and receive notifications on your wrist.\n",
            "Features: - Heart rate monitor and activity tracking.<br> - Built-in GPS for accurate workout tracking.<br> - Sleep analysis and guided breathing exercises.<br> - Receive notifications from your smartphone.<br> - Water-resistant for workouts and everyday use.<br> - Long battery life.\n",
            "{'Description': 'Achieve your fitness goals with our Fitness Tracker Smartwatch. Monitor your activity, heart rate, and receive notifications on your wrist.', 'Features': '- Heart rate monitor and activity tracking.<br> - Built-in GPS for accurate workout tracking.<br> - Sleep analysis and guided breathing exercises.<br> - Receive notifications from your smartphone.<br> - Water-resistant for workouts and everyday use.<br> - Long battery life.', 'Price': '149.99', 'Product Name': 'Fitness Tracker Smartwatch', 'Rating': '4.5'}\n"
          ]
        }
      ]
    },
    {
      "cell_type": "code",
      "source": [
        "query = \"what is the product name of the Min rating?\"\n",
        "docs = db.similarity_search(query)\n",
        "print(docs[0].page_content)\n",
        "print(docs[0].metadata)"
      ],
      "metadata": {
        "colab": {
          "base_uri": "https://localhost:8080/"
        },
        "id": "Yg3KlsEd2CgT",
        "outputId": "ab85bcd9-43a5-4e82-ac7c-a3022ccf2056"
      },
      "execution_count": 17,
      "outputs": [
        {
          "output_type": "stream",
          "name": "stdout",
          "text": [
            "Features: - High-fidelity sound with deep bass and clear treble. - Noise-canceling technology for an immersive listening experience. - 20 hours of playtime on a single charge. - Ergonomic design for a secure and comfortable fit. - Touch controls for easy playback and calls. - IPX7 waterproof rating for workouts and outdoor activities. - Built-in microphone for hands-free calls.\n",
            "{'Description': \"Elevate your music experience with our Ultimate Wireless Bluetooth Earbuds. These earbuds are designed for audiophiles who demand premium sound quality and convenience. With advanced Bluetooth 5.0 technology, you'll enjoy seamless connectivity and crystal-clear audio.\", 'Features': '- High-fidelity sound with deep bass and clear treble. - Noise-canceling technology for an immersive listening experience. - 20 hours of playtime on a single charge. - Ergonomic design for a secure and comfortable fit. - Touch controls for easy playback and calls. - IPX7 waterproof rating for workouts and outdoor activities. - Built-in microphone for hands-free calls.', 'Price': '79.99', 'Product Name': 'Ultimate Wireless Bluetooth Earbuds', 'Rating': '4.4'}\n"
          ]
        }
      ]
    },
    {
      "cell_type": "code",
      "source": [],
      "metadata": {
        "id": "ljUWess7pv-1"
      },
      "execution_count": null,
      "outputs": []
    },
    {
      "cell_type": "code",
      "source": [],
      "metadata": {
        "id": "5lZap8TXpv4A"
      },
      "execution_count": null,
      "outputs": []
    },
    {
      "cell_type": "code",
      "source": [],
      "metadata": {
        "id": "NgwVTThipv0M"
      },
      "execution_count": null,
      "outputs": []
    },
    {
      "cell_type": "markdown",
      "source": [
        "Advanced Querying"
      ],
      "metadata": {
        "id": "GXT01TKtPRMQ"
      }
    },
    {
      "cell_type": "code",
      "source": [
        "from langchain.llms import OpenAI\n",
        "from langchain.retrievers.self_query.base import SelfQueryRetriever\n",
        "from langchain.chains.query_constructor.base import AttributeInfo\n",
        "\n",
        "# Metadata schema based on the values on the CSV\n",
        "metadata_field_info = [\n",
        "    AttributeInfo(\n",
        "        name=\"Product Name\",\n",
        "        description=\"Name of the product\",\n",
        "        type=\"string\",\n",
        "    ),\n",
        "    AttributeInfo(\n",
        "        name=\"Price\",\n",
        "        description=\"The price of the product as a number. Ex. 149.99\",\n",
        "        type=\"string\",\n",
        "    ),\n",
        "    AttributeInfo(\n",
        "        name=\"Rating\",\n",
        "        description=\"The rating of the product as a number from 0 to 5. Ex. 4.5\",\n",
        "        type=\"string\",\n",
        "    ),\n",
        "    AttributeInfo(\n",
        "        name=\"Description\",\n",
        "        description=\"Description of the product\", type=\"string\"\n",
        "    ),\n",
        "    AttributeInfo(\n",
        "        name=\"Features\",\n",
        "        description=\"Features of the product\",\n",
        "        type=\"string\"\n",
        "    ),\n",
        "]\n",
        "document_content_description = \"Product listing\""
      ],
      "metadata": {
        "id": "QuQ_UwM-PO9Z"
      },
      "execution_count": 18,
      "outputs": []
    },
    {
      "cell_type": "code",
      "source": [
        "# Configure retriver\n",
        "llm = OpenAI(temperature=0)\n",
        "retriever = SelfQueryRetriever.from_llm(llm, db, document_content_description, metadata_field_info, verbose=True)"
      ],
      "metadata": {
        "id": "QeZ58YJ_PxUN"
      },
      "execution_count": null,
      "outputs": []
    },
    {
      "cell_type": "code",
      "source": [
        "# Retrieve values\n",
        "retriever.get_relevant_documents(\"good heart monitor\")\n",
        "\n",
        "# The result is:\n",
        "# Description: Achieve your fitness goals with our Fitness Tracker Smartwatch. Monitor your activity, heart rate, and receive notifications on your wrist.\\n\n",
        "# Features: - Heart rate monitor and activity tracking.<br> - Built-in GPS for accurate workout tracking.<br> - Sleep analysis and guided breathing exercises.<br> - Receive notifications from your smartphone.<br> - Water-resistant for workouts and everyday use.<br> - Long battery life.',\n",
        "# metadata={\n",
        "#    'Product Name': 'Fitness Tracker Smartwatch',\n",
        "#    'Price': '149.99',\n",
        "#    'Rating': '4.5',\n",
        "#    'Description': 'Achieve your fitness goals with our Fitness Tracker Smartwatch. Monitor your activity, heart rate, and receive notifications on your wrist.',\n",
        "#    'Features': '- Heart rate monitor and activity tracking.<br> - Built-in GPS for accurate workout tracking.<br> - Sleep analysis and guided breathing exercises.<br> - Receive notifications from your smartphone.<br> - Water-resistant for workouts and everyday use.<br> - Long battery life.'\n",
        "# }"
      ],
      "metadata": {
        "id": "Wyg_fgM0qIRs"
      },
      "execution_count": null,
      "outputs": []
    },
    {
      "cell_type": "code",
      "source": [],
      "metadata": {
        "id": "27zxiQx8qINZ"
      },
      "execution_count": null,
      "outputs": []
    }
  ]
}