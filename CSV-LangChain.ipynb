{
  "nbformat": 4,
  "nbformat_minor": 0,
  "metadata": {
    "colab": {
      "provenance": [],
      "authorship_tag": "ABX9TyN2nM0xulrTjIlCsZPihRz2",
      "include_colab_link": true
    },
    "kernelspec": {
      "name": "python3",
      "display_name": "Python 3"
    },
    "language_info": {
      "name": "python"
    }
  },
  "cells": [
    {
      "cell_type": "markdown",
      "metadata": {
        "id": "view-in-github",
        "colab_type": "text"
      },
      "source": [
        "<a href=\"https://colab.research.google.com/github/JSJeong-me/GPT_Ochestration/blob/main/CSV-LangChain.ipynb\" target=\"_parent\"><img src=\"https://colab.research.google.com/assets/colab-badge.svg\" alt=\"Open In Colab\"/></a>"
      ]
    },
    {
      "cell_type": "code",
      "execution_count": null,
      "metadata": {
        "id": "P6BVq4taHS9U"
      },
      "outputs": [],
      "source": [
        "!pip install langchain\n",
        "!pip install chromadb"
      ]
    },
    {
      "cell_type": "code",
      "source": [
        "!pip install openai\n",
        "!pip install python-dotenv"
      ],
      "metadata": {
        "id": "Qb8f3ODMH68j"
      },
      "execution_count": null,
      "outputs": []
    },
    {
      "cell_type": "code",
      "source": [
        "!echo \"OPENAI_API_KEY=sk-\" >> .env\n",
        "!source /content/.env"
      ],
      "metadata": {
        "id": "PC-Kt9SMIE4H"
      },
      "execution_count": 3,
      "outputs": []
    },
    {
      "cell_type": "code",
      "source": [
        "import os\n",
        "from dotenv import load_dotenv\n",
        "\n",
        "# Load environment variables from .env file\n",
        "load_dotenv()\n",
        "# Access the API key using the variable name defined in the .env file\n",
        "api_key = os.getenv(\"OPENAI_API_KEY\")"
      ],
      "metadata": {
        "id": "DNKTWPoTo_oL"
      },
      "execution_count": null,
      "outputs": []
    },
    {
      "cell_type": "code",
      "source": [
        "import csv\n",
        "from langchain.docstore.document import Document\n",
        "from langchain.text_splitter import CharacterTextSplitter\n",
        "from langchain.embeddings import OpenAIEmbeddings\n",
        "from langchain.vectorstores import Chroma"
      ],
      "metadata": {
        "id": "IYpMCH8RHU_X"
      },
      "execution_count": 4,
      "outputs": []
    },
    {
      "cell_type": "code",
      "source": [],
      "metadata": {
        "id": "I96-E54SIRCd"
      },
      "execution_count": 4,
      "outputs": []
    },
    {
      "cell_type": "code",
      "source": [
        "# Define the columns we want to embed vs which ones we want in metadata\n",
        "columns_to_embed = [\"Description\",\"Features\"]\n",
        "columns_to_metadata = [\"Product Name\",\"Price\", \"Rating\",\"Description\", \"Features\"]"
      ],
      "metadata": {
        "id": "gV_gSqwUHhyh"
      },
      "execution_count": 6,
      "outputs": []
    },
    {
      "cell_type": "code",
      "source": [
        "# Process the CSV into the embedable content vs the metadata and put it into Document format so that we can chunk it into pieces.\n",
        "docs = []\n",
        "with open('TestListings.csv', newline=\"\", encoding='utf-8-sig') as csvfile:\n",
        "    csv_reader = csv.DictReader(csvfile)\n",
        "    for i, row in enumerate(csv_reader):\n",
        "        to_metadata = {col: row[col] for col in columns_to_metadata if col in row}\n",
        "        values_to_embed = {k: row[k] for k in columns_to_embed if k in row}\n",
        "        to_embed = \"\\n\".join(f\"{k.strip()}: {v.strip()}\" for k, v in values_to_embed.items())\n",
        "        newDoc = Document(page_content=to_embed, metadata=to_metadata)\n",
        "        docs.append(newDoc)"
      ],
      "metadata": {
        "id": "BDqx2MUnHjsp"
      },
      "execution_count": 7,
      "outputs": []
    },
    {
      "cell_type": "code",
      "source": [
        "# Lets split the document using Chracter splitting.\n",
        "splitter = CharacterTextSplitter(separator = \"\\n\",\n",
        "                                chunk_size=500,\n",
        "                                chunk_overlap=0,\n",
        "                                length_function=len)\n",
        "documents = splitter.split_documents(docs)"
      ],
      "metadata": {
        "id": "rM6eDkxZHuAe"
      },
      "execution_count": 8,
      "outputs": []
    },
    {
      "cell_type": "code",
      "source": [
        "# import\n",
        "from langchain.text_splitter import CharacterTextSplitter\n",
        "from langchain_community.document_loaders import TextLoader\n",
        "from langchain_community.embeddings.sentence_transformer import (\n",
        "    SentenceTransformerEmbeddings,\n",
        ")\n",
        "from langchain_community.vectorstores import Chroma"
      ],
      "metadata": {
        "id": "iU3wGV4QMd3y"
      },
      "execution_count": 9,
      "outputs": []
    },
    {
      "cell_type": "code",
      "source": [
        "# # create the open-source embedding function\n",
        "# embedding_function = SentenceTransformerEmbeddings(model_name=\"all-MiniLM-L6-v2\")\n",
        "\n",
        "# # load it into Chroma\n",
        "# db = Chroma.from_documents(docs, embedding_function)"
      ],
      "metadata": {
        "id": "VMas5vHpMaab"
      },
      "execution_count": 10,
      "outputs": []
    },
    {
      "cell_type": "code",
      "source": [
        "!pip install langchain-openai"
      ],
      "metadata": {
        "id": "WVsw8a1Aotb3"
      },
      "execution_count": null,
      "outputs": []
    },
    {
      "cell_type": "code",
      "source": [
        "from langchain_openai import OpenAI\n",
        "# # Generate embeddings from documents and store in a vector database\n",
        "embeddings_model = OpenAIEmbeddings()\n",
        "# db = Chroma.from_documents(documents, OpenAIEmbeddings())"
      ],
      "metadata": {
        "id": "VUR2o4b6Hy2P"
      },
      "execution_count": 8,
      "outputs": []
    },
    {
      "cell_type": "code",
      "source": [
        "!pip install sentence-transformers"
      ],
      "metadata": {
        "id": "YJCmTI4CN38m"
      },
      "execution_count": null,
      "outputs": []
    },
    {
      "cell_type": "code",
      "source": [
        "import csv\n",
        "from langchain.docstore.document import Document\n",
        "from langchain.text_splitter import CharacterTextSplitter\n",
        "from langchain.embeddings import OpenAIEmbeddings\n",
        "from langchain.vectorstores import Chroma"
      ],
      "metadata": {
        "id": "7nfJOCZbpVyw"
      },
      "execution_count": 12,
      "outputs": []
    },
    {
      "cell_type": "code",
      "source": [
        "# Define the columns we want to embed vs which ones we want in metadata\n",
        "columns_to_embed = [\"Description\",\"Features\"]\n",
        "columns_to_metadata = [\"Product Name\",\"Price\", \"Rating\",\"Description\", \"Features\"]"
      ],
      "metadata": {
        "id": "Wp3x-BlypWia"
      },
      "execution_count": 13,
      "outputs": []
    },
    {
      "cell_type": "code",
      "source": [
        "# Process the CSV into the embedable content vs the metadata and put it into Document format so that we can chunk it into pieces.\n",
        "docs = []\n",
        "with open('TestListings.csv', newline=\"\", encoding='utf-8-sig') as csvfile:\n",
        "    csv_reader = csv.DictReader(csvfile)\n",
        "    for i, row in enumerate(csv_reader):\n",
        "        to_metadata = {col: row[col] for col in columns_to_metadata if col in row}\n",
        "        values_to_embed = {k: row[k] for k in columns_to_embed if k in row}\n",
        "        to_embed = \"\\n\".join(f\"{k.strip()}: {v.strip()}\" for k, v in values_to_embed.items())\n",
        "        newDoc = Document(page_content=to_embed, metadata=to_metadata)\n",
        "        docs.append(newDoc)"
      ],
      "metadata": {
        "id": "xGrz1CE4pWfN"
      },
      "execution_count": 14,
      "outputs": []
    },
    {
      "cell_type": "code",
      "source": [
        "# Lets split the document using Chracter splitting.\n",
        "splitter = CharacterTextSplitter(separator = \"\\n\",\n",
        "                                chunk_size=500,\n",
        "                                chunk_overlap=0,\n",
        "                                length_function=len)\n",
        "documents = splitter.split_documents(docs)"
      ],
      "metadata": {
        "id": "NKPP_VSspWbv"
      },
      "execution_count": 15,
      "outputs": []
    },
    {
      "cell_type": "code",
      "source": [
        "# Generate embeddings from documents and store in a vector database\n",
        "embeddings_model = OpenAIEmbeddings()\n",
        "db = Chroma.from_documents(documents, OpenAIEmbeddings())"
      ],
      "metadata": {
        "colab": {
          "base_uri": "https://localhost:8080/"
        },
        "id": "ZE92CTf0pWYl",
        "outputId": "615e855f-830d-4d27-e673-2c9bb97b71ab"
      },
      "execution_count": 16,
      "outputs": [
        {
          "output_type": "stream",
          "name": "stderr",
          "text": [
            "/usr/local/lib/python3.10/dist-packages/langchain_core/_api/deprecation.py:117: LangChainDeprecationWarning: The class `langchain_community.embeddings.openai.OpenAIEmbeddings` was deprecated in langchain-community 0.1.0 and will be removed in 0.2.0. Use langchain_openai.OpenAIEmbeddings instead.\n",
            "  warn_deprecated(\n"
          ]
        }
      ]
    },
    {
      "cell_type": "code",
      "source": [
        "# Query the vector database for information.\n",
        "query = \"Heart rate monitor\"\n",
        "docs = db.similarity_search(query)\n",
        "print(docs[0].page_content)\n",
        "print(docs[0].metadata)"
      ],
      "metadata": {
        "colab": {
          "base_uri": "https://localhost:8080/"
        },
        "id": "RNPz7mDbpWT6",
        "outputId": "808d7bb4-f1ce-4bb6-ad0d-3562bfc12486"
      },
      "execution_count": 17,
      "outputs": [
        {
          "output_type": "stream",
          "name": "stdout",
          "text": [
            "Description: Achieve your fitness goals with our Fitness Tracker Smartwatch. Monitor your activity, heart rate, and receive notifications on your wrist.\n",
            "Features: - Heart rate monitor and activity tracking.<br> - Built-in GPS for accurate workout tracking.<br> - Sleep analysis and guided breathing exercises.<br> - Receive notifications from your smartphone.<br> - Water-resistant for workouts and everyday use.<br> - Long battery life.\n",
            "{'Description': 'Achieve your fitness goals with our Fitness Tracker Smartwatch. Monitor your activity, heart rate, and receive notifications on your wrist.', 'Features': '- Heart rate monitor and activity tracking.<br> - Built-in GPS for accurate workout tracking.<br> - Sleep analysis and guided breathing exercises.<br> - Receive notifications from your smartphone.<br> - Water-resistant for workouts and everyday use.<br> - Long battery life.', 'Price': '149.99', 'Product Name': 'Fitness Tracker Smartwatch', 'Rating': '4.5'}\n"
          ]
        }
      ]
    },
    {
      "cell_type": "code",
      "source": [],
      "metadata": {
        "id": "ljUWess7pv-1"
      },
      "execution_count": null,
      "outputs": []
    },
    {
      "cell_type": "code",
      "source": [],
      "metadata": {
        "id": "5lZap8TXpv4A"
      },
      "execution_count": null,
      "outputs": []
    },
    {
      "cell_type": "code",
      "source": [],
      "metadata": {
        "id": "NgwVTThipv0M"
      },
      "execution_count": null,
      "outputs": []
    },
    {
      "cell_type": "code",
      "source": [
        "# # import\n",
        "# from langchain.text_splitter import CharacterTextSplitter\n",
        "# from langchain_community.document_loaders import TextLoader\n",
        "# from langchain_community.embeddings.sentence_transformer import (\n",
        "#     SentenceTransformerEmbeddings,\n",
        "# )\n",
        "# from langchain_community.vectorstores import Chroma\n",
        "# from langchain_community.document_loaders.csv_loader import CSVLoader\n",
        "\n",
        "\n",
        "# loader = CSVLoader(file_path='TestListings.csv')\n",
        "# documents = loader.load()\n",
        "\n",
        "\n",
        "\n",
        "# # split it into chunks\n",
        "# text_splitter = CharacterTextSplitter(chunk_size=1000, chunk_overlap=0)\n",
        "# docs = text_splitter.split_documents(documents)\n",
        "\n",
        "# # create the open-source embedding function\n",
        "# embedding_function = SentenceTransformerEmbeddings(model_name=\"all-MiniLM-L6-v2\")\n",
        "\n",
        "# # load it into Chroma\n",
        "# db = Chroma.from_documents(docs, embedding_function)\n",
        "\n",
        "# # # query it\n",
        "# # query = \"What did the president say about Ketanji Brown Jackson\"\n",
        "# # docs = db.similarity_search(query)\n",
        "\n",
        "# # # print results\n",
        "# # print(docs[0].page_content)"
      ],
      "metadata": {
        "id": "a2IdcdQOM9ES"
      },
      "execution_count": null,
      "outputs": []
    },
    {
      "cell_type": "markdown",
      "source": [
        "Advanced Querying"
      ],
      "metadata": {
        "id": "GXT01TKtPRMQ"
      }
    },
    {
      "cell_type": "code",
      "source": [
        "from langchain.llms import OpenAI\n",
        "from langchain.retrievers.self_query.base import SelfQueryRetriever\n",
        "from langchain.chains.query_constructor.base import AttributeInfo\n",
        "\n",
        "# Metadata schema based on the values on the CSV\n",
        "metadata_field_info = [\n",
        "    AttributeInfo(\n",
        "        name=\"Product Name\",\n",
        "        description=\"Name of the product\",\n",
        "        type=\"string\",\n",
        "    ),\n",
        "    AttributeInfo(\n",
        "        name=\"Price\",\n",
        "        description=\"The price of the product as a number. Ex. 149.99\",\n",
        "        type=\"string\",\n",
        "    ),\n",
        "    AttributeInfo(\n",
        "        name=\"Rating\",\n",
        "        description=\"The rating of the product as a number from 0 to 5. Ex. 4.5\",\n",
        "        type=\"string\",\n",
        "    ),\n",
        "    AttributeInfo(\n",
        "        name=\"Description\",\n",
        "        description=\"Description of the product\", type=\"string\"\n",
        "    ),\n",
        "    AttributeInfo(\n",
        "        name=\"Features\",\n",
        "        description=\"Features of the product\",\n",
        "        type=\"string\"\n",
        "    ),\n",
        "]\n",
        "document_content_description = \"Product listing\""
      ],
      "metadata": {
        "id": "QuQ_UwM-PO9Z"
      },
      "execution_count": 19,
      "outputs": []
    },
    {
      "cell_type": "code",
      "source": [],
      "metadata": {
        "id": "QeZ58YJ_PxUN"
      },
      "execution_count": null,
      "outputs": []
    },
    {
      "cell_type": "code",
      "source": [
        "# Configure retriver\n",
        "llm = OpenAI(temperature=0)\n",
        "retriever = SelfQueryRetriever.from_llm(llm, db, document_content_description, metadata_field_info, verbose=True)\n",
        "\n",
        "# Retrieve values\n",
        "retriever.get_relevant_documents(\"good heart monitor\")\n",
        "\n",
        "# The result is:\n",
        "# Description: Achieve your fitness goals with our Fitness Tracker Smartwatch. Monitor your activity, heart rate, and receive notifications on your wrist.\\n\n",
        "# Features: - Heart rate monitor and activity tracking.<br> - Built-in GPS for accurate workout tracking.<br> - Sleep analysis and guided breathing exercises.<br> - Receive notifications from your smartphone.<br> - Water-resistant for workouts and everyday use.<br> - Long battery life.',\n",
        "# metadata={\n",
        "#    'Product Name': 'Fitness Tracker Smartwatch',\n",
        "#    'Price': '149.99',\n",
        "#    'Rating': '4.5',\n",
        "#    'Description': 'Achieve your fitness goals with our Fitness Tracker Smartwatch. Monitor your activity, heart rate, and receive notifications on your wrist.',\n",
        "#    'Features': '- Heart rate monitor and activity tracking.<br> - Built-in GPS for accurate workout tracking.<br> - Sleep analysis and guided breathing exercises.<br> - Receive notifications from your smartphone.<br> - Water-resistant for workouts and everyday use.<br> - Long battery life.'\n",
        "# }"
      ],
      "metadata": {
        "id": "Wyg_fgM0qIRs"
      },
      "execution_count": null,
      "outputs": []
    },
    {
      "cell_type": "code",
      "source": [],
      "metadata": {
        "id": "27zxiQx8qINZ"
      },
      "execution_count": null,
      "outputs": []
    }
  ]
}