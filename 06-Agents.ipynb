{
  "cells": [
    {
      "cell_type": "markdown",
      "metadata": {
        "id": "view-in-github",
        "colab_type": "text"
      },
      "source": [
        "<a href=\"https://colab.research.google.com/github/JSJeong-me/GPT_Ochestration/blob/main/06-Agents.ipynb\" target=\"_parent\"><img src=\"https://colab.research.google.com/assets/colab-badge.svg\" alt=\"Open In Colab\"/></a>"
      ]
    },
    {
      "cell_type": "markdown",
      "id": "52824b89-532a-4e54-87e9-1410813cd39e",
      "metadata": {
        "id": "52824b89-532a-4e54-87e9-1410813cd39e"
      },
      "source": [
        "# LangChain: Agents\n",
        "\n",
        "## Outline:\n",
        "\n",
        "* Using built in LangChain tools: DuckDuckGo search and Wikipedia\n",
        "* Defining your own tools"
      ]
    },
    {
      "cell_type": "code",
      "source": [
        "!pip install langchain==0.0.179\n",
        "!pip install python-dotenv"
      ],
      "metadata": {
        "id": "-I5pNAW27_59"
      },
      "id": "-I5pNAW27_59",
      "execution_count": null,
      "outputs": []
    },
    {
      "cell_type": "code",
      "source": [
        "!echo \"OPENAI_API_KEY=sk-\" >> .env\n",
        "!source /content/.env"
      ],
      "metadata": {
        "id": "4lWYDqA28FQO"
      },
      "id": "4lWYDqA28FQO",
      "execution_count": 2,
      "outputs": []
    },
    {
      "cell_type": "code",
      "execution_count": 3,
      "id": "b7ed03ed-1322-49e3-b2a2-33e94fb592ef",
      "metadata": {
        "height": 148,
        "tags": [],
        "id": "b7ed03ed-1322-49e3-b2a2-33e94fb592ef"
      },
      "outputs": [],
      "source": [
        "import os\n",
        "\n",
        "from dotenv import load_dotenv, find_dotenv\n",
        "_ = load_dotenv(find_dotenv()) # read local .env file\n",
        "\n",
        "import warnings\n",
        "warnings.filterwarnings(\"ignore\")"
      ]
    },
    {
      "cell_type": "markdown",
      "id": "36fd0194-9f3d-4468-9390-f23df83e83c4",
      "metadata": {
        "id": "36fd0194-9f3d-4468-9390-f23df83e83c4"
      },
      "source": [
        "Note: LLM's do not always produce the same results. When executing the code in your notebook, you may get slightly different answers that those in the video."
      ]
    },
    {
      "cell_type": "code",
      "execution_count": 4,
      "id": "b7269176-8094-40ce-bedc-4c6421b16e98",
      "metadata": {
        "height": 250,
        "id": "b7269176-8094-40ce-bedc-4c6421b16e98"
      },
      "outputs": [],
      "source": [
        "# account for deprecation of LLM model\n",
        "import datetime\n",
        "# Get the current date\n",
        "current_date = datetime.datetime.now().date()\n",
        "\n",
        "# Define the date after which the model should be set to \"gpt-3.5-turbo\"\n",
        "target_date = datetime.date(2024, 6, 12)\n",
        "\n",
        "# Set the model variable based on the current date\n",
        "if current_date > target_date:\n",
        "    llm_model = \"gpt-3.5-turbo\"\n",
        "else:\n",
        "    llm_model = \"gpt-3.5-turbo-0301\""
      ]
    },
    {
      "cell_type": "markdown",
      "id": "0e3b9ad2",
      "metadata": {
        "id": "0e3b9ad2"
      },
      "source": [
        "## Built-in LangChain tools"
      ]
    },
    {
      "cell_type": "code",
      "execution_count": null,
      "id": "974acf8e-8f88-42de-88f8-40a82cb58e8b",
      "metadata": {
        "height": 29,
        "tags": [],
        "id": "974acf8e-8f88-42de-88f8-40a82cb58e8b"
      },
      "outputs": [],
      "source": [
        "!pip install -U wikipedia"
      ]
    },
    {
      "cell_type": "code",
      "source": [
        "!pip install openai==0.27.7"
      ],
      "metadata": {
        "id": "hJ-rUTQY8t5n"
      },
      "id": "hJ-rUTQY8t5n",
      "execution_count": null,
      "outputs": []
    },
    {
      "cell_type": "code",
      "source": [],
      "metadata": {
        "id": "uZ_6aKBJ8p9V"
      },
      "id": "uZ_6aKBJ8p9V",
      "execution_count": null,
      "outputs": []
    },
    {
      "cell_type": "code",
      "execution_count": 6,
      "id": "7b93d0e8",
      "metadata": {
        "height": 131,
        "tags": [],
        "id": "7b93d0e8"
      },
      "outputs": [],
      "source": [
        "from langchain.agents.agent_toolkits import create_python_agent\n",
        "from langchain.agents import load_tools, initialize_agent\n",
        "from langchain.agents import AgentType\n",
        "from langchain.tools.python.tool import PythonREPLTool\n",
        "from langchain.python import PythonREPL\n",
        "from langchain.chat_models import ChatOpenAI"
      ]
    },
    {
      "cell_type": "code",
      "execution_count": 10,
      "id": "7aadd5c1",
      "metadata": {
        "height": 46,
        "tags": [],
        "id": "7aadd5c1"
      },
      "outputs": [],
      "source": [
        "llm = ChatOpenAI(temperature=0, model=llm_model)"
      ]
    },
    {
      "cell_type": "code",
      "execution_count": 11,
      "id": "394924ac",
      "metadata": {
        "height": 46,
        "tags": [],
        "id": "394924ac"
      },
      "outputs": [],
      "source": [
        "tools = load_tools([\"llm-math\",\"wikipedia\"], llm=llm)"
      ]
    },
    {
      "cell_type": "code",
      "execution_count": 12,
      "id": "02cd4956",
      "metadata": {
        "height": 131,
        "tags": [],
        "id": "02cd4956"
      },
      "outputs": [],
      "source": [
        "agent= initialize_agent(\n",
        "    tools,\n",
        "    llm,\n",
        "    agent=AgentType.CHAT_ZERO_SHOT_REACT_DESCRIPTION,\n",
        "    handle_parsing_errors=True,\n",
        "    verbose = True)"
      ]
    },
    {
      "cell_type": "code",
      "execution_count": 13,
      "id": "44601fe4-5f24-4ff2-a5df-a7e194a5b4f8",
      "metadata": {
        "height": 29,
        "tags": [],
        "colab": {
          "base_uri": "https://localhost:8080/"
        },
        "id": "44601fe4-5f24-4ff2-a5df-a7e194a5b4f8",
        "outputId": "4cda1ce4-a2d6-4547-e90f-aefd77cb722c"
      },
      "outputs": [
        {
          "output_type": "stream",
          "name": "stdout",
          "text": [
            "\n",
            "\n",
            "\u001b[1m> Entering new AgentExecutor chain...\u001b[0m\n",
            "\u001b[32;1m\u001b[1;3mThought: We need to calculate 25% of 300, which means we need to multiply 300 by 0.25.\n",
            "\n",
            "Action:\n",
            "```\n",
            "{\n",
            "  \"action\": \"Calculator\",\n",
            "  \"action_input\": \"300*0.25\"\n",
            "}\n",
            "```\n",
            "\n",
            "\u001b[0m\n",
            "Observation: \u001b[36;1m\u001b[1;3mAnswer: 75.0\u001b[0m\n",
            "Thought:\u001b[32;1m\u001b[1;3mThe calculator tool returned the correct answer of 75.0.\n",
            "\n",
            "Final Answer: 25% of 300 is 75.0.\u001b[0m\n",
            "\n",
            "\u001b[1m> Finished chain.\u001b[0m\n"
          ]
        },
        {
          "output_type": "execute_result",
          "data": {
            "text/plain": [
              "{'input': 'What is the 25% of 300?', 'output': '25% of 300 is 75.0.'}"
            ]
          },
          "metadata": {},
          "execution_count": 13
        }
      ],
      "source": [
        "agent(\"What is the 25% of 300?\")"
      ]
    },
    {
      "cell_type": "markdown",
      "id": "10ee3df6-ded9-4c96-ba47-a6cf636c1b9b",
      "metadata": {
        "id": "10ee3df6-ded9-4c96-ba47-a6cf636c1b9b"
      },
      "source": [
        "## Wikipedia example"
      ]
    },
    {
      "cell_type": "code",
      "execution_count": 14,
      "id": "441df699-0a52-4812-a0a7-4605204f0aa8",
      "metadata": {
        "height": 97,
        "tags": [],
        "colab": {
          "base_uri": "https://localhost:8080/"
        },
        "id": "441df699-0a52-4812-a0a7-4605204f0aa8",
        "outputId": "7cc53fd8-39f3-4c91-f183-fd466ce5af1f"
      },
      "outputs": [
        {
          "output_type": "stream",
          "name": "stdout",
          "text": [
            "\n",
            "\n",
            "\u001b[1m> Entering new AgentExecutor chain...\u001b[0m\n",
            "\u001b[32;1m\u001b[1;3mThought: I should use Wikipedia to find the answer to this question.\n",
            "\n",
            "Action:\n",
            "```\n",
            "{\n",
            "  \"action\": \"Wikipedia\",\n",
            "  \"action_input\": \"Tom M. Mitchell\"\n",
            "}\n",
            "```\n",
            "\n",
            "\u001b[0m\n",
            "Observation: \u001b[33;1m\u001b[1;3mPage: Tom M. Mitchell\n",
            "Summary: Tom Michael Mitchell (born August 9, 1951) is an American computer scientist and the Founders University Professor at Carnegie Mellon University (CMU). He is a founder and former Chair of the Machine Learning Department at CMU. Mitchell is known for his contributions to the advancement of machine learning, artificial intelligence, and cognitive neuroscience and is the author of the textbook Machine Learning. He is a member of the United States National Academy of Engineering since 2010. He is also a Fellow of the American Academy of Arts and Sciences, the American Association for the Advancement of Science and a Fellow and past President of the Association for the Advancement of Artificial Intelligence. In October 2018, Mitchell was appointed as the Interim Dean of the School of Computer Science at Carnegie Mellon.\n",
            "\n",
            "Page: Ensemble learning\n",
            "Summary: In statistics and machine learning, ensemble methods use multiple learning algorithms to obtain better predictive performance than could be obtained from any of the constituent learning algorithms alone.\n",
            "Unlike a statistical ensemble in statistical mechanics, which is usually infinite, a machine learning ensemble consists of only a concrete finite set of alternative models, but typically allows for much more flexible structure to exist among those alternatives.\u001b[0m\n",
            "Thought:\u001b[32;1m\u001b[1;3mThe book that Tom M. Mitchell wrote is called \"Machine Learning\".\n",
            "\n",
            "Final Answer: Machine Learning.\u001b[0m\n",
            "\n",
            "\u001b[1m> Finished chain.\u001b[0m\n"
          ]
        }
      ],
      "source": [
        "question = \"Tom M. Mitchell is an American computer scientist \\\n",
        "and the Founders University Professor at Carnegie Mellon University (CMU)\\\n",
        "what book did he write?\"\n",
        "result = agent(question)"
      ]
    },
    {
      "cell_type": "markdown",
      "id": "90299a00-eb79-4755-bb4b-bf61d88c7fed",
      "metadata": {
        "id": "90299a00-eb79-4755-bb4b-bf61d88c7fed"
      },
      "source": [
        "## Python Agent"
      ]
    },
    {
      "cell_type": "code",
      "execution_count": 15,
      "id": "c7617576-d855-4ede-9c1a-be742f1504cf",
      "metadata": {
        "height": 97,
        "tags": [],
        "id": "c7617576-d855-4ede-9c1a-be742f1504cf"
      },
      "outputs": [],
      "source": [
        "agent = create_python_agent(\n",
        "    llm,\n",
        "    tool=PythonREPLTool(),\n",
        "    verbose=True\n",
        ")"
      ]
    },
    {
      "cell_type": "code",
      "execution_count": 16,
      "id": "d05e7dc6-f07e-43df-a2f6-9a0816291861",
      "metadata": {
        "height": 148,
        "tags": [],
        "id": "d05e7dc6-f07e-43df-a2f6-9a0816291861"
      },
      "outputs": [],
      "source": [
        "customer_list = [[\"Harrison\", \"Chase\"],\n",
        "                 [\"Lang\", \"Chain\"],\n",
        "                 [\"Dolly\", \"Too\"],\n",
        "                 [\"Elle\", \"Elem\"],\n",
        "                 [\"Geoff\",\"Fusion\"],\n",
        "                 [\"Trance\",\"Former\"],\n",
        "                 [\"Jen\",\"Ayai\"]\n",
        "                ]"
      ]
    },
    {
      "cell_type": "code",
      "execution_count": 17,
      "id": "f887f8f9-216e-489a-945a-f38fbccbe5c4",
      "metadata": {
        "height": 63,
        "tags": [],
        "colab": {
          "base_uri": "https://localhost:8080/",
          "height": 504
        },
        "id": "f887f8f9-216e-489a-945a-f38fbccbe5c4",
        "outputId": "d1603b1a-3334-468a-c89c-9506864322de"
      },
      "outputs": [
        {
          "output_type": "stream",
          "name": "stdout",
          "text": [
            "\n",
            "\n",
            "\u001b[1m> Entering new AgentExecutor chain...\u001b[0m\n",
            "\u001b[32;1m\u001b[1;3mI can use the sorted() function to sort the list of customers by last name and then first name. I will need to provide a key function to sorted() that returns a tuple of the last name and first name in that order.\n",
            "Action: Python REPL\n",
            "Action Input:\n",
            "```\n",
            "customers = [['Harrison', 'Chase'], ['Lang', 'Chain'], ['Dolly', 'Too'], ['Elle', 'Elem'], ['Geoff', 'Fusion'], ['Trance', 'Former'], ['Jen', 'Ayai']]\n",
            "sorted_customers = sorted(customers, key=lambda x: (x[1], x[0]))\n",
            "for customer in sorted_customers:\n",
            "    print(customer)\n",
            "```\u001b[0m\n",
            "Observation: \u001b[36;1m\u001b[1;3m['Jen', 'Ayai']\n",
            "['Lang', 'Chain']\n",
            "['Harrison', 'Chase']\n",
            "['Elle', 'Elem']\n",
            "['Trance', 'Former']\n",
            "['Geoff', 'Fusion']\n",
            "['Dolly', 'Too']\n",
            "\u001b[0m\n",
            "Thought:\u001b[32;1m\u001b[1;3mThe customers have been sorted by last name and then first name, and the output has been printed. \n",
            "Final Answer: [['Jen', 'Ayai'], ['Lang', 'Chain'], ['Harrison', 'Chase'], ['Elle', 'Elem'], ['Trance', 'Former'], ['Geoff', 'Fusion'], ['Dolly', 'Too']]\u001b[0m\n",
            "\n",
            "\u001b[1m> Finished chain.\u001b[0m\n"
          ]
        },
        {
          "output_type": "execute_result",
          "data": {
            "text/plain": [
              "\"[['Jen', 'Ayai'], ['Lang', 'Chain'], ['Harrison', 'Chase'], ['Elle', 'Elem'], ['Trance', 'Former'], ['Geoff', 'Fusion'], ['Dolly', 'Too']]\""
            ],
            "application/vnd.google.colaboratory.intrinsic+json": {
              "type": "string"
            }
          },
          "metadata": {},
          "execution_count": 17
        }
      ],
      "source": [
        "agent.run(f\"\"\"Sort these customers by \\\n",
        "last name and then first name \\\n",
        "and print the output: {customer_list}\"\"\")"
      ]
    },
    {
      "cell_type": "markdown",
      "id": "74466cec-2d98-438b-805f-33e31fdc3035",
      "metadata": {
        "id": "74466cec-2d98-438b-805f-33e31fdc3035"
      },
      "source": [
        "#### View detailed outputs of the chains"
      ]
    },
    {
      "cell_type": "code",
      "execution_count": 18,
      "id": "12548579-810b-416e-afb5-178296685c2c",
      "metadata": {
        "height": 114,
        "tags": [],
        "colab": {
          "base_uri": "https://localhost:8080/"
        },
        "id": "12548579-810b-416e-afb5-178296685c2c",
        "outputId": "e5da1566-3845-471c-e30c-5a646dd32e75"
      },
      "outputs": [
        {
          "output_type": "stream",
          "name": "stdout",
          "text": [
            "\u001b[32;1m\u001b[1;3m[chain/start]\u001b[0m \u001b[1m[1:chain:AgentExecutor] Entering Chain run with input:\n",
            "\u001b[0m{\n",
            "  \"input\": \"Sort these customers by last name and then first name and print the output: [['Harrison', 'Chase'], ['Lang', 'Chain'], ['Dolly', 'Too'], ['Elle', 'Elem'], ['Geoff', 'Fusion'], ['Trance', 'Former'], ['Jen', 'Ayai']]\"\n",
            "}\n",
            "\u001b[32;1m\u001b[1;3m[chain/start]\u001b[0m \u001b[1m[1:chain:AgentExecutor > 2:chain:LLMChain] Entering Chain run with input:\n",
            "\u001b[0m{\n",
            "  \"input\": \"Sort these customers by last name and then first name and print the output: [['Harrison', 'Chase'], ['Lang', 'Chain'], ['Dolly', 'Too'], ['Elle', 'Elem'], ['Geoff', 'Fusion'], ['Trance', 'Former'], ['Jen', 'Ayai']]\",\n",
            "  \"agent_scratchpad\": \"\",\n",
            "  \"stop\": [\n",
            "    \"\\nObservation:\",\n",
            "    \"\\n\\tObservation:\"\n",
            "  ]\n",
            "}\n",
            "\u001b[32;1m\u001b[1;3m[llm/start]\u001b[0m \u001b[1m[1:chain:AgentExecutor > 2:chain:LLMChain > 3:llm:ChatOpenAI] Entering LLM run with input:\n",
            "\u001b[0m{\n",
            "  \"prompts\": [\n",
            "    \"Human: You are an agent designed to write and execute python code to answer questions.\\nYou have access to a python REPL, which you can use to execute python code.\\nIf you get an error, debug your code and try again.\\nOnly use the output of your code to answer the question. \\nYou might know the answer without running any code, but you should still run the code to get the answer.\\nIf it does not seem like you can write code to answer the question, just return \\\"I don't know\\\" as the answer.\\n\\n\\nPython REPL: A Python shell. Use this to execute python commands. Input should be a valid python command. If you want to see the output of a value, you should print it out with `print(...)`.\\n\\nUse the following format:\\n\\nQuestion: the input question you must answer\\nThought: you should always think about what to do\\nAction: the action to take, should be one of [Python REPL]\\nAction Input: the input to the action\\nObservation: the result of the action\\n... (this Thought/Action/Action Input/Observation can repeat N times)\\nThought: I now know the final answer\\nFinal Answer: the final answer to the original input question\\n\\nBegin!\\n\\nQuestion: Sort these customers by last name and then first name and print the output: [['Harrison', 'Chase'], ['Lang', 'Chain'], ['Dolly', 'Too'], ['Elle', 'Elem'], ['Geoff', 'Fusion'], ['Trance', 'Former'], ['Jen', 'Ayai']]\\nThought:\"\n",
            "  ]\n",
            "}\n",
            "\u001b[36;1m\u001b[1;3m[llm/end]\u001b[0m \u001b[1m[1:chain:AgentExecutor > 2:chain:LLMChain > 3:llm:ChatOpenAI] [1.37s] Exiting LLM run with output:\n",
            "\u001b[0m{\n",
            "  \"generations\": [\n",
            "    [\n",
            "      {\n",
            "        \"text\": \"I can use the sorted() function to sort the list of customers by last name and then first name. I will need to provide a key function to sorted() that returns a tuple of the last name and first name in that order.\\nAction: Python REPL\\nAction Input:\\n```\\ncustomers = [['Harrison', 'Chase'], ['Lang', 'Chain'], ['Dolly', 'Too'], ['Elle', 'Elem'], ['Geoff', 'Fusion'], ['Trance', 'Former'], ['Jen', 'Ayai']]\\nsorted_customers = sorted(customers, key=lambda x: (x[1], x[0]))\\nfor customer in sorted_customers:\\n    print(customer)\\n```\",\n",
            "        \"generation_info\": null,\n",
            "        \"message\": {\n",
            "          \"content\": \"I can use the sorted() function to sort the list of customers by last name and then first name. I will need to provide a key function to sorted() that returns a tuple of the last name and first name in that order.\\nAction: Python REPL\\nAction Input:\\n```\\ncustomers = [['Harrison', 'Chase'], ['Lang', 'Chain'], ['Dolly', 'Too'], ['Elle', 'Elem'], ['Geoff', 'Fusion'], ['Trance', 'Former'], ['Jen', 'Ayai']]\\nsorted_customers = sorted(customers, key=lambda x: (x[1], x[0]))\\nfor customer in sorted_customers:\\n    print(customer)\\n```\",\n",
            "          \"additional_kwargs\": {},\n",
            "          \"example\": false\n",
            "        }\n",
            "      }\n",
            "    ]\n",
            "  ],\n",
            "  \"llm_output\": {\n",
            "    \"token_usage\": {\n",
            "      \"prompt_tokens\": 327,\n",
            "      \"completion_tokens\": 144,\n",
            "      \"total_tokens\": 471\n",
            "    },\n",
            "    \"model_name\": \"gpt-3.5-turbo-0301\"\n",
            "  }\n",
            "}\n",
            "\u001b[36;1m\u001b[1;3m[chain/end]\u001b[0m \u001b[1m[1:chain:AgentExecutor > 2:chain:LLMChain] [1.37s] Exiting Chain run with output:\n",
            "\u001b[0m{\n",
            "  \"text\": \"I can use the sorted() function to sort the list of customers by last name and then first name. I will need to provide a key function to sorted() that returns a tuple of the last name and first name in that order.\\nAction: Python REPL\\nAction Input:\\n```\\ncustomers = [['Harrison', 'Chase'], ['Lang', 'Chain'], ['Dolly', 'Too'], ['Elle', 'Elem'], ['Geoff', 'Fusion'], ['Trance', 'Former'], ['Jen', 'Ayai']]\\nsorted_customers = sorted(customers, key=lambda x: (x[1], x[0]))\\nfor customer in sorted_customers:\\n    print(customer)\\n```\"\n",
            "}\n",
            "\u001b[32;1m\u001b[1;3m[tool/start]\u001b[0m \u001b[1m[1:chain:AgentExecutor > 4:tool:Python REPL] Entering Tool run with input:\n",
            "\u001b[0m\"```\n",
            "customers = [['Harrison', 'Chase'], ['Lang', 'Chain'], ['Dolly', 'Too'], ['Elle', 'Elem'], ['Geoff', 'Fusion'], ['Trance', 'Former'], ['Jen', 'Ayai']]\n",
            "sorted_customers = sorted(customers, key=lambda x: (x[1], x[0]))\n",
            "for customer in sorted_customers:\n",
            "    print(customer)\n",
            "```\"\n",
            "\u001b[36;1m\u001b[1;3m[tool/end]\u001b[0m \u001b[1m[1:chain:AgentExecutor > 4:tool:Python REPL] [0.44ms] Exiting Tool run with output:\n",
            "\u001b[0m\"['Jen', 'Ayai']\n",
            "['Lang', 'Chain']\n",
            "['Harrison', 'Chase']\n",
            "['Elle', 'Elem']\n",
            "['Trance', 'Former']\n",
            "['Geoff', 'Fusion']\n",
            "['Dolly', 'Too']\"\n",
            "\u001b[32;1m\u001b[1;3m[chain/start]\u001b[0m \u001b[1m[1:chain:AgentExecutor > 5:chain:LLMChain] Entering Chain run with input:\n",
            "\u001b[0m{\n",
            "  \"input\": \"Sort these customers by last name and then first name and print the output: [['Harrison', 'Chase'], ['Lang', 'Chain'], ['Dolly', 'Too'], ['Elle', 'Elem'], ['Geoff', 'Fusion'], ['Trance', 'Former'], ['Jen', 'Ayai']]\",\n",
            "  \"agent_scratchpad\": \"I can use the sorted() function to sort the list of customers by last name and then first name. I will need to provide a key function to sorted() that returns a tuple of the last name and first name in that order.\\nAction: Python REPL\\nAction Input:\\n```\\ncustomers = [['Harrison', 'Chase'], ['Lang', 'Chain'], ['Dolly', 'Too'], ['Elle', 'Elem'], ['Geoff', 'Fusion'], ['Trance', 'Former'], ['Jen', 'Ayai']]\\nsorted_customers = sorted(customers, key=lambda x: (x[1], x[0]))\\nfor customer in sorted_customers:\\n    print(customer)\\n```\\nObservation: ['Jen', 'Ayai']\\n['Lang', 'Chain']\\n['Harrison', 'Chase']\\n['Elle', 'Elem']\\n['Trance', 'Former']\\n['Geoff', 'Fusion']\\n['Dolly', 'Too']\\n\\nThought:\",\n",
            "  \"stop\": [\n",
            "    \"\\nObservation:\",\n",
            "    \"\\n\\tObservation:\"\n",
            "  ]\n",
            "}\n",
            "\u001b[32;1m\u001b[1;3m[llm/start]\u001b[0m \u001b[1m[1:chain:AgentExecutor > 5:chain:LLMChain > 6:llm:ChatOpenAI] Entering LLM run with input:\n",
            "\u001b[0m{\n",
            "  \"prompts\": [\n",
            "    \"Human: You are an agent designed to write and execute python code to answer questions.\\nYou have access to a python REPL, which you can use to execute python code.\\nIf you get an error, debug your code and try again.\\nOnly use the output of your code to answer the question. \\nYou might know the answer without running any code, but you should still run the code to get the answer.\\nIf it does not seem like you can write code to answer the question, just return \\\"I don't know\\\" as the answer.\\n\\n\\nPython REPL: A Python shell. Use this to execute python commands. Input should be a valid python command. If you want to see the output of a value, you should print it out with `print(...)`.\\n\\nUse the following format:\\n\\nQuestion: the input question you must answer\\nThought: you should always think about what to do\\nAction: the action to take, should be one of [Python REPL]\\nAction Input: the input to the action\\nObservation: the result of the action\\n... (this Thought/Action/Action Input/Observation can repeat N times)\\nThought: I now know the final answer\\nFinal Answer: the final answer to the original input question\\n\\nBegin!\\n\\nQuestion: Sort these customers by last name and then first name and print the output: [['Harrison', 'Chase'], ['Lang', 'Chain'], ['Dolly', 'Too'], ['Elle', 'Elem'], ['Geoff', 'Fusion'], ['Trance', 'Former'], ['Jen', 'Ayai']]\\nThought:I can use the sorted() function to sort the list of customers by last name and then first name. I will need to provide a key function to sorted() that returns a tuple of the last name and first name in that order.\\nAction: Python REPL\\nAction Input:\\n```\\ncustomers = [['Harrison', 'Chase'], ['Lang', 'Chain'], ['Dolly', 'Too'], ['Elle', 'Elem'], ['Geoff', 'Fusion'], ['Trance', 'Former'], ['Jen', 'Ayai']]\\nsorted_customers = sorted(customers, key=lambda x: (x[1], x[0]))\\nfor customer in sorted_customers:\\n    print(customer)\\n```\\nObservation: ['Jen', 'Ayai']\\n['Lang', 'Chain']\\n['Harrison', 'Chase']\\n['Elle', 'Elem']\\n['Trance', 'Former']\\n['Geoff', 'Fusion']\\n['Dolly', 'Too']\\n\\nThought:\"\n",
            "  ]\n",
            "}\n",
            "\u001b[36;1m\u001b[1;3m[llm/end]\u001b[0m \u001b[1m[1:chain:AgentExecutor > 5:chain:LLMChain > 6:llm:ChatOpenAI] [739.626ms] Exiting LLM run with output:\n",
            "\u001b[0m{\n",
            "  \"generations\": [\n",
            "    [\n",
            "      {\n",
            "        \"text\": \"The customers have been sorted by last name and then first name, and the output has been printed. \\nFinal Answer: [['Jen', 'Ayai'], ['Lang', 'Chain'], ['Harrison', 'Chase'], ['Elle', 'Elem'], ['Trance', 'Former'], ['Geoff', 'Fusion'], ['Dolly', 'Too']]\",\n",
            "        \"generation_info\": null,\n",
            "        \"message\": {\n",
            "          \"content\": \"The customers have been sorted by last name and then first name, and the output has been printed. \\nFinal Answer: [['Jen', 'Ayai'], ['Lang', 'Chain'], ['Harrison', 'Chase'], ['Elle', 'Elem'], ['Trance', 'Former'], ['Geoff', 'Fusion'], ['Dolly', 'Too']]\",\n",
            "          \"additional_kwargs\": {},\n",
            "          \"example\": false\n",
            "        }\n",
            "      }\n",
            "    ]\n",
            "  ],\n",
            "  \"llm_output\": {\n",
            "    \"token_usage\": {\n",
            "      \"prompt_tokens\": 526,\n",
            "      \"completion_tokens\": 75,\n",
            "      \"total_tokens\": 601\n",
            "    },\n",
            "    \"model_name\": \"gpt-3.5-turbo-0301\"\n",
            "  }\n",
            "}\n",
            "\u001b[36;1m\u001b[1;3m[chain/end]\u001b[0m \u001b[1m[1:chain:AgentExecutor > 5:chain:LLMChain] [740.302ms] Exiting Chain run with output:\n",
            "\u001b[0m{\n",
            "  \"text\": \"The customers have been sorted by last name and then first name, and the output has been printed. \\nFinal Answer: [['Jen', 'Ayai'], ['Lang', 'Chain'], ['Harrison', 'Chase'], ['Elle', 'Elem'], ['Trance', 'Former'], ['Geoff', 'Fusion'], ['Dolly', 'Too']]\"\n",
            "}\n",
            "\u001b[36;1m\u001b[1;3m[chain/end]\u001b[0m \u001b[1m[1:chain:AgentExecutor] [2.11s] Exiting Chain run with output:\n",
            "\u001b[0m{\n",
            "  \"output\": \"[['Jen', 'Ayai'], ['Lang', 'Chain'], ['Harrison', 'Chase'], ['Elle', 'Elem'], ['Trance', 'Former'], ['Geoff', 'Fusion'], ['Dolly', 'Too']]\"\n",
            "}\n"
          ]
        }
      ],
      "source": [
        "import langchain\n",
        "langchain.debug=True\n",
        "agent.run(f\"\"\"Sort these customers by \\\n",
        "last name and then first name \\\n",
        "and print the output: {customer_list}\"\"\")\n",
        "langchain.debug=False"
      ]
    },
    {
      "cell_type": "markdown",
      "id": "2d2a4685",
      "metadata": {
        "id": "2d2a4685"
      },
      "source": [
        "## Define your own tool"
      ]
    },
    {
      "cell_type": "code",
      "execution_count": 19,
      "id": "70b32cfe",
      "metadata": {
        "height": 29,
        "tags": [],
        "colab": {
          "base_uri": "https://localhost:8080/"
        },
        "id": "70b32cfe",
        "outputId": "3fa0a3ae-cf7c-4c37-d1fb-9dc336d3f380"
      },
      "outputs": [
        {
          "output_type": "stream",
          "name": "stdout",
          "text": [
            "Collecting DateTime\n",
            "  Downloading DateTime-5.4-py3-none-any.whl (52 kB)\n",
            "\u001b[2K     \u001b[90m━━━━━━━━━━━━━━━━━━━━━━━━━━━━━━━━━━━━━━━━\u001b[0m \u001b[32m52.5/52.5 kB\u001b[0m \u001b[31m974.0 kB/s\u001b[0m eta \u001b[36m0:00:00\u001b[0m\n",
            "\u001b[?25hCollecting zope.interface (from DateTime)\n",
            "  Downloading zope.interface-6.2-cp310-cp310-manylinux_2_5_x86_64.manylinux1_x86_64.manylinux_2_17_x86_64.manylinux2014_x86_64.whl (247 kB)\n",
            "\u001b[2K     \u001b[90m━━━━━━━━━━━━━━━━━━━━━━━━━━━━━━━━━━━━━━━━\u001b[0m \u001b[32m247.3/247.3 kB\u001b[0m \u001b[31m3.9 MB/s\u001b[0m eta \u001b[36m0:00:00\u001b[0m\n",
            "\u001b[?25hRequirement already satisfied: pytz in /usr/local/lib/python3.10/dist-packages (from DateTime) (2023.4)\n",
            "Requirement already satisfied: setuptools in /usr/local/lib/python3.10/dist-packages (from zope.interface->DateTime) (67.7.2)\n",
            "Installing collected packages: zope.interface, DateTime\n",
            "Successfully installed DateTime-5.4 zope.interface-6.2\n"
          ]
        }
      ],
      "source": [
        "!pip install DateTime"
      ]
    },
    {
      "cell_type": "code",
      "execution_count": 20,
      "id": "73f8b595",
      "metadata": {
        "height": 46,
        "tags": [],
        "id": "73f8b595"
      },
      "outputs": [],
      "source": [
        "from langchain.agents import tool\n",
        "from datetime import date"
      ]
    },
    {
      "cell_type": "code",
      "execution_count": 21,
      "id": "61c64268",
      "metadata": {
        "height": 182,
        "tags": [],
        "id": "61c64268"
      },
      "outputs": [],
      "source": [
        "@tool\n",
        "def time(text: str) -> str:\n",
        "    \"\"\"Returns todays date, use this for any \\\n",
        "    questions related to knowing todays date. \\\n",
        "    The input should always be an empty string, \\\n",
        "    and this function will always return todays \\\n",
        "    date - any date mathmatics should occur \\\n",
        "    outside this function.\"\"\"\n",
        "    return str(date.today())"
      ]
    },
    {
      "cell_type": "code",
      "execution_count": 22,
      "id": "0d2fd9ee",
      "metadata": {
        "height": 131,
        "tags": [],
        "id": "0d2fd9ee"
      },
      "outputs": [],
      "source": [
        "agent= initialize_agent(\n",
        "    tools + [time],\n",
        "    llm,\n",
        "    agent=AgentType.CHAT_ZERO_SHOT_REACT_DESCRIPTION,\n",
        "    handle_parsing_errors=True,\n",
        "    verbose = True)"
      ]
    },
    {
      "cell_type": "markdown",
      "id": "f9f30e7c-77f1-43fc-a966-140f05160378",
      "metadata": {
        "id": "f9f30e7c-77f1-43fc-a966-140f05160378"
      },
      "source": [
        "**Note**:\n",
        "\n",
        "The agent will sometimes come to the wrong conclusion (agents are a work in progress!).\n",
        "\n",
        "If it does, please try running it again."
      ]
    },
    {
      "cell_type": "code",
      "execution_count": 23,
      "id": "1fcd13cb",
      "metadata": {
        "height": 80,
        "tags": [],
        "colab": {
          "base_uri": "https://localhost:8080/"
        },
        "id": "1fcd13cb",
        "outputId": "321d44e4-42fc-4574-9841-c18bff6efc91"
      },
      "outputs": [
        {
          "output_type": "stream",
          "name": "stdout",
          "text": [
            "\n",
            "\n",
            "\u001b[1m> Entering new AgentExecutor chain...\u001b[0m\n",
            "\u001b[32;1m\u001b[1;3mThought: I need to use the `time` tool to get today's date.\n",
            "Action:\n",
            "```\n",
            "{\n",
            "  \"action\": \"time\",\n",
            "  \"action_input\": \"\"\n",
            "}\n",
            "```\n",
            "\u001b[0m\n",
            "Observation: \u001b[38;5;200m\u001b[1;3m2024-02-18\u001b[0m\n",
            "Thought:\u001b[32;1m\u001b[1;3mI have successfully retrieved today's date using the `time` tool.\n",
            "Final Answer: Today's date is 2024-02-18.\u001b[0m\n",
            "\n",
            "\u001b[1m> Finished chain.\u001b[0m\n"
          ]
        }
      ],
      "source": [
        "try:\n",
        "    result = agent(\"whats the date today?\")\n",
        "except:\n",
        "    print(\"exception on external access\")"
      ]
    },
    {
      "cell_type": "markdown",
      "id": "fe0d694e-d6ca-49db-8ea7-a48339af1542",
      "metadata": {
        "id": "fe0d694e-d6ca-49db-8ea7-a48339af1542"
      },
      "source": [
        "Reminder: Download your notebook to you local computer to save your work."
      ]
    }
  ],
  "metadata": {
    "kernelspec": {
      "display_name": "Python 3",
      "name": "python3"
    },
    "language_info": {
      "codemirror_mode": {
        "name": "ipython",
        "version": 3
      },
      "file_extension": ".py",
      "mimetype": "text/x-python",
      "name": "python",
      "nbconvert_exporter": "python",
      "pygments_lexer": "ipython3",
      "version": "3.9.17"
    },
    "colab": {
      "provenance": [],
      "gpuType": "T4",
      "include_colab_link": true
    },
    "accelerator": "GPU"
  },
  "nbformat": 4,
  "nbformat_minor": 5
}