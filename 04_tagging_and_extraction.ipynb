{
  "cells": [
    {
      "cell_type": "markdown",
      "metadata": {
        "id": "view-in-github",
        "colab_type": "text"
      },
      "source": [
        "<a href=\"https://colab.research.google.com/github/JSJeong-me/GPT_Ochestration/blob/main/04_tagging_and_extraction.ipynb\" target=\"_parent\"><img src=\"https://colab.research.google.com/assets/colab-badge.svg\" alt=\"Open In Colab\"/></a>"
      ]
    },
    {
      "cell_type": "markdown",
      "id": "16de7336",
      "metadata": {
        "id": "16de7336"
      },
      "source": [
        "# Tagging and Extraction Using OpenAI functions"
      ]
    },
    {
      "cell_type": "code",
      "source": [
        "!pip install langchain\n",
        "!pip install python-dotenv\n",
        "!pip install openai==0.28"
      ],
      "metadata": {
        "id": "IoYVJmkx74cO"
      },
      "id": "IoYVJmkx74cO",
      "execution_count": null,
      "outputs": []
    },
    {
      "cell_type": "code",
      "source": [
        "!echo \"OPENAI_API_KEY=sk-\" >> .env\n",
        "!source /content/.env"
      ],
      "metadata": {
        "id": "3OAH9k6w77OA"
      },
      "id": "3OAH9k6w77OA",
      "execution_count": 3,
      "outputs": []
    },
    {
      "cell_type": "code",
      "execution_count": 4,
      "id": "cb41f5f4-df8d-4d04-9eaa-193b8c29b00b",
      "metadata": {
        "tags": [],
        "id": "cb41f5f4-df8d-4d04-9eaa-193b8c29b00b"
      },
      "outputs": [],
      "source": [
        "import os\n",
        "import openai\n",
        "\n",
        "from dotenv import load_dotenv, find_dotenv\n",
        "_ = load_dotenv(find_dotenv()) # read local .env file\n",
        "openai.api_key = os.environ['OPENAI_API_KEY']"
      ]
    },
    {
      "cell_type": "code",
      "execution_count": 5,
      "id": "bfb2ede9-b0b4-4c8c-b00f-9a9911f38614",
      "metadata": {
        "id": "bfb2ede9-b0b4-4c8c-b00f-9a9911f38614"
      },
      "outputs": [],
      "source": [
        "from typing import List\n",
        "from pydantic import BaseModel, Field\n",
        "from langchain.utils.openai_functions import convert_pydantic_to_openai_function"
      ]
    },
    {
      "cell_type": "code",
      "execution_count": 6,
      "id": "b3ae5481-4155-4831-a5dd-4c183b3b4990",
      "metadata": {
        "id": "b3ae5481-4155-4831-a5dd-4c183b3b4990"
      },
      "outputs": [],
      "source": [
        "class Tagging(BaseModel):\n",
        "    \"\"\"Tag the piece of text with particular info.\"\"\"\n",
        "    sentiment: str = Field(description=\"sentiment of text, should be `pos`, `neg`, or `neutral`\")\n",
        "    language: str = Field(description=\"language of text (should be ISO 639-1 code)\")"
      ]
    },
    {
      "cell_type": "code",
      "execution_count": 7,
      "id": "3cd656b2-62be-49d4-a277-b920c67203c1",
      "metadata": {
        "colab": {
          "base_uri": "https://localhost:8080/"
        },
        "id": "3cd656b2-62be-49d4-a277-b920c67203c1",
        "outputId": "852d0e67-cde2-49b9-be4e-5f629717f4b4"
      },
      "outputs": [
        {
          "output_type": "stream",
          "name": "stderr",
          "text": [
            "/usr/local/lib/python3.10/dist-packages/langchain_core/_api/deprecation.py:117: LangChainDeprecationWarning: The function `convert_pydantic_to_openai_function` was deprecated in LangChain 0.1.16 and will be removed in 0.2.0. Use langchain_core.utils.function_calling.convert_to_openai_function() instead.\n",
            "  warn_deprecated(\n"
          ]
        },
        {
          "output_type": "execute_result",
          "data": {
            "text/plain": [
              "{'name': 'Tagging',\n",
              " 'description': 'Tag the piece of text with particular info.',\n",
              " 'parameters': {'properties': {'sentiment': {'description': 'sentiment of text, should be `pos`, `neg`, or `neutral`',\n",
              "    'type': 'string'},\n",
              "   'language': {'description': 'language of text (should be ISO 639-1 code)',\n",
              "    'type': 'string'}},\n",
              "  'required': ['sentiment', 'language'],\n",
              "  'type': 'object'}}"
            ]
          },
          "metadata": {},
          "execution_count": 7
        }
      ],
      "source": [
        "convert_pydantic_to_openai_function(Tagging)"
      ]
    },
    {
      "cell_type": "code",
      "execution_count": 8,
      "id": "ed8b15a7-450c-43d6-af44-ca63800a4619",
      "metadata": {
        "id": "ed8b15a7-450c-43d6-af44-ca63800a4619"
      },
      "outputs": [],
      "source": [
        "from langchain.prompts import ChatPromptTemplate\n",
        "from langchain.chat_models import ChatOpenAI"
      ]
    },
    {
      "cell_type": "code",
      "execution_count": 11,
      "id": "2cc5bac3-3783-4ce7-9de6-83c905fba7c5",
      "metadata": {
        "id": "2cc5bac3-3783-4ce7-9de6-83c905fba7c5"
      },
      "outputs": [],
      "source": [
        "model = ChatOpenAI(temperature=0)"
      ]
    },
    {
      "cell_type": "code",
      "execution_count": 12,
      "id": "798ac5b3-7e47-4cfb-8173-63900cf1e7f6",
      "metadata": {
        "id": "798ac5b3-7e47-4cfb-8173-63900cf1e7f6"
      },
      "outputs": [],
      "source": [
        "tagging_functions = [convert_pydantic_to_openai_function(Tagging)]"
      ]
    },
    {
      "cell_type": "code",
      "execution_count": 13,
      "id": "9d558031-18cf-4791-b061-8911ce314605",
      "metadata": {
        "id": "9d558031-18cf-4791-b061-8911ce314605"
      },
      "outputs": [],
      "source": [
        "prompt = ChatPromptTemplate.from_messages([\n",
        "    (\"system\", \"Think carefully, and then tag the text as instructed\"),\n",
        "    (\"user\", \"{input}\")\n",
        "])"
      ]
    },
    {
      "cell_type": "code",
      "execution_count": 14,
      "id": "00607aff-a64e-42b7-8cf4-893e8393dd33",
      "metadata": {
        "id": "00607aff-a64e-42b7-8cf4-893e8393dd33"
      },
      "outputs": [],
      "source": [
        "model_with_functions = model.bind(\n",
        "    functions=tagging_functions,\n",
        "    function_call={\"name\": \"Tagging\"}\n",
        ")"
      ]
    },
    {
      "cell_type": "code",
      "execution_count": 15,
      "id": "1d0bc519-2b8e-40d0-88ec-fc5ef0291f16",
      "metadata": {
        "id": "1d0bc519-2b8e-40d0-88ec-fc5ef0291f16"
      },
      "outputs": [],
      "source": [
        "tagging_chain = prompt | model_with_functions"
      ]
    },
    {
      "cell_type": "code",
      "execution_count": 16,
      "id": "8688fdba-0996-446c-a77b-318094944998",
      "metadata": {
        "colab": {
          "base_uri": "https://localhost:8080/"
        },
        "id": "8688fdba-0996-446c-a77b-318094944998",
        "outputId": "aa2af0c4-b1ca-42ef-b261-99c5a549741e"
      },
      "outputs": [
        {
          "output_type": "execute_result",
          "data": {
            "text/plain": [
              "AIMessage(content='', additional_kwargs={'function_call': {'name': 'Tagging', 'arguments': '{\"sentiment\":\"pos\",\"language\":\"en\"}'}})"
            ]
          },
          "metadata": {},
          "execution_count": 16
        }
      ],
      "source": [
        "tagging_chain.invoke({\"input\": \"I love langchain\"})"
      ]
    },
    {
      "cell_type": "code",
      "execution_count": 17,
      "id": "7df9aac5-7194-4a12-bda7-e7e83e705929",
      "metadata": {
        "colab": {
          "base_uri": "https://localhost:8080/"
        },
        "id": "7df9aac5-7194-4a12-bda7-e7e83e705929",
        "outputId": "02b5700b-30b6-4e20-a578-bfe120262c92"
      },
      "outputs": [
        {
          "output_type": "execute_result",
          "data": {
            "text/plain": [
              "AIMessage(content='', additional_kwargs={'function_call': {'name': 'Tagging', 'arguments': '{\"sentiment\":\"neg\",\"language\":\"it\"}'}})"
            ]
          },
          "metadata": {},
          "execution_count": 17
        }
      ],
      "source": [
        "tagging_chain.invoke({\"input\": \"non mi piace questo cibo\"})"
      ]
    },
    {
      "cell_type": "code",
      "execution_count": 18,
      "id": "0749e408-3878-4ddd-ad33-8d5b8418a3f2",
      "metadata": {
        "id": "0749e408-3878-4ddd-ad33-8d5b8418a3f2"
      },
      "outputs": [],
      "source": [
        "from langchain.output_parsers.openai_functions import JsonOutputFunctionsParser"
      ]
    },
    {
      "cell_type": "code",
      "execution_count": 19,
      "id": "dc45243e-7225-427d-b679-d737ebaec780",
      "metadata": {
        "id": "dc45243e-7225-427d-b679-d737ebaec780"
      },
      "outputs": [],
      "source": [
        "tagging_chain = prompt | model_with_functions | JsonOutputFunctionsParser()"
      ]
    },
    {
      "cell_type": "code",
      "execution_count": 20,
      "id": "7ba84e64-518c-40e1-a7c9-d174314bc3fb",
      "metadata": {
        "colab": {
          "base_uri": "https://localhost:8080/"
        },
        "id": "7ba84e64-518c-40e1-a7c9-d174314bc3fb",
        "outputId": "a7f6ac95-1d7b-4a74-be4f-6b6dd429d1e7"
      },
      "outputs": [
        {
          "output_type": "execute_result",
          "data": {
            "text/plain": [
              "{'sentiment': 'neg', 'language': 'it'}"
            ]
          },
          "metadata": {},
          "execution_count": 20
        }
      ],
      "source": [
        "tagging_chain.invoke({\"input\": \"non mi piace questo cibo\"})"
      ]
    },
    {
      "cell_type": "markdown",
      "id": "92e417b4-9306-413f-865f-e13dbd2d0196",
      "metadata": {
        "id": "92e417b4-9306-413f-865f-e13dbd2d0196"
      },
      "source": [
        "## Extraction\n",
        "\n",
        "Extraction is similar to tagging, but used for extracting multiple pieces of information."
      ]
    },
    {
      "cell_type": "code",
      "execution_count": 21,
      "id": "97338dce-a61a-4f8b-912c-6108dcb86183",
      "metadata": {
        "id": "97338dce-a61a-4f8b-912c-6108dcb86183"
      },
      "outputs": [],
      "source": [
        "from typing import Optional\n",
        "class Person(BaseModel):\n",
        "    \"\"\"Information about a person.\"\"\"\n",
        "    name: str = Field(description=\"person's name\")\n",
        "    age: Optional[int] = Field(description=\"person's age\")"
      ]
    },
    {
      "cell_type": "code",
      "execution_count": 22,
      "id": "f558fb45-f3a5-47be-8778-dddec2d00ba1",
      "metadata": {
        "id": "f558fb45-f3a5-47be-8778-dddec2d00ba1"
      },
      "outputs": [],
      "source": [
        "class Information(BaseModel):\n",
        "    \"\"\"Information to extract.\"\"\"\n",
        "    people: List[Person] = Field(description=\"List of info about people\")"
      ]
    },
    {
      "cell_type": "code",
      "execution_count": 23,
      "id": "5eeb6028-0ade-46f6-a899-ca10f185bb24",
      "metadata": {
        "colab": {
          "base_uri": "https://localhost:8080/"
        },
        "id": "5eeb6028-0ade-46f6-a899-ca10f185bb24",
        "outputId": "c2a60e05-8ba3-475e-afba-4645dc643f09"
      },
      "outputs": [
        {
          "output_type": "execute_result",
          "data": {
            "text/plain": [
              "{'name': 'Information',\n",
              " 'description': 'Information to extract.',\n",
              " 'parameters': {'$defs': {'Person': {'description': 'Information about a person.',\n",
              "    'properties': {'name': {'description': \"person's name\", 'type': 'string'},\n",
              "     'age': {'anyOf': [{'type': 'integer'}, {'type': 'null'}],\n",
              "      'description': \"person's age\"}},\n",
              "    'required': ['name', 'age'],\n",
              "    'type': 'object'}},\n",
              "  'properties': {'people': {'description': 'List of info about people',\n",
              "    'items': {'description': 'Information about a person.',\n",
              "     'properties': {'name': {'description': \"person's name\", 'type': 'string'},\n",
              "      'age': {'anyOf': [{'type': 'integer'}, {'type': 'null'}],\n",
              "       'description': \"person's age\"}},\n",
              "     'required': ['name', 'age'],\n",
              "     'type': 'object'},\n",
              "    'type': 'array'}},\n",
              "  'required': ['people'],\n",
              "  'type': 'object'}}"
            ]
          },
          "metadata": {},
          "execution_count": 23
        }
      ],
      "source": [
        "convert_pydantic_to_openai_function(Information)"
      ]
    },
    {
      "cell_type": "code",
      "execution_count": 24,
      "id": "f16ce50e-bad7-4fbb-b9e2-0adae6fc55f2",
      "metadata": {
        "id": "f16ce50e-bad7-4fbb-b9e2-0adae6fc55f2"
      },
      "outputs": [],
      "source": [
        "extraction_functions = [convert_pydantic_to_openai_function(Information)]\n",
        "extraction_model = model.bind(functions=extraction_functions, function_call={\"name\": \"Information\"})"
      ]
    },
    {
      "cell_type": "code",
      "execution_count": 25,
      "id": "3ed58069-3f7c-433e-93ed-5660d21435c9",
      "metadata": {
        "colab": {
          "base_uri": "https://localhost:8080/"
        },
        "id": "3ed58069-3f7c-433e-93ed-5660d21435c9",
        "outputId": "aea1216e-56cd-4ad8-e098-dbcae61b6326"
      },
      "outputs": [
        {
          "output_type": "execute_result",
          "data": {
            "text/plain": [
              "AIMessage(content='', additional_kwargs={'function_call': {'name': 'Information', 'arguments': '{\"people\":[{\"name\":\"Joe\",\"age\":30},{\"name\":\"Martha\",\"age\":null}]}'}})"
            ]
          },
          "metadata": {},
          "execution_count": 25
        }
      ],
      "source": [
        "extraction_model.invoke(\"Joe is 30, his mom is Martha\")"
      ]
    },
    {
      "cell_type": "code",
      "execution_count": 26,
      "id": "172df097-250a-4813-b76d-21436c13056d",
      "metadata": {
        "id": "172df097-250a-4813-b76d-21436c13056d"
      },
      "outputs": [],
      "source": [
        "prompt = ChatPromptTemplate.from_messages([\n",
        "    (\"system\", \"Extract the relevant information, if not explicitly provided do not guess. Extract partial info\"),\n",
        "    (\"human\", \"{input}\")\n",
        "])"
      ]
    },
    {
      "cell_type": "code",
      "execution_count": 27,
      "id": "dfec48d7-25a2-46d7-a7a2-33284b577dd3",
      "metadata": {
        "id": "dfec48d7-25a2-46d7-a7a2-33284b577dd3"
      },
      "outputs": [],
      "source": [
        "extraction_chain = prompt | extraction_model"
      ]
    },
    {
      "cell_type": "code",
      "execution_count": 28,
      "id": "f19622af-4b01-4145-ae5a-af15b551a182",
      "metadata": {
        "colab": {
          "base_uri": "https://localhost:8080/"
        },
        "id": "f19622af-4b01-4145-ae5a-af15b551a182",
        "outputId": "a3128cab-8e4c-4eeb-9f82-912440c15abd"
      },
      "outputs": [
        {
          "output_type": "execute_result",
          "data": {
            "text/plain": [
              "AIMessage(content='', additional_kwargs={'function_call': {'name': 'Information', 'arguments': '{\"people\":[{\"name\":\"Joe\",\"age\":30},{\"name\":\"Martha\",\"age\":null}]}'}})"
            ]
          },
          "metadata": {},
          "execution_count": 28
        }
      ],
      "source": [
        "extraction_chain.invoke({\"input\": \"Joe is 30, his mom is Martha\"})"
      ]
    },
    {
      "cell_type": "code",
      "execution_count": 29,
      "id": "38989431-9a61-461e-a86f-61a7dddab63c",
      "metadata": {
        "id": "38989431-9a61-461e-a86f-61a7dddab63c"
      },
      "outputs": [],
      "source": [
        "extraction_chain = prompt | extraction_model | JsonOutputFunctionsParser()"
      ]
    },
    {
      "cell_type": "code",
      "execution_count": 30,
      "id": "13ac89c9-1e8d-4e11-8bca-909a6c34d23c",
      "metadata": {
        "colab": {
          "base_uri": "https://localhost:8080/"
        },
        "id": "13ac89c9-1e8d-4e11-8bca-909a6c34d23c",
        "outputId": "7790738f-296f-4db8-f054-e92efb93d55a"
      },
      "outputs": [
        {
          "output_type": "execute_result",
          "data": {
            "text/plain": [
              "{'people': [{'name': 'Joe', 'age': 30}, {'name': 'Martha', 'age': None}]}"
            ]
          },
          "metadata": {},
          "execution_count": 30
        }
      ],
      "source": [
        "extraction_chain.invoke({\"input\": \"Joe is 30, his mom is Martha\"})"
      ]
    },
    {
      "cell_type": "code",
      "execution_count": 31,
      "id": "f8db4b39-c28b-4c0e-8b9a-55ceb8ba817e",
      "metadata": {
        "id": "f8db4b39-c28b-4c0e-8b9a-55ceb8ba817e"
      },
      "outputs": [],
      "source": [
        "from langchain.output_parsers.openai_functions import JsonKeyOutputFunctionsParser"
      ]
    },
    {
      "cell_type": "code",
      "execution_count": 32,
      "id": "2901d3ac-4dfc-4fb9-afd3-ab056489d3ae",
      "metadata": {
        "id": "2901d3ac-4dfc-4fb9-afd3-ab056489d3ae"
      },
      "outputs": [],
      "source": [
        "extraction_chain = prompt | extraction_model | JsonKeyOutputFunctionsParser(key_name=\"people\")"
      ]
    },
    {
      "cell_type": "code",
      "execution_count": 33,
      "id": "c7eff400-9f3a-42a8-ba4a-a3757e7939e2",
      "metadata": {
        "colab": {
          "base_uri": "https://localhost:8080/"
        },
        "id": "c7eff400-9f3a-42a8-ba4a-a3757e7939e2",
        "outputId": "77984a9a-0d4f-4ed9-d96c-ad6834cb7a5d"
      },
      "outputs": [
        {
          "output_type": "execute_result",
          "data": {
            "text/plain": [
              "[{'name': 'Joe', 'age': 30}, {'name': 'Martha', 'age': None}]"
            ]
          },
          "metadata": {},
          "execution_count": 33
        }
      ],
      "source": [
        "extraction_chain.invoke({\"input\": \"Joe is 30, his mom is Martha\"})"
      ]
    },
    {
      "cell_type": "markdown",
      "id": "3b8524f3-a663-4007-ad59-52dfe00343e9",
      "metadata": {
        "id": "3b8524f3-a663-4007-ad59-52dfe00343e9"
      },
      "source": [
        "## Doing it for real\n",
        "\n",
        "We can apply tagging to a larger body of text.\n",
        "\n",
        "For example, let's load this blog post and extract tag information from a sub-set of the text."
      ]
    },
    {
      "cell_type": "code",
      "execution_count": 34,
      "id": "bc7c4a8c-d4c8-4400-b1d3-5c7c0c25786e",
      "metadata": {
        "id": "bc7c4a8c-d4c8-4400-b1d3-5c7c0c25786e"
      },
      "outputs": [],
      "source": [
        "from langchain.document_loaders import WebBaseLoader\n",
        "loader = WebBaseLoader(\"https://lilianweng.github.io/posts/2023-06-23-agent/\")\n",
        "documents = loader.load()"
      ]
    },
    {
      "cell_type": "code",
      "execution_count": 35,
      "id": "dbd2e910-e0e0-447a-8118-6fe792f04e15",
      "metadata": {
        "id": "dbd2e910-e0e0-447a-8118-6fe792f04e15"
      },
      "outputs": [],
      "source": [
        "doc = documents[0]"
      ]
    },
    {
      "cell_type": "code",
      "execution_count": 36,
      "id": "b5e39f78-ff18-4016-a751-7d0e4c82bb36",
      "metadata": {
        "id": "b5e39f78-ff18-4016-a751-7d0e4c82bb36"
      },
      "outputs": [],
      "source": [
        "page_content = doc.page_content[:10000]"
      ]
    },
    {
      "cell_type": "code",
      "execution_count": null,
      "id": "bb8d98ee-e9b2-4ce8-982a-c06dc006da76",
      "metadata": {
        "scrolled": true,
        "id": "bb8d98ee-e9b2-4ce8-982a-c06dc006da76"
      },
      "outputs": [],
      "source": [
        "print(page_content[:1000])"
      ]
    },
    {
      "cell_type": "code",
      "execution_count": 38,
      "id": "9db0d107-5284-4253-b769-dfedb97ce95d",
      "metadata": {
        "id": "9db0d107-5284-4253-b769-dfedb97ce95d"
      },
      "outputs": [],
      "source": [
        "class Overview(BaseModel):\n",
        "    \"\"\"Overview of a section of text.\"\"\"\n",
        "    summary: str = Field(description=\"Provide a concise summary of the content.\")\n",
        "    language: str = Field(description=\"Provide the language that the content is written in.\")\n",
        "    keywords: str = Field(description=\"Provide keywords related to the content.\")"
      ]
    },
    {
      "cell_type": "code",
      "execution_count": 39,
      "id": "6bfe7fe6-a86d-416c-a7f2-373dc70fcba5",
      "metadata": {
        "id": "6bfe7fe6-a86d-416c-a7f2-373dc70fcba5"
      },
      "outputs": [],
      "source": [
        "overview_tagging_function = [\n",
        "    convert_pydantic_to_openai_function(Overview)\n",
        "]\n",
        "tagging_model = model.bind(\n",
        "    functions=overview_tagging_function,\n",
        "    function_call={\"name\":\"Overview\"}\n",
        ")\n",
        "tagging_chain = prompt | tagging_model | JsonOutputFunctionsParser()"
      ]
    },
    {
      "cell_type": "code",
      "execution_count": 40,
      "id": "518f2337-a8eb-4eff-b764-b70e48545d19",
      "metadata": {
        "colab": {
          "base_uri": "https://localhost:8080/"
        },
        "id": "518f2337-a8eb-4eff-b764-b70e48545d19",
        "outputId": "67fcdb30-564d-4da4-f4f1-cd80619e6eb1"
      },
      "outputs": [
        {
          "output_type": "stream",
          "name": "stderr",
          "text": [
            "WARNING:langchain_core.language_models.llms:Retrying langchain_community.chat_models.openai.ChatOpenAI.completion_with_retry.<locals>._completion_with_retry in 4.0 seconds as it raised Timeout: Request timed out: HTTPSConnectionPool(host='api.openai.com', port=443): Read timed out. (read timeout=600).\n"
          ]
        },
        {
          "output_type": "execute_result",
          "data": {
            "text/plain": [
              "{'summary': 'The article discusses building autonomous agents powered by LLM (large language model) with components like planning, memory, and tool use. It also covers techniques like task decomposition, self-reflection, and challenges in agent systems.',\n",
              " 'language': 'English',\n",
              " 'keywords': 'LLM, autonomous agents, planning, memory, tool use, task decomposition, self-reflection, challenges'}"
            ]
          },
          "metadata": {},
          "execution_count": 40
        }
      ],
      "source": [
        "tagging_chain.invoke({\"input\": page_content})"
      ]
    },
    {
      "cell_type": "code",
      "execution_count": 41,
      "id": "5be5d604-3d95-476a-afe4-b46b021534fc",
      "metadata": {
        "id": "5be5d604-3d95-476a-afe4-b46b021534fc"
      },
      "outputs": [],
      "source": [
        "class Paper(BaseModel):\n",
        "    \"\"\"Information about papers mentioned.\"\"\"\n",
        "    title: str\n",
        "    author: Optional[str]\n",
        "\n",
        "\n",
        "class Info(BaseModel):\n",
        "    \"\"\"Information to extract\"\"\"\n",
        "    papers: List[Paper]"
      ]
    },
    {
      "cell_type": "code",
      "execution_count": 42,
      "id": "8e56ca98-d05d-4199-a6ec-fe485b630da6",
      "metadata": {
        "id": "8e56ca98-d05d-4199-a6ec-fe485b630da6"
      },
      "outputs": [],
      "source": [
        "paper_extraction_function = [\n",
        "    convert_pydantic_to_openai_function(Info)\n",
        "]\n",
        "extraction_model = model.bind(\n",
        "    functions=paper_extraction_function,\n",
        "    function_call={\"name\":\"Info\"}\n",
        ")\n",
        "extraction_chain = prompt | extraction_model | JsonKeyOutputFunctionsParser(key_name=\"papers\")"
      ]
    },
    {
      "cell_type": "code",
      "execution_count": 43,
      "id": "f082b7a0-b7ea-488a-923c-aba8e4b185a0",
      "metadata": {
        "colab": {
          "base_uri": "https://localhost:8080/"
        },
        "id": "f082b7a0-b7ea-488a-923c-aba8e4b185a0",
        "outputId": "d38aaff2-2bce-46f4-eef7-0bfd674e15b4"
      },
      "outputs": [
        {
          "output_type": "execute_result",
          "data": {
            "text/plain": [
              "[{'author': 'Lilian Weng'},\n",
              " {'author': 'Wei et al.'},\n",
              " {'author': 'Yao et al.'},\n",
              " {'author': 'Liu et al.'},\n",
              " {'author': 'Shinn & Labash'},\n",
              " {'author': 'Laskin et al.'},\n",
              " {'author': 'Duan et al.'}]"
            ]
          },
          "metadata": {},
          "execution_count": 43
        }
      ],
      "source": [
        "extraction_chain.invoke({\"input\": page_content})"
      ]
    },
    {
      "cell_type": "code",
      "execution_count": 44,
      "id": "2a8dcce7-7032-49a8-893d-1659e2f51f03",
      "metadata": {
        "id": "2a8dcce7-7032-49a8-893d-1659e2f51f03"
      },
      "outputs": [],
      "source": [
        "template = \"\"\"A article will be passed to you. Extract from it all papers that are mentioned by this article.\n",
        "\n",
        "Do not extract the name of the article itself. If no papers are mentioned that's fine - you don't need to extract any! Just return an empty list.\n",
        "\n",
        "Do not make up or guess ANY extra information. Only extract what exactly is in the text.\"\"\"\n",
        "\n",
        "prompt = ChatPromptTemplate.from_messages([\n",
        "    (\"system\", template),\n",
        "    (\"human\", \"{input}\")\n",
        "])"
      ]
    },
    {
      "cell_type": "code",
      "execution_count": 45,
      "id": "a5f4c8cc-d9a4-4556-a89e-94ec981c6f5e",
      "metadata": {
        "id": "a5f4c8cc-d9a4-4556-a89e-94ec981c6f5e"
      },
      "outputs": [],
      "source": [
        "extraction_chain = prompt | extraction_model | JsonKeyOutputFunctionsParser(key_name=\"papers\")"
      ]
    },
    {
      "cell_type": "code",
      "execution_count": 46,
      "id": "b63e00b6-0f06-4e74-948e-04805e66f40c",
      "metadata": {
        "colab": {
          "base_uri": "https://localhost:8080/"
        },
        "id": "b63e00b6-0f06-4e74-948e-04805e66f40c",
        "outputId": "92c8d8c7-a9e7-4d0a-fede-5e1ab7719615"
      },
      "outputs": [
        {
          "output_type": "execute_result",
          "data": {
            "text/plain": [
              "[{'author': 'Wei et al. 2022'},\n",
              " {'author': 'Yao et al. 2023'},\n",
              " {'author': 'Liu et al. 2023'},\n",
              " {'author': 'Shinn & Labash 2023'},\n",
              " {'author': 'Laskin et al. 2023'}]"
            ]
          },
          "metadata": {},
          "execution_count": 46
        }
      ],
      "source": [
        "extraction_chain.invoke({\"input\": page_content})"
      ]
    },
    {
      "cell_type": "code",
      "execution_count": 47,
      "id": "365bfa5b-f0d2-4a19-8db1-1b4a0f51703d",
      "metadata": {
        "colab": {
          "base_uri": "https://localhost:8080/"
        },
        "id": "365bfa5b-f0d2-4a19-8db1-1b4a0f51703d",
        "outputId": "b74f88a3-ff3d-430d-ffd1-a6feed29edb9"
      },
      "outputs": [
        {
          "output_type": "execute_result",
          "data": {
            "text/plain": [
              "[]"
            ]
          },
          "metadata": {},
          "execution_count": 47
        }
      ],
      "source": [
        "extraction_chain.invoke({\"input\": \"hi\"})"
      ]
    },
    {
      "cell_type": "code",
      "execution_count": 48,
      "id": "7a3e18b5-0692-49dc-b589-5d4ae5a43fdd",
      "metadata": {
        "id": "7a3e18b5-0692-49dc-b589-5d4ae5a43fdd"
      },
      "outputs": [],
      "source": [
        "from langchain.text_splitter import RecursiveCharacterTextSplitter\n",
        "text_splitter = RecursiveCharacterTextSplitter(chunk_overlap=0)"
      ]
    },
    {
      "cell_type": "code",
      "execution_count": 49,
      "id": "a851b07c-0f73-4cf1-801f-9832190db93a",
      "metadata": {
        "id": "a851b07c-0f73-4cf1-801f-9832190db93a"
      },
      "outputs": [],
      "source": [
        "splits = text_splitter.split_text(doc.page_content)"
      ]
    },
    {
      "cell_type": "code",
      "execution_count": 50,
      "id": "fbd6fd3c-8fca-4f16-a256-a66577b48eb1",
      "metadata": {
        "colab": {
          "base_uri": "https://localhost:8080/"
        },
        "id": "fbd6fd3c-8fca-4f16-a256-a66577b48eb1",
        "outputId": "a0359a67-5696-4093-db6e-a1fcdaed5d95"
      },
      "outputs": [
        {
          "output_type": "execute_result",
          "data": {
            "text/plain": [
              "14"
            ]
          },
          "metadata": {},
          "execution_count": 50
        }
      ],
      "source": [
        "len(splits)"
      ]
    },
    {
      "cell_type": "code",
      "execution_count": 51,
      "id": "6f1309bf-16a5-43ef-aa8e-427cf5120938",
      "metadata": {
        "id": "6f1309bf-16a5-43ef-aa8e-427cf5120938"
      },
      "outputs": [],
      "source": [
        "def flatten(matrix):\n",
        "    flat_list = []\n",
        "    for row in matrix:\n",
        "        flat_list += row\n",
        "    return flat_list"
      ]
    },
    {
      "cell_type": "code",
      "execution_count": 52,
      "id": "5af35566-8f5f-4e02-86d2-c1a97ca4e573",
      "metadata": {
        "colab": {
          "base_uri": "https://localhost:8080/"
        },
        "id": "5af35566-8f5f-4e02-86d2-c1a97ca4e573",
        "outputId": "19149de0-edfe-4efe-a1b1-42d23456452a"
      },
      "outputs": [
        {
          "output_type": "execute_result",
          "data": {
            "text/plain": [
              "[1, 2, 3, 4]"
            ]
          },
          "metadata": {},
          "execution_count": 52
        }
      ],
      "source": [
        "flatten([[1, 2], [3, 4]])"
      ]
    },
    {
      "cell_type": "code",
      "execution_count": 53,
      "id": "b77be284-fca5-4ab0-ab36-b83b3ab53136",
      "metadata": {
        "scrolled": true,
        "colab": {
          "base_uri": "https://localhost:8080/"
        },
        "id": "b77be284-fca5-4ab0-ab36-b83b3ab53136",
        "outputId": "e64d7c8c-55dc-45ec-d9f1-d0fb4b71c9ec"
      },
      "outputs": [
        {
          "output_type": "stream",
          "name": "stdout",
          "text": [
            "LLM Powered Autonomous Agents | Lil'Log\n",
            "\n",
            "\n",
            "\n",
            "\n",
            "\n",
            "\n",
            "\n",
            "\n",
            "\n",
            "\n",
            "\n",
            "\n",
            "\n",
            "\n",
            "\n",
            "\n",
            "\n",
            "\n",
            "\n",
            "\n",
            "\n",
            "\n",
            "\n",
            "\n",
            "\n",
            "\n",
            "\n",
            "\n",
            "\n",
            "\n",
            "\n",
            "\n",
            "\n",
            "\n",
            "\n",
            "\n",
            "\n",
            "\n",
            "\n",
            "Lil'Log\n",
            "\n",
            "\n",
            "\n",
            "\n",
            "\n",
            "\n",
            "\n",
            "\n",
            "\n",
            "\n",
            "\n",
            "\n",
            "\n",
            "\n",
            "\n",
            "\n",
            "\n",
            "\n",
            "\n",
            "\n",
            "\n",
            "\n",
            "Posts\n",
            "\n",
            "\n",
            "\n",
            "\n",
            "Archive\n",
            "\n",
            "\n",
            "\n",
            "\n",
            "Search\n",
            "\n",
            "\n",
            "\n",
            "\n",
            "Tags\n",
            "\n",
            "\n",
            "\n",
            "\n",
            "FAQ\n",
            "\n",
            "\n",
            "\n",
            "\n",
            "emojisearch.app\n",
            "\n",
            "\n",
            "\n",
            "\n",
            "\n",
            "\n",
            "\n",
            "\n",
            "\n",
            "      LLM Powered Autonomous Agents\n",
            "    \n",
            "Date: June 23, 2023  |  Estimated Reading Time: 31 min  |  Author: Lilian Weng\n",
            "\n",
            "\n",
            " \n",
            "\n",
            "\n",
            "Table of Contents\n",
            "\n",
            "\n",
            "\n",
            "Agent System Overview\n",
            "\n",
            "Component One: Planning\n",
            "\n",
            "Task Decomposition\n",
            "\n",
            "Self-Reflection\n",
            "\n",
            "\n",
            "Component Two: Memory\n",
            "\n",
            "Types of Memory\n",
            "\n",
            "Maximum Inner Product Search (MIPS)\n",
            "\n",
            "\n",
            "Component Three: Tool Use\n",
            "\n",
            "Case Studies\n",
            "\n",
            "Scientific Discovery Agent\n",
            "\n",
            "Generative Agents Simulation\n",
            "\n",
            "Proof-of-Concept Examples\n",
            "\n",
            "\n",
            "Challenges\n",
            "\n",
            "Citation\n",
            "\n",
            "References\n",
            "\n",
            "\n",
            "\n",
            "\n",
            "\n",
            "Building agents with LLM (large language model) as its core controller is a cool concept. Several proof-of-concepts demos, such as AutoGPT, GPT-Engineer and BabyAGI, serve as inspiring examples. The potentiality of LLM extends beyond generating well-written copies, stories, essays and programs; it can be framed as a powerful general problem solver.\n",
            "Agent System Overview#\n",
            "In a LLM-powered autonomous agent system, LLM functions as the agent’s brain, complemented by several key components:\n",
            "\n",
            "Planning\n",
            "\n",
            "Subgoal and decomposition: The agent breaks down large tasks into smaller, manageable subgoals, enabling efficient handling of complex tasks.\n",
            "Reflection and refinement: The agent can do self-criticism and self-reflection over past actions, learn from mistakes and refine them for future steps, thereby improving the quality of final results.\n",
            "\n",
            "\n",
            "Memory\n",
            "\n",
            "Short-term memory: I would consider all the in-context learning (See Prompt Engineering) as utilizing short-term memory of the model to learn.\n",
            "Long-term memory: This provides the agent with the capability to retain and recall (infinite) information over extended periods, often by leveraging an external vector store and fast retrieval.\n",
            "\n",
            "\n",
            "Tool use\n",
            "\n",
            "The agent learns to call external APIs for extra information that is missing from the model weights (often hard to change after pre-training), including current information, code execution capability, access to proprietary information sources and more.\n"
          ]
        }
      ],
      "source": [
        "print(splits[0])"
      ]
    },
    {
      "cell_type": "code",
      "execution_count": 54,
      "id": "67bded5d-de85-488c-bd3f-d83acbcfea33",
      "metadata": {
        "id": "67bded5d-de85-488c-bd3f-d83acbcfea33"
      },
      "outputs": [],
      "source": [
        "from langchain.schema.runnable import RunnableLambda"
      ]
    },
    {
      "cell_type": "code",
      "execution_count": 55,
      "id": "04233d0a-fe44-45ed-9145-af3caaa86863",
      "metadata": {
        "id": "04233d0a-fe44-45ed-9145-af3caaa86863"
      },
      "outputs": [],
      "source": [
        "prep = RunnableLambda(\n",
        "    lambda x: [{\"input\": doc} for doc in text_splitter.split_text(x)]\n",
        ")"
      ]
    },
    {
      "cell_type": "code",
      "execution_count": 56,
      "id": "fa8c2f1e-f3ac-4d9c-8ded-541778a32ef9",
      "metadata": {
        "colab": {
          "base_uri": "https://localhost:8080/"
        },
        "id": "fa8c2f1e-f3ac-4d9c-8ded-541778a32ef9",
        "outputId": "c361b871-2d3b-4b36-ca53-2725cace7e40"
      },
      "outputs": [
        {
          "output_type": "execute_result",
          "data": {
            "text/plain": [
              "[{'input': 'hi'}]"
            ]
          },
          "metadata": {},
          "execution_count": 56
        }
      ],
      "source": [
        "prep.invoke(\"hi\")"
      ]
    },
    {
      "cell_type": "code",
      "execution_count": 57,
      "id": "3f7d0255-4b58-42c9-a747-44768a866633",
      "metadata": {
        "id": "3f7d0255-4b58-42c9-a747-44768a866633"
      },
      "outputs": [],
      "source": [
        "chain = prep | extraction_chain.map() | flatten"
      ]
    },
    {
      "cell_type": "code",
      "execution_count": 58,
      "id": "0dfa1f67-7246-4f4f-8967-4d7266df7b7a",
      "metadata": {
        "colab": {
          "base_uri": "https://localhost:8080/"
        },
        "id": "0dfa1f67-7246-4f4f-8967-4d7266df7b7a",
        "outputId": "af5c7598-49f6-4308-e019-0cae044b1e52"
      },
      "outputs": [
        {
          "output_type": "execute_result",
          "data": {
            "text/plain": [
              "[{'author': 'Lilian Weng'},\n",
              " {'author': 'Wei et al. 2022'},\n",
              " {'author': 'Yao et al. 2023'},\n",
              " {'author': 'Liu et al. 2023'},\n",
              " {'author': 'Yao et al. 2023'},\n",
              " {'author': 'Shinn & Labash 2023'},\n",
              " {'author': 'Shinn & Labash'},\n",
              " {'author': 'Liu et al.'},\n",
              " {'author': 'Laskin et al.'},\n",
              " {'author': 'Laskin et al. 2023'},\n",
              " {'author': 'Miller 1956'},\n",
              " {'author': 'Duan et al. 2017'},\n",
              " {'author': 'Google Blog'},\n",
              " {'author': 'ann-benchmarks.com'},\n",
              " {'author': 'Karpas et al. 2022'},\n",
              " {'author': 'Parisi et al. 2022'},\n",
              " {'author': 'Schick et al. 2023'},\n",
              " {'author': 'Shen et al. 2023'},\n",
              " {'author': 'Li et al. 2023'},\n",
              " {'author': 'Bran et al. 2023'},\n",
              " {'author': 'Boiko et al. (2023)'},\n",
              " {'author': 'Park, et al. (2023)'},\n",
              " {'author': 'Park et al. 2023'},\n",
              " {'author': 'John Doe'},\n",
              " {'author': 'Jane Smith'},\n",
              " {'author': 'John Doe'},\n",
              " {'author': 'Jane Smith'},\n",
              " {'author': None},\n",
              " {'author': None},\n",
              " {'author': 'Wei et al.'},\n",
              " {'author': 'Yao et al.'},\n",
              " {'author': 'Liu et al.'},\n",
              " {'author': 'Liu et al.'},\n",
              " {'author': 'Yao et al.'},\n",
              " {'author': 'Shinn & Labash'},\n",
              " {'author': 'Laskin et al.'},\n",
              " {'author': 'Karpas et al.'},\n",
              " {'author': 'Li et al.'},\n",
              " {'author': 'Shen et al.'},\n",
              " {'author': 'Bran et al.'},\n",
              " {'author': 'Boiko et al.'},\n",
              " {'author': 'Joon Sung Park, et al.'}]"
            ]
          },
          "metadata": {},
          "execution_count": 58
        }
      ],
      "source": [
        "chain.invoke(doc.page_content)"
      ]
    },
    {
      "cell_type": "code",
      "execution_count": null,
      "id": "d2d90c83-cc84-4d44-bfff-35a30fb72f63",
      "metadata": {
        "id": "d2d90c83-cc84-4d44-bfff-35a30fb72f63"
      },
      "outputs": [],
      "source": []
    },
    {
      "cell_type": "code",
      "execution_count": null,
      "id": "b31bb740-2d2a-4fc8-8887-4e9da113e82d",
      "metadata": {
        "id": "b31bb740-2d2a-4fc8-8887-4e9da113e82d"
      },
      "outputs": [],
      "source": []
    },
    {
      "cell_type": "code",
      "execution_count": null,
      "id": "5409db4a-a52b-4943-944e-7221eda0339e",
      "metadata": {
        "id": "5409db4a-a52b-4943-944e-7221eda0339e"
      },
      "outputs": [],
      "source": []
    },
    {
      "cell_type": "code",
      "execution_count": null,
      "id": "0cdcc19b-7b03-4d7e-a90d-1f8c33d1f9d9",
      "metadata": {
        "id": "0cdcc19b-7b03-4d7e-a90d-1f8c33d1f9d9"
      },
      "outputs": [],
      "source": []
    },
    {
      "cell_type": "code",
      "execution_count": null,
      "id": "60c5f869-67cc-4b66-8d14-7d19dd01b22a",
      "metadata": {
        "id": "60c5f869-67cc-4b66-8d14-7d19dd01b22a"
      },
      "outputs": [],
      "source": []
    }
  ],
  "metadata": {
    "kernelspec": {
      "display_name": "Python 3",
      "name": "python3"
    },
    "language_info": {
      "codemirror_mode": {
        "name": "ipython",
        "version": 3
      },
      "file_extension": ".py",
      "mimetype": "text/x-python",
      "name": "python",
      "nbconvert_exporter": "python",
      "pygments_lexer": "ipython3",
      "version": "3.9.6"
    },
    "colab": {
      "provenance": [],
      "gpuType": "T4",
      "include_colab_link": true
    },
    "accelerator": "GPU"
  },
  "nbformat": 4,
  "nbformat_minor": 5
}