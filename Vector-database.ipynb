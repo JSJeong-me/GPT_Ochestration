{
  "nbformat": 4,
  "nbformat_minor": 0,
  "metadata": {
    "colab": {
      "provenance": [],
      "authorship_tag": "ABX9TyMSRUUpchIlKslSW4GKDn6p",
      "include_colab_link": true
    },
    "kernelspec": {
      "name": "python3",
      "display_name": "Python 3"
    },
    "language_info": {
      "name": "python"
    }
  },
  "cells": [
    {
      "cell_type": "markdown",
      "metadata": {
        "id": "view-in-github",
        "colab_type": "text"
      },
      "source": [
        "<a href=\"https://colab.research.google.com/github/JSJeong-me/GPT_Ochestration/blob/main/Vector-database.ipynb\" target=\"_parent\"><img src=\"https://colab.research.google.com/assets/colab-badge.svg\" alt=\"Open In Colab\"/></a>"
      ]
    },
    {
      "cell_type": "code",
      "execution_count": 2,
      "metadata": {
        "colab": {
          "base_uri": "https://localhost:8080/"
        },
        "id": "YKZKkwM0Umuo",
        "outputId": "a7d7c1d9-0f71-4d3d-d86f-80fb7470e97f"
      },
      "outputs": [
        {
          "output_type": "stream",
          "name": "stdout",
          "text": [
            "Collecting annoy\n",
            "  Downloading annoy-1.17.3.tar.gz (647 kB)\n",
            "\u001b[?25l     \u001b[90m━━━━━━━━━━━━━━━━━━━━━━━━━━━━━━━━━━━━━━━━\u001b[0m \u001b[32m0.0/647.5 kB\u001b[0m \u001b[31m?\u001b[0m eta \u001b[36m-:--:--\u001b[0m\r\u001b[2K     \u001b[91m━━━━━\u001b[0m\u001b[91m╸\u001b[0m\u001b[90m━━━━━━━━━━━━━━━━━━━━━━━━━━━━━━━━━━\u001b[0m \u001b[32m92.2/647.5 kB\u001b[0m \u001b[31m2.8 MB/s\u001b[0m eta \u001b[36m0:00:01\u001b[0m\r\u001b[2K     \u001b[91m━━━━━━━━━━━━━━━━━━━━━━━━━━━━\u001b[0m\u001b[90m╺\u001b[0m\u001b[90m━━━━━━━━━━━\u001b[0m \u001b[32m460.8/647.5 kB\u001b[0m \u001b[31m7.0 MB/s\u001b[0m eta \u001b[36m0:00:01\u001b[0m\r\u001b[2K     \u001b[90m━━━━━━━━━━━━━━━━━━━━━━━━━━━━━━━━━━━━━━━━\u001b[0m \u001b[32m647.5/647.5 kB\u001b[0m \u001b[31m6.9 MB/s\u001b[0m eta \u001b[36m0:00:00\u001b[0m\n",
            "\u001b[?25h  Preparing metadata (setup.py) ... \u001b[?25l\u001b[?25hdone\n",
            "Building wheels for collected packages: annoy\n",
            "  Building wheel for annoy (setup.py) ... \u001b[?25l\u001b[?25hdone\n",
            "  Created wheel for annoy: filename=annoy-1.17.3-cp310-cp310-linux_x86_64.whl size=552446 sha256=092b5026d5da0e6a18d66d36768a642cda78d049410c37a9c6b0b50bc050d226\n",
            "  Stored in directory: /root/.cache/pip/wheels/64/8a/da/f714bcf46c5efdcfcac0559e63370c21abe961c48e3992465a\n",
            "Successfully built annoy\n",
            "Installing collected packages: annoy\n",
            "Successfully installed annoy-1.17.3\n"
          ]
        }
      ],
      "source": [
        "!pip install annoy"
      ]
    },
    {
      "cell_type": "code",
      "source": [
        "from annoy import AnnoyIndex\n",
        "import random\n",
        "\n",
        "class VectorDatabase:\n",
        "    def __init__(self, dimensions, metric='angular'):\n",
        "        self.dimensions = dimensions\n",
        "        self.metric = metric\n",
        "        self.index = AnnoyIndex(dimensions, metric)\n",
        "\n",
        "    def add_item(self, item_id, vector):\n",
        "        self.index.add_item(item_id, vector)\n",
        "\n",
        "    def build_index(self, n_trees=10):\n",
        "        self.index.build(n_trees)\n",
        "\n",
        "    def find_similar(self, vector, n=5):\n",
        "        return self.index.get_nns_by_vector(vector, n, include_distances=True)"
      ],
      "metadata": {
        "id": "bCLC77ntUuyZ"
      },
      "execution_count": 3,
      "outputs": []
    },
    {
      "cell_type": "code",
      "source": [
        "# Example usage\n",
        "db = VectorDatabase(dimensions=40)  # Example for 40-dimensional vectors"
      ],
      "metadata": {
        "id": "2aPB05XxU9E7"
      },
      "execution_count": 4,
      "outputs": []
    },
    {
      "cell_type": "code",
      "source": [
        "# Adding items (vectors) to the database\n",
        "for i in range(1000):  # Example with 1000 items\n",
        "    v = [random.gauss(0, 1) for z in range(40)]\n",
        "    db.add_item(i, v)"
      ],
      "metadata": {
        "id": "Kez8iTU-VADu"
      },
      "execution_count": 5,
      "outputs": []
    },
    {
      "cell_type": "code",
      "source": [
        "# Building the index\n",
        "db.build_index()"
      ],
      "metadata": {
        "id": "NMwSKICjVDuv"
      },
      "execution_count": 6,
      "outputs": []
    },
    {
      "cell_type": "code",
      "source": [
        "# Finding similar vectors\n",
        "vector_to_search = [random.gauss(0, 1) for z in range(40)]"
      ],
      "metadata": {
        "id": "gMK5uI0AVKce"
      },
      "execution_count": 7,
      "outputs": []
    },
    {
      "cell_type": "code",
      "source": [
        "type(vector_to_search)"
      ],
      "metadata": {
        "colab": {
          "base_uri": "https://localhost:8080/"
        },
        "id": "I5XLpz7IVLxI",
        "outputId": "494f5951-6532-4a8d-bd1c-2864e3f5ae93"
      },
      "execution_count": 8,
      "outputs": [
        {
          "output_type": "execute_result",
          "data": {
            "text/plain": [
              "list"
            ]
          },
          "metadata": {},
          "execution_count": 8
        }
      ]
    },
    {
      "cell_type": "code",
      "source": [
        "vector_to_search"
      ],
      "metadata": {
        "id": "oHSTQSgDVOu0"
      },
      "execution_count": null,
      "outputs": []
    },
    {
      "cell_type": "code",
      "source": [
        "similar_items = db.find_similar(vector_to_search)\n",
        "print(similar_items)"
      ],
      "metadata": {
        "colab": {
          "base_uri": "https://localhost:8080/"
        },
        "id": "9HXnU3fcUr1p",
        "outputId": "a5bc991d-e93d-4dca-f57a-02ba2cdf2064"
      },
      "execution_count": 15,
      "outputs": [
        {
          "output_type": "stream",
          "name": "stdout",
          "text": [
            "([674, 288, 896, 150, 523], [0.9981223344802856, 1.076448917388916, 1.109093427658081, 1.135101079940796, 1.136538028717041])\n"
          ]
        }
      ]
    }
  ]
}