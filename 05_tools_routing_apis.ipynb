{
  "cells": [
    {
      "cell_type": "markdown",
      "metadata": {
        "id": "view-in-github",
        "colab_type": "text"
      },
      "source": [
        "<a href=\"https://colab.research.google.com/github/JSJeong-me/GPT_Ochestration/blob/main/05_tools_routing_apis.ipynb\" target=\"_parent\"><img src=\"https://colab.research.google.com/assets/colab-badge.svg\" alt=\"Open In Colab\"/></a>"
      ]
    },
    {
      "cell_type": "markdown",
      "id": "b815ef73",
      "metadata": {
        "id": "b815ef73"
      },
      "source": [
        "# Tools and Routing"
      ]
    },
    {
      "cell_type": "code",
      "source": [
        "!pip install langchain\n",
        "!pip install python-dotenv\n",
        "!pip install openai==0.28"
      ],
      "metadata": {
        "id": "fZNdbuDKmEDy"
      },
      "id": "fZNdbuDKmEDy",
      "execution_count": null,
      "outputs": []
    },
    {
      "cell_type": "code",
      "source": [
        "!echo \"OPENAI_API_KEY=sk-\" >> .env\n",
        "!source /content/.env"
      ],
      "metadata": {
        "id": "ZFX7hOL9l8xC"
      },
      "id": "ZFX7hOL9l8xC",
      "execution_count": 2,
      "outputs": []
    },
    {
      "cell_type": "code",
      "execution_count": 3,
      "id": "cb41f5f4-df8d-4d04-9eaa-193b8c29b00b",
      "metadata": {
        "tags": [],
        "id": "cb41f5f4-df8d-4d04-9eaa-193b8c29b00b"
      },
      "outputs": [],
      "source": [
        "import os\n",
        "import openai\n",
        "\n",
        "from dotenv import load_dotenv, find_dotenv\n",
        "_ = load_dotenv(find_dotenv()) # read local .env file\n",
        "openai.api_key = os.environ['OPENAI_API_KEY']"
      ]
    },
    {
      "cell_type": "code",
      "execution_count": 4,
      "id": "139c45e6-65a4-4fcb-a109-e5ba41a80835",
      "metadata": {
        "id": "139c45e6-65a4-4fcb-a109-e5ba41a80835"
      },
      "outputs": [],
      "source": [
        "from langchain.agents import tool"
      ]
    },
    {
      "cell_type": "code",
      "execution_count": 5,
      "id": "8a17f623-9342-46bd-a913-9ea6be32a7a9",
      "metadata": {
        "id": "8a17f623-9342-46bd-a913-9ea6be32a7a9"
      },
      "outputs": [],
      "source": [
        "@tool\n",
        "def search(query: str) -> str:\n",
        "    \"\"\"Search for weather online\"\"\"\n",
        "    return \"42f\""
      ]
    },
    {
      "cell_type": "code",
      "execution_count": 6,
      "id": "db510949-acb8-4f69-b6c9-242b84fdc63a",
      "metadata": {
        "id": "db510949-acb8-4f69-b6c9-242b84fdc63a",
        "outputId": "32c40be5-52c7-4868-ad74-7af46a662ac7",
        "colab": {
          "base_uri": "https://localhost:8080/",
          "height": 35
        }
      },
      "outputs": [
        {
          "output_type": "execute_result",
          "data": {
            "text/plain": [
              "'search'"
            ],
            "application/vnd.google.colaboratory.intrinsic+json": {
              "type": "string"
            }
          },
          "metadata": {},
          "execution_count": 6
        }
      ],
      "source": [
        "search.name"
      ]
    },
    {
      "cell_type": "code",
      "execution_count": 7,
      "id": "c4c12426-5e1a-4057-8ae5-6dfb6beace97",
      "metadata": {
        "id": "c4c12426-5e1a-4057-8ae5-6dfb6beace97",
        "outputId": "12d4c246-d24d-4794-bef6-cf89d423fd6d",
        "colab": {
          "base_uri": "https://localhost:8080/",
          "height": 35
        }
      },
      "outputs": [
        {
          "output_type": "execute_result",
          "data": {
            "text/plain": [
              "'search(query: str) -> str - Search for weather online'"
            ],
            "application/vnd.google.colaboratory.intrinsic+json": {
              "type": "string"
            }
          },
          "metadata": {},
          "execution_count": 7
        }
      ],
      "source": [
        "search.description"
      ]
    },
    {
      "cell_type": "code",
      "execution_count": 8,
      "id": "22d1c4e6-8313-41a0-ae7a-61343699cb7c",
      "metadata": {
        "id": "22d1c4e6-8313-41a0-ae7a-61343699cb7c",
        "outputId": "1b50b0c6-7c01-4782-a590-9912c995cecf",
        "colab": {
          "base_uri": "https://localhost:8080/"
        }
      },
      "outputs": [
        {
          "output_type": "execute_result",
          "data": {
            "text/plain": [
              "{'query': {'title': 'Query', 'type': 'string'}}"
            ]
          },
          "metadata": {},
          "execution_count": 8
        }
      ],
      "source": [
        "search.args"
      ]
    },
    {
      "cell_type": "code",
      "execution_count": 9,
      "id": "8765af16-17fc-4490-98ab-4e9dd59337cf",
      "metadata": {
        "id": "8765af16-17fc-4490-98ab-4e9dd59337cf"
      },
      "outputs": [],
      "source": [
        "from pydantic import BaseModel, Field\n",
        "class SearchInput(BaseModel):\n",
        "    query: str = Field(description=\"Thing to search for\")\n"
      ]
    },
    {
      "cell_type": "code",
      "execution_count": null,
      "id": "91d20261-e18f-4989-808c-c4f36643d024",
      "metadata": {
        "id": "91d20261-e18f-4989-808c-c4f36643d024"
      },
      "outputs": [],
      "source": [
        "@tool(args_schema=SearchInput)\n",
        "def search(query: str) -> str:\n",
        "    \"\"\"Search for the weather online.\"\"\"\n",
        "    return \"42f\""
      ]
    },
    {
      "cell_type": "code",
      "execution_count": 11,
      "id": "88b3f7d0-a856-4842-82da-6c00df53e9d9",
      "metadata": {
        "id": "88b3f7d0-a856-4842-82da-6c00df53e9d9",
        "outputId": "38c94d61-f3a5-4a2f-ff28-4d192e134260",
        "colab": {
          "base_uri": "https://localhost:8080/"
        }
      },
      "outputs": [
        {
          "output_type": "execute_result",
          "data": {
            "text/plain": [
              "{'query': {'title': 'Query', 'type': 'string'}}"
            ]
          },
          "metadata": {},
          "execution_count": 11
        }
      ],
      "source": [
        "search.args"
      ]
    },
    {
      "cell_type": "code",
      "execution_count": 12,
      "id": "060dc15b-f95f-47ab-b081-d6736f277ebc",
      "metadata": {
        "id": "060dc15b-f95f-47ab-b081-d6736f277ebc",
        "outputId": "512c0a27-2dfa-4bed-b4b2-4ad9628ea73f",
        "colab": {
          "base_uri": "https://localhost:8080/",
          "height": 35
        }
      },
      "outputs": [
        {
          "output_type": "execute_result",
          "data": {
            "text/plain": [
              "'42f'"
            ],
            "application/vnd.google.colaboratory.intrinsic+json": {
              "type": "string"
            }
          },
          "metadata": {},
          "execution_count": 12
        }
      ],
      "source": [
        "search.run(\"sf\")"
      ]
    },
    {
      "cell_type": "code",
      "execution_count": 14,
      "id": "e93b85b2-1786-4f63-8e65-cd6a8b5c0b33",
      "metadata": {
        "id": "e93b85b2-1786-4f63-8e65-cd6a8b5c0b33",
        "outputId": "73a53814-1238-4f35-9bb9-9aede1dcb298",
        "colab": {
          "base_uri": "https://localhost:8080/",
          "height": 402
        }
      },
      "outputs": [
        {
          "output_type": "error",
          "ename": "ValidationError",
          "evalue": "1 validation error for StructuredTool\nargs_schema\n  subclass of BaseModel expected (type=type_error.subclass; expected_class=BaseModel)",
          "traceback": [
            "\u001b[0;31m---------------------------------------------------------------------------\u001b[0m",
            "\u001b[0;31mValidationError\u001b[0m                           Traceback (most recent call last)",
            "\u001b[0;32m<ipython-input-14-c07fd3814b51>\u001b[0m in \u001b[0;36m<cell line: 10>\u001b[0;34m()\u001b[0m\n\u001b[1;32m      9\u001b[0m \u001b[0;34m\u001b[0m\u001b[0m\n\u001b[1;32m     10\u001b[0m \u001b[0;34m@\u001b[0m\u001b[0mtool\u001b[0m\u001b[0;34m(\u001b[0m\u001b[0margs_schema\u001b[0m\u001b[0;34m=\u001b[0m\u001b[0mOpenMeteoInput\u001b[0m\u001b[0;34m)\u001b[0m\u001b[0;34m\u001b[0m\u001b[0;34m\u001b[0m\u001b[0m\n\u001b[0;32m---> 11\u001b[0;31m \u001b[0;32mdef\u001b[0m \u001b[0mget_current_temperature\u001b[0m\u001b[0;34m(\u001b[0m\u001b[0mlatitude\u001b[0m\u001b[0;34m:\u001b[0m \u001b[0mfloat\u001b[0m\u001b[0;34m,\u001b[0m \u001b[0mlongitude\u001b[0m\u001b[0;34m:\u001b[0m \u001b[0mfloat\u001b[0m\u001b[0;34m)\u001b[0m \u001b[0;34m->\u001b[0m \u001b[0mdict\u001b[0m\u001b[0;34m:\u001b[0m\u001b[0;34m\u001b[0m\u001b[0;34m\u001b[0m\u001b[0m\n\u001b[0m\u001b[1;32m     12\u001b[0m     \u001b[0;34m\"\"\"Fetch current temperature for given coordinates.\"\"\"\u001b[0m\u001b[0;34m\u001b[0m\u001b[0;34m\u001b[0m\u001b[0m\n\u001b[1;32m     13\u001b[0m \u001b[0;34m\u001b[0m\u001b[0m\n",
            "\u001b[0;32m/usr/local/lib/python3.10/dist-packages/langchain_core/tools.py\u001b[0m in \u001b[0;36m_partial\u001b[0;34m(func)\u001b[0m\n\u001b[1;32m    894\u001b[0m         \u001b[0;31m# Example usage: @tool(return_direct=True)\u001b[0m\u001b[0;34m\u001b[0m\u001b[0;34m\u001b[0m\u001b[0m\n\u001b[1;32m    895\u001b[0m         \u001b[0;32mdef\u001b[0m \u001b[0m_partial\u001b[0m\u001b[0;34m(\u001b[0m\u001b[0mfunc\u001b[0m\u001b[0;34m:\u001b[0m \u001b[0mCallable\u001b[0m\u001b[0;34m[\u001b[0m\u001b[0;34m[\u001b[0m\u001b[0mstr\u001b[0m\u001b[0;34m]\u001b[0m\u001b[0;34m,\u001b[0m \u001b[0mstr\u001b[0m\u001b[0;34m]\u001b[0m\u001b[0;34m)\u001b[0m \u001b[0;34m->\u001b[0m \u001b[0mBaseTool\u001b[0m\u001b[0;34m:\u001b[0m\u001b[0;34m\u001b[0m\u001b[0;34m\u001b[0m\u001b[0m\n\u001b[0;32m--> 896\u001b[0;31m             \u001b[0;32mreturn\u001b[0m \u001b[0m_make_with_name\u001b[0m\u001b[0;34m(\u001b[0m\u001b[0mfunc\u001b[0m\u001b[0;34m.\u001b[0m\u001b[0m__name__\u001b[0m\u001b[0;34m)\u001b[0m\u001b[0;34m(\u001b[0m\u001b[0mfunc\u001b[0m\u001b[0;34m)\u001b[0m\u001b[0;34m\u001b[0m\u001b[0;34m\u001b[0m\u001b[0m\n\u001b[0m\u001b[1;32m    897\u001b[0m \u001b[0;34m\u001b[0m\u001b[0m\n\u001b[1;32m    898\u001b[0m         \u001b[0;32mreturn\u001b[0m \u001b[0m_partial\u001b[0m\u001b[0;34m\u001b[0m\u001b[0;34m\u001b[0m\u001b[0m\n",
            "\u001b[0;32m/usr/local/lib/python3.10/dist-packages/langchain_core/tools.py\u001b[0m in \u001b[0;36m_make_tool\u001b[0;34m(dec_func)\u001b[0m\n\u001b[1;32m    854\u001b[0m \u001b[0;34m\u001b[0m\u001b[0m\n\u001b[1;32m    855\u001b[0m             \u001b[0;32mif\u001b[0m \u001b[0minfer_schema\u001b[0m \u001b[0;32mor\u001b[0m \u001b[0margs_schema\u001b[0m \u001b[0;32mis\u001b[0m \u001b[0;32mnot\u001b[0m \u001b[0;32mNone\u001b[0m\u001b[0;34m:\u001b[0m\u001b[0;34m\u001b[0m\u001b[0;34m\u001b[0m\u001b[0m\n\u001b[0;32m--> 856\u001b[0;31m                 return StructuredTool.from_function(\n\u001b[0m\u001b[1;32m    857\u001b[0m                     \u001b[0mfunc\u001b[0m\u001b[0;34m,\u001b[0m\u001b[0;34m\u001b[0m\u001b[0;34m\u001b[0m\u001b[0m\n\u001b[1;32m    858\u001b[0m                     \u001b[0mcoroutine\u001b[0m\u001b[0;34m,\u001b[0m\u001b[0;34m\u001b[0m\u001b[0;34m\u001b[0m\u001b[0m\n",
            "\u001b[0;32m/usr/local/lib/python3.10/dist-packages/langchain_core/tools.py\u001b[0m in \u001b[0;36mfrom_function\u001b[0;34m(cls, func, coroutine, name, description, return_direct, args_schema, infer_schema, **kwargs)\u001b[0m\n\u001b[1;32m    774\u001b[0m             \u001b[0;31m# schema name is appended within function\u001b[0m\u001b[0;34m\u001b[0m\u001b[0;34m\u001b[0m\u001b[0m\n\u001b[1;32m    775\u001b[0m             \u001b[0m_args_schema\u001b[0m \u001b[0;34m=\u001b[0m \u001b[0mcreate_schema_from_function\u001b[0m\u001b[0;34m(\u001b[0m\u001b[0mname\u001b[0m\u001b[0;34m,\u001b[0m \u001b[0msource_function\u001b[0m\u001b[0;34m)\u001b[0m\u001b[0;34m\u001b[0m\u001b[0;34m\u001b[0m\u001b[0m\n\u001b[0;32m--> 776\u001b[0;31m         return cls(\n\u001b[0m\u001b[1;32m    777\u001b[0m             \u001b[0mname\u001b[0m\u001b[0;34m=\u001b[0m\u001b[0mname\u001b[0m\u001b[0;34m,\u001b[0m\u001b[0;34m\u001b[0m\u001b[0;34m\u001b[0m\u001b[0m\n\u001b[1;32m    778\u001b[0m             \u001b[0mfunc\u001b[0m\u001b[0;34m=\u001b[0m\u001b[0mfunc\u001b[0m\u001b[0;34m,\u001b[0m\u001b[0;34m\u001b[0m\u001b[0;34m\u001b[0m\u001b[0m\n",
            "\u001b[0;32m/usr/local/lib/python3.10/dist-packages/langchain_core/load/serializable.py\u001b[0m in \u001b[0;36m__init__\u001b[0;34m(self, **kwargs)\u001b[0m\n\u001b[1;32m    105\u001b[0m \u001b[0;34m\u001b[0m\u001b[0m\n\u001b[1;32m    106\u001b[0m     \u001b[0;32mdef\u001b[0m \u001b[0m__init__\u001b[0m\u001b[0;34m(\u001b[0m\u001b[0mself\u001b[0m\u001b[0;34m,\u001b[0m \u001b[0;34m**\u001b[0m\u001b[0mkwargs\u001b[0m\u001b[0;34m:\u001b[0m \u001b[0mAny\u001b[0m\u001b[0;34m)\u001b[0m \u001b[0;34m->\u001b[0m \u001b[0;32mNone\u001b[0m\u001b[0;34m:\u001b[0m\u001b[0;34m\u001b[0m\u001b[0;34m\u001b[0m\u001b[0m\n\u001b[0;32m--> 107\u001b[0;31m         \u001b[0msuper\u001b[0m\u001b[0;34m(\u001b[0m\u001b[0;34m)\u001b[0m\u001b[0;34m.\u001b[0m\u001b[0m__init__\u001b[0m\u001b[0;34m(\u001b[0m\u001b[0;34m**\u001b[0m\u001b[0mkwargs\u001b[0m\u001b[0;34m)\u001b[0m\u001b[0;34m\u001b[0m\u001b[0;34m\u001b[0m\u001b[0m\n\u001b[0m\u001b[1;32m    108\u001b[0m         \u001b[0mself\u001b[0m\u001b[0;34m.\u001b[0m\u001b[0m_lc_kwargs\u001b[0m \u001b[0;34m=\u001b[0m \u001b[0mkwargs\u001b[0m\u001b[0;34m\u001b[0m\u001b[0;34m\u001b[0m\u001b[0m\n\u001b[1;32m    109\u001b[0m \u001b[0;34m\u001b[0m\u001b[0m\n",
            "\u001b[0;32m/usr/local/lib/python3.10/dist-packages/pydantic/v1/main.py\u001b[0m in \u001b[0;36m__init__\u001b[0;34m(__pydantic_self__, **data)\u001b[0m\n\u001b[1;32m    339\u001b[0m         \u001b[0mvalues\u001b[0m\u001b[0;34m,\u001b[0m \u001b[0mfields_set\u001b[0m\u001b[0;34m,\u001b[0m \u001b[0mvalidation_error\u001b[0m \u001b[0;34m=\u001b[0m \u001b[0mvalidate_model\u001b[0m\u001b[0;34m(\u001b[0m\u001b[0m__pydantic_self__\u001b[0m\u001b[0;34m.\u001b[0m\u001b[0m__class__\u001b[0m\u001b[0;34m,\u001b[0m \u001b[0mdata\u001b[0m\u001b[0;34m)\u001b[0m\u001b[0;34m\u001b[0m\u001b[0;34m\u001b[0m\u001b[0m\n\u001b[1;32m    340\u001b[0m         \u001b[0;32mif\u001b[0m \u001b[0mvalidation_error\u001b[0m\u001b[0;34m:\u001b[0m\u001b[0;34m\u001b[0m\u001b[0;34m\u001b[0m\u001b[0m\n\u001b[0;32m--> 341\u001b[0;31m             \u001b[0;32mraise\u001b[0m \u001b[0mvalidation_error\u001b[0m\u001b[0;34m\u001b[0m\u001b[0;34m\u001b[0m\u001b[0m\n\u001b[0m\u001b[1;32m    342\u001b[0m         \u001b[0;32mtry\u001b[0m\u001b[0;34m:\u001b[0m\u001b[0;34m\u001b[0m\u001b[0;34m\u001b[0m\u001b[0m\n\u001b[1;32m    343\u001b[0m             \u001b[0mobject_setattr\u001b[0m\u001b[0;34m(\u001b[0m\u001b[0m__pydantic_self__\u001b[0m\u001b[0;34m,\u001b[0m \u001b[0;34m'__dict__'\u001b[0m\u001b[0;34m,\u001b[0m \u001b[0mvalues\u001b[0m\u001b[0;34m)\u001b[0m\u001b[0;34m\u001b[0m\u001b[0;34m\u001b[0m\u001b[0m\n",
            "\u001b[0;31mValidationError\u001b[0m: 1 validation error for StructuredTool\nargs_schema\n  subclass of BaseModel expected (type=type_error.subclass; expected_class=BaseModel)"
          ]
        }
      ],
      "source": [
        "import requests\n",
        "from pydantic import BaseModel, Field\n",
        "import datetime\n",
        "\n",
        "# Define the input schema\n",
        "class OpenMeteoInput(BaseModel):\n",
        "    latitude: float = Field(..., description=\"Latitude of the location to fetch weather data for\")\n",
        "    longitude: float = Field(..., description=\"Longitude of the location to fetch weather data for\")\n",
        "\n",
        "@tool(args_schema=OpenMeteoInput)\n",
        "def get_current_temperature(latitude: float, longitude: float) -> dict:\n",
        "    \"\"\"Fetch current temperature for given coordinates.\"\"\"\n",
        "\n",
        "    BASE_URL = \"https://api.open-meteo.com/v1/forecast\"\n",
        "\n",
        "    # Parameters for the request\n",
        "    params = {\n",
        "        'latitude': latitude,\n",
        "        'longitude': longitude,\n",
        "        'hourly': 'temperature_2m',\n",
        "        'forecast_days': 1,\n",
        "    }\n",
        "\n",
        "    # Make the request\n",
        "    response = requests.get(BASE_URL, params=params)\n",
        "\n",
        "    if response.status_code == 200:\n",
        "        results = response.json()\n",
        "    else:\n",
        "        raise Exception(f\"API Request failed with status code: {response.status_code}\")\n",
        "\n",
        "    current_utc_time = datetime.datetime.utcnow()\n",
        "    time_list = [datetime.datetime.fromisoformat(time_str.replace('Z', '+00:00')) for time_str in results['hourly']['time']]\n",
        "    temperature_list = results['hourly']['temperature_2m']\n",
        "\n",
        "    closest_time_index = min(range(len(time_list)), key=lambda i: abs(time_list[i] - current_utc_time))\n",
        "    current_temperature = temperature_list[closest_time_index]\n",
        "\n",
        "    return f'The current temperature is {current_temperature}°C'"
      ]
    },
    {
      "cell_type": "code",
      "execution_count": 15,
      "id": "731ed353-a27d-42df-89a8-9767bafb23be",
      "metadata": {
        "id": "731ed353-a27d-42df-89a8-9767bafb23be",
        "outputId": "6061ee85-c572-46c6-a623-4df12e076949",
        "colab": {
          "base_uri": "https://localhost:8080/",
          "height": 145
        }
      },
      "outputs": [
        {
          "output_type": "error",
          "ename": "NameError",
          "evalue": "name 'get_current_temperature' is not defined",
          "traceback": [
            "\u001b[0;31m---------------------------------------------------------------------------\u001b[0m",
            "\u001b[0;31mNameError\u001b[0m                                 Traceback (most recent call last)",
            "\u001b[0;32m<ipython-input-15-a51abbf3aa35>\u001b[0m in \u001b[0;36m<cell line: 1>\u001b[0;34m()\u001b[0m\n\u001b[0;32m----> 1\u001b[0;31m \u001b[0mget_current_temperature\u001b[0m\u001b[0;34m.\u001b[0m\u001b[0mname\u001b[0m\u001b[0;34m\u001b[0m\u001b[0;34m\u001b[0m\u001b[0m\n\u001b[0m",
            "\u001b[0;31mNameError\u001b[0m: name 'get_current_temperature' is not defined"
          ]
        }
      ],
      "source": [
        "get_current_temperature.name"
      ]
    },
    {
      "cell_type": "code",
      "execution_count": null,
      "id": "d4f62eb8-c528-4e4a-b078-22e9d9b20a09",
      "metadata": {
        "id": "d4f62eb8-c528-4e4a-b078-22e9d9b20a09"
      },
      "outputs": [],
      "source": [
        "get_current_temperature.description"
      ]
    },
    {
      "cell_type": "code",
      "execution_count": null,
      "id": "38ebb59f-cf0f-4281-99c3-87c8cfd3377b",
      "metadata": {
        "id": "38ebb59f-cf0f-4281-99c3-87c8cfd3377b"
      },
      "outputs": [],
      "source": [
        "get_current_temperature.args"
      ]
    },
    {
      "cell_type": "code",
      "execution_count": null,
      "id": "36aacbec-9cdd-414a-b502-168cea350a30",
      "metadata": {
        "id": "36aacbec-9cdd-414a-b502-168cea350a30"
      },
      "outputs": [],
      "source": [
        "from langchain.tools.render import format_tool_to_openai_function"
      ]
    },
    {
      "cell_type": "code",
      "execution_count": null,
      "id": "6277b6a8-f197-4057-a96a-5ebb61e18520",
      "metadata": {
        "id": "6277b6a8-f197-4057-a96a-5ebb61e18520"
      },
      "outputs": [],
      "source": [
        "format_tool_to_openai_function(get_current_temperature)"
      ]
    },
    {
      "cell_type": "code",
      "execution_count": null,
      "id": "e088eceb-424b-4da6-981f-63322c9ac56a",
      "metadata": {
        "id": "e088eceb-424b-4da6-981f-63322c9ac56a"
      },
      "outputs": [],
      "source": [
        "get_current_temperature({\"latitude\": 13, \"longitude\": 14})"
      ]
    },
    {
      "cell_type": "code",
      "execution_count": null,
      "id": "5eefc272-d205-4bad-ab00-282ccb3cc2fe",
      "metadata": {
        "id": "5eefc272-d205-4bad-ab00-282ccb3cc2fe"
      },
      "outputs": [],
      "source": [
        "import wikipedia\n",
        "@tool\n",
        "def search_wikipedia(query: str) -> str:\n",
        "    \"\"\"Run Wikipedia search and get page summaries.\"\"\"\n",
        "    page_titles = wikipedia.search(query)\n",
        "    summaries = []\n",
        "    for page_title in page_titles[: 3]:\n",
        "        try:\n",
        "            wiki_page =  wikipedia.page(title=page_title, auto_suggest=False)\n",
        "            summaries.append(f\"Page: {page_title}\\nSummary: {wiki_page.summary}\")\n",
        "        except (\n",
        "            self.wiki_client.exceptions.PageError,\n",
        "            self.wiki_client.exceptions.DisambiguationError,\n",
        "        ):\n",
        "            pass\n",
        "    if not summaries:\n",
        "        return \"No good Wikipedia Search Result was found\"\n",
        "    return \"\\n\\n\".join(summaries)"
      ]
    },
    {
      "cell_type": "code",
      "execution_count": null,
      "id": "289c5d0c-0e71-4d70-963f-9d9f58e53d56",
      "metadata": {
        "id": "289c5d0c-0e71-4d70-963f-9d9f58e53d56"
      },
      "outputs": [],
      "source": [
        "search_wikipedia.name"
      ]
    },
    {
      "cell_type": "code",
      "execution_count": null,
      "id": "69756d79-ec2f-4185-89af-d14de817fc27",
      "metadata": {
        "id": "69756d79-ec2f-4185-89af-d14de817fc27"
      },
      "outputs": [],
      "source": [
        "search_wikipedia.description"
      ]
    },
    {
      "cell_type": "code",
      "execution_count": null,
      "id": "d5b876cd-cc6c-484d-a3fa-d8810e22d564",
      "metadata": {
        "id": "d5b876cd-cc6c-484d-a3fa-d8810e22d564"
      },
      "outputs": [],
      "source": [
        "format_tool_to_openai_function(search_wikipedia)"
      ]
    },
    {
      "cell_type": "code",
      "execution_count": null,
      "id": "6dfb10e9-5d1e-474a-9c8f-7abdf7939a34",
      "metadata": {
        "scrolled": true,
        "id": "6dfb10e9-5d1e-474a-9c8f-7abdf7939a34"
      },
      "outputs": [],
      "source": [
        "search_wikipedia({\"query\": \"langchain\"})"
      ]
    },
    {
      "cell_type": "code",
      "execution_count": null,
      "id": "54cbe57e-f64c-4392-bcdd-9621fe1e46e5",
      "metadata": {
        "id": "54cbe57e-f64c-4392-bcdd-9621fe1e46e5"
      },
      "outputs": [],
      "source": [
        "from langchain.chains.openai_functions.openapi import openapi_spec_to_openai_fn\n",
        "from langchain.utilities.openapi import OpenAPISpec"
      ]
    },
    {
      "cell_type": "code",
      "execution_count": null,
      "id": "7fe38e50-874c-49bd-8681-f95dcab0b464",
      "metadata": {
        "id": "7fe38e50-874c-49bd-8681-f95dcab0b464"
      },
      "outputs": [],
      "source": [
        "text = \"\"\"\n",
        "{\n",
        "  \"openapi\": \"3.0.0\",\n",
        "  \"info\": {\n",
        "    \"version\": \"1.0.0\",\n",
        "    \"title\": \"Swagger Petstore\",\n",
        "    \"license\": {\n",
        "      \"name\": \"MIT\"\n",
        "    }\n",
        "  },\n",
        "  \"servers\": [\n",
        "    {\n",
        "      \"url\": \"http://petstore.swagger.io/v1\"\n",
        "    }\n",
        "  ],\n",
        "  \"paths\": {\n",
        "    \"/pets\": {\n",
        "      \"get\": {\n",
        "        \"summary\": \"List all pets\",\n",
        "        \"operationId\": \"listPets\",\n",
        "        \"tags\": [\n",
        "          \"pets\"\n",
        "        ],\n",
        "        \"parameters\": [\n",
        "          {\n",
        "            \"name\": \"limit\",\n",
        "            \"in\": \"query\",\n",
        "            \"description\": \"How many items to return at one time (max 100)\",\n",
        "            \"required\": false,\n",
        "            \"schema\": {\n",
        "              \"type\": \"integer\",\n",
        "              \"maximum\": 100,\n",
        "              \"format\": \"int32\"\n",
        "            }\n",
        "          }\n",
        "        ],\n",
        "        \"responses\": {\n",
        "          \"200\": {\n",
        "            \"description\": \"A paged array of pets\",\n",
        "            \"headers\": {\n",
        "              \"x-next\": {\n",
        "                \"description\": \"A link to the next page of responses\",\n",
        "                \"schema\": {\n",
        "                  \"type\": \"string\"\n",
        "                }\n",
        "              }\n",
        "            },\n",
        "            \"content\": {\n",
        "              \"application/json\": {\n",
        "                \"schema\": {\n",
        "                  \"$ref\": \"#/components/schemas/Pets\"\n",
        "                }\n",
        "              }\n",
        "            }\n",
        "          },\n",
        "          \"default\": {\n",
        "            \"description\": \"unexpected error\",\n",
        "            \"content\": {\n",
        "              \"application/json\": {\n",
        "                \"schema\": {\n",
        "                  \"$ref\": \"#/components/schemas/Error\"\n",
        "                }\n",
        "              }\n",
        "            }\n",
        "          }\n",
        "        }\n",
        "      },\n",
        "      \"post\": {\n",
        "        \"summary\": \"Create a pet\",\n",
        "        \"operationId\": \"createPets\",\n",
        "        \"tags\": [\n",
        "          \"pets\"\n",
        "        ],\n",
        "        \"responses\": {\n",
        "          \"201\": {\n",
        "            \"description\": \"Null response\"\n",
        "          },\n",
        "          \"default\": {\n",
        "            \"description\": \"unexpected error\",\n",
        "            \"content\": {\n",
        "              \"application/json\": {\n",
        "                \"schema\": {\n",
        "                  \"$ref\": \"#/components/schemas/Error\"\n",
        "                }\n",
        "              }\n",
        "            }\n",
        "          }\n",
        "        }\n",
        "      }\n",
        "    },\n",
        "    \"/pets/{petId}\": {\n",
        "      \"get\": {\n",
        "        \"summary\": \"Info for a specific pet\",\n",
        "        \"operationId\": \"showPetById\",\n",
        "        \"tags\": [\n",
        "          \"pets\"\n",
        "        ],\n",
        "        \"parameters\": [\n",
        "          {\n",
        "            \"name\": \"petId\",\n",
        "            \"in\": \"path\",\n",
        "            \"required\": true,\n",
        "            \"description\": \"The id of the pet to retrieve\",\n",
        "            \"schema\": {\n",
        "              \"type\": \"string\"\n",
        "            }\n",
        "          }\n",
        "        ],\n",
        "        \"responses\": {\n",
        "          \"200\": {\n",
        "            \"description\": \"Expected response to a valid request\",\n",
        "            \"content\": {\n",
        "              \"application/json\": {\n",
        "                \"schema\": {\n",
        "                  \"$ref\": \"#/components/schemas/Pet\"\n",
        "                }\n",
        "              }\n",
        "            }\n",
        "          },\n",
        "          \"default\": {\n",
        "            \"description\": \"unexpected error\",\n",
        "            \"content\": {\n",
        "              \"application/json\": {\n",
        "                \"schema\": {\n",
        "                  \"$ref\": \"#/components/schemas/Error\"\n",
        "                }\n",
        "              }\n",
        "            }\n",
        "          }\n",
        "        }\n",
        "      }\n",
        "    }\n",
        "  },\n",
        "  \"components\": {\n",
        "    \"schemas\": {\n",
        "      \"Pet\": {\n",
        "        \"type\": \"object\",\n",
        "        \"required\": [\n",
        "          \"id\",\n",
        "          \"name\"\n",
        "        ],\n",
        "        \"properties\": {\n",
        "          \"id\": {\n",
        "            \"type\": \"integer\",\n",
        "            \"format\": \"int64\"\n",
        "          },\n",
        "          \"name\": {\n",
        "            \"type\": \"string\"\n",
        "          },\n",
        "          \"tag\": {\n",
        "            \"type\": \"string\"\n",
        "          }\n",
        "        }\n",
        "      },\n",
        "      \"Pets\": {\n",
        "        \"type\": \"array\",\n",
        "        \"maxItems\": 100,\n",
        "        \"items\": {\n",
        "          \"$ref\": \"#/components/schemas/Pet\"\n",
        "        }\n",
        "      },\n",
        "      \"Error\": {\n",
        "        \"type\": \"object\",\n",
        "        \"required\": [\n",
        "          \"code\",\n",
        "          \"message\"\n",
        "        ],\n",
        "        \"properties\": {\n",
        "          \"code\": {\n",
        "            \"type\": \"integer\",\n",
        "            \"format\": \"int32\"\n",
        "          },\n",
        "          \"message\": {\n",
        "            \"type\": \"string\"\n",
        "          }\n",
        "        }\n",
        "      }\n",
        "    }\n",
        "  }\n",
        "}\n",
        "\"\"\""
      ]
    },
    {
      "cell_type": "code",
      "execution_count": null,
      "id": "653156d4-d6a4-499b-aab3-cf4f7b1f0c47",
      "metadata": {
        "id": "653156d4-d6a4-499b-aab3-cf4f7b1f0c47"
      },
      "outputs": [],
      "source": [
        "spec = OpenAPISpec.from_text(text)"
      ]
    },
    {
      "cell_type": "code",
      "execution_count": null,
      "id": "d9ba6100-3c88-4b05-af93-784b57bf7424",
      "metadata": {
        "id": "d9ba6100-3c88-4b05-af93-784b57bf7424"
      },
      "outputs": [],
      "source": [
        "pet_openai_functions, pet_callables = openapi_spec_to_openai_fn(spec)"
      ]
    },
    {
      "cell_type": "code",
      "execution_count": null,
      "id": "91199697-c662-438f-8c68-e6daa8aad07d",
      "metadata": {
        "id": "91199697-c662-438f-8c68-e6daa8aad07d"
      },
      "outputs": [],
      "source": [
        "pet_openai_functions"
      ]
    },
    {
      "cell_type": "code",
      "execution_count": null,
      "id": "ae8b3c1b-7a30-4b1b-abfd-e56f90b1d166",
      "metadata": {
        "id": "ae8b3c1b-7a30-4b1b-abfd-e56f90b1d166"
      },
      "outputs": [],
      "source": [
        "from langchain.chat_models import ChatOpenAI"
      ]
    },
    {
      "cell_type": "code",
      "execution_count": null,
      "id": "ed100888-f3d4-4739-bba5-f839033850a3",
      "metadata": {
        "id": "ed100888-f3d4-4739-bba5-f839033850a3"
      },
      "outputs": [],
      "source": [
        "model = ChatOpenAI(temperature=0).bind(functions=pet_openai_functions)"
      ]
    },
    {
      "cell_type": "code",
      "execution_count": null,
      "id": "4063cdea-627c-4cc1-a2b5-9b5b6dcf179e",
      "metadata": {
        "id": "4063cdea-627c-4cc1-a2b5-9b5b6dcf179e"
      },
      "outputs": [],
      "source": [
        "model.invoke(\"what are three pets names\")"
      ]
    },
    {
      "cell_type": "code",
      "execution_count": null,
      "id": "3a1f5534-cf06-4baf-b710-f169ea7434ac",
      "metadata": {
        "id": "3a1f5534-cf06-4baf-b710-f169ea7434ac"
      },
      "outputs": [],
      "source": [
        "model.invoke(\"tell me about pet with id 42\")"
      ]
    },
    {
      "cell_type": "markdown",
      "id": "198b21dd-c9de-491d-9a0c-71ae56727689",
      "metadata": {
        "id": "198b21dd-c9de-491d-9a0c-71ae56727689"
      },
      "source": [
        "### Routing\n",
        "\n",
        "In lesson 3, we show an example of function calling deciding between two candidate functions.\n",
        "\n",
        "Given our tools above, let's format these as OpenAI functions and show this same behavior."
      ]
    },
    {
      "cell_type": "code",
      "execution_count": null,
      "id": "8137758c-c5d3-47df-9062-5e31d43657e7",
      "metadata": {
        "id": "8137758c-c5d3-47df-9062-5e31d43657e7"
      },
      "outputs": [],
      "source": [
        "functions = [\n",
        "    format_tool_to_openai_function(f) for f in [\n",
        "        search_wikipedia, get_current_temperature\n",
        "    ]\n",
        "]\n",
        "model = ChatOpenAI(temperature=0).bind(functions=functions)"
      ]
    },
    {
      "cell_type": "code",
      "execution_count": null,
      "id": "99120542-36bc-4ed1-aa9e-e2294e282c81",
      "metadata": {
        "id": "99120542-36bc-4ed1-aa9e-e2294e282c81"
      },
      "outputs": [],
      "source": [
        "model.invoke(\"what is the weather in sf right now\")"
      ]
    },
    {
      "cell_type": "code",
      "execution_count": null,
      "id": "a20047d9-4b34-4e6c-9407-570af1559bc8",
      "metadata": {
        "id": "a20047d9-4b34-4e6c-9407-570af1559bc8"
      },
      "outputs": [],
      "source": [
        "model.invoke(\"what is langchain\")"
      ]
    },
    {
      "cell_type": "code",
      "execution_count": null,
      "id": "831a0506-1d5c-4bc3-b67f-24e201a4fa6d",
      "metadata": {
        "id": "831a0506-1d5c-4bc3-b67f-24e201a4fa6d"
      },
      "outputs": [],
      "source": [
        "from langchain.prompts import ChatPromptTemplate\n",
        "prompt = ChatPromptTemplate.from_messages([\n",
        "    (\"system\", \"You are helpful but sassy assistant\"),\n",
        "    (\"user\", \"{input}\"),\n",
        "])\n",
        "chain = prompt | model"
      ]
    },
    {
      "cell_type": "code",
      "execution_count": null,
      "id": "d9c32ccc-6691-4dd5-98dc-aabf02563ad5",
      "metadata": {
        "id": "d9c32ccc-6691-4dd5-98dc-aabf02563ad5"
      },
      "outputs": [],
      "source": [
        "chain.invoke({\"input\": \"what is the weather in sf right now\"})"
      ]
    },
    {
      "cell_type": "code",
      "execution_count": null,
      "id": "921e808c-6618-4d2f-85df-1f3089497724",
      "metadata": {
        "id": "921e808c-6618-4d2f-85df-1f3089497724"
      },
      "outputs": [],
      "source": [
        "from langchain.agents.output_parsers import OpenAIFunctionsAgentOutputParser"
      ]
    },
    {
      "cell_type": "code",
      "execution_count": null,
      "id": "094baef1-4140-41f4-9111-ff9710826e6b",
      "metadata": {
        "id": "094baef1-4140-41f4-9111-ff9710826e6b"
      },
      "outputs": [],
      "source": [
        "chain = prompt | model | OpenAIFunctionsAgentOutputParser()"
      ]
    },
    {
      "cell_type": "code",
      "execution_count": null,
      "id": "f105e8e8-d418-4d4a-95eb-52636d4e890f",
      "metadata": {
        "id": "f105e8e8-d418-4d4a-95eb-52636d4e890f"
      },
      "outputs": [],
      "source": [
        "result = chain.invoke({\"input\": \"what is the weather in sf right now\"})"
      ]
    },
    {
      "cell_type": "code",
      "execution_count": null,
      "id": "409b26c0-a1e0-4225-ae2e-396c1f76bf0a",
      "metadata": {
        "id": "409b26c0-a1e0-4225-ae2e-396c1f76bf0a"
      },
      "outputs": [],
      "source": [
        "type(result)"
      ]
    },
    {
      "cell_type": "code",
      "execution_count": null,
      "id": "9cdde008-4b11-4ab2-a01c-6ae394a7dccf",
      "metadata": {
        "id": "9cdde008-4b11-4ab2-a01c-6ae394a7dccf"
      },
      "outputs": [],
      "source": [
        "result.tool"
      ]
    },
    {
      "cell_type": "code",
      "execution_count": null,
      "id": "66ffb308-3d77-4acb-b4b5-e2b0d38f3860",
      "metadata": {
        "id": "66ffb308-3d77-4acb-b4b5-e2b0d38f3860"
      },
      "outputs": [],
      "source": [
        "result.tool_input"
      ]
    },
    {
      "cell_type": "code",
      "execution_count": null,
      "id": "07e661b1-6d0d-43b9-9de4-19c6cceff291",
      "metadata": {
        "id": "07e661b1-6d0d-43b9-9de4-19c6cceff291"
      },
      "outputs": [],
      "source": [
        "get_current_temperature(result.tool_input)"
      ]
    },
    {
      "cell_type": "code",
      "execution_count": null,
      "id": "057e3072-a203-4a5e-b1f6-b250cd7bd33b",
      "metadata": {
        "id": "057e3072-a203-4a5e-b1f6-b250cd7bd33b"
      },
      "outputs": [],
      "source": [
        "result = chain.invoke({\"input\": \"hi!\"})"
      ]
    },
    {
      "cell_type": "code",
      "execution_count": null,
      "id": "5be6bc0f-5b81-49fa-ac16-b8896847d87a",
      "metadata": {
        "id": "5be6bc0f-5b81-49fa-ac16-b8896847d87a"
      },
      "outputs": [],
      "source": [
        "type(result)"
      ]
    },
    {
      "cell_type": "code",
      "execution_count": null,
      "id": "dd128d20-f552-4cc5-a45e-f47b58c9982b",
      "metadata": {
        "id": "dd128d20-f552-4cc5-a45e-f47b58c9982b"
      },
      "outputs": [],
      "source": [
        "result.return_values"
      ]
    },
    {
      "cell_type": "code",
      "execution_count": null,
      "id": "134f422a-b72b-40df-9552-cf9f9fc2d780",
      "metadata": {
        "id": "134f422a-b72b-40df-9552-cf9f9fc2d780"
      },
      "outputs": [],
      "source": [
        "from langchain.schema.agent import AgentFinish\n",
        "def route(result):\n",
        "    if isinstance(result, AgentFinish):\n",
        "        return result.return_values['output']\n",
        "    else:\n",
        "        tools = {\n",
        "            \"search_wikipedia\": search_wikipedia,\n",
        "            \"get_current_temperature\": get_current_temperature,\n",
        "        }\n",
        "        return tools[result.tool].run(result.tool_input)"
      ]
    },
    {
      "cell_type": "code",
      "execution_count": null,
      "id": "8fefc329-b270-4ebb-b884-430e4e541e7f",
      "metadata": {
        "id": "8fefc329-b270-4ebb-b884-430e4e541e7f"
      },
      "outputs": [],
      "source": [
        "chain = prompt | model | OpenAIFunctionsAgentOutputParser() | route"
      ]
    },
    {
      "cell_type": "code",
      "execution_count": null,
      "id": "b2dcb4b2-0e0d-425b-bff8-db7cd33afa16",
      "metadata": {
        "id": "b2dcb4b2-0e0d-425b-bff8-db7cd33afa16"
      },
      "outputs": [],
      "source": [
        "result = chain.invoke({\"input\": \"What is the weather in san francisco right now?\"})"
      ]
    },
    {
      "cell_type": "code",
      "execution_count": null,
      "id": "498d487b-ceba-4e9f-8a24-0f8c27438a18",
      "metadata": {
        "id": "498d487b-ceba-4e9f-8a24-0f8c27438a18"
      },
      "outputs": [],
      "source": [
        "result"
      ]
    },
    {
      "cell_type": "code",
      "execution_count": null,
      "id": "6c93eb1b-044f-4c52-bcd4-dcd0e01f42e8",
      "metadata": {
        "id": "6c93eb1b-044f-4c52-bcd4-dcd0e01f42e8"
      },
      "outputs": [],
      "source": [
        "result = chain.invoke({\"input\": \"What is langchain?\"})"
      ]
    },
    {
      "cell_type": "code",
      "execution_count": null,
      "id": "5c0de3e7-2367-4cef-b3dd-efa69b701061",
      "metadata": {
        "scrolled": true,
        "id": "5c0de3e7-2367-4cef-b3dd-efa69b701061"
      },
      "outputs": [],
      "source": [
        "result"
      ]
    },
    {
      "cell_type": "code",
      "execution_count": null,
      "id": "a353363e-27b8-440f-a8b7-31bc2e861a42",
      "metadata": {
        "id": "a353363e-27b8-440f-a8b7-31bc2e861a42"
      },
      "outputs": [],
      "source": [
        "chain.invoke({\"input\": \"hi!\"})"
      ]
    },
    {
      "cell_type": "code",
      "execution_count": null,
      "id": "181b3737-eb4d-452a-b018-a1289f7f0d41",
      "metadata": {
        "id": "181b3737-eb4d-452a-b018-a1289f7f0d41"
      },
      "outputs": [],
      "source": []
    }
  ],
  "metadata": {
    "kernelspec": {
      "display_name": "Python 3",
      "name": "python3"
    },
    "language_info": {
      "codemirror_mode": {
        "name": "ipython",
        "version": 3
      },
      "file_extension": ".py",
      "mimetype": "text/x-python",
      "name": "python",
      "nbconvert_exporter": "python",
      "pygments_lexer": "ipython3",
      "version": "3.9.6"
    },
    "colab": {
      "provenance": [],
      "gpuType": "T4",
      "include_colab_link": true
    },
    "accelerator": "GPU"
  },
  "nbformat": 4,
  "nbformat_minor": 5
}