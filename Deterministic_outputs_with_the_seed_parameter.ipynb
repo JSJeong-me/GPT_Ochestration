{
  "nbformat": 4,
  "nbformat_minor": 0,
  "metadata": {
    "colab": {
      "provenance": [],
      "authorship_tag": "ABX9TyN8sCsthJQUUufgeCzy35id",
      "include_colab_link": true
    },
    "kernelspec": {
      "name": "python3",
      "display_name": "Python 3"
    },
    "language_info": {
      "name": "python"
    }
  },
  "cells": [
    {
      "cell_type": "markdown",
      "metadata": {
        "id": "view-in-github",
        "colab_type": "text"
      },
      "source": [
        "<a href=\"https://colab.research.google.com/github/JSJeong-me/GPT_Ochestration/blob/main/Deterministic_outputs_with_the_seed_parameter.ipynb\" target=\"_parent\"><img src=\"https://colab.research.google.com/assets/colab-badge.svg\" alt=\"Open In Colab\"/></a>"
      ]
    },
    {
      "cell_type": "code",
      "execution_count": 7,
      "metadata": {
        "colab": {
          "base_uri": "https://localhost:8080/",
          "height": 607
        },
        "id": "ZmnHYqqTmypG",
        "outputId": "1c814aaf-8884-4a98-ed04-f9f62f12ff52"
      },
      "outputs": [
        {
          "output_type": "stream",
          "name": "stdout",
          "text": [
            "Collecting openai==0.28\n",
            "  Downloading openai-0.28.0-py3-none-any.whl (76 kB)\n",
            "\u001b[2K     \u001b[90m━━━━━━━━━━━━━━━━━━━━━━━━━━━━━━━━━━━━━━━━\u001b[0m \u001b[32m76.5/76.5 kB\u001b[0m \u001b[31m1.6 MB/s\u001b[0m eta \u001b[36m0:00:00\u001b[0m\n",
            "\u001b[?25hRequirement already satisfied: requests>=2.20 in /usr/local/lib/python3.10/dist-packages (from openai==0.28) (2.31.0)\n",
            "Requirement already satisfied: tqdm in /usr/local/lib/python3.10/dist-packages (from openai==0.28) (4.66.1)\n",
            "Requirement already satisfied: aiohttp in /usr/local/lib/python3.10/dist-packages (from openai==0.28) (3.8.6)\n",
            "Requirement already satisfied: charset-normalizer<4,>=2 in /usr/local/lib/python3.10/dist-packages (from requests>=2.20->openai==0.28) (3.3.2)\n",
            "Requirement already satisfied: idna<4,>=2.5 in /usr/local/lib/python3.10/dist-packages (from requests>=2.20->openai==0.28) (3.4)\n",
            "Requirement already satisfied: urllib3<3,>=1.21.1 in /usr/local/lib/python3.10/dist-packages (from requests>=2.20->openai==0.28) (2.0.7)\n",
            "Requirement already satisfied: certifi>=2017.4.17 in /usr/local/lib/python3.10/dist-packages (from requests>=2.20->openai==0.28) (2023.7.22)\n",
            "Requirement already satisfied: attrs>=17.3.0 in /usr/local/lib/python3.10/dist-packages (from aiohttp->openai==0.28) (23.1.0)\n",
            "Requirement already satisfied: multidict<7.0,>=4.5 in /usr/local/lib/python3.10/dist-packages (from aiohttp->openai==0.28) (6.0.4)\n",
            "Requirement already satisfied: async-timeout<5.0,>=4.0.0a3 in /usr/local/lib/python3.10/dist-packages (from aiohttp->openai==0.28) (4.0.3)\n",
            "Requirement already satisfied: yarl<2.0,>=1.0 in /usr/local/lib/python3.10/dist-packages (from aiohttp->openai==0.28) (1.9.2)\n",
            "Requirement already satisfied: frozenlist>=1.1.1 in /usr/local/lib/python3.10/dist-packages (from aiohttp->openai==0.28) (1.4.0)\n",
            "Requirement already satisfied: aiosignal>=1.1.2 in /usr/local/lib/python3.10/dist-packages (from aiohttp->openai==0.28) (1.3.1)\n",
            "Installing collected packages: openai\n",
            "  Attempting uninstall: openai\n",
            "    Found existing installation: openai 1.2.3\n",
            "    Uninstalling openai-1.2.3:\n",
            "      Successfully uninstalled openai-1.2.3\n",
            "\u001b[31mERROR: pip's dependency resolver does not currently take into account all the packages that are installed. This behaviour is the source of the following dependency conflicts.\n",
            "llmx 0.0.15a0 requires cohere, which is not installed.\n",
            "llmx 0.0.15a0 requires tiktoken, which is not installed.\u001b[0m\u001b[31m\n",
            "\u001b[0mSuccessfully installed openai-0.28.0\n"
          ]
        },
        {
          "output_type": "display_data",
          "data": {
            "application/vnd.colab-display-data+json": {
              "pip_warning": {
                "packages": [
                  "openai"
                ]
              }
            }
          },
          "metadata": {}
        }
      ],
      "source": [
        "!pip install openai==0.28"
      ]
    },
    {
      "cell_type": "code",
      "source": [
        "!pip show openai | grep Version"
      ],
      "metadata": {
        "colab": {
          "base_uri": "https://localhost:8080/"
        },
        "id": "H1iVojDEm7Yh",
        "outputId": "533b0b08-30eb-446a-b9c6-50a212e1d8ac"
      },
      "execution_count": 1,
      "outputs": [
        {
          "output_type": "stream",
          "name": "stdout",
          "text": [
            "Version: 0.28.0\n"
          ]
        }
      ]
    },
    {
      "cell_type": "code",
      "source": [
        "import openai\n",
        "\n",
        "# Set up the OpenAI API client\n",
        "openai.api_key = \"sk-\""
      ],
      "metadata": {
        "id": "BLZjLaNNnFfI"
      },
      "execution_count": 4,
      "outputs": []
    },
    {
      "cell_type": "code",
      "source": [
        "import asyncio\n",
        "# import openai\n",
        "import pprint\n",
        "import difflib\n",
        "from IPython.display import display, HTML\n",
        "\n",
        "GPT_MODEL = \"gpt-3.5-turbo-1106\""
      ],
      "metadata": {
        "id": "I0ktS_CnnD4t"
      },
      "execution_count": 5,
      "outputs": []
    },
    {
      "cell_type": "code",
      "source": [
        "async def get_chat_response(system_message: str, user_request: str, seed: int = None):\n",
        "    try:\n",
        "        messages = [\n",
        "            {\"role\": \"system\", \"content\": system_message},\n",
        "            {\"role\": \"user\", \"content\": user_request},\n",
        "        ]\n",
        "\n",
        "        response = openai.ChatCompletion.create(\n",
        "            model=GPT_MODEL,\n",
        "            messages=messages,\n",
        "            seed=seed,\n",
        "            max_tokens=200,\n",
        "            temperature=0.7,\n",
        "        )\n",
        "\n",
        "        response_content = response[\"choices\"][0][\"message\"][\"content\"]\n",
        "        system_fingerprint = response[\"system_fingerprint\"]\n",
        "        prompt_tokens = response[\"usage\"][\"prompt_tokens\"]\n",
        "        completion_tokens = (\n",
        "            response[\"usage\"][\"total_tokens\"] - response[\"usage\"][\"prompt_tokens\"]\n",
        "        )\n",
        "\n",
        "        table = f\"\"\"\n",
        "        <table>\n",
        "        <tr><th>Response</th><td>{response_content}</td></tr>\n",
        "        <tr><th>System Fingerprint</th><td>{system_fingerprint}</td></tr>\n",
        "        <tr><th>Number of prompt tokens</th><td>{prompt_tokens}</td></tr>\n",
        "        <tr><th>Number of completion tokens</th><td>{completion_tokens}</td></tr>\n",
        "        </table>\n",
        "        \"\"\"\n",
        "        display(HTML(table))\n",
        "\n",
        "        return response_content\n",
        "    except Exception as e:\n",
        "        print(f\"An error occurred: {e}\")\n",
        "        return None\n",
        "\n",
        "\n",
        "# This function compares two responses and displays the differences in a table.\n",
        "# Deletions are highlighted in red and additions are highlighted in green.\n",
        "# If no differences are found, it prints \"No differences found.\"\n",
        "\n",
        "\n",
        "def compare_responses(previous_response: str, response: str):\n",
        "    d = difflib.Differ()\n",
        "    diff = d.compare(previous_response.splitlines(), response.splitlines())\n",
        "\n",
        "    diff_table = \"<table>\"\n",
        "    diff_exists = False\n",
        "\n",
        "    for line in diff:\n",
        "        if line.startswith(\"- \"):\n",
        "            diff_table += f\"<tr style='color: red;'><td>{line}</td></tr>\"\n",
        "            diff_exists = True\n",
        "        elif line.startswith(\"+ \"):\n",
        "            diff_table += f\"<tr style='color: green;'><td>{line}</td></tr>\"\n",
        "            diff_exists = True\n",
        "        else:\n",
        "            diff_table += f\"<tr><td>{line}</td></tr>\"\n",
        "\n",
        "    diff_table += \"</table>\"\n",
        "\n",
        "    if diff_exists:\n",
        "        display(HTML(diff_table))\n",
        "    else:\n",
        "        print(\"No differences found.\")"
      ],
      "metadata": {
        "id": "37Uh7LxQnpAx"
      },
      "execution_count": 6,
      "outputs": []
    },
    {
      "cell_type": "code",
      "source": [
        "topic = \"a journey to Mars\"\n",
        "system_message = \"You are a helpful assistant that generates short stories.\"\n",
        "user_request = f\"Generate a short story about {topic}.\"\n",
        "\n",
        "previous_response = await get_chat_response(\n",
        "    system_message=system_message, user_request=user_request\n",
        ")\n",
        "\n",
        "response = await get_chat_response(\n",
        "    system_message=system_message, user_request=user_request\n",
        ")\n",
        "\n",
        "# The function compare_responses is then called with the two responses as arguments.\n",
        "# This function will compare the two responses and display the differences in a table.\n",
        "# If no differences are found, it will print \"No differences found.\"\n",
        "compare_responses(previous_response, response)"
      ],
      "metadata": {
        "colab": {
          "base_uri": "https://localhost:8080/",
          "height": 863
        },
        "id": "X3Hkthssnsom",
        "outputId": "c17f3d13-1d99-4ffa-a9e2-194deb3be3b6"
      },
      "execution_count": 7,
      "outputs": [
        {
          "output_type": "display_data",
          "data": {
            "text/plain": [
              "<IPython.core.display.HTML object>"
            ],
            "text/html": [
              "\n",
              "        <table>\n",
              "        <tr><th>Response</th><td>Once upon a time in the not-so-distant future, a group of adventurous astronauts set out on a groundbreaking journey to Mars. Their spaceship, the \"Stellar Voyager,\" was equipped with the latest technology and their mission was to establish the first human settlement on the red planet.\n",
              "\n",
              "As they embarked on their long and arduous journey, the crew encountered various challenges and obstacles. They had to navigate through asteroid fields, endure the rigors of deep space travel, and adapt to the isolation of being millions of miles away from Earth.\n",
              "\n",
              "After several months of travel, the \"Stellar Voyager\" finally landed on the surface of Mars. The astronauts marveled at the breathtaking Martian landscape, with its rusty-red terrain and towering mountains in the distance. They quickly got to work, setting up their base camp and beginning the process of building sustainable habitats for future settlers.\n",
              "\n",
              "Despite the harsh and inhospitable conditions of the planet, the crew persevered, working together to overcome the many obstacles they faced. They</td></tr>\n",
              "        <tr><th>System Fingerprint</th><td>fp_eeff13170a</td></tr>\n",
              "        <tr><th>Number of prompt tokens</th><td>31</td></tr>\n",
              "        <tr><th>Number of completion tokens</th><td>200</td></tr>\n",
              "        </table>\n",
              "        "
            ]
          },
          "metadata": {}
        },
        {
          "output_type": "display_data",
          "data": {
            "text/plain": [
              "<IPython.core.display.HTML object>"
            ],
            "text/html": [
              "\n",
              "        <table>\n",
              "        <tr><th>Response</th><td>In the year 2050, a team of astronauts embarked on a historic journey to Mars, determined to explore the red planet and unlock its mysteries. The spacecraft, named Odyssey, soared through the vast expanse of space, carrying the hopes and dreams of humanity.\n",
              "\n",
              "As they neared their destination, the crew eagerly prepared for the landing, their hearts pounding with excitement and anticipation. The moment the spacecraft touched down on the Martian surface, the astronauts stepped out onto the alien terrain, marveling at the breathtaking landscape before them.\n",
              "\n",
              "They conducted experiments, gathered samples, and documented their findings, each moment filled with wonder and discovery. As they ventured deeper into the planet's uncharted territory, they encountered strange rock formations and mysterious phenomena, all of which sparked their curiosity and ignited their imaginations.\n",
              "\n",
              "Despite facing numerous challenges and obstacles, the resilient crew persevered, pushing the boundaries of exploration and paving the way for future generations of space travelers. Their journey to Mars was not just a feat of science and technology</td></tr>\n",
              "        <tr><th>System Fingerprint</th><td>fp_eeff13170a</td></tr>\n",
              "        <tr><th>Number of prompt tokens</th><td>31</td></tr>\n",
              "        <tr><th>Number of completion tokens</th><td>200</td></tr>\n",
              "        </table>\n",
              "        "
            ]
          },
          "metadata": {}
        },
        {
          "output_type": "display_data",
          "data": {
            "text/plain": [
              "<IPython.core.display.HTML object>"
            ],
            "text/html": [
              "<table><tr style='color: red;'><td>- Once upon a time in the not-so-distant future, a group of adventurous astronauts set out on a groundbreaking journey to Mars. Their spaceship, the \"Stellar Voyager,\" was equipped with the latest technology and their mission was to establish the first human settlement on the red planet.</td></tr><tr style='color: green;'><td>+ In the year 2050, a team of astronauts embarked on a historic journey to Mars, determined to explore the red planet and unlock its mysteries. The spacecraft, named Odyssey, soared through the vast expanse of space, carrying the hopes and dreams of humanity.</td></tr><tr><td>  </td></tr><tr style='color: red;'><td>- As they embarked on their long and arduous journey, the crew encountered various challenges and obstacles. They had to navigate through asteroid fields, endure the rigors of deep space travel, and adapt to the isolation of being millions of miles away from Earth.</td></tr><tr style='color: green;'><td>+ As they neared their destination, the crew eagerly prepared for the landing, their hearts pounding with excitement and anticipation. The moment the spacecraft touched down on the Martian surface, the astronauts stepped out onto the alien terrain, marveling at the breathtaking landscape before them.</td></tr><tr><td>  </td></tr><tr style='color: red;'><td>- After several months of travel, the \"Stellar Voyager\" finally landed on the surface of Mars. The astronauts marveled at the breathtaking Martian landscape, with its rusty-red terrain and towering mountains in the distance. They quickly got to work, setting up their base camp and beginning the process of building sustainable habitats for future settlers.</td></tr><tr style='color: green;'><td>+ They conducted experiments, gathered samples, and documented their findings, each moment filled with wonder and discovery. As they ventured deeper into the planet's uncharted territory, they encountered strange rock formations and mysterious phenomena, all of which sparked their curiosity and ignited their imaginations.</td></tr><tr><td>  </td></tr><tr style='color: red;'><td>- Despite the harsh and inhospitable conditions of the planet, the crew persevered, working together to overcome the many obstacles they faced. They</td></tr><tr style='color: green;'><td>+ Despite facing numerous challenges and obstacles, the resilient crew persevered, pushing the boundaries of exploration and paving the way for future generations of space travelers. Their journey to Mars was not just a feat of science and technology</td></tr></table>"
            ]
          },
          "metadata": {}
        }
      ]
    },
    {
      "cell_type": "code",
      "source": [
        "SEED = 123\n",
        "response = await get_chat_response(\n",
        "    system_message=system_message, seed=SEED, user_request=user_request\n",
        ")\n",
        "previous_response = response\n",
        "response = await get_chat_response(\n",
        "    system_message=system_message, seed=SEED, user_request=user_request\n",
        ")\n",
        "\n",
        "compare_responses(previous_response, response)"
      ],
      "metadata": {
        "colab": {
          "base_uri": "https://localhost:8080/",
          "height": 859
        },
        "id": "q4bn9NAQoOrV",
        "outputId": "8cd1b547-1f95-4785-eb20-5f2f11f32f01"
      },
      "execution_count": 8,
      "outputs": [
        {
          "output_type": "display_data",
          "data": {
            "text/plain": [
              "<IPython.core.display.HTML object>"
            ],
            "text/html": [
              "\n",
              "        <table>\n",
              "        <tr><th>Response</th><td>In the not-so-distant future, a team of brave astronauts embarked on a groundbreaking journey to Mars. The spacecraft, named \"Odyssey,\" soared through the vast expanse of space, leaving Earth behind as they ventured toward the mysterious red planet.\n",
              "\n",
              "As the crew members gazed out of their windows, they were filled with a sense of awe and wonder at the beauty of the cosmos. Each of them had their own reasons for making this perilous journey, but they were united by a shared dream of exploring the unknown and expanding the horizons of human exploration.\n",
              "\n",
              "Throughout the long journey, the crew faced numerous challenges, from navigating through asteroid fields to enduring the isolation and confinement of space travel. Yet, their determination and teamwork allowed them to overcome every obstacle that came their way.\n",
              "\n",
              "Finally, after months of anticipation, the \"Odyssey\" entered the orbit of Mars. The astronauts marveled at the sight of the planet's rugged terrain and rust-colored landscape. Their excitement grew as they prepared to descend</td></tr>\n",
              "        <tr><th>System Fingerprint</th><td>fp_eeff13170a</td></tr>\n",
              "        <tr><th>Number of prompt tokens</th><td>31</td></tr>\n",
              "        <tr><th>Number of completion tokens</th><td>200</td></tr>\n",
              "        </table>\n",
              "        "
            ]
          },
          "metadata": {}
        },
        {
          "output_type": "display_data",
          "data": {
            "text/plain": [
              "<IPython.core.display.HTML object>"
            ],
            "text/html": [
              "\n",
              "        <table>\n",
              "        <tr><th>Response</th><td>In the not-so-distant future, a team of brave astronauts embarked on a groundbreaking journey to Mars. The spacecraft, named \"Odyssey,\" soared through the vast expanse of space, leaving Earth behind as they ventured toward the mysterious red planet.\n",
              "\n",
              "As the crew members gazed out of their windows, they were filled with a sense of awe and wonder at the endless beauty of the cosmos. Each day brought new challenges and discoveries, from navigating through asteroid fields to marveling at the breathtaking sight of distant galaxies.\n",
              "\n",
              "After a long and arduous journey, the \"Odyssey\" finally approached the Martian atmosphere. The crew held their breath as they descended toward the alien landscape below. As the spacecraft touched down on the rust-colored surface, they became the first humans to set foot on Mars.\n",
              "\n",
              "Exploring the barren yet captivating terrain, the astronauts marveled at the otherworldly vistas and conducted scientific experiments to unravel the planet's mysteries. They collected samples of Martian soil and rocks, studied the composition</td></tr>\n",
              "        <tr><th>System Fingerprint</th><td>fp_eeff13170a</td></tr>\n",
              "        <tr><th>Number of prompt tokens</th><td>31</td></tr>\n",
              "        <tr><th>Number of completion tokens</th><td>200</td></tr>\n",
              "        </table>\n",
              "        "
            ]
          },
          "metadata": {}
        },
        {
          "output_type": "display_data",
          "data": {
            "text/plain": [
              "<IPython.core.display.HTML object>"
            ],
            "text/html": [
              "<table><tr><td>  In the not-so-distant future, a team of brave astronauts embarked on a groundbreaking journey to Mars. The spacecraft, named \"Odyssey,\" soared through the vast expanse of space, leaving Earth behind as they ventured toward the mysterious red planet.</td></tr><tr><td>  </td></tr><tr style='color: red;'><td>- As the crew members gazed out of their windows, they were filled with a sense of awe and wonder at the beauty of the cosmos. Each of them had their own reasons for making this perilous journey, but they were united by a shared dream of exploring the unknown and expanding the horizons of human exploration.</td></tr><tr style='color: green;'><td>+ As the crew members gazed out of their windows, they were filled with a sense of awe and wonder at the endless beauty of the cosmos. Each day brought new challenges and discoveries, from navigating through asteroid fields to marveling at the breathtaking sight of distant galaxies.</td></tr><tr><td>  </td></tr><tr style='color: red;'><td>- Throughout the long journey, the crew faced numerous challenges, from navigating through asteroid fields to enduring the isolation and confinement of space travel. Yet, their determination and teamwork allowed them to overcome every obstacle that came their way.</td></tr><tr style='color: green;'><td>+ After a long and arduous journey, the \"Odyssey\" finally approached the Martian atmosphere. The crew held their breath as they descended toward the alien landscape below. As the spacecraft touched down on the rust-colored surface, they became the first humans to set foot on Mars.</td></tr><tr><td>  </td></tr><tr style='color: red;'><td>- Finally, after months of anticipation, the \"Odyssey\" entered the orbit of Mars. The astronauts marveled at the sight of the planet's rugged terrain and rust-colored landscape. Their excitement grew as they prepared to descend</td></tr><tr style='color: green;'><td>+ Exploring the barren yet captivating terrain, the astronauts marveled at the otherworldly vistas and conducted scientific experiments to unravel the planet's mysteries. They collected samples of Martian soil and rocks, studied the composition</td></tr></table>"
            ]
          },
          "metadata": {}
        }
      ]
    }
  ]
}