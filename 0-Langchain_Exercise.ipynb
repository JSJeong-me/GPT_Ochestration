{
  "nbformat": 4,
  "nbformat_minor": 0,
  "metadata": {
    "colab": {
      "provenance": [],
      "gpuType": "T4",
      "include_colab_link": true
    },
    "kernelspec": {
      "name": "python3",
      "display_name": "Python 3"
    },
    "language_info": {
      "name": "python"
    }
  },
  "cells": [
    {
      "cell_type": "markdown",
      "metadata": {
        "id": "view-in-github",
        "colab_type": "text"
      },
      "source": [
        "<a href=\"https://colab.research.google.com/github/JSJeong-me/GPT_Ochestration/blob/main/0-Langchain_Exercise.ipynb\" target=\"_parent\"><img src=\"https://colab.research.google.com/assets/colab-badge.svg\" alt=\"Open In Colab\"/></a>"
      ]
    },
    {
      "cell_type": "markdown",
      "source": [
        "# LangChain이란?\n",
        "* Language : Large Language Model의 Language\n",
        "* Chain: 모듈들을 체인으로 연결하여 다른 툴의 출력을 다음 툴의 입력으로 연결하는 방식\n",
        "  * 예: 검색 -> OpenAI(LLM) -> 계산\n",
        "* LLM(Large Language Model)을 이용해서 뭔가 만들때 쓸수 있는 툴/라이브러리 모음.\n",
        "* 파이썬과 자바스크립트 라이브러리를 제공.\n",
        "* 검색, 메모리, 계산, 요약, 색인, Agent(에이전트) 등의 기능을 제공\n",
        "* 모듈화로 쉽게 부품을 갈아끼울수 있음\n",
        "* LLM은 기본 OpenAI (text-davinci-003) 이용\n",
        "\n",
        "---\n",
        "참고 자료:\n",
        "* 파이썬 문서: https://python.langchain.com/en/latest/index.html\n",
        "* 개념 문서: https://docs.langchain.com/docs/\n",
        "* 소스: https://github.com/hwchase17/langchain\n",
        "\n",
        "---"
      ],
      "metadata": {
        "id": "tXNJbsfQExSI"
      }
    },
    {
      "cell_type": "code",
      "execution_count": 1,
      "metadata": {
        "id": "MeRu2hV6sCyv",
        "colab": {
          "base_uri": "https://localhost:8080/"
        },
        "outputId": "13271cb0-a256-4beb-86a8-9dbd1aef33d1"
      },
      "outputs": [
        {
          "output_type": "stream",
          "name": "stdout",
          "text": [
            "Collecting openai\n",
            "  Downloading openai-1.3.0-py3-none-any.whl (220 kB)\n",
            "\u001b[2K     \u001b[90m━━━━━━━━━━━━━━━━━━━━━━━━━━━━━━━━━━━━━━━━\u001b[0m \u001b[32m220.3/220.3 kB\u001b[0m \u001b[31m4.1 MB/s\u001b[0m eta \u001b[36m0:00:00\u001b[0m\n",
            "\u001b[?25hRequirement already satisfied: anyio<4,>=3.5.0 in /usr/local/lib/python3.10/dist-packages (from openai) (3.7.1)\n",
            "Requirement already satisfied: distro<2,>=1.7.0 in /usr/lib/python3/dist-packages (from openai) (1.7.0)\n",
            "Collecting httpx<1,>=0.23.0 (from openai)\n",
            "  Downloading httpx-0.25.1-py3-none-any.whl (75 kB)\n",
            "\u001b[2K     \u001b[90m━━━━━━━━━━━━━━━━━━━━━━━━━━━━━━━━━━━━━━━━\u001b[0m \u001b[32m75.0/75.0 kB\u001b[0m \u001b[31m10.5 MB/s\u001b[0m eta \u001b[36m0:00:00\u001b[0m\n",
            "\u001b[?25hRequirement already satisfied: pydantic<3,>=1.9.0 in /usr/local/lib/python3.10/dist-packages (from openai) (1.10.13)\n",
            "Requirement already satisfied: tqdm>4 in /usr/local/lib/python3.10/dist-packages (from openai) (4.66.1)\n",
            "Requirement already satisfied: typing-extensions<5,>=4.5 in /usr/local/lib/python3.10/dist-packages (from openai) (4.5.0)\n",
            "Requirement already satisfied: idna>=2.8 in /usr/local/lib/python3.10/dist-packages (from anyio<4,>=3.5.0->openai) (3.4)\n",
            "Requirement already satisfied: sniffio>=1.1 in /usr/local/lib/python3.10/dist-packages (from anyio<4,>=3.5.0->openai) (1.3.0)\n",
            "Requirement already satisfied: exceptiongroup in /usr/local/lib/python3.10/dist-packages (from anyio<4,>=3.5.0->openai) (1.1.3)\n",
            "Requirement already satisfied: certifi in /usr/local/lib/python3.10/dist-packages (from httpx<1,>=0.23.0->openai) (2023.7.22)\n",
            "Collecting httpcore (from httpx<1,>=0.23.0->openai)\n",
            "  Downloading httpcore-1.0.2-py3-none-any.whl (76 kB)\n",
            "\u001b[2K     \u001b[90m━━━━━━━━━━━━━━━━━━━━━━━━━━━━━━━━━━━━━━━━\u001b[0m \u001b[32m76.9/76.9 kB\u001b[0m \u001b[31m10.8 MB/s\u001b[0m eta \u001b[36m0:00:00\u001b[0m\n",
            "\u001b[?25hCollecting h11<0.15,>=0.13 (from httpcore->httpx<1,>=0.23.0->openai)\n",
            "  Downloading h11-0.14.0-py3-none-any.whl (58 kB)\n",
            "\u001b[2K     \u001b[90m━━━━━━━━━━━━━━━━━━━━━━━━━━━━━━━━━━━━━━━━\u001b[0m \u001b[32m58.3/58.3 kB\u001b[0m \u001b[31m8.8 MB/s\u001b[0m eta \u001b[36m0:00:00\u001b[0m\n",
            "\u001b[?25hInstalling collected packages: h11, httpcore, httpx, openai\n",
            "\u001b[31mERROR: pip's dependency resolver does not currently take into account all the packages that are installed. This behaviour is the source of the following dependency conflicts.\n",
            "llmx 0.0.15a0 requires cohere, which is not installed.\n",
            "llmx 0.0.15a0 requires tiktoken, which is not installed.\u001b[0m\u001b[31m\n",
            "\u001b[0mSuccessfully installed h11-0.14.0 httpcore-1.0.2 httpx-0.25.1 openai-1.3.0\n",
            "Collecting langchain\n",
            "  Downloading langchain-0.0.335-py3-none-any.whl (2.0 MB)\n",
            "\u001b[2K     \u001b[90m━━━━━━━━━━━━━━━━━━━━━━━━━━━━━━━━━━━━━━━━\u001b[0m \u001b[32m2.0/2.0 MB\u001b[0m \u001b[31m17.5 MB/s\u001b[0m eta \u001b[36m0:00:00\u001b[0m\n",
            "\u001b[?25hRequirement already satisfied: PyYAML>=5.3 in /usr/local/lib/python3.10/dist-packages (from langchain) (6.0.1)\n",
            "Requirement already satisfied: SQLAlchemy<3,>=1.4 in /usr/local/lib/python3.10/dist-packages (from langchain) (2.0.23)\n",
            "Requirement already satisfied: aiohttp<4.0.0,>=3.8.3 in /usr/local/lib/python3.10/dist-packages (from langchain) (3.8.6)\n",
            "Requirement already satisfied: anyio<4.0 in /usr/local/lib/python3.10/dist-packages (from langchain) (3.7.1)\n",
            "Requirement already satisfied: async-timeout<5.0.0,>=4.0.0 in /usr/local/lib/python3.10/dist-packages (from langchain) (4.0.3)\n",
            "Collecting dataclasses-json<0.7,>=0.5.7 (from langchain)\n",
            "  Downloading dataclasses_json-0.6.2-py3-none-any.whl (28 kB)\n",
            "Collecting jsonpatch<2.0,>=1.33 (from langchain)\n",
            "  Downloading jsonpatch-1.33-py2.py3-none-any.whl (12 kB)\n",
            "Collecting langsmith<0.1.0,>=0.0.63 (from langchain)\n",
            "  Downloading langsmith-0.0.64-py3-none-any.whl (45 kB)\n",
            "\u001b[2K     \u001b[90m━━━━━━━━━━━━━━━━━━━━━━━━━━━━━━━━━━━━━━━━\u001b[0m \u001b[32m45.5/45.5 kB\u001b[0m \u001b[31m3.9 MB/s\u001b[0m eta \u001b[36m0:00:00\u001b[0m\n",
            "\u001b[?25hRequirement already satisfied: numpy<2,>=1 in /usr/local/lib/python3.10/dist-packages (from langchain) (1.23.5)\n",
            "Requirement already satisfied: pydantic<3,>=1 in /usr/local/lib/python3.10/dist-packages (from langchain) (1.10.13)\n",
            "Requirement already satisfied: requests<3,>=2 in /usr/local/lib/python3.10/dist-packages (from langchain) (2.31.0)\n",
            "Requirement already satisfied: tenacity<9.0.0,>=8.1.0 in /usr/local/lib/python3.10/dist-packages (from langchain) (8.2.3)\n",
            "Requirement already satisfied: attrs>=17.3.0 in /usr/local/lib/python3.10/dist-packages (from aiohttp<4.0.0,>=3.8.3->langchain) (23.1.0)\n",
            "Requirement already satisfied: charset-normalizer<4.0,>=2.0 in /usr/local/lib/python3.10/dist-packages (from aiohttp<4.0.0,>=3.8.3->langchain) (3.3.2)\n",
            "Requirement already satisfied: multidict<7.0,>=4.5 in /usr/local/lib/python3.10/dist-packages (from aiohttp<4.0.0,>=3.8.3->langchain) (6.0.4)\n",
            "Requirement already satisfied: yarl<2.0,>=1.0 in /usr/local/lib/python3.10/dist-packages (from aiohttp<4.0.0,>=3.8.3->langchain) (1.9.2)\n",
            "Requirement already satisfied: frozenlist>=1.1.1 in /usr/local/lib/python3.10/dist-packages (from aiohttp<4.0.0,>=3.8.3->langchain) (1.4.0)\n",
            "Requirement already satisfied: aiosignal>=1.1.2 in /usr/local/lib/python3.10/dist-packages (from aiohttp<4.0.0,>=3.8.3->langchain) (1.3.1)\n",
            "Requirement already satisfied: idna>=2.8 in /usr/local/lib/python3.10/dist-packages (from anyio<4.0->langchain) (3.4)\n",
            "Requirement already satisfied: sniffio>=1.1 in /usr/local/lib/python3.10/dist-packages (from anyio<4.0->langchain) (1.3.0)\n",
            "Requirement already satisfied: exceptiongroup in /usr/local/lib/python3.10/dist-packages (from anyio<4.0->langchain) (1.1.3)\n",
            "Collecting marshmallow<4.0.0,>=3.18.0 (from dataclasses-json<0.7,>=0.5.7->langchain)\n",
            "  Downloading marshmallow-3.20.1-py3-none-any.whl (49 kB)\n",
            "\u001b[2K     \u001b[90m━━━━━━━━━━━━━━━━━━━━━━━━━━━━━━━━━━━━━━━━\u001b[0m \u001b[32m49.4/49.4 kB\u001b[0m \u001b[31m6.8 MB/s\u001b[0m eta \u001b[36m0:00:00\u001b[0m\n",
            "\u001b[?25hCollecting typing-inspect<1,>=0.4.0 (from dataclasses-json<0.7,>=0.5.7->langchain)\n",
            "  Downloading typing_inspect-0.9.0-py3-none-any.whl (8.8 kB)\n",
            "Collecting jsonpointer>=1.9 (from jsonpatch<2.0,>=1.33->langchain)\n",
            "  Downloading jsonpointer-2.4-py2.py3-none-any.whl (7.8 kB)\n",
            "Requirement already satisfied: typing-extensions>=4.2.0 in /usr/local/lib/python3.10/dist-packages (from pydantic<3,>=1->langchain) (4.5.0)\n",
            "Requirement already satisfied: urllib3<3,>=1.21.1 in /usr/local/lib/python3.10/dist-packages (from requests<3,>=2->langchain) (2.0.7)\n",
            "Requirement already satisfied: certifi>=2017.4.17 in /usr/local/lib/python3.10/dist-packages (from requests<3,>=2->langchain) (2023.7.22)\n",
            "Requirement already satisfied: greenlet!=0.4.17 in /usr/local/lib/python3.10/dist-packages (from SQLAlchemy<3,>=1.4->langchain) (3.0.1)\n",
            "Requirement already satisfied: packaging>=17.0 in /usr/local/lib/python3.10/dist-packages (from marshmallow<4.0.0,>=3.18.0->dataclasses-json<0.7,>=0.5.7->langchain) (23.2)\n",
            "Collecting mypy-extensions>=0.3.0 (from typing-inspect<1,>=0.4.0->dataclasses-json<0.7,>=0.5.7->langchain)\n",
            "  Downloading mypy_extensions-1.0.0-py3-none-any.whl (4.7 kB)\n",
            "Installing collected packages: mypy-extensions, marshmallow, jsonpointer, typing-inspect, langsmith, jsonpatch, dataclasses-json, langchain\n",
            "Successfully installed dataclasses-json-0.6.2 jsonpatch-1.33 jsonpointer-2.4 langchain-0.0.335 langsmith-0.0.64 marshmallow-3.20.1 mypy-extensions-1.0.0 typing-inspect-0.9.0\n"
          ]
        }
      ],
      "source": [
        "#@title 기본 패키지(openai, langchain) 설치\n",
        "!pip install openai\n",
        "!pip install langchain"
      ]
    },
    {
      "cell_type": "code",
      "source": [
        "#@title 기타 패키지 설치 (구글검색, 위키피디아, VectorStore, HuggingFace Embedding)\n",
        "!pip install google-search-results\n",
        "!pip install wikipedia\n",
        "!pip install faiss-cpu # 오픈소스 벡터DB (Facebook, MIT license)\n",
        "!pip install sentence_transformers # HuggingFace Embedding 사용 위해서 필요\n",
        "!pip install tiktoken # Summarization 할때 필요"
      ],
      "metadata": {
        "id": "bz4Q7yF1-gZu"
      },
      "execution_count": null,
      "outputs": []
    },
    {
      "cell_type": "code",
      "source": [
        "#@title 0. API 키 설정\n",
        "import os\n",
        "#@markdown https://platform.openai.com/account/api-keys\n",
        "OPENAI_API_KEY = \"sk-\" #@param {type:\"string\"}\n",
        "\n",
        "#@markdown https://huggingface.co/settings/tokens\n",
        "#@markdown HuggingFace에서 모델 다운로드나 클라우드 모델 사용하기 위해서 필요 (무료)\n",
        "HUGGINGFACEHUB_API_TOKEN = \"hf_\" #@param {type:\"string\"}\n",
        "\n",
        "#@markdown https://serpapi.com/manage-api-key\n",
        "#@markdown 구글 검색하기 위해서 필요 (월 100회 무료)\n",
        "SERPAPI_API_KEY = \"\" #@param {type:\"string\"}\n",
        "\n",
        "os.environ[\"OPENAI_API_KEY\"] = OPENAI_API_KEY\n",
        "os.environ[\"HUGGINGFACEHUB_API_TOKEN\"] = HUGGINGFACEHUB_API_TOKEN\n",
        "os.environ[\"SERPAPI_API_KEY\"] = SERPAPI_API_KEY\n"
      ],
      "metadata": {
        "id": "XRO6i4Myseen"
      },
      "execution_count": 3,
      "outputs": []
    },
    {
      "cell_type": "code",
      "source": [
        "#@title 1. OpenAI LLM (text-davinci-003)\n",
        "\n",
        "from langchain.llms import OpenAI"
      ],
      "metadata": {
        "id": "eV3cP6GtJe-i"
      },
      "execution_count": 4,
      "outputs": []
    },
    {
      "cell_type": "code",
      "source": [
        "#@title 1. OpenAI LLM (text-davinci-003)\n",
        "\n",
        "from langchain.llms import OpenAI\n",
        "\n",
        "llm = OpenAI(model_name='text-davinci-003', temperature=0.9)\n",
        "\n"
      ],
      "metadata": {
        "id": "HfdZjHHrsoX0"
      },
      "execution_count": 5,
      "outputs": []
    },
    {
      "cell_type": "code",
      "source": [
        "type(llm)"
      ],
      "metadata": {
        "id": "no_md6DZJ2oE",
        "outputId": "b0f7201d-9d17-4caa-bd35-2783ac2b4589",
        "colab": {
          "base_uri": "https://localhost:8080/"
        }
      },
      "execution_count": 6,
      "outputs": [
        {
          "output_type": "execute_result",
          "data": {
            "text/plain": [
              "langchain.llms.openai.OpenAI"
            ]
          },
          "metadata": {},
          "execution_count": 6
        }
      ]
    },
    {
      "cell_type": "code",
      "source": [
        "llm('미국의 빌보드차트에 오른 한국 가수 이름을 알려 주세요.')"
      ],
      "metadata": {
        "id": "8iWhxOQzJzAF",
        "outputId": "e1c9437f-2cc6-4735-fca0-c5bb226116ca",
        "colab": {
          "base_uri": "https://localhost:8080/",
          "height": 54
        }
      },
      "execution_count": 7,
      "outputs": [
        {
          "output_type": "execute_result",
          "data": {
            "text/plain": [
              "\"\\n\\n1. PSY - Gangnam Style\\n2. BTS - DNA\\n3. BLACKPINK - Kill This Love\\n4. EXO - Growl\\n5. TWICE - Chaser\\n6. BIGBANG - Bang Bang Bang\\n7. Taeyang - Wedding Dress\\n8. IU - Palette\\n9. SEVENTEEN - Don't Wanna Cry\\n10. MONSTA X - Beautiful\""
            ],
            "application/vnd.google.colaboratory.intrinsic+json": {
              "type": "string"
            }
          },
          "metadata": {},
          "execution_count": 7
        }
      ]
    },
    {
      "cell_type": "code",
      "source": [
        "llm('2020 올림픽은 어디에서 개최 되었나요?')"
      ],
      "metadata": {
        "id": "wrrsaVwiJ_Uh",
        "outputId": "cdfe669e-d45d-4664-ea2e-7f46aa2a3421",
        "colab": {
          "base_uri": "https://localhost:8080/",
          "height": 35
        }
      },
      "execution_count": 8,
      "outputs": [
        {
          "output_type": "execute_result",
          "data": {
            "text/plain": [
              "'\\n\\n2020년 올림픽은 러시아 모스크바에서 개최되었습니다.'"
            ],
            "application/vnd.google.colaboratory.intrinsic+json": {
              "type": "string"
            }
          },
          "metadata": {},
          "execution_count": 8
        }
      ]
    },
    {
      "cell_type": "code",
      "source": [
        "#@title 2. ChatOpenAI LLM (gpt-3.5-turbo)\n",
        "\n",
        "from langchain.chat_models import ChatOpenAI\n",
        "from langchain.schema import (\n",
        "    AIMessage,\n",
        "    HumanMessage,\n",
        "    SystemMessage\n",
        ")"
      ],
      "metadata": {
        "id": "tYME_S2JK4ye"
      },
      "execution_count": 9,
      "outputs": []
    },
    {
      "cell_type": "code",
      "source": [
        "chat = ChatOpenAI(model_name='gpt-3.5-turbo', temperature=0.9)\n",
        "sys = SystemMessage(content=\"당신은 스포츠 전문 AI입니다.\")\n",
        "msg = HumanMessage(content='2020 하계 올림픽에서 대한민국 금메달 획득 갯수는?')"
      ],
      "metadata": {
        "id": "3PXbWnzoK8bH"
      },
      "execution_count": 10,
      "outputs": []
    },
    {
      "cell_type": "code",
      "source": [
        "aimsg = chat([sys, msg])\n",
        "aimsg.content"
      ],
      "metadata": {
        "colab": {
          "base_uri": "https://localhost:8080/",
          "height": 35
        },
        "id": "WWLSL1qIsvrF",
        "outputId": "a8552393-e3bb-4d2f-a652-6394175fd18f"
      },
      "execution_count": 11,
      "outputs": [
        {
          "output_type": "execute_result",
          "data": {
            "text/plain": [
              "'2020 하계 올림픽에서 대한민국은 총 6개의 금메달을 획득했습니다.'"
            ],
            "application/vnd.google.colaboratory.intrinsic+json": {
              "type": "string"
            }
          },
          "metadata": {},
          "execution_count": 11
        }
      ]
    },
    {
      "cell_type": "code",
      "source": [
        "#@title 3. Prompt Template & chain\n",
        "\n",
        "from langchain.prompts import PromptTemplate"
      ],
      "metadata": {
        "id": "7-AqHiEwLx0J"
      },
      "execution_count": 12,
      "outputs": []
    },
    {
      "cell_type": "code",
      "source": [
        "\n",
        "prompt = PromptTemplate(\n",
        "    input_variables=[\"상품\"],\n",
        "    template=\"{상품} 만드는 회사 이름 추천해줘. 기억에 남는 한글 이름으로\",\n",
        ")\n",
        "\n"
      ],
      "metadata": {
        "id": "c-M9F9uDs2NC"
      },
      "execution_count": 13,
      "outputs": []
    },
    {
      "cell_type": "code",
      "source": [
        "prompt.format(상품=\"신발\")"
      ],
      "metadata": {
        "id": "4WNzwztKL6_y",
        "outputId": "d80ed0ec-634f-4886-ea70-863ee5ff6fb6",
        "colab": {
          "base_uri": "https://localhost:8080/",
          "height": 35
        }
      },
      "execution_count": 14,
      "outputs": [
        {
          "output_type": "execute_result",
          "data": {
            "text/plain": [
              "'신발 만드는 회사 이름 추천해줘. 기억에 남는 한글 이름으로'"
            ],
            "application/vnd.google.colaboratory.intrinsic+json": {
              "type": "string"
            }
          },
          "metadata": {},
          "execution_count": 14
        }
      ]
    },
    {
      "cell_type": "code",
      "source": [
        "from langchain.chains import LLMChain\n",
        "chain = LLMChain(llm=chat, prompt=prompt)\n",
        "\n",
        "# chain.run(\"AI 여행 추천 서비스\")\n",
        "chain.run(상품=\"콜라\")"
      ],
      "metadata": {
        "colab": {
          "base_uri": "https://localhost:8080/",
          "height": 54
        },
        "id": "4xzBfJL2t6PH",
        "outputId": "4466ba50-cbcb-4b98-ee3d-07348889903e"
      },
      "execution_count": 15,
      "outputs": [
        {
          "output_type": "execute_result",
          "data": {
            "text/plain": [
              "'1. 청하금산음료\\n2. 복숭이콜라\\n3. 불멸의콜라\\n4. 향긋한콜라\\n5. 순수한맛콜라\\n6. 한가득콜라\\n7. 금강산콜라\\n8. 화려한맛콜라\\n9. 푸른하늘콜라\\n10. 미소가득콜라'"
            ],
            "application/vnd.google.colaboratory.intrinsic+json": {
              "type": "string"
            }
          },
          "metadata": {},
          "execution_count": 15
        }
      ]
    },
    {
      "cell_type": "code",
      "source": [
        "#@title 4. ChatPromptTemplate & chain\n",
        "\n",
        "from langchain.chat_models import ChatOpenAI\n",
        "from langchain.prompts.chat import (\n",
        "    ChatPromptTemplate,\n",
        "    SystemMessagePromptTemplate,\n",
        "    HumanMessagePromptTemplate,\n",
        ")"
      ],
      "metadata": {
        "id": "0ydAlKtpNDJu"
      },
      "execution_count": 16,
      "outputs": []
    },
    {
      "cell_type": "code",
      "source": [
        "chat = ChatOpenAI(temperature=0)\n",
        "\n",
        "template=\"You are a helpful assisstant that tranlates {input_language} to {output_language}.\"\n",
        "system_message_prompt = SystemMessagePromptTemplate.from_template(template)\n",
        "human_template=\"{text}\"\n",
        "human_message_prompt = HumanMessagePromptTemplate.from_template(human_template)"
      ],
      "metadata": {
        "id": "7socr586NLI0"
      },
      "execution_count": 17,
      "outputs": []
    },
    {
      "cell_type": "code",
      "source": [
        "chat_prompt = ChatPromptTemplate.from_messages([system_message_prompt, human_message_prompt])\n",
        "\n",
        "\n",
        "chatchain = LLMChain(llm=chat, prompt=chat_prompt)\n",
        "chatchain.run(input_language=\"English\", output_language=\"Korean\", text=\"Thanks god TGIF!\")\n"
      ],
      "metadata": {
        "colab": {
          "base_uri": "https://localhost:8080/",
          "height": 35
        },
        "id": "87Vh0168tFb8",
        "outputId": "e31758fb-c166-4932-f597-fe7ba0a435c6"
      },
      "execution_count": 18,
      "outputs": [
        {
          "output_type": "execute_result",
          "data": {
            "text/plain": [
              "'감사하다 신이여, 주말이다!'"
            ],
            "application/vnd.google.colaboratory.intrinsic+json": {
              "type": "string"
            }
          },
          "metadata": {},
          "execution_count": 18
        }
      ]
    },
    {
      "cell_type": "code",
      "source": [],
      "metadata": {
        "id": "Sqb1pbysNyvd"
      },
      "execution_count": null,
      "outputs": []
    },
    {
      "cell_type": "code",
      "source": [
        "#@title 5. Agents and Tools\n",
        "\n",
        "from langchain.agents import load_tools\n",
        "from langchain.agents import initialize_agent\n",
        "from langchain.agents import AgentType"
      ],
      "metadata": {
        "id": "v9z9u6ERwVGE"
      },
      "execution_count": 19,
      "outputs": []
    },
    {
      "cell_type": "markdown",
      "source": [
        "* Tool: 특정 일을 하는 역할. 예) 구글 검색, 디비 조회, Python 실행/계산.\n",
        "* Agents: 어떤 툴을 어떤 순서로 실행할지 결정하는 역할 (LLM 이용)"
      ],
      "metadata": {
        "id": "9r_UgowVFwQa"
      }
    },
    {
      "cell_type": "code",
      "source": [
        "tools = load_tools([\"serpapi\", \"llm-math\"], llm=chat)\n",
        "# tools = load_tools([\"wikipedia\", \"llm-math\"], llm=chat)\n",
        "\n",
        "agent = initialize_agent(tools, llm=chat, agent=AgentType.ZERO_SHOT_REACT_DESCRIPTION, verbose=True)"
      ],
      "metadata": {
        "id": "gbj7YaXowZ9e"
      },
      "execution_count": 20,
      "outputs": []
    },
    {
      "cell_type": "code",
      "source": [
        "agent.run(\"한국의 'New Jeans' 그룹 멤버의 인원 수는? 오늘 2023년 11월 17일 현재 전체 멤버들의 나이의 합은?\") # 한국의 'New Jeans' 그룹 멤버의 인원 수는? 오늘 2023년 5월 30일 현재 전체 멤버들의 나이의 합은 얼마인가요"
      ],
      "metadata": {
        "id": "7yigbo32wgU9",
        "colab": {
          "base_uri": "https://localhost:8080/",
          "height": 406
        },
        "outputId": "4bd30747-d6ee-4824-825e-adfe2aff7a27"
      },
      "execution_count": 21,
      "outputs": [
        {
          "output_type": "stream",
          "name": "stdout",
          "text": [
            "\n",
            "\n",
            "\u001b[1m> Entering new AgentExecutor chain...\u001b[0m\n",
            "\u001b[32;1m\u001b[1;3mI need to find information about the number of members in the Korean group 'New Jeans' and their ages.\n",
            "Action: Search\n",
            "Action Input: \"New Jeans Korean group members\"\u001b[0m\n",
            "Observation: \u001b[36;1m\u001b[1;3mThe group is composed of five members: Minji, Hanni, Danielle, Haerin, and Hyein. NewJeans is known for their girl next door image and 1990s- and 2000s-indebted pop and R&B songs with influences of various dance and club styles.\u001b[0m\n",
            "Thought:\u001b[32;1m\u001b[1;3mI still need to find information about the ages of the members.\n",
            "Action: Search\n",
            "Action Input: \"New Jeans Korean group members ages\"\u001b[0m\n",
            "Observation: \u001b[36;1m\u001b[1;3mMinji was born on May 7, 2004 and is 19 years old. Hanni was born on October 6, 2004 and is 18 years old. Danielle was born on April 11, 2005 and is 18 years old. Haerin was born on May 15, 2006 and is 17 years old.\u001b[0m\n",
            "Thought:\u001b[32;1m\u001b[1;3mI have all the information I need to calculate the sum of the ages.\n",
            "Action: Calculator\n",
            "Action Input: 19 + 18 + 18 + 17\u001b[0m\n",
            "Observation: \u001b[33;1m\u001b[1;3mAnswer: 72\u001b[0m\n",
            "Thought:\u001b[32;1m\u001b[1;3mI now know the final answer\n",
            "Final Answer: The sum of the ages of the members of the Korean group 'New Jeans' as of June 23, 2023 is 72.\u001b[0m\n",
            "\n",
            "\u001b[1m> Finished chain.\u001b[0m\n"
          ]
        },
        {
          "output_type": "execute_result",
          "data": {
            "text/plain": [
              "\"The sum of the ages of the members of the Korean group 'New Jeans' as of June 23, 2023 is 72.\""
            ],
            "application/vnd.google.colaboratory.intrinsic+json": {
              "type": "string"
            }
          },
          "metadata": {},
          "execution_count": 21
        }
      ]
    },
    {
      "cell_type": "code",
      "source": [
        "len(agent.tools)"
      ],
      "metadata": {
        "id": "86K5GdsxXlBk",
        "colab": {
          "base_uri": "https://localhost:8080/"
        },
        "outputId": "439a93ad-cce0-424f-e2d0-4f9c6ffde02b"
      },
      "execution_count": 22,
      "outputs": [
        {
          "output_type": "execute_result",
          "data": {
            "text/plain": [
              "2"
            ]
          },
          "metadata": {},
          "execution_count": 22
        }
      ]
    },
    {
      "cell_type": "code",
      "source": [
        "print(agent.tools[0].description)\n",
        "print(agent.tools[1].description)"
      ],
      "metadata": {
        "id": "kSocSoYXXPD4",
        "colab": {
          "base_uri": "https://localhost:8080/"
        },
        "outputId": "714c6f84-6407-4a95-f820-e520ffa6e689"
      },
      "execution_count": 23,
      "outputs": [
        {
          "output_type": "stream",
          "name": "stdout",
          "text": [
            "A search engine. Useful for when you need to answer questions about current events. Input should be a search query.\n",
            "Useful for when you need to answer questions about math.\n"
          ]
        }
      ]
    },
    {
      "cell_type": "code",
      "source": [
        "#@title 6. Memory\n",
        "from langchain import ConversationChain\n",
        "\n",
        "conversation = ConversationChain(llm=chat, verbose=True)\n",
        "conversation.predict(input=\"인공지능에서 Transformer가 뭐야?\")"
      ],
      "metadata": {
        "id": "EtyIuMxgwxVu",
        "colab": {
          "base_uri": "https://localhost:8080/",
          "height": 332
        },
        "outputId": "d8ae2be2-7ed1-4779-852c-0186e21b564a"
      },
      "execution_count": 24,
      "outputs": [
        {
          "output_type": "stream",
          "name": "stdout",
          "text": [
            "\n",
            "\n",
            "\u001b[1m> Entering new ConversationChain chain...\u001b[0m\n",
            "Prompt after formatting:\n",
            "\u001b[32;1m\u001b[1;3mThe following is a friendly conversation between a human and an AI. The AI is talkative and provides lots of specific details from its context. If the AI does not know the answer to a question, it truthfully says it does not know.\n",
            "\n",
            "Current conversation:\n",
            "\n",
            "Human: 인공지능에서 Transformer가 뭐야?\n",
            "AI:\u001b[0m\n",
            "\n",
            "\u001b[1m> Finished chain.\u001b[0m\n"
          ]
        },
        {
          "output_type": "execute_result",
          "data": {
            "text/plain": [
              "'Transformer는 자연어 처리 분야에서 매우 중요한 모델입니다. 이 모델은 주로 기계 번역, 질의응답, 요약 등의 작업에 사용됩니다. Transformer는 2017년에 발표된 논문 \"Attention is All You Need\"에서 처음 소개되었습니다. 이 모델은 기존의 순차적인 방식이 아닌, 전체 문장을 동시에 처리하는 방식을 사용하여 성능을 크게 향상시켰습니다. Transformer는 주로 어텐션 메커니즘을 사용하여 입력 문장의 각 단어가 출력에 얼마나 중요한지를 결정합니다. 이를 통해 문장의 의미를 잘 이해하고 번역, 요약 등의 작업을 수행할 수 있습니다.'"
            ],
            "application/vnd.google.colaboratory.intrinsic+json": {
              "type": "string"
            }
          },
          "metadata": {},
          "execution_count": 24
        }
      ]
    },
    {
      "cell_type": "code",
      "source": [
        "conversation.predict(input=\"RNN하고 차이 설명해줘.\")"
      ],
      "metadata": {
        "id": "gnLZBRh7xRti",
        "colab": {
          "base_uri": "https://localhost:8080/",
          "height": 405
        },
        "outputId": "381ad913-c080-4b08-9427-e820801a6fda"
      },
      "execution_count": 25,
      "outputs": [
        {
          "output_type": "stream",
          "name": "stdout",
          "text": [
            "\n",
            "\n",
            "\u001b[1m> Entering new ConversationChain chain...\u001b[0m\n",
            "Prompt after formatting:\n",
            "\u001b[32;1m\u001b[1;3mThe following is a friendly conversation between a human and an AI. The AI is talkative and provides lots of specific details from its context. If the AI does not know the answer to a question, it truthfully says it does not know.\n",
            "\n",
            "Current conversation:\n",
            "Human: 인공지능에서 Transformer가 뭐야?\n",
            "AI: Transformer는 자연어 처리 분야에서 매우 중요한 모델입니다. 이 모델은 주로 기계 번역, 질의응답, 요약 등의 작업에 사용됩니다. Transformer는 2017년에 발표된 논문 \"Attention is All You Need\"에서 처음 소개되었습니다. 이 모델은 기존의 순차적인 방식이 아닌, 전체 문장을 동시에 처리하는 방식을 사용하여 성능을 크게 향상시켰습니다. Transformer는 주로 어텐션 메커니즘을 사용하여 입력 문장의 각 단어가 출력에 얼마나 중요한지를 결정합니다. 이를 통해 문장의 의미를 잘 이해하고 번역, 요약 등의 작업을 수행할 수 있습니다.\n",
            "Human: RNN하고 차이 설명해줘.\n",
            "AI:\u001b[0m\n",
            "\n",
            "\u001b[1m> Finished chain.\u001b[0m\n"
          ]
        },
        {
          "output_type": "execute_result",
          "data": {
            "text/plain": [
              "'RNN은 순환 신경망(Recurrent Neural Network)의 약자로, 순차적인 데이터를 처리하는 데에 주로 사용되는 모델입니다. RNN은 이전의 입력에 의존하여 현재의 출력을 계산하는 구조를 가지고 있습니다. 이전의 정보를 기억하고 현재의 입력과 함께 사용하여 다음 출력을 예측하는 데에 유용합니다. 예를 들어, 문장의 단어를 순서대로 입력으로 받아 문장의 의미를 파악하거나, 시계열 데이터를 입력으로 받아 다음 시점의 값을 예측하는 등의 작업에 사용됩니다.\\n\\n반면에 Transformer는 RNN과는 다른 구조를 가지고 있습니다. Transformer는 기존의 순차적인 방식이 아닌, 전체 문장을 동시에 처리하는 방식을 사용합니다. 이를 위해 어텐션 메커니즘을 사용하여 입력 문장의 각 단어가 출력에 얼마나 중요한지를 결정합니다. 이러한 구조를 통해 Transformer는 RNN보다 더 긴 문장을 처리하는 데에 효과적이며, 번역, 요약 등의 작업에서 뛰어난 성능을 보입니다.'"
            ],
            "application/vnd.google.colaboratory.intrinsic+json": {
              "type": "string"
            }
          },
          "metadata": {},
          "execution_count": 25
        }
      ]
    },
    {
      "cell_type": "code",
      "source": [
        "conversation.predict(input=\"Seq2Seq 와도 차이점을 비교해줘.\")"
      ],
      "metadata": {
        "id": "r_Dmp2GGV-VB",
        "outputId": "dea5ef4e-1cb2-4dde-9b8a-f4af4e066347",
        "colab": {
          "base_uri": "https://localhost:8080/",
          "height": 479
        }
      },
      "execution_count": 26,
      "outputs": [
        {
          "output_type": "stream",
          "name": "stdout",
          "text": [
            "\n",
            "\n",
            "\u001b[1m> Entering new ConversationChain chain...\u001b[0m\n",
            "Prompt after formatting:\n",
            "\u001b[32;1m\u001b[1;3mThe following is a friendly conversation between a human and an AI. The AI is talkative and provides lots of specific details from its context. If the AI does not know the answer to a question, it truthfully says it does not know.\n",
            "\n",
            "Current conversation:\n",
            "Human: 인공지능에서 Transformer가 뭐야?\n",
            "AI: Transformer는 자연어 처리 분야에서 매우 중요한 모델입니다. 이 모델은 주로 기계 번역, 질의응답, 요약 등의 작업에 사용됩니다. Transformer는 2017년에 발표된 논문 \"Attention is All You Need\"에서 처음 소개되었습니다. 이 모델은 기존의 순차적인 방식이 아닌, 전체 문장을 동시에 처리하는 방식을 사용하여 성능을 크게 향상시켰습니다. Transformer는 주로 어텐션 메커니즘을 사용하여 입력 문장의 각 단어가 출력에 얼마나 중요한지를 결정합니다. 이를 통해 문장의 의미를 잘 이해하고 번역, 요약 등의 작업을 수행할 수 있습니다.\n",
            "Human: RNN하고 차이 설명해줘.\n",
            "AI: RNN은 순환 신경망(Recurrent Neural Network)의 약자로, 순차적인 데이터를 처리하는 데에 주로 사용되는 모델입니다. RNN은 이전의 입력에 의존하여 현재의 출력을 계산하는 구조를 가지고 있습니다. 이전의 정보를 기억하고 현재의 입력과 함께 사용하여 다음 출력을 예측하는 데에 유용합니다. 예를 들어, 문장의 단어를 순서대로 입력으로 받아 문장의 의미를 파악하거나, 시계열 데이터를 입력으로 받아 다음 시점의 값을 예측하는 등의 작업에 사용됩니다.\n",
            "\n",
            "반면에 Transformer는 RNN과는 다른 구조를 가지고 있습니다. Transformer는 기존의 순차적인 방식이 아닌, 전체 문장을 동시에 처리하는 방식을 사용합니다. 이를 위해 어텐션 메커니즘을 사용하여 입력 문장의 각 단어가 출력에 얼마나 중요한지를 결정합니다. 이러한 구조를 통해 Transformer는 RNN보다 더 긴 문장을 처리하는 데에 효과적이며, 번역, 요약 등의 작업에서 뛰어난 성능을 보입니다.\n",
            "Human: Seq2Seq 와도 차이점을 비교해줘.\n",
            "AI:\u001b[0m\n",
            "\n",
            "\u001b[1m> Finished chain.\u001b[0m\n"
          ]
        },
        {
          "output_type": "execute_result",
          "data": {
            "text/plain": [
              "'Seq2Seq는 Sequence-to-Sequence의 약자로, 번역, 대화 시스템 등에서 사용되는 모델입니다. Seq2Seq 모델은 주로 RNN을 기반으로 구성되며, 입력 시퀀스를 고정된 길이의 벡터로 인코딩한 후, 이 벡터를 기반으로 출력 시퀀스를 생성합니다. 이 모델은 입력 시퀀스와 출력 시퀀스의 길이가 다를 수 있으며, 입력과 출력 사이의 관계를 학습하여 번역이나 대화를 수행합니다.\\n\\nTransformer는 Seq2Seq 모델과는 다른 구조를 가지고 있습니다. Transformer는 RNN 대신 어텐션 메커니즘을 사용하여 입력 문장의 각 단어가 출력에 얼마나 중요한지를 결정합니다. 이를 통해 전체 문장을 동시에 처리하고, RNN보다 더 긴 문장을 효과적으로 처리할 수 있습니다. 또한, Transformer는 인코더와 디코더라는 두 개의 서브넷으로 구성되어 있으며, 각각 입력 문장을 인코딩하고 출력 문장을 디코딩합니다. 이러한 구조를 통해 Transformer는 번역, 요약 등의 작업에서 뛰어난 성능을 보입니다.'"
            ],
            "application/vnd.google.colaboratory.intrinsic+json": {
              "type": "string"
            }
          },
          "metadata": {},
          "execution_count": 26
        }
      ]
    },
    {
      "cell_type": "code",
      "source": [
        "conversation.memory"
      ],
      "metadata": {
        "id": "2gqYHOycxYD4",
        "colab": {
          "base_uri": "https://localhost:8080/"
        },
        "outputId": "e33cfeff-1055-4017-afc6-f47865cc244b"
      },
      "execution_count": 27,
      "outputs": [
        {
          "output_type": "execute_result",
          "data": {
            "text/plain": [
              "ConversationBufferMemory(chat_memory=ChatMessageHistory(messages=[HumanMessage(content='인공지능에서 Transformer가 뭐야?'), AIMessage(content='Transformer는 자연어 처리 분야에서 매우 중요한 모델입니다. 이 모델은 주로 기계 번역, 질의응답, 요약 등의 작업에 사용됩니다. Transformer는 2017년에 발표된 논문 \"Attention is All You Need\"에서 처음 소개되었습니다. 이 모델은 기존의 순차적인 방식이 아닌, 전체 문장을 동시에 처리하는 방식을 사용하여 성능을 크게 향상시켰습니다. Transformer는 주로 어텐션 메커니즘을 사용하여 입력 문장의 각 단어가 출력에 얼마나 중요한지를 결정합니다. 이를 통해 문장의 의미를 잘 이해하고 번역, 요약 등의 작업을 수행할 수 있습니다.'), HumanMessage(content='RNN하고 차이 설명해줘.'), AIMessage(content='RNN은 순환 신경망(Recurrent Neural Network)의 약자로, 순차적인 데이터를 처리하는 데에 주로 사용되는 모델입니다. RNN은 이전의 입력에 의존하여 현재의 출력을 계산하는 구조를 가지고 있습니다. 이전의 정보를 기억하고 현재의 입력과 함께 사용하여 다음 출력을 예측하는 데에 유용합니다. 예를 들어, 문장의 단어를 순서대로 입력으로 받아 문장의 의미를 파악하거나, 시계열 데이터를 입력으로 받아 다음 시점의 값을 예측하는 등의 작업에 사용됩니다.\\n\\n반면에 Transformer는 RNN과는 다른 구조를 가지고 있습니다. Transformer는 기존의 순차적인 방식이 아닌, 전체 문장을 동시에 처리하는 방식을 사용합니다. 이를 위해 어텐션 메커니즘을 사용하여 입력 문장의 각 단어가 출력에 얼마나 중요한지를 결정합니다. 이러한 구조를 통해 Transformer는 RNN보다 더 긴 문장을 처리하는 데에 효과적이며, 번역, 요약 등의 작업에서 뛰어난 성능을 보입니다.'), HumanMessage(content='Seq2Seq 와도 차이점을 비교해줘.'), AIMessage(content='Seq2Seq는 Sequence-to-Sequence의 약자로, 번역, 대화 시스템 등에서 사용되는 모델입니다. Seq2Seq 모델은 주로 RNN을 기반으로 구성되며, 입력 시퀀스를 고정된 길이의 벡터로 인코딩한 후, 이 벡터를 기반으로 출력 시퀀스를 생성합니다. 이 모델은 입력 시퀀스와 출력 시퀀스의 길이가 다를 수 있으며, 입력과 출력 사이의 관계를 학습하여 번역이나 대화를 수행합니다.\\n\\nTransformer는 Seq2Seq 모델과는 다른 구조를 가지고 있습니다. Transformer는 RNN 대신 어텐션 메커니즘을 사용하여 입력 문장의 각 단어가 출력에 얼마나 중요한지를 결정합니다. 이를 통해 전체 문장을 동시에 처리하고, RNN보다 더 긴 문장을 효과적으로 처리할 수 있습니다. 또한, Transformer는 인코더와 디코더라는 두 개의 서브넷으로 구성되어 있으며, 각각 입력 문장을 인코딩하고 출력 문장을 디코딩합니다. 이러한 구조를 통해 Transformer는 번역, 요약 등의 작업에서 뛰어난 성능을 보입니다.')]))"
            ]
          },
          "metadata": {},
          "execution_count": 27
        }
      ]
    },
    {
      "cell_type": "markdown",
      "source": [
        "* ConversationBufferMemory : 대화 기록(기본)\n",
        "* ConversationBufferWindowMemory : 마지막 n개의 대화만 기억\n",
        "* Entity Memory : 개체에 대한 정보를 저장\n",
        "* Conversation Knowledge Graph Memory: 개체의 triple 저장: (sam, 좋아하는 색, 파랑)\n",
        "* ConversationSummaryMemory : 대화의 요약본을 저장\n",
        "* ConversationSummaryBufferMemory : 대화 요약본 + 마지막 n토큰 기억\n",
        "* ConversationTokenBufferMemory : 마지막 n토큰 기억\n",
        "* VectorStore-Backed Memory : 벡터DB에 정보 저장"
      ],
      "metadata": {
        "id": "hje--LpkIT-y"
      }
    },
    {
      "cell_type": "code",
      "source": [
        "#@title 7. Document Loaders\n",
        "from langchain.document_loaders import WebBaseLoader\n",
        "\n",
        "loader = WebBaseLoader(web_path=\"https://ko.wikipedia.org/wiki/NewJeans\")\n",
        "\n",
        "documents = loader.load()"
      ],
      "metadata": {
        "id": "t8O5mJppxioA"
      },
      "execution_count": 28,
      "outputs": []
    },
    {
      "cell_type": "code",
      "source": [
        "from langchain.text_splitter import CharacterTextSplitter\n",
        "text_splitter = CharacterTextSplitter(chunk_size=1000, chunk_overlap=0)\n",
        "docs = text_splitter.split_documents(documents)\n",
        "len(docs)\n",
        "\n",
        "# 4096 token = 3000 English word"
      ],
      "metadata": {
        "id": "YaZaMHGk068I",
        "colab": {
          "base_uri": "https://localhost:8080/"
        },
        "outputId": "2e87810f-1752-4d47-f7e5-d53e939e9151"
      },
      "execution_count": 29,
      "outputs": [
        {
          "output_type": "stream",
          "name": "stderr",
          "text": [
            "WARNING:langchain.text_splitter:Created a chunk of size 2694, which is longer than the specified 1000\n"
          ]
        },
        {
          "output_type": "execute_result",
          "data": {
            "text/plain": [
              "23"
            ]
          },
          "metadata": {},
          "execution_count": 29
        }
      ]
    },
    {
      "cell_type": "code",
      "source": [
        "print(docs[-1].page_content)"
      ],
      "metadata": {
        "id": "J-PtGql21Tcu",
        "colab": {
          "base_uri": "https://localhost:8080/"
        },
        "outputId": "477ffc1d-f1f5-4098-a679-a34e1ae802b7"
      },
      "execution_count": 30,
      "outputs": [
        {
          "output_type": "stream",
          "name": "stdout",
          "text": [
            "원본 주소 \"https://ko.wikipedia.org/w/index.php?title=NewJeans&oldid=35904702\"\n",
            "분류: K-pop 음악 그룹한국어 음악 그룹대한민국의 팝 음악 그룹대한민국의 댄스 음악 그룹대한민국의 걸 그룹5인조 음악 그룹2022년 결성된 음악 그룹2020년대 음악 그룹다국적 음악 그룹엠넷 엠카운트다운 1위 수상자KBS 뮤직뱅크 1위 수상자MBC 쇼! 음악중심 1위 수상자SBS 인기가요 1위 수상자숨은 분류: CS1 - 영국 영어 인용 (en)CS1 - 러시아어 인용 (ru)CS1 - 미국 영어 인용 (en)위키데이터 속성 P18을 사용하는 문서위키데이터 속성 P154를 사용하는 문서위키데이터 속성 P373을 사용하는 문서위키데이터 속성 P213을 사용하는 문서위키데이터 속성 P434를 사용하는 문서위키데이터 속성 P5034를 사용하는 문서베트남어 표기를 포함한 문서위키데이터와 같은 Twitter username위키데이터와 다른 Twitter usernameISNI 식별자를 포함한 위키백과 문서NLK 식별자를 포함한 위키백과 문서뮤직브레인즈 식별자를 포함한 위키백과 문서\n",
            "\n",
            "\n",
            " 이 문서는 2023년 11월 11일 (토) 20:38에 마지막으로 편집되었습니다.\n",
            "모든 문서는 크리에이티브 커먼즈 저작자표시-동일조건변경허락 4.0에 따라 사용할 수 있으며, 추가적인 조건이 적용될 수 있습니다. 자세한 내용은 이용 약관을 참고하십시오.Wikipedia®는 미국 및 다른 국가에 등록되어 있는 Wikimedia Foundation, Inc. 소유의 등록 상표입니다.\n",
            "\n",
            "\n",
            "개인정보처리방침\n",
            "위키백과 소개\n",
            "면책 조항\n",
            "행동 강령\n",
            "개발자\n",
            "통계\n",
            "쿠키 정책\n",
            "모바일 보기\n",
            "\n",
            "내용 폭 제한 전환\n"
          ]
        }
      ]
    },
    {
      "cell_type": "markdown",
      "source": [
        "---\n",
        "* Web Page\n",
        "* PDF\n",
        "* Email\n",
        "* Twitter\n",
        "* DataFrame (pandas)\n",
        "* YouTube\n",
        "* Notion\n",
        "* Google Drive\n",
        "* Powerpoint, Word,\n",
        "* ...\n",
        "---"
      ],
      "metadata": {
        "id": "4BV_oVXgczmx"
      }
    },
    {
      "cell_type": "code",
      "source": [
        "#@title 8. Summarization\n",
        "from langchain.chains.summarize import load_summarize_chain\n",
        "chain = load_summarize_chain(chat, chain_type=\"map_reduce\", verbose=True)\n",
        "chain.run(docs[:-1])\n"
      ],
      "metadata": {
        "id": "Zw0nJwZ95nHc",
        "colab": {
          "base_uri": "https://localhost:8080/",
          "height": 1000
        },
        "outputId": "5523f63f-fe49-4d02-c740-3bd137f47db8"
      },
      "execution_count": 31,
      "outputs": [
        {
          "output_type": "stream",
          "name": "stdout",
          "text": [
            "\n",
            "\n",
            "\u001b[1m> Entering new MapReduceDocumentsChain chain...\u001b[0m\n",
            "\n",
            "\n",
            "\u001b[1m> Entering new LLMChain chain...\u001b[0m\n",
            "Prompt after formatting:\n",
            "\u001b[32;1m\u001b[1;3mWrite a concise summary of the following:\n",
            "\n",
            "\n",
            "\"NewJeans - 위키백과, 우리 모두의 백과사전\n",
            "\n",
            "본문으로 이동\n",
            "\n",
            "주 메뉴\n",
            "\n",
            "주 메뉴\n",
            "사이드바로 이동\n",
            "숨기기\n",
            "\n",
            "\t\t둘러보기\n",
            "\t\n",
            "\n",
            "\n",
            "대문최근 바뀜요즘 화제임의의 문서로기부\n",
            "\n",
            "\t\t사용자 모임\n",
            "\t\n",
            "\n",
            "\n",
            "사랑방사용자 모임관리 요청\n",
            "\n",
            "\t\t편집 안내\n",
            "\t\n",
            "\n",
            "\n",
            "도움말정책과 지침질문방\n",
            "\n",
            "언어\n",
            "\n",
            "이 위키백과에서 언어 링크는 문서 제목 건너편의 문서 최상단에 있습니다. 최상단으로 이동합니다.\n",
            "\n",
            "검색\n",
            "\n",
            "검색\n",
            "\n",
            "\n",
            "계정 만들기로그인\n",
            "\n",
            "\n",
            "개인 도구\n",
            "\n",
            " 계정 만들기 로그인\n",
            "\n",
            "\t\t로그아웃한 편집자를 위한 문서 더 알아보기\n",
            "\n",
            "기여토론\n",
            "\n",
            "\n",
            "목차\n",
            "사이드바로 이동\n",
            "숨기기\n",
            "\n",
            "\n",
            "처음 위치\n",
            "\n",
            "1그룹명\n",
            "\n",
            "2역사\n",
            "\n",
            "역사 하위섹션 토글하기\n",
            "\n",
            "2.12011~2022: 데뷔 전 활동 및 결성\n",
            "\n",
            "2.22022년~현재: 소개, 데뷔, 그리고 Get Up\n",
            "\n",
            "3구성원\n",
            "\n",
            "4음반\n",
            "\n",
            "음반 하위섹션 토글하기\n",
            "\n",
            "4.1EP\n",
            "\n",
            "4.2싱글\n",
            "\n",
            "5음반 외 활동\n",
            "\n",
            "6수상 목록\n",
            "\n",
            "수상 목록 하위섹션 토글하기\n",
            "\n",
            "6.1가요 프로그램 1위\n",
            "\n",
            "6.2시상식\n",
            "\n",
            "7각주\n",
            "\n",
            "8외부 링크\n",
            "\n",
            "목차 토글\n",
            "\n",
            "NewJeans\n",
            "\n",
            "31개 언어\n",
            "\n",
            "\n",
            "العربيةБеларускаяDeutschEnglishEsperantoEspañolEuskaraفارسیSuomiFrançaisעבריתՀայերենBahasa IndonesiaItaliano日本語Lietuviųမြန်မာဘာသာPolskiPortuguêsРусскийSlovenčinaСрпски / srpskiSvenskaไทยTürkçeУкраїнськаOʻzbekcha / ўзбекчаTiếng Việt中文Bân-lâm-gú粵語\n",
            "\n",
            "링크 편집\n",
            "\n",
            "문서토론\n",
            "\n",
            "한국어\n",
            "\n",
            "읽기편집역사 보기\n",
            "\n",
            "도구\n",
            "\n",
            "도구\n",
            "사이드바로 이동\n",
            "숨기기\n",
            "\n",
            "\t\t동작\n",
            "\t\n",
            "\n",
            "\n",
            "읽기편집역사 보기\n",
            "\n",
            "\t\t일반\n",
            "\t\n",
            "\n",
            "\n",
            "여기를 가리키는 문서가리키는 글의 최근 바뀜파일 올리기특수 문서 목록고유 링크문서 정보이 문서 인용하기축약된 URL 얻기위키데이터 항목\n",
            "\n",
            "\t\t인쇄/내보내기\n",
            "\t\n",
            "\n",
            "\n",
            "책 만들기PDF로 다운로드인쇄용 판\n",
            "\n",
            "\t\t다른 프로젝트\n",
            "\t\n",
            "\n",
            "\n",
            "위키미디어 공용\"\n",
            "\n",
            "\n",
            "CONCISE SUMMARY:\u001b[0m\n",
            "Prompt after formatting:\n",
            "\u001b[32;1m\u001b[1;3mWrite a concise summary of the following:\n",
            "\n",
            "\n",
            "\"위키백과, 우리 모두의 백과사전.\n",
            "\n",
            "\n",
            "  EP에 대해서는 New Jeans (EP) 문서를 참고하십시오.\n",
            "NewJeans뉴진스왼쪽부터 하니, 다니엘, 민지, 혜인, 해린.기본 정보결성 지역대한민국 서울특별시장르K-pop댄스 팝활동 시기2022년 7월 22일 ~ 현재레이블하이브소속사어도어웹사이트newjeans.kr 구성원민지하니다니엘해린혜인\n",
            "NewJeans(뉴진스)는 2022년 7월 22일에 데뷔한 대한민국의 5인조 걸 그룹으로, 소속사는 하이브 산하의 레이블인 어도어이다. SM 엔터테인먼트 비주얼 디렉터 출신으로 하이브에 영입된 민희진이 프로듀서로 나서서 발굴한 걸 그룹이다. 2022년 8월 18일에 《엠카운트다운》에서 데뷔 3주만에 첫 1위에 올랐다. 2023년 8월에 잼버리 폐회식 K-POP 공연에 출연했다.\n",
            "\n",
            "\n",
            "그룹명[편집]\n",
            "그룹으로 사용되고 있는 '뉴진스(NewJeans)'는 두 가지 의미를 함축하고 있다는 뜻에서 비롯된 말이다.[1] 진스(jeans), 즉 청바지는 시대를 초월한 패션 아이템이라는 생각과 시대를 초월한 이미지를 스스로 개척하려는 그룹의 의도를 암시한다.[2] 이 이름은 또한 새로운 세대(new generation)의 팝 음악을 선도하는 그룹을 가리키는 \"new genes\"라는 문구의 말장난이기도 하다.[3][4]\"\n",
            "\n",
            "\n",
            "CONCISE SUMMARY:\u001b[0m\n",
            "Prompt after formatting:\n",
            "\u001b[32;1m\u001b[1;3mWrite a concise summary of the following:\n",
            "\n",
            "\n",
            "\"역사[편집]\n",
            "2011~2022: 데뷔 전 활동 및 결성[편집]\n",
            "NewJeans로 데뷔하기 전에 여러 그룹 멤버가 TV, 음악, 댄스에 참여했다. 호주 태생의 다니엘 마쉬(Danielle Marsh)는 한국에 살 때 2011년까지 방영된 버라이어티 쇼인 tvN 레인보우 유치원의 정규 출연자였다.[5] 그녀는 또한 TV 프로그램인 제시의 플레이 키친과 내 마음의 크레파스에도 출연했다.[6] 혜인은 2017년 11월 동요그룹 우쏘걸(U.SSO Girl)의 멤버 유정(U.Jeong)으로 데뷔했다가[7] 1년 만에 팀에서 탈퇴했다.[8] 2020년 12월, 그녀는 PocketTV가 결성한 음악 그룹이자 유튜브 그룹인 Play With Me Club에 가입했고, 2021년 5월 3일에 그룹을 졸업했다.[9] 베트남계 호주인 하니(Hanni Pham)는 Aemina Dance Crew의 멤버로 멜버른에서 공연을 시작했다.[10] 하니와 민지는 방탄소년단의 2021년 뮤직비디오 'Permission to Dance'에 게스트로 출연했다.[11]\n",
            "빅히트 엔터테인먼트와 쏘스 뮤직이 합작한 신인 걸그룹 준비는 같은 해 SM 엔터테인먼트의 비주얼 디렉터로서 CBO로 합류해 아트 디렉션으로 널리 인정받고 있는 민희진의 지휘 아래 2019년부터 시작됐다.[12][13][14] 2019년 9월부터 10월까지 글로벌 오디션이 진행됐고, 2020년 초부터 그룹 캐스팅이 시작됐다.[13][15] 2021년 말, 민이 레이블의 CEO로 임명된 후, 프로젝트가 하이브가 새로 설립한 독립 레이블 ADOR로 이전했다고 발표됐다.[16] 2021년 12월부터 2022년 1월까지 2차 글로벌 오디션을 진행해[17] 2022년 3월 라인업이 확정됐다.[18][19] 여러 언론 매체에서 '민희진 걸그룹'으로 불리던 이 그룹은 당초 2021년 론칭 예정이었다.[18][20] 그러나 나중에 코로나19 팬데믹으로 인해 연기됐다.[13]\"\n",
            "\n",
            "\n",
            "CONCISE SUMMARY:\u001b[0m\n",
            "Prompt after formatting:\n",
            "\u001b[32;1m\u001b[1;3mWrite a concise summary of the following:\n",
            "\n",
            "\n",
            "\"2022년~현재: 소개, 데뷔, 그리고 Get Up[편집]\n",
            "ADOR는 2022년 7월 1일에 '22', '7', '22'라는 숫자의 애니메이션 영상 3편을 게재하며 신인 걸그룹 론칭을 예고해, 7월 22일 콘텐츠 공개에 대한 추측을 불러일으켰다.[21] 7월 22일 데뷔 싱글 'Attention' 뮤직비디오를 사전 프로모션이나 라인업 정보 없이 깜짝 공개했다.[22] 빌보드는 이 움직임을 \"위험하지만 궁극적으로 활력이 넘친다\"고 묘사했으며, 그 성공을 \"무엇보다 음악에 중점을 둔 것\"으로 평가했다.[23] 이 비디오에는 2개의 추가 싱글을 포함하여 4개의 트랙이 포함된 다가오는 시조 데뷔 연장 플레이가 발표되었다.[8] 7월 23일, 그룹의 두 번째 싱글 \"Hype Boy\"가 멤버들의 이름을 공개하는 클립과 함께 공개되었으며, 멤버들의 관점에 맞는 노래에 대한 다른 4개의 뮤직 비디오도 함께 공개되었다.[24] 'Hype Boy'는 K팝 여성 가수가 빌보드 글로벌 200에서 35주 동안 차트에 진입한 최장 기간 노래가 됐다.[25] 이틀 뒤 수록곡 'Hurt' 뮤직비디오가 공개됐다.[24] EP의 선주문량은 3일 만에 444,000장을 넘어섰다.[26]\n",
            "8월 1일, NewJeans는 세 번째 싱글 \"Cookie\"와 함께 데뷔 EP를 디지털 방식으로 발표했다.[27] 이 노래는 가사에 성적인 풍자가 포함되어 있다고 생각하는 일부 평론가들로부터 비판을 받았다.[28] ADOR는 비난을 부인하고 가사가 \"CD를 굽는 것과 쿠키를 굽는 것의 짝을 이루는 아이디어, 한국어에서 동일한 개념 동사를 공유하는 것\"을 의미한다고 밝혔다.[29] 이 EP의 오프라인 버전은 8월 8일 발매되어 100만 장 이상 판매되어 대한민국 K팝 여성 가수의 베스트셀러 데뷔 앨범이자 2011년 서클 차트 설립 이후 이를 달성한 유일한 데뷔 앨범이 되었다.[30] NewJeans는 나중에 한국대중음악상에서 최우수 K-pop 앨범을 수상했다.[31] 이 그룹은 8월 4일 Mnet '엠카운트다운'을 통해 세 곡의 싱글을 모두 선보이며 방송 데뷔했다.[32] NewJeans는 골든디스크어워즈,[33] 서울가요대상,[34] 한국대중가요대상,[31] 멜론뮤직어워드,[35] 아시아아티스트어워즈 등[36] 각종 한국음악 시상식에서 신인상을 다수 수상했다.\n",
            "NewJeans는 2022년 12월 19일 첫 번째 싱글 앨범 OMG의 첫 번째 싱글로 \"Ditto\"를 발매했다.[37] \"Ditto\"는 한국 서클 디지털 차트에서 13주 동안 1위를 차지하며 가장 오랫동안 1위를 차지한 곡이 되었다.[38][39] 이는 NewJeans의 첫 번째 빌보드 핫 100 차트 진입으로 최고 82위, 영국 싱글 차트 95위에 올랐다.[37] OMG는 2023년 1월 2일에 발매되었다.[37] 리뷰어들은 이 앨범의 복고풍 스타일을 칭찬했다.[40] 발매 첫 주에[40] 70만 장을 팔아 서클 앨범 차트 1위로 데뷔했다.[41] New Jeans도 100만 장 판매를 달성하기 직전에[30] 100만 장 이상 판매된 첫 번째 앨범이 되었다.[42] OMG에는 같은 이름의 두 번째 싱글이 포함되어 TikTok에서 입소문이 났다.[43] 'OMG'는 빌보드 핫 100에서 74위를 기록하며 차트 최고 순위에 올랐다.[44] 2023년 4월, NewJeans는 Coca-Cola Zero Sugar를 홍보하기 위해 코카콜라와 협력하여 \"Zero\"를 출시했다.[45] 2023년 5월에는 Jon Batiste, J.I.D, Camilo와 함께 코카콜라와 공동으로 두 번째 싱글 \"Be Who You Are (Real Magic)\"를 발매했다.[46]\n",
            "NewJeans는 2023년 7월 1~2일 SK 올림픽 핸드볼 체육관에서 첫 번째 매진 팬미팅 Bunnies Camp를 개최했다.[47] 이 그룹은 2023년 7월 21일 두 번째 EP인 Get Up을 발매했다. EP는 2위로 데뷔했다. 서클 앨범 차트에 진입하며 발매 첫 주 165만 장의 판매고를 기록,[48][49] 3연속 100만 장 이상 판매를 달성한 앨범이 됐다.[50] \"Super Shy\", \"ETA\", \"Cool with You\"라는 세 개의 싱글이 지원되었다.[51] \"Super Shy\"는 Circle Digital Chart에서 1위를 차지하여 NewJeans의 한국 세 번째 1위 싱글을 획득했으며 여러 국제 차트에서 최고의 성적을 거둔 트랙이 되었다.[52][53] 트랙의 상업적 성공으로 NewJeans는 Billboard Emerging Artists 차트에서 처음으로 1위를 달성했다.[54] 모든 곡에는 IT 기업 애플, 미디어 프랜차이즈인 The Powerpuff Girls, 한국 여배우 호연, 홍콩 배우 Tony Leung 등 다양한 브랜드 및 유명인과의 협업이 포함된 뮤직 비디오가 제공되었다.[55][56] 2023년 8월에는 롤라팔루자(Lollapalooza)에서 미국 첫 라이브 공연을 펼쳤고, 이 페스티벌에서 공연하는 K팝 걸그룹 최초가 됐다.[57] 이 그룹은 2023년 9월 1일 김종서의 'Beautiful Restriction'을 리메이크한 'A Time Called You' OST를 발매했다.[58]\n",
            "2023년 9월 26일, 리그 오브 레전드 개발사 라이엇 게임즈는 NewJeans가 10월 10일부터 11월 19일까지 대한민국에서 개최되는 리그 오브 레전드 월드 챔피언십 2023의 주제가인 \"Gods\"를 공연할 것이라고 발표했다.[59]\"\n",
            "\n",
            "\n",
            "CONCISE SUMMARY:\u001b[0m\n",
            "Prompt after formatting:\n",
            "\u001b[32;1m\u001b[1;3mWrite a concise summary of the following:\n",
            "\n",
            "\n",
            "\"구성원[편집]\n",
            "\n",
            "\n",
            "이름\n",
            "\n",
            "소개\n",
            "\n",
            "\n",
            "민지\n",
            "\n",
            "\n",
            "본명: 김민지(金玟池)\n",
            "생년월일: 2004년 5월 7일(2004-05-07)(19세)\n",
            "학력 : 한림연예예술고등학교 (졸업)\n",
            "출생지: 대한민국 강원도 춘천시\n",
            "활동기간 : 2022년 7월 22일 ~ 현재\n",
            "\n",
            "\n",
            "하니\n",
            "\n",
            "\n",
            "본명: 하니 팜(Hanni Pham), 팜 응옥 헌(范玉欣/Phạm Ngọc Hân)\n",
            "생년월일: 2004년 10월 6일(2004-10-06)(19세)\n",
            "출생지: 오스트레일리아 빅토리아주 멜버른\n",
            "활동기간 : 2022년 7월 22일 ~ 현재\n",
            "\n",
            "\n",
            "다니엘\n",
            "\n",
            "\n",
            "본명: 다니엘 마쉬(Danielle Marsh), 모지혜(牟智慧)\n",
            "생년월일: 2005년 4월 11일(2005-04-11)(18세)\n",
            "출생지: 오스트레일리아 뉴사우스웨일스주 뉴캐슬\n",
            "활동기간 : 2022년 7월 22일 ~ 현재\n",
            "\n",
            "\n",
            "해린\n",
            "\n",
            "\n",
            "본명: 강해린(姜諧潾)\n",
            "생년월일: 2006년 5월 15일(2006-05-15)(17세)\n",
            "출생지: 대한민국 서울특별시\n",
            "학력: 중학교 졸업학력 검정고시 (합격)\n",
            "활동기간: 2022년 7월 22일 ~ 현재\n",
            "\n",
            "\n",
            "혜인\n",
            "\n",
            "\n",
            "본명: 이혜인(李惠仁)\n",
            "생년월일: 2008년 4월 21일(2008-04-21)(15세)\n",
            "출생지: 대한민국 인천광역시 미추홀구\n",
            "학력: 한국국제크리스천스쿨 (중퇴)\n",
            "활동기간: 2022년 7월 22일 ~ 현재\n",
            "\n",
            "음반[편집]\n",
            "EP[편집]\n",
            "2022년 8월 1일 《New Jeans》\n",
            "2023년 7월 21일 《Get Up》\n",
            "싱글[편집]\n",
            "2022년 12월 19일 《Ditto》 (선공개곡)\n",
            "2023년 1월 2일 《OMG》 (1집)\n",
            "2023년 4월 3일 《Zero》\n",
            "2023년 7월 7일 《Super Shy》 (선공개곡)\n",
            "음반 외 활동[편집]\n",
            "SBS 《뉴진스 코드 in 부산》\n",
            "tvN 《유 퀴즈 온 더 블럭》 게스트\n",
            "수상 목록[편집]\n",
            "가요 프로그램 1위[편집]\n",
            "\n",
            "\n",
            "연도\n",
            "\n",
            "수상 내역 (총 30회)\n",
            "\n",
            "\n",
            "2022년 (총 5회)\"\n",
            "\n",
            "\n",
            "CONCISE SUMMARY:\u001b[0m\n",
            "Prompt after formatting:\n",
            "\u001b[32;1m\u001b[1;3mWrite a concise summary of the following:\n",
            "\n",
            "\n",
            "\"Attention (총 5회)\n",
            "8월 18일 Mnet 《엠카운트다운》 1위\n",
            "8월 19일 KBS2 《뮤직뱅크》 K-Chart 1위\n",
            "8월 20일 MBC 《쇼! 음악중심》 1위\n",
            "8월 21일 SBS 《SBS 인기가요》 1위\n",
            "8월 28일 SBS 《SBS 인기가요》 1위 (2주 연속)\n",
            "\n",
            "\n",
            "2023년 (총 25회)\n",
            "\n",
            "\n",
            "Ditto (총 8회)\n",
            "1월 7일 MBC 《쇼! 음악중심》 1위\n",
            "1월 8일 SBS 《SBS 인기가요》 1위\n",
            "1월 13일 KBS2 《뮤직뱅크》 K-Chart 1위\n",
            "1월 14일 MBC 《쇼! 음악중심》 1위 (2주 연속)\n",
            "1월 28일 MBC 《쇼! 음악중심》 1위 (통산 3주)\n",
            "1월 29일 SBS 《SBS 인기가요》1위 (통산 2주)\n",
            "2월 4일 MBC 《쇼! 음악중심》 1위 (통산 4주)\n",
            "2월 5일 SBS 《SBS 인기가요》 1위 (트리플 크라운)\n",
            "OMG (총 6회)\n",
            "1월 12일 Mnet 《엠카운트다운》 1위\n",
            "1월 15일 SBS 《SBS 인기가요》 1위\n",
            "1월 26일 Mnet 《엠카운트다운》 1위 (통산 2주)\n",
            "1월 27일 KBS2 《뮤직뱅크》 K-Chart 1위\n",
            "3월 19일 SBS 《SBS 인기가요》 1위 (통산 2주)\n",
            "3월 26일 SBS 《SBS 인기가요》 1위 (트리플 크라운)\n",
            "Hype boy (총 1회)\n",
            "4월 2일 SBS 《SBS 인기가요》 1위\n",
            "Super Shy (총 6회)\n",
            "7월 13일 Mnet 《엠카운트다운》 1위\n",
            "7월 22일 MBC 《쇼! 음악중심》 1위\n",
            "7월 23일 SBS 《SBS 인기가요》 1위\n",
            "8월 16일 MBC M 《쇼 챔피언》 챔피언 송\n",
            "8월 20일 SBS 《SBS 인기가요》 1위 (통산 2주)\n",
            "8월 27일 SBS 《SBS 인기가요》 1위 (트리플 크라운)\n",
            "ETA (총 4회)\n",
            "8월 10일 Mnet 《엠카운트다운》 1위\n",
            "8월 17일 Mnet 《엠카운트다운》 1위 (2주 연속)\n",
            "9월 3일 SBS 《SBS 인기가요》 1위\n",
            "9월 10일 SBS 《SBS 인기가요》 1위 (2주 연속)\"\n",
            "\n",
            "\n",
            "CONCISE SUMMARY:\u001b[0m\n",
            "Prompt after formatting:\n",
            "\u001b[32;1m\u001b[1;3mWrite a concise summary of the following:\n",
            "\n",
            "\n",
            "\"시상식[편집]\n",
            "2022년 더 팩트 뮤직 어워즈 넥스트 리더상\n",
            "2022년 멜론 뮤직 어워즈 TOP 10\n",
            "2022년 멜론 뮤직 어워즈 올해의 신인상\n",
            "2022년 아시아 아티스트 어워즈 올해의 퍼포먼스상\n",
            "2022년 아시아 아티스트 어워즈 가수 부문 여자 신인상\n",
            "2023년 골든 디스크 시상식 디지털음원 부문 본상\n",
            "2023년 골든 디스크 시상식 여자 신인상\n",
            "2023년 제32회 하이원 서울가요대상 여자 신인상\n",
            "2023년 30주년 한터뮤직 어워즈 2022 올해의 루키상 (여성 아티스트)\n",
            "2023년 써클차트 뮤직 어워즈 디지털 음원 부문 올해의 신인상\n",
            "2023년 제6회 더 팩트 뮤직 어워즈 리스너스 초이스상\n",
            "2023년 제6회 더 팩트 뮤직 어워즈 올해의 아티스트상\n",
            "각주[편집]\n",
            "\n",
            "\n",
            "↑ “Who are the NewJeans members? New girl group is introduced by HYBE under their label ADOR”. 《BOL News》. 2022년 7월 22일. 2022년 8월 10일에 원본 문서에서 보존된 문서. 2022년 8월 10일에 확인함. \n",
            "\n",
            "↑ Chin, Carmen (2022년 8월 4일). “NewJeans – 'New Jeans' review: HYBE's latest girl group go against the grain in an uneven debut”. 《NME》 (영국 영어). 2022년 8월 6일에 원본 문서에서 보존된 문서. 2022년 8월 6일에 확인함. \n",
            "\n",
            "↑ Dong, Sun-hwa (2022년 7월 22일). “'Attention': Hybe's girl group NewJeans arrives on K-pop scene”. 《The Korea Times》. 2022년 7월 22일에 원본 문서에서 보존된 문서. 2022년 7월 22일에 확인함.\"\n",
            "\n",
            "\n",
            "CONCISE SUMMARY:\u001b[0m\n",
            "Prompt after formatting:\n",
            "\u001b[32;1m\u001b[1;3mWrite a concise summary of the following:\n",
            "\n",
            "\n",
            "\"↑ Shin, Min-hee (2022년 7월 22일). “ADOR K-pop girl group by Min Hee-jin to be called NewJeans”. 《코리아중앙데일리》. 2022년 8월 3일에 원본 문서에서 보존된 문서. 2022년 8월 10일에 확인함. \n",
            "\n",
            "↑ Yoo, Hye-ji (2022년 7월 22일). “'민희진 걸그룹' 뉴진스 모지혜, '레인보우 유치원' 출신…나이-국적 눈길” [Min Hee-jin's girl group New Jeans' Mo Ji-hye, from 'Rainbow Kindergarten'... age and nationality revealed]. 《TopStarNews》. 2022년 7월 24일에 원본 문서에서 보존된 문서. 2022년 7월 24일에 확인함. \n",
            "\n",
            "↑ Wickes, Hanna (2023년 7월 13일). “A Rising Star: Who Is NewJeans' Danielle?”. 《J-14》. A360media Entertainment Group. 2023년 8월 10일에 원본 문서에서 보존된 문서. 2023년 8월 8일에 확인함. \n",
            "\n",
            "↑ Anderson, Daniel (2022년 7월 22일). “New Hybe girl group NewJeans wants 'Attention' in debut music video”. 《Next Shark》. 2022년 7월 23일에 원본 문서에서 보존된 문서. 2022년 7월 23일에 확인함  – Yahoo! News 경유. \n",
            "\n",
            "↑ 가 나 Chin, Carmen (2022년 7월 22일). “Hybe's latest girl group NewJeans make their much-anticipated debut with 'Attention'”. 《NME》. 2022년 7월 22일에 원본 문서에서 보존된 문서. 2022년 7월 23일에 확인함.\"\n",
            "\n",
            "\n",
            "CONCISE SUMMARY:\u001b[0m\n",
            "Prompt after formatting:\n",
            "\u001b[32;1m\u001b[1;3mWrite a concise summary of the following:\n",
            "\n",
            "\n",
            "\"↑ Vasilchenko, Katya (2022년 7월 22일). “В HYBE дебютирует новая женская группа NewJeans, участница которой оказалась давней фанаткой BTS” [Hybe debuts a new girl group NewJeans, a member of which turned out to be a long-time fan of BTS]. 《Elle Girl》 (러시아어). 2022년 7월 23일에 원본 문서에서 보존된 문서. 2022년 7월 23일에 확인함. \n",
            "\n",
            "↑ Hieu Nhan. “Vietnamese-Australian debuts in new K-pop girl group NewJeans”. 《VN Express》. 2023년 4월 26일에 원본 문서에서 보존된 문서. 2023년 8월 6일에 확인함. \n",
            "\n",
            "↑ Jove Moya. “Meet the girls of New Jeans”. 《Tatler Asia》. 2023년 6월 4일에 원본 문서에서 보존된 문서. 2023년 8월 6일에 확인함. \n",
            "\n",
            "↑ Herman, Tamar (2019년 9월 4일). “Wanna Be a K-Pop Star? Big Hit Entertainment & Source Music Announce Global Search for New Girl Group”. 《Billboard》 (미국 영어). 2023년 7월 26일에 원본 문서에서 보존된 문서. 2023년 7월 26일에 확인함. \n",
            "\n",
            "↑ 가 나 다 Jun, Harry; Kim, Jae-hun; Park, Sanha; Jin, Chae-min; Cha, Woo-jin, 편집. (2022년 3월 24일). “How Much Do You Know about Min Hee-jin?”. 《BeAttitude》. 2022년 4월 14일에 원본 문서에서 보존된 문서. 2022년 7월 24일에 확인함.\"\n",
            "\n",
            "\n",
            "CONCISE SUMMARY:\u001b[0m\n",
            "Prompt after formatting:\n",
            "\u001b[32;1m\u001b[1;3mWrite a concise summary of the following:\n",
            "\n",
            "\n",
            "\"↑ Choi, Ji-won (2021년 7월 19일). “Who are the key players at Hybe in the post-Bang Si-hyuk era?”. 《코리아헤럴드》. 2022년 5월 7일에 원본 문서에서 보존된 문서. 2022년 7월 24일에 확인함. \n",
            "\n",
            "↑ Ziwei, Puah (2019년 9월 5일). “BTS' label Big Hit Entertainment launches global auditions for new K-pop girl group”. 《NME》. 2021년 8월 24일에 원본 문서에서 보존된 문서. 2022년 7월 24일에 확인함. \n",
            "\n",
            "↑ Chin, Carmen (2021년 11월 12일). “BTS' agency HYBE launches new label in preparation for an upcoming girl group”. 《NME》. 2022년 5월 4일에 원본 문서에서 보존된 문서. 2022년 7월 24일에 확인함. \n",
            "\n",
            "↑ Judine Basbas, Franchesca (2021년 12월 1일). “HYBE launches global auditions for their new independent label 'ADOR'”. 《Bandwagon Asia》. 2021년 12월 2일에 원본 문서에서 보존된 문서. 2022년 7월 24일에 확인함. \n",
            "\n",
            "↑ 가 나 Jun, Harry; Kim, Jae-hun; Park, Sanha; Jin, Chae-min; Cha, Woo-jin, 편집. (2022년 4월 15일). “A Rare Peek into Min Hee-jin's World”. 《BeAttitude》. 2022년 4월 16일에 원본 문서에서 보존된 문서. 2022년 7월 24일에 확인함.\"\n",
            "\n",
            "\n",
            "CONCISE SUMMARY:\u001b[0m\n",
            "Prompt after formatting:\n",
            "\u001b[32;1m\u001b[1;3mWrite a concise summary of the following:\n",
            "\n",
            "\n",
            "\"↑ Chin, Carmen (2022년 3월 25일). “HYBE subsidiary ADOR's upcoming girl group set to debut in \"the third quarter of the year\"”. 《NME》. 2022년 3월 27일에 원본 문서에서 보존된 문서. 2022년 7월 24일에 확인함. \n",
            "\n",
            "↑ Lee, Jae-lim (2021년 11월 12일). “HYBE to establish new music label with Min Hee-jin at helm”. 《Korea JoongAng Daily》. 2022년 7월 2일에 원본 문서에서 보존된 문서. 2022년 7월 24일에 확인함. \n",
            "\n",
            "↑ Chin, Carmen (2022년 7월 1일). “Watch the first teasers for HYBE subsidiary ADOR's upcoming K-pop girl group”. 《NME》. 2022년 7월 1일에 원본 문서에서 보존된 문서. 2022년 7월 22일에 확인함. \n",
            "\n",
            "↑ Herman, Tamar (2022년 7월 28일). “NewJeans, new K-pop group, have YouTube, TikTok abuzz – here's everything you need to know about them”. 《South China Morning Post》. 2022년 8월 7일에 원본 문서에서 보존된 문서. 2022년 8월 3일에 확인함. \n",
            "\n",
            "↑ Benjamin, Jeff (2022년 9월 20일). “Meet NewJeans: HYBE's Global Breakout Girl Group Where 'Everything Was Riding on Secrecy'”. 《Billboard》. 2022년 9월 21일에 원본 문서에서 보존된 문서. 2022년 9월 24일에 확인함.\"\n",
            "\n",
            "\n",
            "CONCISE SUMMARY:\u001b[0m\n",
            "Prompt after formatting:\n",
            "\u001b[32;1m\u001b[1;3mWrite a concise summary of the following:\n",
            "\n",
            "\n",
            "\"↑ 가 나 Yeo, Gladys (2022년 7월 25일). “New Hybe girl group NewJeans unveil music videos for 'Hype Boy' and 'Hurt'”. 《NME》. 2022년 12월 10일에 원본 문서에서 보존된 문서. 2023년 3월 26일에 확인함. \n",
            "\n",
            "↑ Lee, Jae-hoon (2023년 3월 15일). 뉴진스, 빌보드 '글로벌 200' K팝 걸그룹 신기록 [New Jeans, Billboard's 'Global 200' K-pop girl group record]. 《Newsis》. 2023년 3월 25일에 원본 문서에서 보존된 문서. 2023년 3월 25일에 확인함  – Naver 경유. \n",
            "\n",
            "↑ Moon, Wan-sik (2022년 7월 28일). “뜨겁다! 뉴진스, 데뷔 앨범 예약판매 3일만 선주문량 44만장 돌파” [Hot! New Jeans surpasses 440,000 pre-orders in 3 days of pre-sale of debut album]. 《Star-News》. 2022년 7월 28일에 원본 문서에서 보존된 문서. 2022년 7월 28일에 확인함  – Naver 경유. \n",
            "\n",
            "↑ Yeo, Gladys (2022년 8월 1일). “NewJeans drop anticipated debut EP and 'Cookie' music video”. 《NME》. 2022년 8월 7일에 원본 문서에서 보존된 문서. 2022년 8월 9일에 확인함. \n",
            "\n",
            "↑ Chin, Carmen (2022년 8월 4일). “NewJeans – New Jeans review: Hybe's latest girl group go against the grain in an uneven debut”. 《NME》. 2022년 8월 6일에 원본 문서에서 보존된 문서. 2022년 8월 28일에 확인함.\"\n",
            "\n",
            "\n",
            "CONCISE SUMMARY:\u001b[0m\n",
            "Prompt after formatting:\n",
            "\u001b[32;1m\u001b[1;3mWrite a concise summary of the following:\n",
            "\n",
            "\n",
            "\"↑ Lee, Ji-an (2022년 8월 28일). “NewJeans' agency denies allegations 'Cookie' has inappropriate lyrics”. 《코리아중앙데일리》. 2023년 2월 11일에 원본 문서에서 보존된 문서. 2022년 8월 28일에 확인함. \n",
            "\n",
            "↑ 가 나 Hong Yoo (2023년 2월 20일). “NewJeans debut album \"New Jeans\" sells 1M copies”. 《코리아헤럴드》. 2023년 2월 20일에 원본 문서에서 보존된 문서. 2023년 2월 20일에 확인함. \n",
            "\n",
            "↑ 가 나 Yang, Haley (2023년 3월 6일). “NewJeans producer 250 takes home four awards at Korean Music Awards”. 《코리아중앙데일리》. 2023년 3월 13일에 원본 문서에서 보존된 문서. 2023년 3월 26일에 확인함. \n",
            "\n",
            "↑ Hwang, Hye-jin (2022년 8월 4일). “'엠카' 지코 화려한 귀환→뉴진스 트리플 타이틀곡 데뷔무대[오늘TV]” ['M Countdown' Zico's brilliant return → New Jeans' triple title song debut stage [TodayTV]]. 《Newsen》. 2022년 8월 5일에 원본 문서에서 보존된 문서. 2022년 8월 4일에 확인함  – Naver 경유. \n",
            "\n",
            "↑ “Golden Disc Awards 2022 Winners”. 《Golden Disc》. 2023년 1월 7일에 원본 문서에서 보존된 문서. 2023년 1월 8일에 확인함. \n",
            "\n",
            "↑ Lee, Hana (2023년 1월 19일). TNX·뉴진스·르세라핌 신인상 \"믿고 응원해준 팬들 덕분\"[2023 서울가요대상]. 《Newsen》. 2023년 1월 19일에 원본 문서에서 보존된 문서. 2023년 1월 19일에 확인함.\"\n",
            "\n",
            "\n",
            "CONCISE SUMMARY:\u001b[0m\n",
            "Prompt after formatting:\n",
            "\u001b[32;1m\u001b[1;3mWrite a concise summary of the following:\n",
            "\n",
            "\n",
            "\"↑ Choi, Hye-jin (2022년 11월 26일). “'MMA2022' 임영웅, 5관왕 영예..아이브 4관왕·뉴진스 신인상 '걸그룹 강세' [종합]”. 《Star News》. 2022년 11월 27일에 원본 문서에서 보존된 문서. 2022년 11월 28일에 확인함. \n",
            "\n",
            "↑ “2022 Asia Artist Awards Paid Voting Period (Female Singer)”. 2022년 11월 16일에 원본 문서에서 보존된 문서. 2022년 11월 28일에 확인함. \n",
            "\n",
            "↑ 가 나 다 Hong, Yoo (2023년 1월 18일). “NewJeans' 'Ditto' lands on Billboard Hot 100 at No. 96”. 《코리아헤럴드》. 2023년 1월 18일에 원본 문서에서 보존된 문서. 2023년 1월 18일에 확인함. \n",
            "\n",
            "↑ Kim, Hyun-sik (2023년 3월 23일). '온 차트가 뉴진스'…'디토' 1위 질주 언제까지? ['On the chart is New Jeans'... How long will 'Ditto' run for first place]. 《Edaily》. 2023년 3월 24일에 원본 문서에서 보존된 문서. 2023년 3월 23일에 확인함. \n",
            "\n",
            "↑ Moon, Wan-shik (2023년 3월 30일). 뉴진스, 12주차 써클차트 2관왕 [New Jeans, won 2 awards on the 12th week circle chart]. 《Star News》. 2023년 3월 30일에 원본 문서에서 보존된 문서. 2023년 3월 30일에 확인함  – Naver 경유. \n",
            "\n",
            "↑ 가 나 Yoon, So-yeon (2023년 1월 18일). “NewJeans lands on Billboard Hot 100 singles chart with 'Ditto'”. 《코리아중앙데일리》. 2023년 1월 18일에 원본 문서에서 보존된 문서. 2022년 1월 18일에 확인함.\"\n",
            "\n",
            "\n",
            "CONCISE SUMMARY:\u001b[0m\n",
            "Prompt after formatting:\n",
            "\u001b[32;1m\u001b[1;3mWrite a concise summary of the following:\n",
            "\n",
            "\n",
            "\"↑ “OMG”. 《Circle Chart》. 2023년 1월 12일에 원본 문서에서 보존된 문서. 2023년 1월 12일에 확인함. \n",
            "\n",
            "↑ Min, Shin-hee (2023년 1월 27일). “Girl group NewJeans's latest EP 'OMG' sells one million copies”. 《코리아중앙데일리》. 2023년 2월 19일에 원본 문서에서 보존된 문서. 2023년 3월 25일에 확인함. \n",
            "\n",
            "↑ Frances, Lai (2023년 1월 25일). “NewJeans Has Become The Fastest K-Pop Act To Chart On 'Billboard' Hot 100 With 'OMG' And 'Ditto'”. 《Uproxx》. 2023년 2월 27일에 원본 문서에서 보존된 문서. 2023년 3월 25일에 확인함. \n",
            "\n",
            "↑ Seon, Mi-kyung (2023년 2월 16일). [뉴진스 신드롬①] 'OMG' 진짜 히트송이 등장했다 [[New Jeans Syndrome ①] A real hit song from 'OMG' appeared]. 《Osen》. 2023년 3월 25일에 원본 문서에서 보존된 문서. 2023년 3월 25일에 확인함  – Naver 경유. \n",
            "\n",
            "↑ Choi, Ji-won (2023년 3월 31일). “NewJeans and Coca-Cola collaborate for a new song”. 《코리아헤럴드》. 2023년 4월 12일에 원본 문서에서 보존된 문서. 2023년 4월 13일에 확인함. \n",
            "\n",
            "↑ Ziwei, Puah (2023년 5월 31일). “NewJeans, Jon Batiste unveil new collaboration 'Be Who You Are (Real Magic)'”. 《NME》. 2023년 5월 29일에 원본 문서에서 보존된 문서. 2023년 5월 31일에 확인함.\"\n",
            "\n",
            "\n",
            "CONCISE SUMMARY:\u001b[0m\n",
            "Prompt after formatting:\n",
            "\u001b[32;1m\u001b[1;3mWrite a concise summary of the following:\n",
            "\n",
            "\n",
            "\"↑ Seon, Mi-kyung (2023년 5월 27일). 뉴진스, 7월 팬미팅 초고속 전석 매진..티켓 파워도 막강 [New Jeans, sold out all tickets for fan meeting in July.. Ticket power is also strong]. 《Osen》. 2023년 6월 1일에 원본 문서에서 보존된 문서. 2022년 6월 1일에 확인함  – Naver 경유. \n",
            "\n",
            "↑ “Circle Album Chart – Week 29, 2023”. Circle Chart. 2023년 7월 27일에 원본 문서에서 보존된 문서. 2023년 7월 27일에 확인함. \n",
            "\n",
            "↑ Cho, Yong-jun (2023년 7월 28일). “NewJeans's 'Get Up' sells over 1.65 million copies in first week of release”. 《코리아중앙데일리》. 2023년 7월 28일에 원본 문서에서 보존된 문서. 2023년 7월 28일에 확인함. \n",
            "\n",
            "↑ Kim, Soo-jeong (2023년 7월 22일). 뉴진스 미니 2집, 하루 만에 약 120만 장 팔려 [New Jeans' 2nd mini album sold about 1.2 million copies in one day]. 《No Cut News》. 2023년 7월 22일에 원본 문서에서 보존된 문서. 2023년 7월 22일에 확인함  – Naver 경유. \n",
            "\n",
            "↑ Choi, Ji-won (2023년 6월 9일). “NewJeans to drop new album 'Get Up' on July 21”. 《코리아헤럴드》. 2023년 6월 19일에 원본 문서에서 보존된 문서. 2023년 6월 19일에 확인함. \n",
            "\n",
            "↑ “Digital Chart – Week 28 of 2023”. 《Circle Chart》. 2023년 7월 20일에 원본 문서에서 보존된 문서. 2023년 7월 20일에 확인함.\"\n",
            "\n",
            "\n",
            "CONCISE SUMMARY:\u001b[0m\n",
            "Prompt after formatting:\n",
            "\u001b[32;1m\u001b[1;3mWrite a concise summary of the following:\n",
            "\n",
            "\n",
            "\"↑ Choi, Ji-won. “NewJeans hits new highs with 'Super Shy'”. 《코리아헤럴드》. 2023년 7월 19일에 원본 문서에서 보존된 문서. 2023년 7월 21일에 확인함. \n",
            "\n",
            "↑ Zellner, Xander (2023년 7월 18일). “NewJeans Hit No. 1 on Emerging Artists Chart Thanks to 'Super Shy'”. 《Billboard》. 2023년 7월 28일에 원본 문서에서 보존된 문서. 2023년 7월 28일에 확인함. \n",
            "\n",
            "↑ Bowenbank, Starr (2023년 7월 21일). “NewJeans Make Triumphant Return With Second EP 'Get Up': Stream It Now”. 《Billboard》. 2023년 7월 21일에 확인함. \n",
            "\n",
            "↑ Ziwei, Puah (2023년 7월 21일). “Watch NewJeans' exciting music video for new single 'ETA'”. 《NME》. 2023년 7월 21일에 확인함. \n",
            "\n",
            "↑ Daly, Rhian (2023년 8월 4일). “NewJeans live at Lollapalooza 2023: K-pop's most-talked-about girl group justify the hype”. 《NME》. 2023년 8월 22일에 확인함. \n",
            "\n",
            "↑ 뉴진스, 첫 OST 가창…'아름다운 구속' [NewJeans, the first OST singing... 'Beautiful Redemption']. 《Newsis》. 2023년 9월 1일. 2023년 9월 1일에 원본 문서에서 보존된 문서. 2023년 9월 1일에 확인함  – Naver 경유.\"\n",
            "\n",
            "\n",
            "CONCISE SUMMARY:\u001b[0m\n",
            "Prompt after formatting:\n",
            "\u001b[32;1m\u001b[1;3mWrite a concise summary of the following:\n",
            "\n",
            "\n",
            "\"↑ “NewJeans to perform LoL Worlds 2023 anthem ‘Gods’ at finals | ONE Esports”. 《www.oneesports.gg》 (미국 영어). 2023년 9월 27일. 2023년 10월 4일에 확인함. \n",
            "\n",
            "\n",
            "외부 링크[편집]\n",
            "\n",
            "\n",
            "K-pop 포털\n",
            "NewJeans  - 공식 웹사이트\n",
            "NewJeans_ADOR - 트위터\n",
            "NewJeans_jp - 트위터\n",
            "NewJeans - 인스타그램 \n",
            "NewJeans - 틱톡 \n",
            "NewJeans의 채널 - 유튜브 \n",
            "vteNewJeans\n",
            "민지\n",
            "하니\n",
            "다니엘\n",
            "혜린\n",
            "혜인\n",
            "EP\n",
            "New Jeans\n",
            "Get Up\n",
            "싱글\n",
            "\"Attention\"\n",
            "\"Hype Boy\"\n",
            "\"Cookie\"\n",
            "\"Ditto\"\n",
            "싱글 앨범\n",
            "OMG\n",
            "관련 주제\n",
            "민희진\n",
            "\n",
            "  공용\"\n",
            "\n",
            "\n",
            "CONCISE SUMMARY:\u001b[0m\n",
            "Prompt after formatting:\n",
            "\u001b[32;1m\u001b[1;3mWrite a concise summary of the following:\n",
            "\n",
            "\n",
            "\"vte서울가요대상 신인상 수상자1990년대\n",
            "김민우·신해철(1990)\n",
            "심신·신승훈(1991)\n",
            "이덕진·서태지와 아이들(1992)\n",
            "최연제(1993)\n",
            "구본승(1994)\n",
            "성진우·육각수(1995)\n",
            "영턱스클럽(1996)\n",
            "양파·이지훈(1997)\n",
            "김현정·조성모·NRG(1998)\n",
            "이정현·채정안·샵·코요태(1999)\n",
            "2000년대\n",
            "화요비·제이(2000)\n",
            "성시경·브라운 아이즈·자두·투야(2001)\n",
            "휘성·비·리치(2002)\n",
            "세븐·빅마마·마야(2003)\n",
            "SG워너비·이승기·동방신기(2004)\n",
            "슈퍼주니어·씨야·브라운 아이드 걸스(2006)\n",
            "소녀시대·원더걸스·F.T.아일랜드(2008)\n",
            "샤이니·다비치·마이티 마우스(2009)\n",
            "2010년대\n",
            "애프터스쿨·비스트·티아라(2010)\n",
            "씨스타·씨엔블루·대국남아(2011)\n",
            "B1A4·에이핑크·보이프렌드(2012)\n",
            "EXO·B.A.P·이하이·에일리(2013)\n",
            "방탄소년단·김예림·크레용팝(2014)\n",
            "레드벨벳·GOT7·에디 킴(2015)\n",
            "아이콘·여자친구·세븐틴(2016)\n",
            "블랙핑크·NCT·아이오아이(2017)\n",
            "워너원·청하·프리스틴(2018)\n",
            "스트레이 키즈·아이즈원(2019)\n",
            "2020년대\n",
            "투모로우바이투게더·AB6IX·ITZY(2020)\n",
            "트레저·aespa·ENHYPEN(2021)\n",
            "이무진·오메가엑스·EPEX(2022)\n",
            "TNX·NewJeans·LE SSERAFIM(2023)\n",
            "\n",
            "대상\n",
            "최고 앨범상\n",
            "신인상\n",
            "OST상\"\n",
            "\n",
            "\n",
            "CONCISE SUMMARY:\u001b[0m\n",
            "Prompt after formatting:\n",
            "\u001b[32;1m\u001b[1;3mWrite a concise summary of the following:\n",
            "\n",
            "\n",
            "\"vte골든디스크 신인상 수상자1980년대\n",
            "김승진 · 김완선 (1986)\n",
            "문희옥 · 이정석 (1987)\n",
            "변진섭 · 이상은 (1988)\n",
            "김경호 · 조갑경 (1989)\n",
            "1990년대\n",
            "박성신 · 김민우 (1990)\n",
            "심신 · 윤상 (1991)\n",
            "투투 (1994)\n",
            "성진우 (1995)\n",
            "IDOL · H.O.T. (1996)\n",
            "양파 · 지누션 (1997)\n",
            "핑클 · 태사자 · S.E.S. (1998)\n",
            "이정현 · 원타임 (1999)\n",
            "2000년대\n",
            "샤크라 · 박효신 · 최진영 (2000)\n",
            "성시경 · 장나라 (2001)\n",
            "휘성 · 비 (2002)\n",
            "세븐 · 빅마마 (2003)\n",
            "SG 워너비 · 테이 (2004)\n",
            "아이비 · 이루 · 임정희 (2005)\n",
            "가비엔제이 · 슈퍼주니어 · 씨야 (2006)\n",
            "소녀시대 · F.T.아일랜드 · 윤하 (2007)\n",
            "샤이니 · 다비치 (2008)\n",
            "포미닛 · 티아라 (2009)\n",
            "2010년대\n",
            "비스트 · 시크릿 · 씨스타 (2010)\n",
            "에이핑크 · 달샤벳 · B1A4 · 허각 · 보이프렌드 (2012)\n",
            "EXO · B.A.P · 이하이 · 에일리 · 주니엘 (2013)\n",
            "방탄소년단 · 김예림 · 크레용팝 · 로이킴 (2014)\n",
            "레드벨벳 · GOT7 · 위너 (2015)\n",
            "트와이스 · 아이콘 · 여자친구 · 세븐틴 (2016)\n",
            "블랙핑크 · 볼빨간사춘기 · NCT·아이오아이 (2017)\n",
            "워너원 (2018)\n",
            "(여자)아이들 · 아이즈원 ·스트레이 키즈 (2019)\n",
            "2020년대\n",
            "투모로우바이투게더 · ITZY (2020)\n",
            "ENHYPEN · 트레저 · 김호중 (2021)\n",
            "Aespa · STAYC (2022)\n",
            "NewJeans · LE SSERAFIM · IVE (2023)\"\n",
            "\n",
            "\n",
            "CONCISE SUMMARY:\u001b[0m\n",
            "Prompt after formatting:\n",
            "\u001b[32;1m\u001b[1;3mWrite a concise summary of the following:\n",
            "\n",
            "\n",
            "\"vte멜론 뮤직 어워드 - 신인상2000년대\n",
            "2NE1 (2009)\n",
            "2010년대\n",
            "씨엔블루 (2010)\n",
            "허각 (2011)\n",
            "에일리 · B.A.P (2012)\n",
            "방탄소년단 · 김예림 (2013)\n",
            "위너 (2014)\n",
            "아이콘 · 여자친구 (2015)\n",
            "블랙핑크 (2016)\n",
            "워너원 (2017)\n",
            "더 보이즈 · (여자)아이들 (2018)\n",
            "투모로우바이투게더 · ITZY (2019)\n",
            "2020년대\n",
            "CRAVITY · 위클리 (2020)\n",
            "이무진 · aespa (2021)\n",
            "IVE · NewJeans (2022)\n",
            "\n",
            "올해의 노래상\n",
            "올해의 가수상\n",
            "올해의 앨범상\n",
            "신인상\n",
            "Top 10\"\n",
            "\n",
            "\n",
            "CONCISE SUMMARY:\u001b[0m\n",
            "Prompt after formatting:\n",
            "\u001b[32;1m\u001b[1;3mWrite a concise summary of the following:\n",
            "\n",
            "\n",
            "\"vte하이브경영진\n",
            "방시혁 (창립자·이사회 의장)\n",
            "빅지원 (CEO)\n",
            "스쿠터 브라운 (사내 이사)\n",
            "김태호 (COO)\n",
            "민희진 (CBO)\n",
            "빅히트 뮤직현재\n",
            "이현\n",
            "방탄소년단\n",
            "RM\n",
            "진\n",
            "슈가\n",
            "제이홉\n",
            "지민\n",
            "뷔\n",
            "정국\n",
            "투모로우바이투게더\n",
            "수빈\n",
            "연준\n",
            "범규\n",
            "태현\n",
            "휴닝카이\n",
            "과거\n",
            "바나나걸\n",
            "가재발\n",
            "김상미\n",
            "안수지\n",
            "남민설\n",
            "이현지\n",
            "임정희\n",
            "케이윌\n",
            "8eight\n",
            "주희\n",
            "백찬\n",
            "2AM\n",
            "조권\n",
            "이창민\n",
            "임슬옹\n",
            "정진운\n",
            "데이비드 오\n",
            "글램\n",
            "박지연\n",
            "ZINNI\n",
            "다희\n",
            "미소\n",
            "TRINITY\n",
            "빌리프랩현재\n",
            "ENHYPEN\n",
            "정원\n",
            "희승\n",
            "제이\n",
            "제이크\n",
            "성훈\n",
            "선우\n",
            "니키\n",
            "아일릿\n",
            "윤아\n",
            "민주\n",
            "모카\n",
            "영서\n",
            "원희\n",
            "이로하\n",
            "과거-쏘스뮤직현재\n",
            "LE SSERAFIM\n",
            "김채원\n",
            "사쿠라\n",
            "허윤진\n",
            "카즈하\n",
            "홍은채\n",
            "과거\n",
            "8eight\n",
            "이현\n",
            "주희\n",
            "백찬\n",
            "글램\n",
            "박지연\n",
            "ZINNI\n",
            "다희\n",
            "미소\n",
            "TRINITY\n",
            "이든 비츠\n",
            "MIO\n",
            "간미연\n",
            "여자친구\n",
            "소원\n",
            "예린\n",
            "은하\n",
            "유주\n",
            "신비\n",
            "엄지\n",
            "김가람\n",
            "플레디스 엔터테인먼트현재\n",
            "나나\n",
            "백호\n",
            "민현\n",
            "세븐틴\n",
            "에스쿱스\n",
            "정한\n",
            "조슈아\n",
            "준\n",
            "호시\n",
            "원우\n",
            "우지\n",
            "도겸\n",
            "민규\n",
            "디에잇\n",
            "승관\n",
            "버논\n",
            "디노\n",
            "fromis 9\n",
            "이새롬\n",
            "송하영\n",
            "박지원\n",
            "노지선\n",
            "이서연\n",
            "이채영\n",
            "이나경\n",
            "백지헌\n",
            "과거\n",
            "메이비\n",
            "손담비\n",
            "애프터스쿨\n",
            "가희\n",
            "베카\n",
            "유소영\n",
            "이주연\n",
            "정아\n",
            "유이\n",
            "​레이나\n",
            "리지\n",
            "이영\n",
            "가은\n",
            "뉴이스트\n",
            "JR\n",
            "아론\n",
            "렌\n",
            "프리스틴\n",
            "나영\n",
            "로아\n",
            "유하\n",
            "은우\n",
            "레나\n",
            "시연\n",
            "카일라\n",
            "결경\n",
            "장규리\n",
            "한동근\n",
            "프로젝트 그룹\n",
            "오렌지캬라멜\n",
            "레이나\n",
            "나나\n",
            "애프터스쿨 레드\n",
            "나나\n",
            "애프터스쿨 블루\n",
            "레이나\n",
            "이영\n",
            "뉴이스트 W\n",
            "JR\n",
            "아론\n",
            "백호\n",
            "렌\n",
            "세븐틴 부석순\n",
            "호시\n",
            "도겸\n",
            "승관\n",
            "케이오지 엔터테인먼트현재\n",
            "ZICO\n",
            "DVWN\n",
            "BOYNEXTDOOR\n",
            "성호\n",
            "리우\n",
            "명재현\n",
            "태산\n",
            "이한\n",
            "운학\n",
            "과거-하이브 레이블즈 재팬현재\n",
            "&TEAM\n",
            "케이\n",
            "후마\n",
            "니콜라스\n",
            "의주\n",
            "유마\n",
            "조\n",
            "하루아\n",
            "타키\n",
            "마키\n",
            "과거-어도어현재\n",
            "NewJeans\n",
            "민지\n",
            "하니\n",
            "다니엘\n",
            "해린\n",
            "혜인\n",
            "과거-네이코현재히라테 유리나과거-관련 문서\n",
            "위버스\n",
            "I-LAND\n",
            "\n",
            "전거 통제 국제\n",
            "ISNI\n",
            "국가\n",
            "한국\n",
            "아티스트\n",
            "뮤직브레인즈\"\n",
            "\n",
            "\n",
            "CONCISE SUMMARY:\u001b[0m\n",
            "\n",
            "\u001b[1m> Finished chain.\u001b[0m\n",
            "\n",
            "\n",
            "\u001b[1m> Entering new LLMChain chain...\u001b[0m\n",
            "Prompt after formatting:\n",
            "\u001b[32;1m\u001b[1;3mWrite a concise summary of the following:\n",
            "\n",
            "\n",
            "\"The article is about a musical group called NewJeans. It provides information about the group's history, members, discography, and awards. The article is available in multiple languages.\n",
            "\n",
            "NewJeans is a 5-member girl group from South Korea that debuted on July 22, 2022. They are under the label \"어도어\" which is a subsidiary of Hive. The group was formed by producer Min Hee-jin, who previously worked as a visual director at SM Entertainment. They achieved their first number one on a music show just three weeks after their debut. The group's name, \"NewJeans,\" represents their intention to pioneer a timeless image and lead the new generation of pop music.\n",
            "\n",
            "The summary states that prior to their debut as NewJeans, the members of the group were involved in various activities such as TV shows, music, and dance. The group's formation began in 2019 under the direction of visual director Min Hee-jin, and casting for the group started in early 2020. The project was later transferred to the independent label ADOR after Min Hee-jin became the CEO of her own label. The group's lineup was confirmed in March 2022 after a global audition process. The group, initially planned to debut in 2021, was postponed due to the COVID-19 pandemic.\n",
            "\n",
            "ADOR, a rookie girl group, launched their debut with the release of three animated videos on July 1, 2022. They surprised fans by unexpectedly releasing their debut single \"Attention\" on July 22 without prior promotion or lineup information. The group gained success with their music-focused approach and received positive reviews. They released their debut EP digitally on August 1, which sold over 1 million copies and became the best-selling debut album by a K-pop female artist. NewJeans, as they are also known, won several rookie awards at various Korean music award shows. They released their first single album \"OMG\" in December 2022, which topped the Korean digital charts and achieved commercial success. They continued to release successful singles and collaborated with brands and famous individuals in their music videos. They performed at the Lollapalooza festival in August 2023, becoming the first K-pop girl group to do so. They also released an OST for the drama \"A Time Called You\" in September 2023. Riot Games announced that NewJeans would perform the theme song \"Gods\" for the League of Legends World Championship 2023 in South Korea.\n",
            "\n",
            "This is a concise summary of the information provided:\n",
            "\n",
            "The group consists of five members: Minji, Hani, Daniel, Haerin, and Hyein. They debuted on July 22, 2022. Minji was born on May 7, 2004, and attended Hanlim Entertainment Arts High School. Hani was born on October 6, 2004, in Australia. Daniel was born on April 11, 2005, in Australia. Haerin was born on May 15, 2006, in Seoul, South Korea. Hyein was born on April 21, 2008, in Incheon, South Korea. They have released an EP titled \"New Jeans\" and will release another EP titled \"Get Up\" in July 2023. They have also released several singles. They have appeared on various TV shows and have won multiple awards.\n",
            "\n",
            "The summary states that the songs \"Attention,\" \"Ditto,\" \"OMG,\" \"Hype boy,\" \"Super Shy,\" and \"ETA\" have all achieved multiple number one rankings on various music shows in South Korea. The summary also mentions the dates and shows on which these songs achieved their number one rankings.\n",
            "\n",
            "NewJeans, a girl group under HYBE, has received several awards and nominations since their debut. They won the Next Leader Award at the 2022 Fact Music Awards and were listed in the Top 10 at the 2022 Melon Music Awards. They also won the Rookie of the Year award at the 2022 Melon Music Awards and the Performance Award at the 2022 Asia Artist Awards. In addition, they received various awards such as the Golden Disc Awards, Seoul Music Awards, and Circle Chart Music Awards.\n",
            "\n",
            "The article provides various sources discussing the debut and details of the K-pop girl group NewJeans, created by Min Hee-jin. It mentions the group's name, members, and their debut music video.\n",
            "\n",
            "Hybe, the entertainment company behind BTS, has debuted a new girl group called NewJeans. One of the members of the group is a long-time fan of BTS. The group includes a Vietnamese-Australian member. The announcement of the group was made as part of a global search for a new girl group by Big Hit Entertainment and Source Music. The group is gaining attention and has been featured in various publications.\n",
            "\n",
            "This collection of sources discusses key players and developments at Hybe, the entertainment company behind BTS. It mentions the launch of a new K-pop girl group, the establishment of a new label called ADOR, and provides insights into the world of Min Hee-jin, a prominent figure at Hybe.\n",
            "\n",
            "HYBE, a South Korean entertainment company, is set to debut a new girl group under its subsidiary ADOR in the third quarter of the year. The group, called NewJeans, has been generating buzz on platforms like YouTube and TikTok. The establishment of ADOR and the announcement of the upcoming girl group were made by HYBE in collaboration with Min Hee-jin. The group's debut has been highly anticipated, with a focus on secrecy surrounding their formation.\n",
            "\n",
            "The article discusses the debut and success of the new Hybe girl group, NewJeans. They released music videos for their songs \"Hype Boy\" and \"Hurt\" and received positive attention. The group also achieved a record on Billboard's 'Global 200' chart. Their debut album garnered over 440,000 pre-orders in just three days. However, their debut EP and music video for \"Cookie\" received mixed reviews.\n",
            "\n",
            "The agency of NewJeans denies allegations of inappropriate lyrics in their song \"Cookie.\" The group's debut album sells 1 million copies. The producer of NewJeans, 250, wins four awards at the Korean Music Awards. Zico makes a brilliant return on 'M Countdown' and NewJeans performs their triple title song debut stage. NewJeans wins the New Artist Award at the Seoul Music Awards.\n",
            "\n",
            "The summary states that singer Lim Young-woong won five awards at the MMA2022, while the group NewJeans achieved success with their song \"Ditto\" landing on the Billboard Hot 100 chart and winning two awards on the 12th week circle chart.\n",
            "\n",
            "The girl group NewJeans released their EP \"OMG\" which sold one million copies and became the fastest K-Pop act to chart on the Billboard Hot 100. They also collaborated with Coca-Cola for a new song and with Jon Batiste for another collaboration titled \"Be Who You Are (Real Magic).\"\n",
            "\n",
            "New Jeans, a popular music group, has experienced great success recently. They sold out all tickets for their fan meeting in July, demonstrating their strong ticket-selling power. Their album \"Get Up\" sold over 1.65 million copies in its first week of release and their second mini album sold about 1.2 million copies in just one day. The group is set to release a new album called \"Get Up\" on July 21. They have also achieved success on the digital charts.\n",
            "\n",
            "K-pop girl group NewJeans has been achieving success with their latest releases. Their song \"Super Shy\" reached new highs on the charts and they also topped the Emerging Artists Chart. They recently released their second EP titled \"Get Up\" and a music video for their single \"ETA.\" The group also performed at Lollapalooza 2023, receiving positive reviews. Additionally, they have recorded their first OST for the drama \"Beautiful Redemption.\"\n",
            "\n",
            "K-pop group NewJeans will be performing the anthem \"Gods\" at the League of Legends Worlds 2023 finals.\n",
            "\n",
            "The list includes the winners of the New Artist Award at the Vte Seoul Music Awards from the 1990s to the 2020s. Notable winners include Kim Min-woo, Shin Hae-chul, Seo Taiji and Boys, Super Junior, Girls' Generation, BTS, and Stray Kids. The list also mentions other awards such as the Grand Prize, Best Album Award, and OST Award.\n",
            "\n",
            "This is a list of the winners of the VTE Golden Disk Rookie Award from the 1980s to the present. It includes various K-pop artists such as Kim Seung-jin, Kim Wan-sun, H.O.T., S.E.S., Super Junior, Girls' Generation, BTS, Blackpink, and many others. The list continues into the 2020s with recent winners like Enhypen, Treasure, and Aespa.\n",
            "\n",
            "The Vte Melon Music Awards have recognized various artists and groups for their achievements in the music industry. Winners of the New Artist Award in the 2000s include 2NE1, while winners in the 2010s include CNBLUE, Huh Gak, Ailee, B.A.P, BTS, Kim Ye-rim, Winner, iKON, GFriend, Blackpink, Wanna One, The Boyz, and (G)I-DLE. In the 2020s, winners include Cravity, Weekly, Lee Mujin, Aespa, IVE, and NewJeans. The awards also include categories such as Song of the Year, Artist of the Year, Album of the Year, and Top 10.\n",
            "\n",
            "The summary is a list of names and positions within various entertainment companies, including Vte Hive Management, Big Hit Music, and Pledis Entertainment. It also mentions some past and present artists associated with these companies.\"\n",
            "\n",
            "\n",
            "CONCISE SUMMARY:\u001b[0m\n",
            "\n",
            "\u001b[1m> Finished chain.\u001b[0m\n",
            "\n",
            "\u001b[1m> Finished chain.\u001b[0m\n"
          ]
        },
        {
          "output_type": "execute_result",
          "data": {
            "text/plain": [
              "'NewJeans is a 5-member girl group from South Korea that debuted in July 2022. They are under the label \"어도어\" which is a subsidiary of Hive. The group was formed by producer Min Hee-jin and achieved their first number one on a music show just three weeks after their debut. They have released an EP titled \"New Jeans\" and have won multiple awards. They have also collaborated with brands and famous individuals in their music videos. They performed at the Lollapalooza festival in 2023 and will perform the theme song for the League of Legends World Championship.'"
            ],
            "application/vnd.google.colaboratory.intrinsic+json": {
              "type": "string"
            }
          },
          "metadata": {},
          "execution_count": 31
        }
      ]
    },
    {
      "cell_type": "markdown",
      "source": [
        "* \"stuff\": LLM 한번에 다 보냄. 길면 오류남\n",
        "* \"map_reduce\": 나눠서 요약, 전체 요약본 다시 요약\n",
        "* \"refine\": (요약 + 다음 문서) => 요약\n",
        "* \"map_rerank\": 점수매겨서 중요한거로 요약"
      ],
      "metadata": {
        "id": "5esXqkOiOMt3"
      }
    },
    {
      "cell_type": "code",
      "source": [
        "#@title 9. Embeddings and VectorStore\n",
        "from langchain.embeddings import HuggingFaceEmbeddings\n",
        "from langchain.embeddings import OpenAIEmbeddings\n",
        "\n",
        "# embeddings = OpenAIEmbeddings()\n",
        "embeddings = HuggingFaceEmbeddings()\n",
        "\n",
        "from langchain.indexes import VectorstoreIndexCreator\n",
        "from langchain.vectorstores import FAISS\n",
        "\n",
        "# from langchain.text_splitter import RecursiveCharacterTextSplitter\n",
        "# text_splitter = RecursiveCharacterTextSplitter(chunk_size=1000, chunk_overlap=0)\n",
        "\n",
        "index = VectorstoreIndexCreator(\n",
        "    vectorstore_cls=FAISS,\n",
        "    embedding=embeddings,\n",
        "    # text_splitter=text_splitter,\n",
        "    ).from_loaders([loader])\n",
        "\n",
        "# 파일로 저장\n",
        "index.vectorstore.save_local(\"faiss-nj\")"
      ],
      "metadata": {
        "id": "eWJ_mQeH1UiX"
      },
      "execution_count": null,
      "outputs": []
    },
    {
      "cell_type": "markdown",
      "source": [
        "* Embedding : LLM에 input(text)를 넣었을때 나오는 특징 벡터 - Neural Network의 특정 메모리를 읽어서 만들고, 보통 512개 이상의 float로 만들어짐.\n",
        "* 의미상 비슷한 input이 들어갔을때, 나오는 특징 벡터가 유사한 특징을 갖고, 거리상 가깝다.\n",
        "* OpenAI에서 text를 넣으면 Embedding을 돌려주는 API를 제공한다. (다만 비용 발생)\n",
        "* 로컬에서 유사한 알고리즘을 돌릴수 있다. (다만 똑같은 벡터는 아니고, openAI 임베딩과는 비교할수 없다)\n",
        "* HuggingFaceEmbeddings 사용하면 로컬에서 돌릴수 있고, GPU 있다면 가속도 지원함.\n",
        "* Vector Database는 Embedding 벡터와 텍스트를 저장하는 DB\n",
        "  * Pinecone 서비스 (유료, 무료 제한적)\n",
        "  * FAISS (페이스북, 오픈소스, 로컬)\n",
        "  * Embeddings -> 텍스트를 저장\n",
        "  * Embeddings로 검색할수 있으며, 거리상 가장 가까운 항목을 가져올수 있음. (거리를 구하는 방법은 여러가지)\n",
        "  * 유사한 의미를 갖는 텍스트에 대한 Embedding 벡터는 거리상 가깝다."
      ],
      "metadata": {
        "id": "5HKEfHRnP-zK"
      }
    },
    {
      "cell_type": "code",
      "source": [
        "index.query(\"뉴진스의 데뷔곡은?\", llm=chat, verbose=True)"
      ],
      "metadata": {
        "id": "Mdu-vJAJ3QzS",
        "colab": {
          "base_uri": "https://localhost:8080/",
          "height": 128
        },
        "outputId": "ba2737cd-e846-4a7a-bbdc-197f72d72b2c"
      },
      "execution_count": 33,
      "outputs": [
        {
          "output_type": "stream",
          "name": "stdout",
          "text": [
            "\n",
            "\n",
            "\u001b[1m> Entering new RetrievalQA chain...\u001b[0m\n",
            "\n",
            "\u001b[1m> Finished chain.\u001b[0m\n"
          ]
        },
        {
          "output_type": "execute_result",
          "data": {
            "text/plain": [
              "'뉴진스(NewJeans)의 데뷔곡은 \"Attention\"입니다.'"
            ],
            "application/vnd.google.colaboratory.intrinsic+json": {
              "type": "string"
            }
          },
          "metadata": {},
          "execution_count": 33
        }
      ]
    },
    {
      "cell_type": "code",
      "source": [
        "index.query(\"뉴진스의 데뷔 멤버는?\", llm=chat, verbose=True)"
      ],
      "metadata": {
        "id": "re-GBQWg3zLf",
        "colab": {
          "base_uri": "https://localhost:8080/",
          "height": 128
        },
        "outputId": "51ff9d64-ba91-4fae-d382-1dc3fbe441c4"
      },
      "execution_count": 34,
      "outputs": [
        {
          "output_type": "stream",
          "name": "stdout",
          "text": [
            "\n",
            "\n",
            "\u001b[1m> Entering new RetrievalQA chain...\u001b[0m\n",
            "\n",
            "\u001b[1m> Finished chain.\u001b[0m\n"
          ]
        },
        {
          "output_type": "execute_result",
          "data": {
            "text/plain": [
              "'뉴진스(NewJeans)의 데뷔 멤버는 현재 알려진 바에 따르면 공개되지 않았습니다.'"
            ],
            "application/vnd.google.colaboratory.intrinsic+json": {
              "type": "string"
            }
          },
          "metadata": {},
          "execution_count": 34
        }
      ]
    },
    {
      "cell_type": "code",
      "source": [
        "index.query(\"멤버의 나이는?\", llm=chat, verbose=True)"
      ],
      "metadata": {
        "id": "wp4PL4NM4Vu4",
        "colab": {
          "base_uri": "https://localhost:8080/",
          "height": 128
        },
        "outputId": "26b1fbeb-be9e-4b91-c674-1049c5821de3"
      },
      "execution_count": 35,
      "outputs": [
        {
          "output_type": "stream",
          "name": "stdout",
          "text": [
            "\n",
            "\n",
            "\u001b[1m> Entering new RetrievalQA chain...\u001b[0m\n",
            "\n",
            "\u001b[1m> Finished chain.\u001b[0m\n"
          ]
        },
        {
          "output_type": "execute_result",
          "data": {
            "text/plain": [
              "'멤버의 나이에 대한 정보는 제공되지 않았습니다.'"
            ],
            "application/vnd.google.colaboratory.intrinsic+json": {
              "type": "string"
            }
          },
          "metadata": {},
          "execution_count": 35
        }
      ]
    },
    {
      "cell_type": "code",
      "source": [
        "index.query(\"멤버의 나이는? (오늘은 2023년 11월 18일)\", llm=chat, verbose=True)"
      ],
      "metadata": {
        "id": "7wQbSBzr4cGI",
        "colab": {
          "base_uri": "https://localhost:8080/",
          "height": 146
        },
        "outputId": "5d9c2bde-66af-4a6f-980d-60ca98fd0b51"
      },
      "execution_count": 36,
      "outputs": [
        {
          "output_type": "stream",
          "name": "stdout",
          "text": [
            "\n",
            "\n",
            "\u001b[1m> Entering new RetrievalQA chain...\u001b[0m\n",
            "\n",
            "\u001b[1m> Finished chain.\u001b[0m\n"
          ]
        },
        {
          "output_type": "execute_result",
          "data": {
            "text/plain": [
              "'민지: 19세 (2004년 5월 7일 생)\\n하니: 19세 (2004년 10월 6일 생)\\n다니엘: 18세 (2005년 4월 11일 생)\\n해린: 17세 (2006년 5월 15일 생)\\n혜인: 15세 (2008년 4월 21일 생)'"
            ],
            "application/vnd.google.colaboratory.intrinsic+json": {
              "type": "string"
            }
          },
          "metadata": {},
          "execution_count": 36
        }
      ]
    },
    {
      "cell_type": "code",
      "source": [
        "#@title FAISS 벡터DB 디스크에서 불러오기\n",
        "from langchain.indexes.vectorstore import VectorStoreIndexWrapper\n",
        "\n",
        "fdb = FAISS.load_local(\"faiss-nj\", embeddings)\n",
        "index2 = VectorStoreIndexWrapper(vectorstore=fdb)"
      ],
      "metadata": {
        "id": "fg0Wr3UD4qW2"
      },
      "execution_count": 37,
      "outputs": []
    },
    {
      "cell_type": "code",
      "source": [
        "index2.query(\"뉴진스의 데뷔 멤버는?\", llm=chat, verbose=True)"
      ],
      "metadata": {
        "id": "rJ6uUMETOeco",
        "colab": {
          "base_uri": "https://localhost:8080/",
          "height": 128
        },
        "outputId": "d8173fa5-480d-4716-fa72-c368b1d67a41"
      },
      "execution_count": 38,
      "outputs": [
        {
          "output_type": "stream",
          "name": "stdout",
          "text": [
            "\n",
            "\n",
            "\u001b[1m> Entering new RetrievalQA chain...\u001b[0m\n",
            "\n",
            "\u001b[1m> Finished chain.\u001b[0m\n"
          ]
        },
        {
          "output_type": "execute_result",
          "data": {
            "text/plain": [
              "'뉴진스(NewJeans)의 데뷔 멤버는 현재 알려진 바에 따르면 ADOR, LEE, MIN, RAE, YUJIN, YUNA, ZOEY로 알려져 있습니다.'"
            ],
            "application/vnd.google.colaboratory.intrinsic+json": {
              "type": "string"
            }
          },
          "metadata": {},
          "execution_count": 38
        }
      ]
    },
    {
      "cell_type": "code",
      "source": [],
      "metadata": {
        "id": "3ZI7CR03RgOb"
      },
      "execution_count": null,
      "outputs": []
    }
  ]
}