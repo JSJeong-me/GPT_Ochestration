{
  "nbformat": 4,
  "nbformat_minor": 0,
  "metadata": {
    "colab": {
      "provenance": [],
      "machine_shape": "hm",
      "gpuType": "T4",
      "authorship_tag": "ABX9TyN87Vtt4BcMnT8YJH0QMUq4",
      "include_colab_link": true
    },
    "kernelspec": {
      "name": "python3",
      "display_name": "Python 3"
    },
    "language_info": {
      "name": "python"
    },
    "accelerator": "GPU"
  },
  "cells": [
    {
      "cell_type": "markdown",
      "metadata": {
        "id": "view-in-github",
        "colab_type": "text"
      },
      "source": [
        "<a href=\"https://colab.research.google.com/github/JSJeong-me/GPT_Ochestration/blob/main/Selenium_LangChain.ipynb\" target=\"_parent\"><img src=\"https://colab.research.google.com/assets/colab-badge.svg\" alt=\"Open In Colab\"/></a>"
      ]
    },
    {
      "cell_type": "code",
      "source": [
        "!pip install langchain\n",
        "!pip install openai"
      ],
      "metadata": {
        "id": "eC3VIG6Rfkhe"
      },
      "execution_count": null,
      "outputs": []
    },
    {
      "cell_type": "code",
      "source": [
        "!pip install selenium"
      ],
      "metadata": {
        "id": "Y7CrSe2WnhYt"
      },
      "execution_count": null,
      "outputs": []
    },
    {
      "cell_type": "code",
      "source": [
        "# Install playwright\n",
        "!pip install \"playwright\"\n",
        "!pip install \"unstructured\"\n",
        "!playwright install"
      ],
      "metadata": {
        "id": "OtA_UrVskcTN"
      },
      "execution_count": null,
      "outputs": []
    },
    {
      "cell_type": "code",
      "source": [
        "from langchain.document_loaders import PlaywrightURLLoader"
      ],
      "metadata": {
        "id": "itRjDcoUe9fC",
        "outputId": "66398e44-e880-41da-bfc6-d7375c4af654",
        "colab": {
          "base_uri": "https://localhost:8080/"
        }
      },
      "execution_count": 4,
      "outputs": [
        {
          "output_type": "stream",
          "name": "stderr",
          "text": [
            "/usr/local/lib/python3.10/dist-packages/trio/_core/_multierror.py:412: RuntimeWarning: IPython detected, but you already have a custom exception handler installed. I'll skip installing Trio's custom handler, but this means exception groups will not show full tracebacks.\n",
            "  warnings.warn(\n"
          ]
        }
      ]
    },
    {
      "cell_type": "code",
      "source": [
        "from langchain.document_loaders import SeleniumURLLoader"
      ],
      "metadata": {
        "id": "Tae_JFjD0yAb"
      },
      "execution_count": null,
      "outputs": []
    },
    {
      "cell_type": "code",
      "source": [
        "urls = [\n",
        "    \"https://www.youtube.com/watch?v=dQw4w9WgXcQ\",\n",
        "    \"https://goo.gl/maps/NDSHwePEyaHMFGwh8\",\n",
        "]"
      ],
      "metadata": {
        "id": "LGlPP_6Pkwvw"
      },
      "execution_count": 5,
      "outputs": []
    },
    {
      "cell_type": "code",
      "source": [
        "loader = SeleniumURLLoader(urls=urls)"
      ],
      "metadata": {
        "id": "dElm_bdinAnZ"
      },
      "execution_count": 9,
      "outputs": []
    },
    {
      "cell_type": "code",
      "source": [
        "data = loader.load()"
      ],
      "metadata": {
        "colab": {
          "base_uri": "https://localhost:8080/"
        },
        "id": "CgKElKEwnnia",
        "outputId": "514334cd-8f93-4002-f7ac-c5ecfafcf8f0"
      },
      "execution_count": 10,
      "outputs": [
        {
          "output_type": "stream",
          "name": "stderr",
          "text": [
            "[nltk_data] Downloading package punkt to /root/nltk_data...\n",
            "[nltk_data]   Unzipping tokenizers/punkt.zip.\n",
            "[nltk_data] Downloading package averaged_perceptron_tagger to\n",
            "[nltk_data]     /root/nltk_data...\n",
            "[nltk_data]   Unzipping taggers/averaged_perceptron_tagger.zip.\n"
          ]
        }
      ]
    },
    {
      "cell_type": "code",
      "source": [
        "len(data)"
      ],
      "metadata": {
        "id": "No85al8_nqwz"
      },
      "execution_count": null,
      "outputs": []
    },
    {
      "cell_type": "code",
      "source": [
        "data[1]"
      ],
      "metadata": {
        "id": "60Os1zHDn7DN"
      },
      "execution_count": null,
      "outputs": []
    },
    {
      "cell_type": "code",
      "source": [
        "# !pip install nest-asyncio"
      ],
      "metadata": {
        "id": "GXi9I95hl1AU"
      },
      "execution_count": null,
      "outputs": []
    },
    {
      "cell_type": "code",
      "source": [
        "import nest_asyncio\n",
        "nest_asyncio.apply()"
      ],
      "metadata": {
        "id": "iZISAnTylwCS"
      },
      "execution_count": null,
      "outputs": []
    },
    {
      "cell_type": "code",
      "source": [
        "from langchain.document_loaders import SeleniumURLLoader"
      ],
      "metadata": {
        "id": "yGOKIP7MmVFI"
      },
      "execution_count": 8,
      "outputs": []
    },
    {
      "cell_type": "code",
      "source": [
        "loader = PlaywrightURLLoader(urls=urls, remove_selectors=[\"header\", \"footer\"], headless=True)"
      ],
      "metadata": {
        "id": "iOXQeQ5xhTiH"
      },
      "execution_count": null,
      "outputs": []
    },
    {
      "cell_type": "code",
      "source": [
        "loader.headless"
      ],
      "metadata": {
        "id": "TRvmUXV1mi99"
      },
      "execution_count": null,
      "outputs": []
    },
    {
      "cell_type": "code",
      "source": [
        "# data = loader.load()"
      ],
      "metadata": {
        "id": "7r25SJw-lUaM"
      },
      "execution_count": null,
      "outputs": []
    },
    {
      "cell_type": "code",
      "source": [
        "import asyncio\n",
        "from playwright.async_api import async_playwright\n",
        "\n",
        "async def main():\n",
        "    async with async_playwright() as p:\n",
        "        browser = await p.chromium.launch(headless=True)\n",
        "        page = await browser.new_page()\n",
        "        await page.goto(\"https://www.youtube.com/watch?v=dQw4w9WgXcQ\")\n",
        "        # title = await page.title()\n",
        "        title = await page.inner_html(selector='#title > h1')\n",
        "        print(f\"Title: {title}\")\n",
        "        await browser.close()\n",
        "\n",
        "asyncio.run(main())"
      ],
      "metadata": {
        "id": "TdydU8I90L_r"
      },
      "execution_count": null,
      "outputs": []
    }
  ]
}