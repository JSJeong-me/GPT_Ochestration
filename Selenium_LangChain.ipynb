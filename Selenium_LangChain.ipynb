{
  "nbformat": 4,
  "nbformat_minor": 0,
  "metadata": {
    "colab": {
      "provenance": [],
      "machine_shape": "hm",
      "gpuType": "T4",
      "authorship_tag": "ABX9TyNpLSdFEuj9NQuR2hMag8pK",
      "include_colab_link": true
    },
    "kernelspec": {
      "name": "python3",
      "display_name": "Python 3"
    },
    "language_info": {
      "name": "python"
    },
    "accelerator": "GPU"
  },
  "cells": [
    {
      "cell_type": "markdown",
      "metadata": {
        "id": "view-in-github",
        "colab_type": "text"
      },
      "source": [
        "<a href=\"https://colab.research.google.com/github/JSJeong-me/GPT_Ochestration/blob/main/Selenium_LangChain.ipynb\" target=\"_parent\"><img src=\"https://colab.research.google.com/assets/colab-badge.svg\" alt=\"Open In Colab\"/></a>"
      ]
    },
    {
      "cell_type": "code",
      "source": [
        "!pip install langchain\n",
        "!pip install openai"
      ],
      "metadata": {
        "id": "eC3VIG6Rfkhe"
      },
      "execution_count": null,
      "outputs": []
    },
    {
      "cell_type": "code",
      "source": [
        "!pip install selenium"
      ],
      "metadata": {
        "id": "Y7CrSe2WnhYt"
      },
      "execution_count": null,
      "outputs": []
    },
    {
      "cell_type": "code",
      "source": [
        "# Install playwright\n",
        "!pip install \"playwright\"\n",
        "!pip install \"unstructured\"\n",
        "!playwright install"
      ],
      "metadata": {
        "colab": {
          "base_uri": "https://localhost:8080/"
        },
        "id": "OtA_UrVskcTN",
        "outputId": "6324b258-0ea0-461b-c733-4d30fa39884a"
      },
      "execution_count": 3,
      "outputs": [
        {
          "output_type": "stream",
          "name": "stdout",
          "text": [
            "Collecting playwright\n",
            "  Downloading playwright-1.37.0-py3-none-manylinux1_x86_64.whl (35.7 MB)\n",
            "\u001b[2K     \u001b[90m━━━━━━━━━━━━━━━━━━━━━━━━━━━━━━━━━━━━━━━━\u001b[0m \u001b[32m35.7/35.7 MB\u001b[0m \u001b[31m46.6 MB/s\u001b[0m eta \u001b[36m0:00:00\u001b[0m\n",
            "\u001b[?25hRequirement already satisfied: greenlet==2.0.2 in /usr/local/lib/python3.10/dist-packages (from playwright) (2.0.2)\n",
            "Collecting pyee==9.0.4 (from playwright)\n",
            "  Downloading pyee-9.0.4-py2.py3-none-any.whl (14 kB)\n",
            "Requirement already satisfied: typing-extensions in /usr/local/lib/python3.10/dist-packages (from pyee==9.0.4->playwright) (4.7.1)\n",
            "Installing collected packages: pyee, playwright\n",
            "Successfully installed playwright-1.37.0 pyee-9.0.4\n",
            "Collecting unstructured\n",
            "  Downloading unstructured-0.10.8-py3-none-any.whl (1.5 MB)\n",
            "\u001b[2K     \u001b[90m━━━━━━━━━━━━━━━━━━━━━━━━━━━━━━━━━━━━━━━━\u001b[0m \u001b[32m1.5/1.5 MB\u001b[0m \u001b[31m3.1 MB/s\u001b[0m eta \u001b[36m0:00:00\u001b[0m\n",
            "\u001b[?25hRequirement already satisfied: chardet in /usr/local/lib/python3.10/dist-packages (from unstructured) (5.2.0)\n",
            "Collecting filetype (from unstructured)\n",
            "  Downloading filetype-1.2.0-py2.py3-none-any.whl (19 kB)\n",
            "Collecting python-magic (from unstructured)\n",
            "  Downloading python_magic-0.4.27-py2.py3-none-any.whl (13 kB)\n",
            "Requirement already satisfied: lxml in /usr/local/lib/python3.10/dist-packages (from unstructured) (4.9.3)\n",
            "Requirement already satisfied: nltk in /usr/local/lib/python3.10/dist-packages (from unstructured) (3.8.1)\n",
            "Requirement already satisfied: tabulate in /usr/local/lib/python3.10/dist-packages (from unstructured) (0.9.0)\n",
            "Requirement already satisfied: requests in /usr/local/lib/python3.10/dist-packages (from unstructured) (2.31.0)\n",
            "Requirement already satisfied: beautifulsoup4 in /usr/local/lib/python3.10/dist-packages (from unstructured) (4.11.2)\n",
            "Collecting emoji (from unstructured)\n",
            "  Downloading emoji-2.8.0-py2.py3-none-any.whl (358 kB)\n",
            "\u001b[2K     \u001b[90m━━━━━━━━━━━━━━━━━━━━━━━━━━━━━━━━━━━━━━\u001b[0m \u001b[32m358.9/358.9 kB\u001b[0m \u001b[31m45.3 MB/s\u001b[0m eta \u001b[36m0:00:00\u001b[0m\n",
            "\u001b[?25hRequirement already satisfied: soupsieve>1.2 in /usr/local/lib/python3.10/dist-packages (from beautifulsoup4->unstructured) (2.4.1)\n",
            "Requirement already satisfied: click in /usr/local/lib/python3.10/dist-packages (from nltk->unstructured) (8.1.7)\n",
            "Requirement already satisfied: joblib in /usr/local/lib/python3.10/dist-packages (from nltk->unstructured) (1.3.2)\n",
            "Requirement already satisfied: regex>=2021.8.3 in /usr/local/lib/python3.10/dist-packages (from nltk->unstructured) (2023.6.3)\n",
            "Requirement already satisfied: tqdm in /usr/local/lib/python3.10/dist-packages (from nltk->unstructured) (4.66.1)\n",
            "Requirement already satisfied: charset-normalizer<4,>=2 in /usr/local/lib/python3.10/dist-packages (from requests->unstructured) (3.2.0)\n",
            "Requirement already satisfied: idna<4,>=2.5 in /usr/local/lib/python3.10/dist-packages (from requests->unstructured) (3.4)\n",
            "Requirement already satisfied: urllib3<3,>=1.21.1 in /usr/local/lib/python3.10/dist-packages (from requests->unstructured) (2.0.4)\n",
            "Requirement already satisfied: certifi>=2017.4.17 in /usr/local/lib/python3.10/dist-packages (from requests->unstructured) (2023.7.22)\n",
            "Installing collected packages: filetype, python-magic, emoji, unstructured\n",
            "Successfully installed emoji-2.8.0 filetype-1.2.0 python-magic-0.4.27 unstructured-0.10.8\n",
            "Downloading Chromium 116.0.5845.82 (playwright build v1076)\u001b[2m from https://playwright.azureedge.net/builds/chromium/1076/chromium-linux.zip\u001b[22m\n",
            "\u001b[1G148.1 Mb [] 0% 0.0s\u001b[0K\u001b[1G148.1 Mb [] 0% 2.5s\u001b[0K\u001b[1G148.1 Mb [] 1% 2.5s\u001b[0K\u001b[1G148.1 Mb [] 2% 2.5s\u001b[0K\u001b[1G148.1 Mb [] 3% 2.5s\u001b[0K\u001b[1G148.1 Mb [] 4% 2.5s\u001b[0K\u001b[1G148.1 Mb [] 5% 2.6s\u001b[0K\u001b[1G148.1 Mb [] 6% 2.5s\u001b[0K\u001b[1G148.1 Mb [] 7% 2.4s\u001b[0K\u001b[1G148.1 Mb [] 8% 2.4s\u001b[0K\u001b[1G148.1 Mb [] 9% 2.4s\u001b[0K\u001b[1G148.1 Mb [] 10% 2.3s\u001b[0K\u001b[1G148.1 Mb [] 11% 2.3s\u001b[0K\u001b[1G148.1 Mb [] 12% 2.2s\u001b[0K\u001b[1G148.1 Mb [] 13% 2.2s\u001b[0K\u001b[1G148.1 Mb [] 14% 2.2s\u001b[0K\u001b[1G148.1 Mb [] 15% 2.2s\u001b[0K\u001b[1G148.1 Mb [] 16% 2.2s\u001b[0K\u001b[1G148.1 Mb [] 17% 2.1s\u001b[0K\u001b[1G148.1 Mb [] 18% 2.1s\u001b[0K\u001b[1G148.1 Mb [] 19% 2.1s\u001b[0K\u001b[1G148.1 Mb [] 20% 2.1s\u001b[0K\u001b[1G148.1 Mb [] 21% 2.2s\u001b[0K\u001b[1G148.1 Mb [] 21% 2.1s\u001b[0K\u001b[1G148.1 Mb [] 22% 2.1s\u001b[0K\u001b[1G148.1 Mb [] 23% 2.1s\u001b[0K\u001b[1G148.1 Mb [] 24% 2.1s\u001b[0K\u001b[1G148.1 Mb [] 25% 2.1s\u001b[0K\u001b[1G148.1 Mb [] 26% 2.1s\u001b[0K\u001b[1G148.1 Mb [] 27% 2.1s\u001b[0K\u001b[1G148.1 Mb [] 27% 2.0s\u001b[0K\u001b[1G148.1 Mb [] 28% 2.0s\u001b[0K\u001b[1G148.1 Mb [] 29% 2.0s\u001b[0K\u001b[1G148.1 Mb [] 30% 1.9s\u001b[0K\u001b[1G148.1 Mb [] 31% 1.9s\u001b[0K\u001b[1G148.1 Mb [] 32% 1.9s\u001b[0K\u001b[1G148.1 Mb [] 34% 1.8s\u001b[0K\u001b[1G148.1 Mb [] 35% 1.7s\u001b[0K\u001b[1G148.1 Mb [] 37% 1.6s\u001b[0K\u001b[1G148.1 Mb [] 38% 1.6s\u001b[0K\u001b[1G148.1 Mb [] 39% 1.5s\u001b[0K\u001b[1G148.1 Mb [] 40% 1.5s\u001b[0K\u001b[1G148.1 Mb [] 41% 1.5s\u001b[0K\u001b[1G148.1 Mb [] 42% 1.5s\u001b[0K\u001b[1G148.1 Mb [] 43% 1.4s\u001b[0K\u001b[1G148.1 Mb [] 45% 1.4s\u001b[0K\u001b[1G148.1 Mb [] 46% 1.3s\u001b[0K\u001b[1G148.1 Mb [] 48% 1.2s\u001b[0K\u001b[1G148.1 Mb [] 49% 1.2s\u001b[0K\u001b[1G148.1 Mb [] 50% 1.2s\u001b[0K\u001b[1G148.1 Mb [] 51% 1.2s\u001b[0K\u001b[1G148.1 Mb [] 52% 1.2s\u001b[0K\u001b[1G148.1 Mb [] 52% 1.1s\u001b[0K\u001b[1G148.1 Mb [] 53% 1.1s\u001b[0K\u001b[1G148.1 Mb [] 55% 1.1s\u001b[0K\u001b[1G148.1 Mb [] 56% 1.0s\u001b[0K\u001b[1G148.1 Mb [] 58% 1.0s\u001b[0K\u001b[1G148.1 Mb [] 59% 0.9s\u001b[0K\u001b[1G148.1 Mb [] 60% 0.9s\u001b[0K\u001b[1G148.1 Mb [] 61% 0.9s\u001b[0K\u001b[1G148.1 Mb [] 62% 0.9s\u001b[0K\u001b[1G148.1 Mb [] 63% 0.8s\u001b[0K\u001b[1G148.1 Mb [] 64% 0.8s\u001b[0K\u001b[1G148.1 Mb [] 65% 0.8s\u001b[0K\u001b[1G148.1 Mb [] 66% 0.8s\u001b[0K\u001b[1G148.1 Mb [] 67% 0.8s\u001b[0K\u001b[1G148.1 Mb [] 67% 0.7s\u001b[0K\u001b[1G148.1 Mb [] 68% 0.7s\u001b[0K\u001b[1G148.1 Mb [] 69% 0.7s\u001b[0K\u001b[1G148.1 Mb [] 70% 0.7s\u001b[0K\u001b[1G148.1 Mb [] 71% 0.7s\u001b[0K\u001b[1G148.1 Mb [] 72% 0.7s\u001b[0K\u001b[1G148.1 Mb [] 72% 0.6s\u001b[0K\u001b[1G148.1 Mb [] 73% 0.6s\u001b[0K\u001b[1G148.1 Mb [] 74% 0.6s\u001b[0K\u001b[1G148.1 Mb [] 75% 0.6s\u001b[0K\u001b[1G148.1 Mb [] 76% 0.6s\u001b[0K\u001b[1G148.1 Mb [] 76% 0.5s\u001b[0K\u001b[1G148.1 Mb [] 77% 0.5s\u001b[0K\u001b[1G148.1 Mb [] 78% 0.5s\u001b[0K\u001b[1G148.1 Mb [] 79% 0.5s\u001b[0K\u001b[1G148.1 Mb [] 80% 0.5s\u001b[0K\u001b[1G148.1 Mb [] 81% 0.5s\u001b[0K\u001b[1G148.1 Mb [] 81% 0.4s\u001b[0K\u001b[1G148.1 Mb [] 82% 0.4s\u001b[0K\u001b[1G148.1 Mb [] 83% 0.4s\u001b[0K\u001b[1G148.1 Mb [] 84% 0.4s\u001b[0K\u001b[1G148.1 Mb [] 85% 0.4s\u001b[0K\u001b[1G148.1 Mb [] 85% 0.3s\u001b[0K\u001b[1G148.1 Mb [] 86% 0.3s\u001b[0K\u001b[1G148.1 Mb [] 87% 0.3s\u001b[0K\u001b[1G148.1 Mb [] 88% 0.3s\u001b[0K\u001b[1G148.1 Mb [] 89% 0.3s\u001b[0K\u001b[1G148.1 Mb [] 90% 0.2s\u001b[0K\u001b[1G148.1 Mb [] 91% 0.2s\u001b[0K\u001b[1G148.1 Mb [] 92% 0.2s\u001b[0K\u001b[1G148.1 Mb [] 93% 0.2s\u001b[0K\u001b[1G148.1 Mb [] 93% 0.1s\u001b[0K\u001b[1G148.1 Mb [] 94% 0.1s\u001b[0K\u001b[1G148.1 Mb [] 95% 0.1s\u001b[0K\u001b[1G148.1 Mb [] 96% 0.1s\u001b[0K\u001b[1G148.1 Mb [] 97% 0.1s\u001b[0K\u001b[1G148.1 Mb [] 98% 0.0s\u001b[0K\u001b[1G148.1 Mb [] 99% 0.0s\u001b[0K\u001b[1G148.1 Mb [] 100% 0.0s\u001b[0K\n",
            "Chromium 116.0.5845.82 (playwright build v1076) downloaded to /root/.cache/ms-playwright/chromium-1076\n",
            "Downloading FFMPEG playwright build v1009\u001b[2m from https://playwright.azureedge.net/builds/ffmpeg/1009/ffmpeg-linux.zip\u001b[22m\n",
            "\u001b[1G2.6 Mb [] 0% 0.0s\u001b[0K\u001b[1G2.6 Mb [] 54% 0.0s\u001b[0K\u001b[1G2.6 Mb [] 100% 0.0s\u001b[0K\n",
            "FFMPEG playwright build v1009 downloaded to /root/.cache/ms-playwright/ffmpeg-1009\n",
            "Downloading Firefox 115.0 (playwright build v1422)\u001b[2m from https://playwright.azureedge.net/builds/firefox/1422/firefox-ubuntu-22.04.zip\u001b[22m\n",
            "\u001b[1G79.1 Mb [] 0% 0.0s\u001b[0K\u001b[1G79.1 Mb [] 1% 1.5s\u001b[0K\u001b[1G79.1 Mb [] 2% 1.5s\u001b[0K\u001b[1G79.1 Mb [] 3% 1.4s\u001b[0K\u001b[1G79.1 Mb [] 4% 1.3s\u001b[0K\u001b[1G79.1 Mb [] 5% 1.3s\u001b[0K\u001b[1G79.1 Mb [] 6% 1.3s\u001b[0K\u001b[1G79.1 Mb [] 7% 1.3s\u001b[0K\u001b[1G79.1 Mb [] 9% 1.3s\u001b[0K\u001b[1G79.1 Mb [] 10% 1.3s\u001b[0K\u001b[1G79.1 Mb [] 11% 1.3s\u001b[0K\u001b[1G79.1 Mb [] 12% 1.2s\u001b[0K\u001b[1G79.1 Mb [] 13% 1.2s\u001b[0K\u001b[1G79.1 Mb [] 14% 1.2s\u001b[0K\u001b[1G79.1 Mb [] 16% 1.2s\u001b[0K\u001b[1G79.1 Mb [] 17% 1.2s\u001b[0K\u001b[1G79.1 Mb [] 18% 1.1s\u001b[0K\u001b[1G79.1 Mb [] 19% 1.1s\u001b[0K\u001b[1G79.1 Mb [] 21% 1.1s\u001b[0K\u001b[1G79.1 Mb [] 22% 1.1s\u001b[0K\u001b[1G79.1 Mb [] 23% 1.1s\u001b[0K\u001b[1G79.1 Mb [] 24% 1.1s\u001b[0K\u001b[1G79.1 Mb [] 25% 1.1s\u001b[0K\u001b[1G79.1 Mb [] 26% 1.0s\u001b[0K\u001b[1G79.1 Mb [] 27% 1.0s\u001b[0K\u001b[1G79.1 Mb [] 28% 1.0s\u001b[0K\u001b[1G79.1 Mb [] 29% 1.0s\u001b[0K\u001b[1G79.1 Mb [] 30% 1.0s\u001b[0K\u001b[1G79.1 Mb [] 31% 1.0s\u001b[0K\u001b[1G79.1 Mb [] 32% 1.0s\u001b[0K\u001b[1G79.1 Mb [] 33% 1.0s\u001b[0K\u001b[1G79.1 Mb [] 35% 0.9s\u001b[0K\u001b[1G79.1 Mb [] 36% 0.9s\u001b[0K\u001b[1G79.1 Mb [] 37% 0.9s\u001b[0K\u001b[1G79.1 Mb [] 38% 0.9s\u001b[0K\u001b[1G79.1 Mb [] 39% 0.9s\u001b[0K\u001b[1G79.1 Mb [] 40% 0.9s\u001b[0K\u001b[1G79.1 Mb [] 41% 0.8s\u001b[0K\u001b[1G79.1 Mb [] 43% 0.8s\u001b[0K\u001b[1G79.1 Mb [] 44% 0.8s\u001b[0K\u001b[1G79.1 Mb [] 45% 0.8s\u001b[0K\u001b[1G79.1 Mb [] 46% 0.8s\u001b[0K\u001b[1G79.1 Mb [] 47% 0.8s\u001b[0K\u001b[1G79.1 Mb [] 48% 0.7s\u001b[0K\u001b[1G79.1 Mb [] 49% 0.7s\u001b[0K\u001b[1G79.1 Mb [] 50% 0.7s\u001b[0K\u001b[1G79.1 Mb [] 51% 0.7s\u001b[0K\u001b[1G79.1 Mb [] 53% 0.7s\u001b[0K\u001b[1G79.1 Mb [] 54% 0.7s\u001b[0K\u001b[1G79.1 Mb [] 55% 0.6s\u001b[0K\u001b[1G79.1 Mb [] 56% 0.6s\u001b[0K\u001b[1G79.1 Mb [] 57% 0.6s\u001b[0K\u001b[1G79.1 Mb [] 58% 0.6s\u001b[0K\u001b[1G79.1 Mb [] 59% 0.6s\u001b[0K\u001b[1G79.1 Mb [] 60% 0.6s\u001b[0K\u001b[1G79.1 Mb [] 61% 0.6s\u001b[0K\u001b[1G79.1 Mb [] 62% 0.5s\u001b[0K\u001b[1G79.1 Mb [] 63% 0.5s\u001b[0K\u001b[1G79.1 Mb [] 64% 0.5s\u001b[0K\u001b[1G79.1 Mb [] 66% 0.5s\u001b[0K\u001b[1G79.1 Mb [] 67% 0.5s\u001b[0K\u001b[1G79.1 Mb [] 68% 0.5s\u001b[0K\u001b[1G79.1 Mb [] 69% 0.4s\u001b[0K\u001b[1G79.1 Mb [] 70% 0.4s\u001b[0K\u001b[1G79.1 Mb [] 71% 0.4s\u001b[0K\u001b[1G79.1 Mb [] 73% 0.4s\u001b[0K\u001b[1G79.1 Mb [] 74% 0.4s\u001b[0K\u001b[1G79.1 Mb [] 75% 0.4s\u001b[0K\u001b[1G79.1 Mb [] 76% 0.3s\u001b[0K\u001b[1G79.1 Mb [] 78% 0.3s\u001b[0K\u001b[1G79.1 Mb [] 79% 0.3s\u001b[0K\u001b[1G79.1 Mb [] 80% 0.3s\u001b[0K\u001b[1G79.1 Mb [] 81% 0.3s\u001b[0K\u001b[1G79.1 Mb [] 83% 0.2s\u001b[0K\u001b[1G79.1 Mb [] 84% 0.2s\u001b[0K\u001b[1G79.1 Mb [] 85% 0.2s\u001b[0K\u001b[1G79.1 Mb [] 86% 0.2s\u001b[0K\u001b[1G79.1 Mb [] 87% 0.2s\u001b[0K\u001b[1G79.1 Mb [] 88% 0.2s\u001b[0K\u001b[1G79.1 Mb [] 89% 0.1s\u001b[0K\u001b[1G79.1 Mb [] 91% 0.1s\u001b[0K\u001b[1G79.1 Mb [] 92% 0.1s\u001b[0K\u001b[1G79.1 Mb [] 93% 0.1s\u001b[0K\u001b[1G79.1 Mb [] 94% 0.1s\u001b[0K\u001b[1G79.1 Mb [] 96% 0.1s\u001b[0K\u001b[1G79.1 Mb [] 97% 0.0s\u001b[0K\u001b[1G79.1 Mb [] 98% 0.0s\u001b[0K\u001b[1G79.1 Mb [] 99% 0.0s\u001b[0K\u001b[1G79.1 Mb [] 100% 0.0s\u001b[0K\n",
            "Firefox 115.0 (playwright build v1422) downloaded to /root/.cache/ms-playwright/firefox-1422\n",
            "Downloading Webkit 17.0 (playwright build v1883)\u001b[2m from https://playwright.azureedge.net/builds/webkit/1883/webkit-ubuntu-22.04.zip\u001b[22m\n",
            "\u001b[1G82.2 Mb [] 0% 0.0s\u001b[0K\u001b[1G82.2 Mb [] 1% 1.0s\u001b[0K\u001b[1G82.2 Mb [] 3% 0.9s\u001b[0K\u001b[1G82.2 Mb [] 5% 0.9s\u001b[0K\u001b[1G82.2 Mb [] 7% 0.8s\u001b[0K\u001b[1G82.2 Mb [] 9% 0.8s\u001b[0K\u001b[1G82.2 Mb [] 11% 0.8s\u001b[0K\u001b[1G82.2 Mb [] 13% 0.7s\u001b[0K\u001b[1G82.2 Mb [] 15% 0.7s\u001b[0K\u001b[1G82.2 Mb [] 17% 0.7s\u001b[0K\u001b[1G82.2 Mb [] 19% 0.7s\u001b[0K\u001b[1G82.2 Mb [] 21% 0.6s\u001b[0K\u001b[1G82.2 Mb [] 23% 0.6s\u001b[0K\u001b[1G82.2 Mb [] 25% 0.6s\u001b[0K\u001b[1G82.2 Mb [] 27% 0.6s\u001b[0K\u001b[1G82.2 Mb [] 29% 0.6s\u001b[0K\u001b[1G82.2 Mb [] 31% 0.5s\u001b[0K\u001b[1G82.2 Mb [] 33% 0.5s\u001b[0K\u001b[1G82.2 Mb [] 35% 0.5s\u001b[0K\u001b[1G82.2 Mb [] 38% 0.5s\u001b[0K\u001b[1G82.2 Mb [] 40% 0.5s\u001b[0K\u001b[1G82.2 Mb [] 42% 0.5s\u001b[0K\u001b[1G82.2 Mb [] 44% 0.4s\u001b[0K\u001b[1G82.2 Mb [] 47% 0.4s\u001b[0K\u001b[1G82.2 Mb [] 49% 0.4s\u001b[0K\u001b[1G82.2 Mb [] 51% 0.4s\u001b[0K\u001b[1G82.2 Mb [] 53% 0.4s\u001b[0K\u001b[1G82.2 Mb [] 55% 0.4s\u001b[0K\u001b[1G82.2 Mb [] 57% 0.3s\u001b[0K\u001b[1G82.2 Mb [] 59% 0.3s\u001b[0K\u001b[1G82.2 Mb [] 61% 0.3s\u001b[0K\u001b[1G82.2 Mb [] 63% 0.3s\u001b[0K\u001b[1G82.2 Mb [] 65% 0.3s\u001b[0K\u001b[1G82.2 Mb [] 67% 0.2s\u001b[0K\u001b[1G82.2 Mb [] 70% 0.2s\u001b[0K\u001b[1G82.2 Mb [] 72% 0.2s\u001b[0K\u001b[1G82.2 Mb [] 74% 0.2s\u001b[0K\u001b[1G82.2 Mb [] 76% 0.2s\u001b[0K\u001b[1G82.2 Mb [] 79% 0.2s\u001b[0K\u001b[1G82.2 Mb [] 80% 0.1s\u001b[0K\u001b[1G82.2 Mb [] 82% 0.1s\u001b[0K\u001b[1G82.2 Mb [] 84% 0.1s\u001b[0K\u001b[1G82.2 Mb [] 86% 0.1s\u001b[0K\u001b[1G82.2 Mb [] 88% 0.1s\u001b[0K\u001b[1G82.2 Mb [] 90% 0.1s\u001b[0K\u001b[1G82.2 Mb [] 92% 0.1s\u001b[0K\u001b[1G82.2 Mb [] 95% 0.0s\u001b[0K\u001b[1G82.2 Mb [] 97% 0.0s\u001b[0K\u001b[1G82.2 Mb [] 99% 0.0s\u001b[0K\u001b[1G82.2 Mb [] 100% 0.0s\u001b[0K\n",
            "Webkit 17.0 (playwright build v1883) downloaded to /root/.cache/ms-playwright/webkit-1883\n"
          ]
        }
      ]
    },
    {
      "cell_type": "code",
      "source": [
        "from langchain.document_loaders import PlaywrightURLLoader"
      ],
      "metadata": {
        "id": "itRjDcoUe9fC"
      },
      "execution_count": 10,
      "outputs": []
    },
    {
      "cell_type": "code",
      "source": [
        "urls = [\n",
        "    \"https://www.youtube.com/watch?v=dQw4w9WgXcQ\",\n",
        "    \"https://goo.gl/maps/NDSHwePEyaHMFGwh8\",\n",
        "]"
      ],
      "metadata": {
        "id": "LGlPP_6Pkwvw"
      },
      "execution_count": 8,
      "outputs": []
    },
    {
      "cell_type": "code",
      "source": [
        "loader = SeleniumURLLoader(urls=urls)"
      ],
      "metadata": {
        "id": "dElm_bdinAnZ"
      },
      "execution_count": 38,
      "outputs": []
    },
    {
      "cell_type": "code",
      "source": [
        "data = loader.load()"
      ],
      "metadata": {
        "colab": {
          "base_uri": "https://localhost:8080/"
        },
        "id": "CgKElKEwnnia",
        "outputId": "a9462469-8eff-4ab7-e123-7217afba100f"
      },
      "execution_count": 39,
      "outputs": [
        {
          "output_type": "stream",
          "name": "stderr",
          "text": [
            "[nltk_data] Downloading package punkt to /root/nltk_data...\n",
            "[nltk_data]   Unzipping tokenizers/punkt.zip.\n",
            "[nltk_data] Downloading package averaged_perceptron_tagger to\n",
            "[nltk_data]     /root/nltk_data...\n",
            "[nltk_data]   Unzipping taggers/averaged_perceptron_tagger.zip.\n"
          ]
        }
      ]
    },
    {
      "cell_type": "code",
      "source": [
        "len(data)"
      ],
      "metadata": {
        "colab": {
          "base_uri": "https://localhost:8080/"
        },
        "id": "No85al8_nqwz",
        "outputId": "a14e9ec6-3b8e-4bb4-fa38-38ccf4f15d8a"
      },
      "execution_count": 41,
      "outputs": [
        {
          "output_type": "execute_result",
          "data": {
            "text/plain": [
              "2"
            ]
          },
          "metadata": {},
          "execution_count": 41
        }
      ]
    },
    {
      "cell_type": "code",
      "source": [
        "data[1]"
      ],
      "metadata": {
        "id": "60Os1zHDn7DN"
      },
      "execution_count": null,
      "outputs": []
    },
    {
      "cell_type": "code",
      "source": [
        "# !pip install nest-asyncio"
      ],
      "metadata": {
        "colab": {
          "base_uri": "https://localhost:8080/"
        },
        "id": "GXi9I95hl1AU",
        "outputId": "028f45d7-b91b-43ec-b739-12c9f980bf87"
      },
      "execution_count": 22,
      "outputs": [
        {
          "output_type": "stream",
          "name": "stdout",
          "text": [
            "Requirement already satisfied: nest-asyncio in /usr/local/lib/python3.10/dist-packages (1.5.7)\n"
          ]
        }
      ]
    },
    {
      "cell_type": "code",
      "source": [
        "import nest_asyncio\n",
        "nest_asyncio.apply()"
      ],
      "metadata": {
        "id": "iZISAnTylwCS"
      },
      "execution_count": 6,
      "outputs": []
    },
    {
      "cell_type": "code",
      "source": [
        "from langchain.document_loaders import SeleniumURLLoader"
      ],
      "metadata": {
        "colab": {
          "base_uri": "https://localhost:8080/"
        },
        "id": "yGOKIP7MmVFI",
        "outputId": "61c2d906-a7d1-4592-b806-60edc56a3133"
      },
      "execution_count": 7,
      "outputs": [
        {
          "output_type": "stream",
          "name": "stderr",
          "text": [
            "/usr/local/lib/python3.10/dist-packages/trio/_core/_multierror.py:412: RuntimeWarning: IPython detected, but you already have a custom exception handler installed. I'll skip installing Trio's custom handler, but this means exception groups will not show full tracebacks.\n",
            "  warnings.warn(\n"
          ]
        }
      ]
    },
    {
      "cell_type": "code",
      "source": [
        "loader = PlaywrightURLLoader(urls=urls, remove_selectors=[\"header\", \"footer\"], headless=True)"
      ],
      "metadata": {
        "id": "iOXQeQ5xhTiH"
      },
      "execution_count": 11,
      "outputs": []
    },
    {
      "cell_type": "code",
      "source": [
        "loader.headless"
      ],
      "metadata": {
        "colab": {
          "base_uri": "https://localhost:8080/"
        },
        "id": "TRvmUXV1mi99",
        "outputId": "d6c52288-a586-4a49-e6e6-9fc9295180ee"
      },
      "execution_count": 12,
      "outputs": [
        {
          "output_type": "execute_result",
          "data": {
            "text/plain": [
              "True"
            ]
          },
          "metadata": {},
          "execution_count": 12
        }
      ]
    },
    {
      "cell_type": "code",
      "source": [
        "# data = loader.load()"
      ],
      "metadata": {
        "id": "7r25SJw-lUaM"
      },
      "execution_count": null,
      "outputs": []
    },
    {
      "cell_type": "code",
      "source": [
        "import asyncio\n",
        "from playwright.async_api import async_playwright\n",
        "\n",
        "async def main():\n",
        "    async with async_playwright() as p:\n",
        "        browser = await p.chromium.launch(headless=True)\n",
        "        page = await browser.new_page()\n",
        "        await page.goto(\"https://www.youtube.com/watch?v=dQw4w9WgXcQ\")\n",
        "        # title = await page.title()\n",
        "        title = await page.inner_html(selector='#title > h1')\n",
        "        print(f\"Title: {title}\")\n",
        "        await browser.close()\n",
        "\n",
        "asyncio.run(main())"
      ],
      "metadata": {
        "id": "TdydU8I90L_r"
      },
      "execution_count": null,
      "outputs": []
    }
  ]
}