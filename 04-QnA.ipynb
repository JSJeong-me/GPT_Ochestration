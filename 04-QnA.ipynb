{
  "cells": [
    {
      "cell_type": "markdown",
      "metadata": {
        "id": "view-in-github",
        "colab_type": "text"
      },
      "source": [
        "<a href=\"https://colab.research.google.com/github/JSJeong-me/GPT_Ochestration/blob/main/04-QnA.ipynb\" target=\"_parent\"><img src=\"https://colab.research.google.com/assets/colab-badge.svg\" alt=\"Open In Colab\"/></a>"
      ]
    },
    {
      "cell_type": "markdown",
      "id": "52824b89-532a-4e54-87e9-1410813cd39e",
      "metadata": {
        "id": "52824b89-532a-4e54-87e9-1410813cd39e"
      },
      "source": [
        "# LangChain: Q&A over Documents\n",
        "\n",
        "An example might be a tool that would allow you to query a product catalog for items of interest."
      ]
    },
    {
      "cell_type": "code",
      "execution_count": null,
      "id": "10c1f7b9",
      "metadata": {
        "height": 30,
        "id": "10c1f7b9"
      },
      "outputs": [],
      "source": [
        "!pip install langchain==0.0.179"
      ]
    },
    {
      "cell_type": "code",
      "source": [
        "!pip install python-dotenv"
      ],
      "metadata": {
        "colab": {
          "base_uri": "https://localhost:8080/"
        },
        "id": "REudRQ7mBhmJ",
        "outputId": "9a97b42a-9dd9-4ded-b1b0-bc28ab1f9d2b"
      },
      "id": "REudRQ7mBhmJ",
      "execution_count": 2,
      "outputs": [
        {
          "output_type": "stream",
          "name": "stdout",
          "text": [
            "Collecting python-dotenv\n",
            "  Downloading python_dotenv-1.0.1-py3-none-any.whl (19 kB)\n",
            "Installing collected packages: python-dotenv\n",
            "Successfully installed python-dotenv-1.0.1\n"
          ]
        }
      ]
    },
    {
      "cell_type": "code",
      "source": [
        "!echo \"OPENAI_API_KEY=sk-\" >> .env\n",
        "!source /content/.env"
      ],
      "metadata": {
        "id": "2GE0R64qBGC3"
      },
      "id": "2GE0R64qBGC3",
      "execution_count": 3,
      "outputs": []
    },
    {
      "cell_type": "code",
      "execution_count": 4,
      "id": "b7ed03ed-1322-49e3-b2a2-33e94fb592ef",
      "metadata": {
        "height": 81,
        "tags": [],
        "id": "b7ed03ed-1322-49e3-b2a2-33e94fb592ef"
      },
      "outputs": [],
      "source": [
        "import os\n",
        "\n",
        "from dotenv import load_dotenv, find_dotenv\n",
        "_ = load_dotenv(find_dotenv()) # read local .env file"
      ]
    },
    {
      "cell_type": "markdown",
      "id": "ead635a0-42e2-46cc-a9f7-98419eceae6d",
      "metadata": {
        "id": "ead635a0-42e2-46cc-a9f7-98419eceae6d"
      },
      "source": [
        "Note: LLM's do not always produce the same results. When executing the code in your notebook, you may get slightly different answers that those in the video."
      ]
    },
    {
      "cell_type": "code",
      "execution_count": 5,
      "id": "cc533037-0b8c-4995-96a3-45b35fa13c18",
      "metadata": {
        "height": 234,
        "id": "cc533037-0b8c-4995-96a3-45b35fa13c18"
      },
      "outputs": [],
      "source": [
        "# account for deprecation of LLM model\n",
        "import datetime\n",
        "# Get the current date\n",
        "current_date = datetime.datetime.now().date()\n",
        "\n",
        "# Define the date after which the model should be set to \"gpt-3.5-turbo\"\n",
        "target_date = datetime.date(2024, 6, 12)\n",
        "\n",
        "# Set the model variable based on the current date\n",
        "if current_date > target_date:\n",
        "    llm_model = \"gpt-3.5-turbo\"\n",
        "else:\n",
        "    llm_model = \"gpt-3.5-turbo-0301\""
      ]
    },
    {
      "cell_type": "code",
      "execution_count": 6,
      "id": "974acf8e-8f88-42de-88f8-40a82cb58e8b",
      "metadata": {
        "height": 115,
        "id": "974acf8e-8f88-42de-88f8-40a82cb58e8b"
      },
      "outputs": [],
      "source": [
        "from langchain.chains import RetrievalQA\n",
        "from langchain.chat_models import ChatOpenAI\n",
        "from langchain.document_loaders import CSVLoader\n",
        "from langchain.vectorstores import DocArrayInMemorySearch\n",
        "from IPython.display import display, Markdown\n",
        "from langchain.llms import OpenAI"
      ]
    },
    {
      "cell_type": "code",
      "execution_count": 7,
      "id": "7249846e",
      "metadata": {
        "height": 47,
        "id": "7249846e"
      },
      "outputs": [],
      "source": [
        "file = 'OutdoorClothingCatalog_1000.csv'\n",
        "loader = CSVLoader(file_path=file)"
      ]
    },
    {
      "cell_type": "code",
      "execution_count": 8,
      "id": "5bfaba30",
      "metadata": {
        "height": 30,
        "id": "5bfaba30"
      },
      "outputs": [],
      "source": [
        "from langchain.indexes import VectorstoreIndexCreator"
      ]
    },
    {
      "cell_type": "code",
      "execution_count": null,
      "id": "9b5ab657",
      "metadata": {
        "height": 30,
        "id": "9b5ab657"
      },
      "outputs": [],
      "source": [
        "!pip install docarray\n",
        "!pip install openai==0.27.7\n",
        "!pip install tiktoken"
      ]
    },
    {
      "cell_type": "code",
      "execution_count": 10,
      "id": "9e200726",
      "metadata": {
        "height": 64,
        "id": "9e200726"
      },
      "outputs": [],
      "source": [
        "index = VectorstoreIndexCreator(\n",
        "    vectorstore_cls=DocArrayInMemorySearch\n",
        ").from_loaders([loader])"
      ]
    },
    {
      "cell_type": "code",
      "execution_count": 11,
      "id": "34562d81",
      "metadata": {
        "height": 47,
        "id": "34562d81"
      },
      "outputs": [],
      "source": [
        "query =\"Please list all your shirts with sun protection \\\n",
        "in a table in markdown and summarize each one.\""
      ]
    },
    {
      "cell_type": "markdown",
      "id": "a9a4c615-d6e4-4dd6-bc53-a9c46df7276c",
      "metadata": {
        "id": "a9a4c615-d6e4-4dd6-bc53-a9c46df7276c"
      },
      "source": [
        "**Note**:\n",
        "- The notebook uses `langchain==0.0.179` and `openai==0.27.7`\n",
        "- For these library versions, `VectorstoreIndexCreator` uses `text-davinci-003` as the base model, which has been deprecated since 1 January 2024.\n",
        "- The replacement model, `gpt-3.5-turbo-instruct` will be used instead for the `query`.\n",
        "- The `response` format might be different than the video because of this replacement model."
      ]
    },
    {
      "cell_type": "code",
      "execution_count": 12,
      "id": "cfd0cc37",
      "metadata": {
        "height": 98,
        "id": "cfd0cc37"
      },
      "outputs": [],
      "source": [
        "llm_replacement_model = OpenAI(temperature=0,\n",
        "                               model='gpt-3.5-turbo-instruct')\n",
        "\n",
        "response = index.query(query, llm = llm_replacement_model)"
      ]
    },
    {
      "cell_type": "code",
      "execution_count": 13,
      "id": "ae21f1ff",
      "metadata": {
        "height": 30,
        "scrolled": true,
        "colab": {
          "base_uri": "https://localhost:8080/",
          "height": 244
        },
        "id": "ae21f1ff",
        "outputId": "255abe77-d917-414e-9540-33469d0e01b9"
      },
      "outputs": [
        {
          "output_type": "display_data",
          "data": {
            "text/plain": [
              "<IPython.core.display.Markdown object>"
            ],
            "text/markdown": "\n\n| Name | Description | Sun Protection Rating |\n| --- | --- | --- |\n| Men's Tropical Plaid Short-Sleeve Shirt | Made of 100% polyester, UPF 50+ rated, wrinkle-resistant, front and back cape venting, two front bellows pockets, imported | SPF 50+, blocks 98% of harmful UV rays |\n| Men's Plaid Tropic Shirt, Short-Sleeve | Made of 52% polyester and 48% nylon, UPF 50+ rated, SunSmart technology, wrinkle-free, front and back cape venting, two front bellows pockets, imported | SPF 50+, blocks 98% of harmful UV rays |\n| Men's TropicVibe Shirt, Short-Sleeve | Made of 71% nylon and 29% polyester, UPF 50+ rated, wrinkle-resistant, front and back cape venting, two front bellows pockets, imported | SPF 50+, blocks 98% of harmful UV rays |\n| Sun Shield Shirt | Made of 78% nylon and 22% Lycra Xtra Life fiber, UPF 50+ rated, moisture-wicking, fits comfortably over swimsuit, abrasion-resistant, imported | SPF"
          },
          "metadata": {}
        }
      ],
      "source": [
        "display(Markdown(response))"
      ]
    },
    {
      "cell_type": "markdown",
      "id": "2534597e-4b0c-4563-a208-e2dd91064438",
      "metadata": {
        "id": "2534597e-4b0c-4563-a208-e2dd91064438"
      },
      "source": [
        "## Step By Step"
      ]
    },
    {
      "cell_type": "code",
      "execution_count": 14,
      "id": "631396c6",
      "metadata": {
        "height": 47,
        "id": "631396c6"
      },
      "outputs": [],
      "source": [
        "from langchain.document_loaders import CSVLoader\n",
        "loader = CSVLoader(file_path=file)"
      ]
    },
    {
      "cell_type": "code",
      "execution_count": 15,
      "id": "6c2164b5",
      "metadata": {
        "height": 30,
        "id": "6c2164b5"
      },
      "outputs": [],
      "source": [
        "docs = loader.load()"
      ]
    },
    {
      "cell_type": "code",
      "execution_count": null,
      "id": "4a977f44",
      "metadata": {
        "height": 30,
        "id": "4a977f44"
      },
      "outputs": [],
      "source": [
        "docs[0]"
      ]
    },
    {
      "cell_type": "code",
      "execution_count": 17,
      "id": "e875693a",
      "metadata": {
        "height": 47,
        "id": "e875693a"
      },
      "outputs": [],
      "source": [
        "from langchain.embeddings import OpenAIEmbeddings\n",
        "embeddings = OpenAIEmbeddings()"
      ]
    },
    {
      "cell_type": "code",
      "execution_count": 18,
      "id": "779bec75",
      "metadata": {
        "height": 30,
        "id": "779bec75"
      },
      "outputs": [],
      "source": [
        "embed = embeddings.embed_query(\"Hi my name is Harrison\")"
      ]
    },
    {
      "cell_type": "code",
      "execution_count": 19,
      "id": "699aaaf9",
      "metadata": {
        "height": 30,
        "colab": {
          "base_uri": "https://localhost:8080/"
        },
        "id": "699aaaf9",
        "outputId": "1c6a7799-89e3-41d2-e171-15e65cabe060"
      },
      "outputs": [
        {
          "output_type": "stream",
          "name": "stdout",
          "text": [
            "1536\n"
          ]
        }
      ],
      "source": [
        "print(len(embed))"
      ]
    },
    {
      "cell_type": "code",
      "execution_count": 20,
      "id": "9d00d346",
      "metadata": {
        "height": 30,
        "colab": {
          "base_uri": "https://localhost:8080/"
        },
        "id": "9d00d346",
        "outputId": "8677c1be-9e00-49f9-9070-d4eabdfd97c4"
      },
      "outputs": [
        {
          "output_type": "stream",
          "name": "stdout",
          "text": [
            "[-0.0219351164996624, 0.006751196924597025, -0.0182583499699831, -0.03915192559361458, -0.013979244977235794]\n"
          ]
        }
      ],
      "source": [
        "print(embed[:5])"
      ]
    },
    {
      "cell_type": "code",
      "execution_count": 21,
      "id": "27ad0bb0",
      "metadata": {
        "height": 81,
        "id": "27ad0bb0"
      },
      "outputs": [],
      "source": [
        "db = DocArrayInMemorySearch.from_documents(\n",
        "    docs,\n",
        "    embeddings\n",
        ")"
      ]
    },
    {
      "cell_type": "code",
      "execution_count": 22,
      "id": "0329bfd5",
      "metadata": {
        "height": 30,
        "id": "0329bfd5"
      },
      "outputs": [],
      "source": [
        "query = \"Please suggest a shirt with sunblocking\""
      ]
    },
    {
      "cell_type": "code",
      "execution_count": 23,
      "id": "7909c6b7",
      "metadata": {
        "height": 30,
        "id": "7909c6b7"
      },
      "outputs": [],
      "source": [
        "docs = db.similarity_search(query)"
      ]
    },
    {
      "cell_type": "code",
      "execution_count": 24,
      "id": "43321853",
      "metadata": {
        "height": 30,
        "colab": {
          "base_uri": "https://localhost:8080/"
        },
        "id": "43321853",
        "outputId": "ed6afb7d-506e-45a7-bf7a-739ab9217471"
      },
      "outputs": [
        {
          "output_type": "execute_result",
          "data": {
            "text/plain": [
              "4"
            ]
          },
          "metadata": {},
          "execution_count": 24
        }
      ],
      "source": [
        "len(docs)"
      ]
    },
    {
      "cell_type": "code",
      "execution_count": 25,
      "id": "6eba90b5",
      "metadata": {
        "height": 30,
        "colab": {
          "base_uri": "https://localhost:8080/"
        },
        "id": "6eba90b5",
        "outputId": "d6e1d035-d26e-4122-e59c-7557b6381349"
      },
      "outputs": [
        {
          "output_type": "execute_result",
          "data": {
            "text/plain": [
              "Document(page_content=': 255\\nname: Sun Shield Shirt by\\ndescription: \"Block the sun, not the fun – our high-performance sun shirt is guaranteed to protect from harmful UV rays. \\n\\nSize & Fit: Slightly Fitted: Softly shapes the body. Falls at hip.\\n\\nFabric & Care: 78% nylon, 22% Lycra Xtra Life fiber. UPF 50+ rated – the highest rated sun protection possible. Handwash, line dry.\\n\\nAdditional Features: Wicks moisture for quick-drying comfort. Fits comfortably over your favorite swimsuit. Abrasion resistant for season after season of wear. Imported.\\n\\nSun Protection That Won\\'t Wear Off\\nOur high-performance fabric provides SPF 50+ sun protection, blocking 98% of the sun\\'s harmful rays. This fabric is recommended by The Skin Cancer Foundation as an effective UV protectant.', metadata={'source': 'OutdoorClothingCatalog_1000.csv', 'row': 255})"
            ]
          },
          "metadata": {},
          "execution_count": 25
        }
      ],
      "source": [
        "docs[0]"
      ]
    },
    {
      "cell_type": "code",
      "execution_count": 26,
      "id": "c0c3596e",
      "metadata": {
        "height": 30,
        "id": "c0c3596e"
      },
      "outputs": [],
      "source": [
        "retriever = db.as_retriever()"
      ]
    },
    {
      "cell_type": "code",
      "execution_count": 27,
      "id": "0625f5e8",
      "metadata": {
        "height": 30,
        "id": "0625f5e8"
      },
      "outputs": [],
      "source": [
        "llm = ChatOpenAI(temperature = 0.0, model=llm_model)"
      ]
    },
    {
      "cell_type": "code",
      "execution_count": 28,
      "id": "a573f58a",
      "metadata": {
        "height": 47,
        "id": "a573f58a"
      },
      "outputs": [],
      "source": [
        "qdocs = \"\".join([docs[i].page_content for i in range(len(docs))])\n"
      ]
    },
    {
      "cell_type": "code",
      "execution_count": 29,
      "id": "14682d95",
      "metadata": {
        "height": 64,
        "id": "14682d95"
      },
      "outputs": [],
      "source": [
        "response = llm.call_as_llm(f\"{qdocs} Question: Please list all your \\\n",
        "shirts with sun protection in a table in markdown and summarize each one.\")\n"
      ]
    },
    {
      "cell_type": "code",
      "execution_count": 30,
      "id": "8bba545b",
      "metadata": {
        "height": 30,
        "colab": {
          "base_uri": "https://localhost:8080/",
          "height": 273
        },
        "id": "8bba545b",
        "outputId": "e24ca953-24fa-4c56-99ca-c78576c670bc"
      },
      "outputs": [
        {
          "output_type": "display_data",
          "data": {
            "text/plain": [
              "<IPython.core.display.Markdown object>"
            ],
            "text/markdown": "| Name | Description |\n| --- | --- |\n| Sun Shield Shirt | High-performance sun shirt with UPF 50+ sun protection, moisture-wicking, and abrasion-resistant fabric. Recommended by The Skin Cancer Foundation. |\n| Men's Plaid Tropic Shirt | Ultracomfortable shirt with UPF 50+ sun protection, wrinkle-free fabric, and front/back cape venting. Made with 52% polyester and 48% nylon. |\n| Men's TropicVibe Shirt | Men's sun-protection shirt with built-in UPF 50+ and front/back cape venting. Made with 71% nylon and 29% polyester. |\n| Men's Tropical Plaid Short-Sleeve Shirt | Lightest hot-weather shirt with UPF 50+ sun protection, front/back cape venting, and two front bellows pockets. Made with 100% polyester. |\n\nAll of these shirts provide UPF 50+ sun protection, blocking 98% of the sun's harmful rays. They also have additional features such as moisture-wicking, wrinkle-free fabric, and front/back cape venting for added comfort."
          },
          "metadata": {}
        }
      ],
      "source": [
        "display(Markdown(response))"
      ]
    },
    {
      "cell_type": "code",
      "execution_count": 31,
      "id": "32c94d22",
      "metadata": {
        "height": 115,
        "id": "32c94d22"
      },
      "outputs": [],
      "source": [
        "qa_stuff = RetrievalQA.from_chain_type(\n",
        "    llm=llm,\n",
        "    chain_type=\"stuff\",\n",
        "    retriever=retriever,\n",
        "    verbose=True\n",
        ")"
      ]
    },
    {
      "cell_type": "code",
      "execution_count": 32,
      "id": "e4769316",
      "metadata": {
        "height": 47,
        "id": "e4769316"
      },
      "outputs": [],
      "source": [
        "query =  \"Please list all your shirts with sun protection in a table \\\n",
        "in markdown and summarize each one.\""
      ]
    },
    {
      "cell_type": "code",
      "execution_count": 33,
      "id": "1fc3c2f3",
      "metadata": {
        "height": 30,
        "colab": {
          "base_uri": "https://localhost:8080/"
        },
        "id": "1fc3c2f3",
        "outputId": "23f6cca6-9430-4c39-a49a-b33904731e1d"
      },
      "outputs": [
        {
          "output_type": "stream",
          "name": "stdout",
          "text": [
            "\n",
            "\n",
            "\u001b[1m> Entering new RetrievalQA chain...\u001b[0m\n",
            "\n",
            "\u001b[1m> Finished chain.\u001b[0m\n"
          ]
        }
      ],
      "source": [
        "response = qa_stuff.run(query)"
      ]
    },
    {
      "cell_type": "code",
      "execution_count": 34,
      "id": "fba1a5db",
      "metadata": {
        "height": 30,
        "colab": {
          "base_uri": "https://localhost:8080/",
          "height": 430
        },
        "id": "fba1a5db",
        "outputId": "538ba14e-4712-4b86-92fe-81931a9f6b2e"
      },
      "outputs": [
        {
          "output_type": "display_data",
          "data": {
            "text/plain": [
              "<IPython.core.display.Markdown object>"
            ],
            "text/markdown": "| Shirt Number | Name | Description |\n| --- | --- | --- |\n| 618 | Men's Tropical Plaid Short-Sleeve Shirt | This shirt is made of 100% polyester and is wrinkle-resistant. It has front and back cape venting that lets in cool breezes and two front bellows pockets. It is rated UPF 50+ for superior protection from the sun's UV rays. |\n| 374 | Men's Plaid Tropic Shirt, Short-Sleeve | This shirt is made with 52% polyester and 48% nylon. It is machine washable and dryable. It has front and back cape venting, two front bellows pockets, and is rated to UPF 50+. |\n| 535 | Men's TropicVibe Shirt, Short-Sleeve | This shirt is made of 71% Nylon and 29% Polyester. It has front and back cape venting that lets in cool breezes and two front bellows pockets. It is rated UPF 50+ for superior protection from the sun's UV rays. |\n| 255 | Sun Shield Shirt | This shirt is made of 78% nylon and 22% Lycra Xtra Life fiber. It is handwashable and line dry. It is rated UPF 50+ for superior protection from the sun's UV rays. It is abrasion-resistant and wicks moisture for quick-drying comfort. |\n\nThe Men's Tropical Plaid Short-Sleeve Shirt is made of 100% polyester and is wrinkle-resistant. It has front and back cape venting that lets in cool breezes and two front bellows pockets. It is rated UPF 50+ for superior protection from the sun's UV rays.\n\nThe Men's Plaid Tropic Shirt, Short-Sleeve is made with 52% polyester and 48% nylon. It has front and back cape venting, two front bellows pockets, and is rated to UPF 50+.\n\nThe Men's TropicVibe Shirt, Short-Sleeve is made of 71% Nylon and 29% Polyester. It has front and back cape venting that lets in cool breezes and two front bellows pockets. It is rated UPF 50+ for superior protection from the sun's UV rays.\n\nThe Sun Shield Shirt is made of 78% nylon and 22% Lycra Xtra Life fiber. It is abrasion-resistant and wicks moisture for quick-drying comfort. It is rated UPF 50+ for superior protection from the sun's UV rays. It is handwashable and line dry."
          },
          "metadata": {}
        }
      ],
      "source": [
        "display(Markdown(response))"
      ]
    },
    {
      "cell_type": "code",
      "execution_count": 35,
      "id": "500ec062",
      "metadata": {
        "height": 30,
        "id": "500ec062"
      },
      "outputs": [],
      "source": [
        "response = index.query(query, llm=llm)"
      ]
    },
    {
      "cell_type": "code",
      "source": [
        "Markdown(response)"
      ],
      "metadata": {
        "colab": {
          "base_uri": "https://localhost:8080/",
          "height": 430
        },
        "id": "Vqpv6vtGFEjN",
        "outputId": "5aeebaaa-2ca2-420b-fc01-203de65d807b"
      },
      "id": "Vqpv6vtGFEjN",
      "execution_count": 38,
      "outputs": [
        {
          "output_type": "execute_result",
          "data": {
            "text/plain": [
              "<IPython.core.display.Markdown object>"
            ],
            "text/markdown": "| Shirt Number | Name | Description |\n| --- | --- | --- |\n| 618 | Men's Tropical Plaid Short-Sleeve Shirt | This shirt is made of 100% polyester and is wrinkle-resistant. It has front and back cape venting that lets in cool breezes and two front bellows pockets. It is rated UPF 50+ for superior protection from the sun's UV rays. |\n| 374 | Men's Plaid Tropic Shirt, Short-Sleeve | This shirt is made with 52% polyester and 48% nylon. It is machine washable and dryable. It has front and back cape venting, two front bellows pockets, and is rated to UPF 50+. |\n| 535 | Men's TropicVibe Shirt, Short-Sleeve | This shirt is made of 71% Nylon and 29% Polyester. It has front and back cape venting that lets in cool breezes and two front bellows pockets. It is rated UPF 50+ for superior protection from the sun's UV rays. |\n| 255 | Sun Shield Shirt | This shirt is made of 78% nylon and 22% Lycra Xtra Life fiber. It is handwashable and line dry. It is rated UPF 50+ for superior protection from the sun's UV rays. It is abrasion-resistant and wicks moisture for quick-drying comfort. |\n\nThe Men's Tropical Plaid Short-Sleeve Shirt is made of 100% polyester and is wrinkle-resistant. It has front and back cape venting that lets in cool breezes and two front bellows pockets. It is rated UPF 50+ for superior protection from the sun's UV rays.\n\nThe Men's Plaid Tropic Shirt, Short-Sleeve is made with 52% polyester and 48% nylon. It has front and back cape venting, two front bellows pockets, and is rated to UPF 50+.\n\nThe Men's TropicVibe Shirt, Short-Sleeve is made of 71% Nylon and 29% Polyester. It has front and back cape venting that lets in cool breezes and two front bellows pockets. It is rated UPF 50+ for superior protection from the sun's UV rays.\n\nThe Sun Shield Shirt is made of 78% nylon and 22% Lycra Xtra Life fiber. It is abrasion-resistant and wicks moisture for quick-drying comfort. It is rated UPF 50+ for superior protection from the sun's UV rays. It is handwashable and line dry."
          },
          "metadata": {},
          "execution_count": 38
        }
      ]
    },
    {
      "cell_type": "code",
      "execution_count": 36,
      "id": "2cffb19f",
      "metadata": {
        "height": 81,
        "id": "2cffb19f"
      },
      "outputs": [],
      "source": [
        "index = VectorstoreIndexCreator(\n",
        "    vectorstore_cls=DocArrayInMemorySearch,\n",
        "    embedding=embeddings,\n",
        ").from_loaders([loader])"
      ]
    },
    {
      "cell_type": "code",
      "execution_count": null,
      "id": "a9b58916",
      "metadata": {
        "height": 30,
        "id": "a9b58916"
      },
      "outputs": [],
      "source": []
    }
  ],
  "metadata": {
    "kernelspec": {
      "display_name": "Python 3",
      "name": "python3"
    },
    "language_info": {
      "codemirror_mode": {
        "name": "ipython",
        "version": 3
      },
      "file_extension": ".py",
      "mimetype": "text/x-python",
      "name": "python",
      "nbconvert_exporter": "python",
      "pygments_lexer": "ipython3",
      "version": "3.9.17"
    },
    "colab": {
      "provenance": [],
      "gpuType": "T4",
      "include_colab_link": true
    },
    "accelerator": "GPU"
  },
  "nbformat": 4,
  "nbformat_minor": 5
}