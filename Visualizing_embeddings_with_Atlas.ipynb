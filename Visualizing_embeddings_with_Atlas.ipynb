{
  "cells": [
    {
      "cell_type": "markdown",
      "metadata": {
        "id": "view-in-github",
        "colab_type": "text"
      },
      "source": [
        "<a href=\"https://colab.research.google.com/github/JSJeong-me/GPT_Ochestration/blob/main/Visualizing_embeddings_with_Atlas.ipynb\" target=\"_parent\"><img src=\"https://colab.research.google.com/assets/colab-badge.svg\" alt=\"Open In Colab\"/></a>"
      ]
    },
    {
      "cell_type": "markdown",
      "metadata": {
        "id": "LVoyxz7GdKej"
      },
      "source": [
        "## Visualizing Open AI Embeddings in Atlas\n",
        "\n",
        "In this example, we will upload food review embeddings to [Atlas](https://atlas.nomic.ai) to visualize the embeddings."
      ]
    },
    {
      "cell_type": "markdown",
      "metadata": {
        "id": "775tPHxvdKep"
      },
      "source": [
        "## What is Atlas?\n",
        "\n",
        "[Atlas](https://atlas.nomic.ai) is a machine learning tool used to visualize massive datasets of embeddings in your web browser. Upload millions of embeddings to Atlas and interact with them in your web browser or jupyter notebook."
      ]
    },
    {
      "cell_type": "markdown",
      "metadata": {
        "id": "DsPKYDWBdKeq"
      },
      "source": [
        "### 1. Login to Atlas.\n"
      ]
    },
    {
      "cell_type": "code",
      "execution_count": null,
      "metadata": {
        "id": "YwVrpM1fdKer"
      },
      "outputs": [],
      "source": [
        "!pip install nomic"
      ]
    },
    {
      "cell_type": "code",
      "execution_count": 2,
      "metadata": {
        "id": "ONEVmbcYdKet"
      },
      "outputs": [],
      "source": [
        "import pandas as pd\n",
        "import numpy as np\n",
        "from ast import literal_eval\n",
        "\n",
        "# Load the embeddings\n",
        "datafile_path = \"fine_food_reviews_with_embeddings_1k.csv\"\n",
        "df = pd.read_csv(datafile_path)\n",
        "\n",
        "# Convert to a list of lists of floats\n",
        "embeddings = np.array(df.embedding.apply(literal_eval).to_list())\n",
        "df = df.drop('embedding', axis=1)\n",
        "df = df.rename(columns={'Unnamed: 0': 'id'})\n"
      ]
    },
    {
      "cell_type": "code",
      "execution_count": null,
      "metadata": {
        "id": "_lKPCfPFdKeu"
      },
      "outputs": [],
      "source": [
        "import nomic\n",
        "from nomic import atlas\n",
        "nomic.login('7xDPkYXSYDc1_ErdTPIcoAR9RNd8YDlkS3nVNXcVoIMZ6') #demo account\n",
        "\n",
        "data = df.to_dict('records')\n",
        "project = atlas.map_embeddings(embeddings=embeddings, data=data,\n",
        "                               id_field='id',\n",
        "                               colorable_fields=['Score'])\n",
        "map = project.maps[0]"
      ]
    },
    {
      "cell_type": "markdown",
      "metadata": {
        "id": "JjzqgZwkdKew"
      },
      "source": [
        "### 2. Interact with your embeddings in Jupyter"
      ]
    },
    {
      "cell_type": "code",
      "execution_count": 4,
      "metadata": {
        "id": "nQfbPkZudKew",
        "outputId": "65b0ad1e-57cc-49b0-dcf3-56d0537e4df0",
        "colab": {
          "base_uri": "https://localhost:8080/",
          "height": 34
        }
      },
      "outputs": [
        {
          "output_type": "execute_result",
          "data": {
            "text/plain": [
              "groovy-vein: https://atlas.nomic.ai/map/3e58c76e-6cf4-4c3e-9184-38b174cbf3e8/a46f4c16-8511-4fde-9bf9-dcd1f8c72c0a"
            ],
            "text/html": [
              "Atlas Projection groovy-vein. Status Projecting. <a target=\"_blank\" href=\"https://atlas.nomic.ai/map/3e58c76e-6cf4-4c3e-9184-38b174cbf3e8/a46f4c16-8511-4fde-9bf9-dcd1f8c72c0a\">view online</a>"
            ]
          },
          "metadata": {},
          "execution_count": 4
        }
      ],
      "source": [
        "map"
      ]
    },
    {
      "cell_type": "code",
      "execution_count": 4,
      "metadata": {
        "id": "nLDnW_uNdKex"
      },
      "outputs": [],
      "source": []
    }
  ],
  "metadata": {
    "kernelspec": {
      "display_name": "Python 3",
      "name": "python3"
    },
    "language_info": {
      "codemirror_mode": {
        "name": "ipython",
        "version": 3
      },
      "file_extension": ".py",
      "mimetype": "text/x-python",
      "name": "python",
      "nbconvert_exporter": "python",
      "pygments_lexer": "ipython3",
      "version": "3.9.15"
    },
    "vscode": {
      "interpreter": {
        "hash": "365536dcbde60510dc9073d6b991cd35db2d9bac356a11f5b64279a5e6708b97"
      }
    },
    "colab": {
      "provenance": [],
      "gpuType": "T4",
      "include_colab_link": true
    },
    "accelerator": "GPU"
  },
  "nbformat": 4,
  "nbformat_minor": 0
}