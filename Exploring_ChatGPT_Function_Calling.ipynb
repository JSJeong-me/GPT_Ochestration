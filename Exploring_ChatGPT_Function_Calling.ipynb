{
  "cells": [
    {
      "cell_type": "markdown",
      "metadata": {
        "id": "view-in-github",
        "colab_type": "text"
      },
      "source": [
        "<a href=\"https://colab.research.google.com/github/JSJeong-me/GPT_Ochestration/blob/main/Exploring_ChatGPT_Function_Calling.ipynb\" target=\"_parent\"><img src=\"https://colab.research.google.com/assets/colab-badge.svg\" alt=\"Open In Colab\"/></a>"
      ]
    },
    {
      "cell_type": "markdown",
      "id": "7ce8bc84",
      "metadata": {
        "id": "7ce8bc84"
      },
      "source": [
        "# Function Calling with OpenAI's GPT Models: An Interactive Tutorial\n",
        "\n",
        "In this notebook, we'll dive deep into a powerful feature offered by the latest versions of OpenAI's GPT models (like gpt-3.5-turbo-0613 and gpt-4-0613): function calling.\n",
        "\n",
        "Let's imagine you're talking to a ChatGPT model and you want to have it use a tool. Traditionally you'd have to do some clever prompting to have it return the format you'd like.\n",
        "\n",
        "Now you can tell it about certain actions, or **\"functions\"**, it can take\n",
        "\n",
        "This doesn't mean the assistant actually performs these actions. Rather, it's aware of them and can instruct you on how to perform these actions based on the conversation at hand.\n",
        "\n",
        "For example, you can tell the assistant about a function that fetches weather data, and when asked \"What's the weather like in Boston?\", the assistant can reply with instructions on how to call this weather-fetching function with 'Boston' as the input.\n",
        "\n",
        "**Function calling** enables us to leverage the model's natural language understanding to effectively turn human language into structured data or specific function calls in our code.\n",
        "\n",
        "This capability is useful in numerous scenarios, from creating chatbots that can interact with other APIs, to automating tasks and extracting structured information from natural language inputs. See more information about [function calling](https://platform.openai.com/docs/guides/gpt/function-calling)\n",
        "\n",
        "Let's explore and start by importing our packages"
      ]
    },
    {
      "cell_type": "code",
      "source": [
        "!pip install langchain --upgrade"
      ],
      "metadata": {
        "id": "xqrmqrLuwcyx"
      },
      "id": "xqrmqrLuwcyx",
      "execution_count": null,
      "outputs": []
    },
    {
      "cell_type": "code",
      "source": [
        "!pip install openai"
      ],
      "metadata": {
        "id": "yqgBXtORwlBX"
      },
      "id": "yqgBXtORwlBX",
      "execution_count": null,
      "outputs": []
    },
    {
      "cell_type": "code",
      "source": [
        "!pip install python-dotenv"
      ],
      "metadata": {
        "colab": {
          "base_uri": "https://localhost:8080/"
        },
        "id": "-ziTq-1Mwx-F",
        "outputId": "995e7277-35b4-4f65-c34d-28df8d45ca97"
      },
      "id": "-ziTq-1Mwx-F",
      "execution_count": 4,
      "outputs": [
        {
          "output_type": "stream",
          "name": "stdout",
          "text": [
            "Collecting python-dotenv\n",
            "  Downloading python_dotenv-1.0.0-py3-none-any.whl (19 kB)\n",
            "Installing collected packages: python-dotenv\n",
            "Successfully installed python-dotenv-1.0.0\n"
          ]
        }
      ]
    },
    {
      "cell_type": "code",
      "execution_count": 5,
      "id": "d8042fc3",
      "metadata": {
        "id": "d8042fc3"
      },
      "outputs": [],
      "source": [
        "# !pip install langchain --upgrade\n",
        "# Version: 0.0.199 Make sure you're on the latest version\n",
        "\n",
        "import langchain\n",
        "import openai\n",
        "import json\n",
        "\n",
        "# Environment Variables\n",
        "import os\n",
        "from dotenv import load_dotenv\n",
        "\n",
        "load_dotenv()\n",
        "\n",
        "openai.api_key = os.getenv('OPENAI_API_KEY', 'sk-')"
      ]
    },
    {
      "cell_type": "markdown",
      "id": "3ea3650a",
      "metadata": {
        "id": "3ea3650a"
      },
      "source": [
        "## OpenAI Vanilla Example\n",
        "\n",
        "Let's run through OpenAI's vanilla example of calling a weather API.\n",
        "\n",
        "First let's define our functions. This is the meat and potatoes of the new update\n",
        "\n",
        "Functions are specified with the following fields:\n",
        "\n",
        "* **Name:** The name of the function.\n",
        "* **Description:** A description of what the function does. The model will use this to decide when to call the function.\n",
        "* **Parameters:** The parameters object contains all of the input fields the function requires. These inputs can be of the following types: String, Number, Boolean, Object, Null, AnyOf. Refer to the API reference docs for details.\n",
        "* **Required:** Which of the parameters are required to make a query. The rest will be treated as optional."
      ]
    },
    {
      "cell_type": "code",
      "execution_count": 6,
      "id": "3bd25223",
      "metadata": {
        "id": "3bd25223"
      },
      "outputs": [],
      "source": [
        "function_descriptions = [\n",
        "            {\n",
        "                \"name\": \"get_current_weather\",\n",
        "                \"description\": \"Get the current weather in a given location\",\n",
        "                \"parameters\": {\n",
        "                    \"type\": \"object\",\n",
        "                    \"properties\": {\n",
        "                        \"location\": {\n",
        "                            \"type\": \"string\",\n",
        "                            \"description\": \"The city and state, e.g. San Francisco, CA\",\n",
        "                        },\n",
        "                        \"unit\": {\n",
        "                            \"type\": \"string\",\n",
        "                            \"description\": \"The temperature unit to use. Infer this from the users location.\",\n",
        "                            \"enum\": [\"celsius\", \"fahrenheit\"]\n",
        "                        },\n",
        "                    },\n",
        "                    \"required\": [\"location\", \"unit\"],\n",
        "                },\n",
        "            }\n",
        "        ]"
      ]
    },
    {
      "cell_type": "markdown",
      "id": "1bdb85b0",
      "metadata": {
        "id": "1bdb85b0"
      },
      "source": [
        "Then let's call the OpenAI API with this as a new parameter. Note: Make sure to use a model that can accept the function call. Here we are using `gpt-3.5-turbo-0613`.\n",
        "\n",
        "Let's first set a query that came from the user"
      ]
    },
    {
      "cell_type": "code",
      "execution_count": 7,
      "id": "1afea666",
      "metadata": {
        "id": "1afea666"
      },
      "outputs": [],
      "source": [
        "user_query = \"What's the weather like in San Francisco?\""
      ]
    },
    {
      "cell_type": "markdown",
      "id": "443aee72",
      "metadata": {
        "id": "443aee72"
      },
      "source": [
        "Then let's set up our API call to OpenAI. Note: `function_call=\"auto\"` will allow the model to choose whether or not it responds with a function. You can set this to `none` if you *don't* want a function response"
      ]
    },
    {
      "cell_type": "code",
      "execution_count": 8,
      "id": "6a565cf6",
      "metadata": {
        "id": "6a565cf6"
      },
      "outputs": [],
      "source": [
        "response = openai.ChatCompletion.create(\n",
        "        model=\"gpt-4-0613\",\n",
        "\n",
        "        # This is the chat message from the user\n",
        "        messages=[{\"role\": \"user\", \"content\": user_query}],\n",
        "\n",
        "\n",
        "        functions=function_descriptions,\n",
        "        function_call=\"auto\",\n",
        "    )"
      ]
    },
    {
      "cell_type": "markdown",
      "id": "9344b392",
      "metadata": {
        "id": "9344b392"
      },
      "source": [
        "Great, let's take a look at the response"
      ]
    },
    {
      "cell_type": "code",
      "execution_count": 9,
      "id": "d5067356",
      "metadata": {
        "colab": {
          "base_uri": "https://localhost:8080/"
        },
        "id": "d5067356",
        "outputId": "713fb921-5c58-4dd7-93ef-044134a5e03f"
      },
      "outputs": [
        {
          "output_type": "stream",
          "name": "stdout",
          "text": [
            "{\n",
            "  \"role\": \"assistant\",\n",
            "  \"content\": null,\n",
            "  \"function_call\": {\n",
            "    \"name\": \"get_current_weather\",\n",
            "    \"arguments\": \"{\\n  \\\"location\\\": \\\"San Francisco, CA\\\",\\n  \\\"unit\\\": \\\"fahrenheit\\\"\\n}\"\n",
            "  }\n",
            "}\n"
          ]
        }
      ],
      "source": [
        "ai_response_message = response[\"choices\"][0][\"message\"]\n",
        "print(ai_response_message)"
      ]
    },
    {
      "cell_type": "markdown",
      "id": "c158975c",
      "metadata": {
        "id": "c158975c"
      },
      "source": [
        "Awesome, now we have our response w/ specific arguments called out.\n",
        "\n",
        "Let's clean up our response a bit better"
      ]
    },
    {
      "cell_type": "code",
      "execution_count": 10,
      "id": "04ada914",
      "metadata": {
        "id": "04ada914"
      },
      "outputs": [],
      "source": [
        "user_location = eval(ai_response_message['function_call']['arguments']).get(\"location\")\n",
        "user_unit = eval(ai_response_message['function_call']['arguments']).get(\"unit\")"
      ]
    },
    {
      "cell_type": "markdown",
      "id": "bbc81e28",
      "metadata": {
        "id": "bbc81e28"
      },
      "source": [
        "Then let's make a function that will serve as an interface to a dummy api call"
      ]
    },
    {
      "cell_type": "code",
      "execution_count": 11,
      "id": "a7e4fe28",
      "metadata": {
        "id": "a7e4fe28"
      },
      "outputs": [],
      "source": [
        "def get_current_weather(location, unit):\n",
        "\n",
        "    \"\"\"Get the current weather in a given location\"\"\"\n",
        "\n",
        "    weather_info = {\n",
        "        \"location\": location,\n",
        "        \"temperature\": \"72\",\n",
        "        \"unit\": unit,\n",
        "        \"forecast\": [\"sunny\", \"windy\"],\n",
        "    }\n",
        "    return json.dumps(weather_info)"
      ]
    },
    {
      "cell_type": "code",
      "execution_count": 12,
      "id": "505806ea",
      "metadata": {
        "id": "505806ea"
      },
      "outputs": [],
      "source": [
        "function_response = get_current_weather(\n",
        "    location=user_location,\n",
        "    unit=user_unit,\n",
        ")"
      ]
    },
    {
      "cell_type": "code",
      "execution_count": 13,
      "id": "6c24e71c",
      "metadata": {
        "colab": {
          "base_uri": "https://localhost:8080/",
          "height": 35
        },
        "id": "6c24e71c",
        "outputId": "f4d18103-8177-4b4f-8502-58dbc737929a"
      },
      "outputs": [
        {
          "output_type": "execute_result",
          "data": {
            "text/plain": [
              "'{\"location\": \"San Francisco, CA\", \"temperature\": \"72\", \"unit\": \"fahrenheit\", \"forecast\": [\"sunny\", \"windy\"]}'"
            ],
            "application/vnd.google.colaboratory.intrinsic+json": {
              "type": "string"
            }
          },
          "metadata": {},
          "execution_count": 13
        }
      ],
      "source": [
        "function_response"
      ]
    },
    {
      "cell_type": "markdown",
      "id": "89694ba3",
      "metadata": {
        "id": "89694ba3"
      },
      "source": [
        "Now that we have our reponse from our service, we can pass this information back to our model for a natural language response"
      ]
    },
    {
      "cell_type": "code",
      "execution_count": 14,
      "id": "2c4a5c78",
      "metadata": {
        "id": "2c4a5c78"
      },
      "outputs": [],
      "source": [
        "second_response = openai.ChatCompletion.create(\n",
        "    model=\"gpt-4-0613\",\n",
        "    messages=[\n",
        "        {\"role\": \"user\", \"content\": user_query},\n",
        "        ai_response_message,\n",
        "        {\n",
        "            \"role\": \"function\",\n",
        "            \"name\": \"get_current_weather\",\n",
        "            \"content\": function_response,\n",
        "        },\n",
        "    ],\n",
        ")"
      ]
    },
    {
      "cell_type": "code",
      "source": [
        "second_response"
      ],
      "metadata": {
        "colab": {
          "base_uri": "https://localhost:8080/"
        },
        "id": "lTYDLkuKxS8u",
        "outputId": "d9412ab8-ca53-411f-b335-0448d4674a93"
      },
      "id": "lTYDLkuKxS8u",
      "execution_count": 16,
      "outputs": [
        {
          "output_type": "execute_result",
          "data": {
            "text/plain": [
              "<OpenAIObject chat.completion id=chatcmpl-7w4iNEkNgpa1zz0n1tuX5iOrNvZE9 at 0x7a3959c253a0> JSON: {\n",
              "  \"id\": \"chatcmpl-7w4iNEkNgpa1zz0n1tuX5iOrNvZE9\",\n",
              "  \"object\": \"chat.completion\",\n",
              "  \"created\": 1694075503,\n",
              "  \"model\": \"gpt-4-0613\",\n",
              "  \"choices\": [\n",
              "    {\n",
              "      \"index\": 0,\n",
              "      \"message\": {\n",
              "        \"role\": \"assistant\",\n",
              "        \"content\": \"The current weather in San Francisco, CA is sunny and windy with a temperature of 72\\u00b0F.\"\n",
              "      },\n",
              "      \"finish_reason\": \"stop\"\n",
              "    }\n",
              "  ],\n",
              "  \"usage\": {\n",
              "    \"prompt_tokens\": 85,\n",
              "    \"completion_tokens\": 20,\n",
              "    \"total_tokens\": 105\n",
              "  }\n",
              "}"
            ]
          },
          "metadata": {},
          "execution_count": 16
        }
      ]
    },
    {
      "cell_type": "code",
      "execution_count": 15,
      "id": "e4020764",
      "metadata": {
        "colab": {
          "base_uri": "https://localhost:8080/"
        },
        "id": "e4020764",
        "outputId": "7f3bf82a-23aa-417e-c7e7-19dc3bf2b77b"
      },
      "outputs": [
        {
          "output_type": "stream",
          "name": "stdout",
          "text": [
            "The current weather in San Francisco, CA is sunny and windy with a temperature of 72°F.\n"
          ]
        }
      ],
      "source": [
        "print (second_response['choices'][0]['message']['content'])"
      ]
    },
    {
      "cell_type": "markdown",
      "id": "519f57b4",
      "metadata": {
        "id": "519f57b4"
      },
      "source": [
        "## LangChain Support For Functions"
      ]
    },
    {
      "cell_type": "code",
      "execution_count": 17,
      "id": "1d3f216d",
      "metadata": {
        "id": "1d3f216d"
      },
      "outputs": [],
      "source": [
        "from langchain.chat_models import ChatOpenAI\n",
        "from langchain.schema import HumanMessage, AIMessage, ChatMessage\n",
        "from langchain.tools import format_tool_to_openai_function, YouTubeSearchTool, MoveFileTool"
      ]
    },
    {
      "cell_type": "markdown",
      "id": "c30ea30c",
      "metadata": {
        "id": "c30ea30c"
      },
      "source": [
        "Let's load up our models"
      ]
    },
    {
      "cell_type": "code",
      "execution_count": 22,
      "id": "d4aa0e58",
      "metadata": {
        "id": "d4aa0e58"
      },
      "outputs": [],
      "source": [
        "llm = ChatOpenAI(model=\"gpt-4-0613\", openai_api_key=\"sk-\")"
      ]
    },
    {
      "cell_type": "markdown",
      "id": "fd72917e",
      "metadata": {
        "id": "fd72917e"
      },
      "source": [
        "Let's load our tools and then transform them into OpenAI's function framework"
      ]
    },
    {
      "cell_type": "code",
      "execution_count": 23,
      "id": "93b8f50a",
      "metadata": {
        "id": "93b8f50a"
      },
      "outputs": [],
      "source": [
        "tools = [MoveFileTool()]\n",
        "functions = [format_tool_to_openai_function(t) for t in tools]"
      ]
    },
    {
      "cell_type": "markdown",
      "id": "47e978c0",
      "metadata": {
        "id": "47e978c0"
      },
      "source": [
        "Let's take a look at what this tool was transformed as"
      ]
    },
    {
      "cell_type": "code",
      "execution_count": 24,
      "id": "4b56cdc6",
      "metadata": {
        "colab": {
          "base_uri": "https://localhost:8080/"
        },
        "id": "4b56cdc6",
        "outputId": "c174932a-b51a-4510-867a-bb332d34a951"
      },
      "outputs": [
        {
          "output_type": "execute_result",
          "data": {
            "text/plain": [
              "[{'name': 'move_file',\n",
              "  'description': 'Move or rename a file from one location to another',\n",
              "  'parameters': {'title': 'FileMoveInput',\n",
              "   'description': 'Input for MoveFileTool.',\n",
              "   'type': 'object',\n",
              "   'properties': {'source_path': {'title': 'Source Path',\n",
              "     'description': 'Path of the file to move',\n",
              "     'type': 'string'},\n",
              "    'destination_path': {'title': 'Destination Path',\n",
              "     'description': 'New path for the moved file',\n",
              "     'type': 'string'}},\n",
              "   'required': ['source_path', 'destination_path']}}]"
            ]
          },
          "metadata": {},
          "execution_count": 24
        }
      ],
      "source": [
        "functions"
      ]
    },
    {
      "cell_type": "code",
      "execution_count": 25,
      "id": "aff6280a",
      "metadata": {
        "id": "aff6280a"
      },
      "outputs": [],
      "source": [
        "message = llm.predict_messages([HumanMessage(content='move file foo to bar')], functions=functions)"
      ]
    },
    {
      "cell_type": "code",
      "execution_count": 26,
      "id": "adf61d07",
      "metadata": {
        "colab": {
          "base_uri": "https://localhost:8080/"
        },
        "id": "adf61d07",
        "outputId": "40634903-a675-44d4-b7b2-c3d4bfba59b0"
      },
      "outputs": [
        {
          "output_type": "execute_result",
          "data": {
            "text/plain": [
              "{'name': 'move_file',\n",
              " 'arguments': '{\\n  \"source_path\": \"foo\",\\n  \"destination_path\": \"bar\"\\n}'}"
            ]
          },
          "metadata": {},
          "execution_count": 26
        }
      ],
      "source": [
        "message.additional_kwargs['function_call']"
      ]
    },
    {
      "cell_type": "markdown",
      "id": "4d139846",
      "metadata": {
        "id": "4d139846"
      },
      "source": [
        "### Ad Hoc Example Financial Forecast Edit"
      ]
    },
    {
      "cell_type": "markdown",
      "id": "12fd005b",
      "metadata": {
        "id": "12fd005b"
      },
      "source": [
        "I'm going to make a new function description that talks about updating a financial model. It'll take 3 params, year to update, category to update, and amount to update."
      ]
    },
    {
      "cell_type": "code",
      "execution_count": 27,
      "id": "fed0f289",
      "metadata": {
        "id": "fed0f289"
      },
      "outputs": [],
      "source": [
        "function_descriptions = [\n",
        "            {\n",
        "                \"name\": \"edit_financial_forecast\",\n",
        "                \"description\": \"Make an edit to a users financial forecast model\",\n",
        "                \"parameters\": {\n",
        "                    \"type\": \"object\",\n",
        "                    \"properties\": {\n",
        "                        \"year\": {\n",
        "                            \"type\": \"integer\",\n",
        "                            \"description\": \"The year the user would like to make an edit to their forecast for\",\n",
        "                        },\n",
        "                        \"category\": {\n",
        "                            \"type\": \"string\",\n",
        "                            \"description\": \"The category of the edit a user would like to edit\"\n",
        "                        },\n",
        "                        \"amount\": {\n",
        "                            \"type\": \"integer\",\n",
        "                            \"description\": \"The amount of units the user would like to change\"\n",
        "                        },\n",
        "                    },\n",
        "                    \"required\": [\"year\", \"category\", \"amount\"],\n",
        "                },\n",
        "            },\n",
        "            {\n",
        "                \"name\": \"print_financial_forecast\",\n",
        "                \"description\": \"Send the financial forecast to the printer\",\n",
        "                \"parameters\": {\n",
        "                    \"type\": \"object\",\n",
        "                    \"properties\": {\n",
        "                        \"printer_name\": {\n",
        "                            \"type\": \"string\",\n",
        "                            \"description\": \"the name of the printer that the forecast should be sent to\",\n",
        "                            \"enum\": [\"home_printer\", \"office_printer\"]\n",
        "                        }\n",
        "                    },\n",
        "                    \"required\": [\"printer_name\"],\n",
        "                },\n",
        "            }\n",
        "        ]"
      ]
    },
    {
      "cell_type": "markdown",
      "id": "2d43c0db",
      "metadata": {
        "id": "2d43c0db"
      },
      "source": [
        "One of the cool parts about OpenAI's new function calls is that the LLM will decide if it should return a normal response to a user, or call the function again. Let's test this out with two different requests in the same query from the user"
      ]
    },
    {
      "cell_type": "code",
      "execution_count": 28,
      "id": "1d8033c7",
      "metadata": {
        "id": "1d8033c7"
      },
      "outputs": [],
      "source": [
        "user_request = \"\"\"\n",
        "Please do three things add 40 units to 2023 headcount\n",
        "and subtract 23 units from 2022 opex\n",
        "then print out the forecast at my home\n",
        "\"\"\""
      ]
    },
    {
      "cell_type": "markdown",
      "id": "255d1c12",
      "metadata": {
        "id": "255d1c12"
      },
      "source": [
        "We are going to keep track of the message history ourselves. As more support for function conversations comes in we won't need to do this.\n",
        "\n",
        "First we'll send the message from the user to the LLM along with our function calls"
      ]
    },
    {
      "cell_type": "code",
      "execution_count": 29,
      "id": "ddc46318",
      "metadata": {
        "colab": {
          "base_uri": "https://localhost:8080/"
        },
        "id": "ddc46318",
        "outputId": "547d3995-ef83-4021-d48f-f172372e2171"
      },
      "outputs": [
        {
          "output_type": "execute_result",
          "data": {
            "text/plain": [
              "AIMessage(content='', additional_kwargs={'function_call': {'name': 'edit_financial_forecast', 'arguments': '{\\n  \"year\": 2023,\\n  \"category\": \"headcount\",\\n  \"amount\": 40\\n}'}}, example=False)"
            ]
          },
          "metadata": {},
          "execution_count": 29
        }
      ],
      "source": [
        "first_response = llm.predict_messages([HumanMessage(content=user_request)],\n",
        "                                      functions=function_descriptions)\n",
        "first_response"
      ]
    },
    {
      "cell_type": "markdown",
      "id": "8e81d80b",
      "metadata": {
        "id": "8e81d80b"
      },
      "source": [
        "As you can see we get an AIMessage back with no content. However there are `additoinal_kwargs` with the information that we need. Let's pull these out to have a better look at them"
      ]
    },
    {
      "cell_type": "code",
      "execution_count": 30,
      "id": "7722f24d",
      "metadata": {
        "colab": {
          "base_uri": "https://localhost:8080/"
        },
        "id": "7722f24d",
        "outputId": "256f597a-c320-4722-95a5-05885abab64d"
      },
      "outputs": [
        {
          "output_type": "execute_result",
          "data": {
            "text/plain": [
              "{'function_call': {'name': 'edit_financial_forecast',\n",
              "  'arguments': '{\\n  \"year\": 2023,\\n  \"category\": \"headcount\",\\n  \"amount\": 40\\n}'}}"
            ]
          },
          "metadata": {},
          "execution_count": 30
        }
      ],
      "source": [
        "first_response.additional_kwargs"
      ]
    },
    {
      "cell_type": "code",
      "execution_count": 31,
      "id": "bb754ed6",
      "metadata": {
        "colab": {
          "base_uri": "https://localhost:8080/",
          "height": 35
        },
        "id": "bb754ed6",
        "outputId": "4b60f014-d761-4c42-e695-f31c82f21e1c"
      },
      "outputs": [
        {
          "output_type": "execute_result",
          "data": {
            "text/plain": [
              "'edit_financial_forecast'"
            ],
            "application/vnd.google.colaboratory.intrinsic+json": {
              "type": "string"
            }
          },
          "metadata": {},
          "execution_count": 31
        }
      ],
      "source": [
        "function_name = first_response.additional_kwargs[\"function_call\"][\"name\"]\n",
        "function_name"
      ]
    },
    {
      "cell_type": "markdown",
      "id": "9b25db0b",
      "metadata": {
        "id": "9b25db0b"
      },
      "source": [
        "Then print the arguments it gives back to us"
      ]
    },
    {
      "cell_type": "code",
      "execution_count": 32,
      "id": "172de619",
      "metadata": {
        "colab": {
          "base_uri": "https://localhost:8080/"
        },
        "id": "172de619",
        "outputId": "5fcaed5c-f47d-4092-a068-e50d1dae6e33"
      },
      "outputs": [
        {
          "output_type": "stream",
          "name": "stdout",
          "text": [
            "\n",
            "Year: 2023\n",
            "Category: headcount\n",
            "Amount: 40\n",
            "\n"
          ]
        }
      ],
      "source": [
        "print (f\"\"\"\n",
        "Year: {eval(first_response.additional_kwargs['function_call']['arguments']).get('year')}\n",
        "Category: {eval(first_response.additional_kwargs['function_call']['arguments']).get('category')}\n",
        "Amount: {eval(first_response.additional_kwargs['function_call']['arguments']).get('amount')}\n",
        "\"\"\")"
      ]
    },
    {
      "cell_type": "markdown",
      "id": "912a08ca",
      "metadata": {
        "id": "912a08ca"
      },
      "source": [
        "But we aren't done! There was a second request in the user query so let's pass it back into the model"
      ]
    },
    {
      "cell_type": "code",
      "execution_count": 33,
      "id": "daa08ebf",
      "metadata": {
        "id": "daa08ebf"
      },
      "outputs": [],
      "source": [
        "second_response = llm.predict_messages([HumanMessage(content=user_request),\n",
        "                                        AIMessage(content=str(first_response.additional_kwargs)),\n",
        "                                        ChatMessage(role='function',\n",
        "                                                    additional_kwargs = {'name': function_name},\n",
        "                                                    content = \"Just updated the financial forecast for year 2023, category headcount amd amount 40\"\n",
        "                                                   )\n",
        "                                       ],\n",
        "                                       functions=function_descriptions)"
      ]
    },
    {
      "cell_type": "markdown",
      "id": "6a748f6b",
      "metadata": {
        "id": "6a748f6b"
      },
      "source": [
        "Let's see the response from this one"
      ]
    },
    {
      "cell_type": "code",
      "execution_count": 34,
      "id": "a015c49e",
      "metadata": {
        "colab": {
          "base_uri": "https://localhost:8080/"
        },
        "id": "a015c49e",
        "outputId": "2f7324b6-a963-4ea5-f4cb-809d6da8a956"
      },
      "outputs": [
        {
          "output_type": "execute_result",
          "data": {
            "text/plain": [
              "{'function_call': {'name': 'edit_financial_forecast',\n",
              "  'arguments': '{\\n  \"year\": 2022,\\n  \"category\": \"opex\",\\n  \"amount\": -23\\n}'}}"
            ]
          },
          "metadata": {},
          "execution_count": 34
        }
      ],
      "source": [
        "second_response.additional_kwargs"
      ]
    },
    {
      "cell_type": "code",
      "execution_count": 35,
      "id": "41c8bab8",
      "metadata": {
        "colab": {
          "base_uri": "https://localhost:8080/",
          "height": 35
        },
        "id": "41c8bab8",
        "outputId": "536f974b-79dd-4768-80ad-0bd4361a3bad"
      },
      "outputs": [
        {
          "output_type": "execute_result",
          "data": {
            "text/plain": [
              "'edit_financial_forecast'"
            ],
            "application/vnd.google.colaboratory.intrinsic+json": {
              "type": "string"
            }
          },
          "metadata": {},
          "execution_count": 35
        }
      ],
      "source": [
        "function_name = second_response.additional_kwargs['function_call']['name']\n",
        "function_name"
      ]
    },
    {
      "cell_type": "markdown",
      "id": "74df9449",
      "metadata": {
        "id": "74df9449"
      },
      "source": [
        "Cool! It saw that the first response was done and then it went back to our function for us. Let's see what it says if we do it a third time"
      ]
    },
    {
      "cell_type": "code",
      "execution_count": 36,
      "id": "ff0cabd3",
      "metadata": {
        "id": "ff0cabd3"
      },
      "outputs": [],
      "source": [
        "third_response = llm.predict_messages([HumanMessage(content=user_request),\n",
        "                                       AIMessage(content=str(first_response.additional_kwargs)),\n",
        "                                       AIMessage(content=str(second_response.additional_kwargs)),\n",
        "                                       ChatMessage(role='function',\n",
        "                                                    additional_kwargs = {'name': function_name},\n",
        "                                                    content = \"\"\"\n",
        "                                                        Just made the following updates: 2022, opex -23 and\n",
        "                                                        Year: 2023\n",
        "                                                        Category: headcount\n",
        "                                                        Amount: 40\n",
        "                                                    \"\"\"\n",
        "                                                   )\n",
        "                                       ],\n",
        "                                       functions=function_descriptions)"
      ]
    },
    {
      "cell_type": "code",
      "execution_count": 37,
      "id": "4ee505df",
      "metadata": {
        "colab": {
          "base_uri": "https://localhost:8080/"
        },
        "id": "4ee505df",
        "outputId": "b9d6b11b-a36a-4963-e761-df4bd367f0f1"
      },
      "outputs": [
        {
          "output_type": "execute_result",
          "data": {
            "text/plain": [
              "{'function_call': {'name': 'print_financial_forecast',\n",
              "  'arguments': '{\\n\"printer_name\": \"home_printer\"\\n}'}}"
            ]
          },
          "metadata": {},
          "execution_count": 37
        }
      ],
      "source": [
        "third_response.additional_kwargs"
      ]
    },
    {
      "cell_type": "code",
      "execution_count": 38,
      "id": "aa33a75c",
      "metadata": {
        "colab": {
          "base_uri": "https://localhost:8080/",
          "height": 35
        },
        "id": "aa33a75c",
        "outputId": "dc9f3655-ca9c-434c-842a-b7bfbf49cd52"
      },
      "outputs": [
        {
          "output_type": "execute_result",
          "data": {
            "text/plain": [
              "'print_financial_forecast'"
            ],
            "application/vnd.google.colaboratory.intrinsic+json": {
              "type": "string"
            }
          },
          "metadata": {},
          "execution_count": 38
        }
      ],
      "source": [
        "function_name = third_response.additional_kwargs['function_call']['name']\n",
        "function_name"
      ]
    },
    {
      "cell_type": "markdown",
      "id": "ea1875f2",
      "metadata": {
        "id": "ea1875f2"
      },
      "source": [
        "Nice! So it knew it was done with the financial forecasts (because we told it so) and then it sent our forecast to our home printer. Let's close it out"
      ]
    },
    {
      "cell_type": "code",
      "execution_count": 39,
      "id": "b46f67ee",
      "metadata": {
        "id": "b46f67ee"
      },
      "outputs": [],
      "source": [
        "forth_response = llm.predict_messages([HumanMessage(content=user_request),\n",
        "                                       AIMessage(content=str(first_response.additional_kwargs)),\n",
        "                                       AIMessage(content=str(second_response.additional_kwargs)),\n",
        "                                       AIMessage(content=str(third_response.additional_kwargs)),\n",
        "                                       ChatMessage(role='function',\n",
        "                                                    additional_kwargs = {'name': function_name},\n",
        "                                                    content = \"\"\"\n",
        "                                                        just printed the document at home\n",
        "                                                    \"\"\"\n",
        "                                                   )\n",
        "                                       ],\n",
        "                                       functions=function_descriptions)"
      ]
    },
    {
      "cell_type": "code",
      "execution_count": 40,
      "id": "0bfd8982",
      "metadata": {
        "colab": {
          "base_uri": "https://localhost:8080/",
          "height": 35
        },
        "id": "0bfd8982",
        "outputId": "bc167d01-bf7a-4cf1-fbd5-21675185539d"
      },
      "outputs": [
        {
          "output_type": "execute_result",
          "data": {
            "text/plain": [
              "'Great! The document has been successfully printed at your home.'"
            ],
            "application/vnd.google.colaboratory.intrinsic+json": {
              "type": "string"
            }
          },
          "metadata": {},
          "execution_count": 40
        }
      ],
      "source": [
        "forth_response.content"
      ]
    },
    {
      "cell_type": "code",
      "execution_count": null,
      "id": "11a9d1e0",
      "metadata": {
        "id": "11a9d1e0"
      },
      "outputs": [],
      "source": []
    }
  ],
  "metadata": {
    "kernelspec": {
      "display_name": "Python 3",
      "name": "python3"
    },
    "language_info": {
      "codemirror_mode": {
        "name": "ipython",
        "version": 3
      },
      "file_extension": ".py",
      "mimetype": "text/x-python",
      "name": "python",
      "nbconvert_exporter": "python",
      "pygments_lexer": "ipython3",
      "version": "3.9.13"
    },
    "colab": {
      "provenance": [],
      "gpuType": "T4",
      "include_colab_link": true
    },
    "accelerator": "GPU"
  },
  "nbformat": 4,
  "nbformat_minor": 5
}
