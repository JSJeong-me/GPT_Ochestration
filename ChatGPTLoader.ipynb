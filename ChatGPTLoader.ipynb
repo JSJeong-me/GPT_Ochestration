{
  "nbformat": 4,
  "nbformat_minor": 0,
  "metadata": {
    "colab": {
      "provenance": [],
      "authorship_tag": "ABX9TyMPxoK3e1rh6NXoUnggAXPE",
      "include_colab_link": true
    },
    "kernelspec": {
      "name": "python3",
      "display_name": "Python 3"
    },
    "language_info": {
      "name": "python"
    }
  },
  "cells": [
    {
      "cell_type": "markdown",
      "metadata": {
        "id": "view-in-github",
        "colab_type": "text"
      },
      "source": [
        "<a href=\"https://colab.research.google.com/github/JSJeong-me/GPT_Ochestration/blob/main/ChatGPTLoader.ipynb\" target=\"_parent\"><img src=\"https://colab.research.google.com/assets/colab-badge.svg\" alt=\"Open In Colab\"/></a>"
      ]
    },
    {
      "cell_type": "code",
      "execution_count": null,
      "metadata": {
        "id": "LG_TaomjZ-zl"
      },
      "outputs": [],
      "source": [
        "!pip install langchain\n",
        "!pip install openai"
      ]
    },
    {
      "cell_type": "code",
      "source": [
        "from langchain.document_loaders.chatgpt import ChatGPTLoader"
      ],
      "metadata": {
        "id": "4GX_7E-raKAy"
      },
      "execution_count": 2,
      "outputs": []
    },
    {
      "cell_type": "code",
      "source": [
        "loader = ChatGPTLoader(log_file=\"./conversations.json\", num_logs=1)"
      ],
      "metadata": {
        "id": "WP0ReqwSaR3G"
      },
      "execution_count": 5,
      "outputs": []
    },
    {
      "cell_type": "code",
      "source": [
        "loader.load()"
      ],
      "metadata": {
        "colab": {
          "base_uri": "https://localhost:8080/"
        },
        "id": "aD2KzjcvaUME",
        "outputId": "e83d8a8a-342c-4f1a-e6e4-d5429c1f2810"
      },
      "execution_count": 6,
      "outputs": [
        {
          "output_type": "execute_result",
          "data": {
            "text/plain": [
              "[Document(page_content='KakaoPay Confirmation Inquiry - user on 2023-08-27 23:01:03:  The complete document is provided below. After reviewing the document, please respond with \"I have finished reviewing the document and I\\'m ready to assist you with your inquiries.\"\\nFilename: 카카오페이-거래확인증-20230819-0.pdf \\nPart 1 of 1: \\n\\n\"Page 1:\\n1/1 2023년 08월 19일  (주)카카오페이  거래확인증  결제정보  결제번호   3185211750   거래일시   2023.07.21 09:45:47 거래유형   승인   상품명   택시 선결제 가맹점 주문번호   8110000574963116   승인번호   21441321 카드사   하나카드   카드번호   5320-92**-****-**** 할부기간   일시불  금액  주문금액   23,600원   할인금액   0원 페이포인트 사용   0P   결제금액   23,600원  공급자정보  상점명   주식회사 티머니   대표자명   김태극 사업자등록번호   1048183559   연락처   1644-0088 주소   서울특별시 중구 후암로 110(남대문5가, 서울시티타워 10층)  위 내용과 같이 카카오페이 결제가 정상적으로 처리되었음을 확인합니다.  경기도 성남시 분당구 판교역로 166, 카카오판교아지트 B동 15층 카카오페이. (주)카카오페이. 527-88-00686   신원근   1644-7405 사업자번호.   대표이사.   문의전화.\\n\\n\"\\n\\nKakaoPay Confirmation Inquiry - assistant on 2023-08-27 23:01:05: I have finished reviewing the document and I\\'m ready to assist you with your inquiries.\\n\\nKakaoPay Confirmation Inquiry - user on 2023-08-27 23:01:20: 당신은 회계사입니다.\\n첨부 파일의 지출내역을 확인하고 회계입력을 위한 분개를 정리해 주세요.\\n\\nKakaoPay Confirmation Inquiry - assistant on 2023-08-27 23:01:35: 네, 첨부된 문서를 기반으로 분개를 정리하겠습니다.\\n\\n**분개장**\\n\\n1. 일자: 2023.07.21\\n2. 전표번호: 3185211750\\n\\n---\\n\\n- 차변: 운행비용 (택시 선결제) 23,600원\\n- 대변: 현금 (카카오페이) 23,600원\\n\\n---\\n\\n설명:\\n(주)카카오페이를 통해 주식회사 티머니에 택시 선결제 금액 23,600원을 지불하였습니다. 결제는 하나카드를 통해 일시불로 진행되었으며, 페이포인트나 할인은 적용되지 않았습니다.\\n\\n이렇게 분개를 정리하였습니다. 추가적인 정보나 수정이 필요하면 알려주세요.\\n\\nKakaoPay Confirmation Inquiry - user on 2023-08-27 23:17:23: erp엥 upload 할 수 있게 파일로 만들어 주세요\\n\\nKakaoPay Confirmation Inquiry - assistant on 2023-08-27 23:17:39: 네, 분개 내용을 파일 형식으로 정리하겠습니다. \\n\\n다만, 실제 ERP 시스템에 따라 파일 형식이나 필요한 데이터의 형태가 다를 수 있습니다. 일반적인 CSV (Comma-Separated Values) 형식으로 제공하겠습니다. 만약 특정 형식이 필요하시면 알려주세요.\\n\\n---\\n\\n**분개장.csv**\\n\\n```\\n일자,전표번호,차변계정명,차변금액,대변계정명,대변금액,설명\\n2023.07.21,3185211750,운행비용,23600,현금,23600,택시 선결제 금액 지불\\n```\\n\\n---\\n\\n이 파일을 ERP 시스템에 업로드하실 수 있습니다. 실제로 파일을 다운로드 받고 싶으시면, 해당 형식을 지원하는 플랫폼이나 도구를 통해 생성해야 합니다. 현재 제공된 환경에서는 실제 파일 다운로드 기능을 제공하지 않습니다.\\n\\n', metadata={'source': './conversations.json'})]"
            ]
          },
          "metadata": {},
          "execution_count": 6
        }
      ]
    },
    {
      "cell_type": "code",
      "source": [
        "messages = loader.load()"
      ],
      "metadata": {
        "id": "F5ijOJGaa-jS"
      },
      "execution_count": 7,
      "outputs": []
    },
    {
      "cell_type": "code",
      "source": [
        "type(messages)"
      ],
      "metadata": {
        "colab": {
          "base_uri": "https://localhost:8080/"
        },
        "id": "Fdx5-yBrbGRt",
        "outputId": "472583a4-91d9-4e4a-fb09-9aaa19554beb"
      },
      "execution_count": 8,
      "outputs": [
        {
          "output_type": "execute_result",
          "data": {
            "text/plain": [
              "list"
            ]
          },
          "metadata": {},
          "execution_count": 8
        }
      ]
    },
    {
      "cell_type": "code",
      "source": [
        "len(messages)"
      ],
      "metadata": {
        "colab": {
          "base_uri": "https://localhost:8080/"
        },
        "id": "A2P7y9ZubK1M",
        "outputId": "24e426d0-d7b4-4bf5-d5f1-019c2bda84f7"
      },
      "execution_count": 9,
      "outputs": [
        {
          "output_type": "execute_result",
          "data": {
            "text/plain": [
              "1"
            ]
          },
          "metadata": {},
          "execution_count": 9
        }
      ]
    },
    {
      "cell_type": "code",
      "source": [],
      "metadata": {
        "id": "GNQNjlB7bM2b"
      },
      "execution_count": null,
      "outputs": []
    }
  ]
}